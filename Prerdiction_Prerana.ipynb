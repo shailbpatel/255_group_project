{
  "nbformat": 4,
  "nbformat_minor": 0,
  "metadata": {
    "colab": {
      "name": "Prerdiction_Prerana.ipynb",
      "provenance": [],
      "collapsed_sections": []
    },
    "kernelspec": {
      "name": "python3",
      "display_name": "Python 3"
    },
    "language_info": {
      "name": "python"
    }
  },
  "cells": [
    {
      "cell_type": "code",
      "execution_count": 1,
      "metadata": {
        "id": "Tk0OxkwzYvGo"
      },
      "outputs": [],
      "source": [
        "import pandas as pd\n",
        "import numpy as np\n",
        "import matplotlib as mp"
      ]
    },
    {
      "cell_type": "code",
      "source": [
        "athlete = pd.read_csv(\"/content/athlete_events.csv\")\n",
        "region = pd.read_csv(\"/content/athlete_events.csv\")"
      ],
      "metadata": {
        "id": "urzJEaGIZBkR"
      },
      "execution_count": 2,
      "outputs": []
    },
    {
      "cell_type": "code",
      "source": [
        "#Identifying the duplicate values\n",
        "athlete.duplicated().sum()"
      ],
      "metadata": {
        "colab": {
          "base_uri": "https://localhost:8080/"
        },
        "id": "x5FynAYUd40O",
        "outputId": "c1ae2fd7-11c2-41c6-daab-54865d8ae57c"
      },
      "execution_count": 3,
      "outputs": [
        {
          "output_type": "execute_result",
          "data": {
            "text/plain": [
              "1385"
            ]
          },
          "metadata": {},
          "execution_count": 3
        }
      ]
    },
    {
      "cell_type": "code",
      "source": [
        "athlete.drop_duplicates(inplace = True)"
      ],
      "metadata": {
        "id": "H9SKbfWheddd"
      },
      "execution_count": 4,
      "outputs": []
    },
    {
      "cell_type": "code",
      "source": [
        "athlete.duplicated().sum()"
      ],
      "metadata": {
        "colab": {
          "base_uri": "https://localhost:8080/"
        },
        "id": "1BO_-J21e16G",
        "outputId": "810d1105-02f5-41e0-987a-c15635dc7978"
      },
      "execution_count": 5,
      "outputs": [
        {
          "output_type": "execute_result",
          "data": {
            "text/plain": [
              "0"
            ]
          },
          "metadata": {},
          "execution_count": 5
        }
      ]
    },
    {
      "cell_type": "code",
      "source": [
        "#Displaying the columns in the dataset\n",
        "athlete.columns"
      ],
      "metadata": {
        "colab": {
          "base_uri": "https://localhost:8080/"
        },
        "id": "le0aGFasZNwO",
        "outputId": "7871629f-be49-4089-d63d-92653e9e610a"
      },
      "execution_count": 6,
      "outputs": [
        {
          "output_type": "execute_result",
          "data": {
            "text/plain": [
              "Index(['ID', 'Name', 'Sex', 'Age', 'Height', 'Weight', 'Team', 'NOC', 'Games',\n",
              "       'Year', 'Season', 'City', 'Sport', 'Event', 'Medal'],\n",
              "      dtype='object')"
            ]
          },
          "metadata": {},
          "execution_count": 6
        }
      ]
    },
    {
      "cell_type": "code",
      "source": [
        "#The first step is to check the null values in each individual column\n",
        "\n",
        "print(athlete[\"ID\"].isnull().value_counts())\n",
        "print(\"There are no null values in the ID column\")"
      ],
      "metadata": {
        "colab": {
          "base_uri": "https://localhost:8080/"
        },
        "id": "zRconaIVaSoH",
        "outputId": "23fee4f9-6a77-4fd6-eb1a-289c1897680c"
      },
      "execution_count": 7,
      "outputs": [
        {
          "output_type": "stream",
          "name": "stdout",
          "text": [
            "False    269731\n",
            "Name: ID, dtype: int64\n",
            "There are no null values in the ID column\n"
          ]
        }
      ]
    },
    {
      "cell_type": "code",
      "source": [
        "# Checking null values in the name column\n",
        "print(athlete['Name'].isnull().value_counts())\n",
        "print(\"There are no null values in the Name column\")"
      ],
      "metadata": {
        "colab": {
          "base_uri": "https://localhost:8080/"
        },
        "id": "1v2obbi4bGcq",
        "outputId": "5457fc12-824e-400a-a9ab-7b1dd44de968"
      },
      "execution_count": 8,
      "outputs": [
        {
          "output_type": "stream",
          "name": "stdout",
          "text": [
            "False    269731\n",
            "Name: Name, dtype: int64\n",
            "There are no null values in the Name column\n"
          ]
        }
      ]
    },
    {
      "cell_type": "code",
      "source": [
        "#Checking null values in the Sex column\n",
        "\n",
        "print(athlete['Sex'].isnull().value_counts(),\"\\n\") \n",
        "print(\"Data in the column \\n\",athlete['Sex'].value_counts())"
      ],
      "metadata": {
        "colab": {
          "base_uri": "https://localhost:8080/"
        },
        "id": "QNeHc5sGbUWY",
        "outputId": "3f6cb229-30db-4ff5-fccb-d3aafed51c70"
      },
      "execution_count": 9,
      "outputs": [
        {
          "output_type": "stream",
          "name": "stdout",
          "text": [
            "False    269731\n",
            "Name: Sex, dtype: int64 \n",
            "\n",
            "Data in the column \n",
            " M    195353\n",
            "F     74378\n",
            "Name: Sex, dtype: int64\n"
          ]
        }
      ]
    },
    {
      "cell_type": "code",
      "source": [
        "#Checking null values in the Age colum\n",
        "print(athlete['Age'].isnull().value_counts(),\"\\n\") \n",
        "print(\"Finding invalid age \\n\",athlete[\"Age\"][(athlete['Age']>100) | (athlete['Age']<0)])"
      ],
      "metadata": {
        "colab": {
          "base_uri": "https://localhost:8080/"
        },
        "id": "5-Q-77z1b8cE",
        "outputId": "6fd2f493-ae56-493d-cfdf-938bcd8e9f33"
      },
      "execution_count": 10,
      "outputs": [
        {
          "output_type": "stream",
          "name": "stdout",
          "text": [
            "False    260416\n",
            "True       9315\n",
            "Name: Age, dtype: int64 \n",
            "\n",
            "Finding invalid age \n",
            " Series([], Name: Age, dtype: float64)\n"
          ]
        }
      ]
    },
    {
      "cell_type": "code",
      "source": [
        "#Replacing null values with mean\n",
        "mean_val = athlete['Age'].mean()\n",
        "athlete['Age'].fillna(value=mean_val, inplace=True)\n",
        "print(athlete['Age'].isnull().value_counts(),\"\\n\") "
      ],
      "metadata": {
        "colab": {
          "base_uri": "https://localhost:8080/"
        },
        "id": "FYZOQ0HNfpSj",
        "outputId": "207b77db-8582-440b-9f1a-27b7da372957"
      },
      "execution_count": 11,
      "outputs": [
        {
          "output_type": "stream",
          "name": "stdout",
          "text": [
            "False    269731\n",
            "Name: Age, dtype: int64 \n",
            "\n"
          ]
        }
      ]
    },
    {
      "cell_type": "code",
      "source": [
        "#Checking null values in the Height column\n",
        "print(athlete['Height'].isnull().value_counts(),\"\\n\") \n",
        "\n"
      ],
      "metadata": {
        "colab": {
          "base_uri": "https://localhost:8080/"
        },
        "id": "BlEscYPRcY-R",
        "outputId": "7f53a062-42c7-432b-c183-2063607aa418"
      },
      "execution_count": 12,
      "outputs": [
        {
          "output_type": "stream",
          "name": "stdout",
          "text": [
            "False    210917\n",
            "True      58814\n",
            "Name: Height, dtype: int64 \n",
            "\n"
          ]
        }
      ]
    },
    {
      "cell_type": "code",
      "source": [
        "#Replacing null values with mean\n",
        "mean_val = athlete['Height'].mean()\n",
        "athlete['Height'].fillna(value=mean_val, inplace=True)\n",
        "print(athlete['Height'].isnull().value_counts(),\"\\n\") "
      ],
      "metadata": {
        "colab": {
          "base_uri": "https://localhost:8080/"
        },
        "id": "Vwn71sdygU91",
        "outputId": "20f24a79-39dc-4ba3-dadf-382b89876090"
      },
      "execution_count": 13,
      "outputs": [
        {
          "output_type": "stream",
          "name": "stdout",
          "text": [
            "False    269731\n",
            "Name: Height, dtype: int64 \n",
            "\n"
          ]
        }
      ]
    },
    {
      "cell_type": "code",
      "source": [
        "#Checking null values in the weight column\n",
        "print(athlete['Weight'].isnull().value_counts(),\"\\n\") #There are 62875 null values\n",
        "print(\"Chcking for invalid data \\n\",athlete[\"Weight\"][athlete[\"Weight\"]<=0])"
      ],
      "metadata": {
        "colab": {
          "base_uri": "https://localhost:8080/"
        },
        "id": "7O5oULuRc2c2",
        "outputId": "2f1ed619-1fdb-4ac5-88cf-217eb755545e"
      },
      "execution_count": 14,
      "outputs": [
        {
          "output_type": "stream",
          "name": "stdout",
          "text": [
            "False    208204\n",
            "True      61527\n",
            "Name: Weight, dtype: int64 \n",
            "\n",
            "Chcking for invalid data \n",
            " Series([], Name: Weight, dtype: float64)\n"
          ]
        }
      ]
    },
    {
      "cell_type": "code",
      "source": [
        "#Replacing null values with median\n",
        "med_val = athlete['Weight'].median()\n",
        "athlete['Weight'].fillna(value=med_val, inplace=True)\n",
        "print(athlete['Weight'].isnull().value_counts(),\"\\n\") \n"
      ],
      "metadata": {
        "colab": {
          "base_uri": "https://localhost:8080/"
        },
        "id": "gBIWxrI4hBKb",
        "outputId": "098c8167-170b-4359-ea89-5a7122ec7f73"
      },
      "execution_count": 15,
      "outputs": [
        {
          "output_type": "stream",
          "name": "stdout",
          "text": [
            "False    269731\n",
            "Name: Weight, dtype: int64 \n",
            "\n"
          ]
        }
      ]
    },
    {
      "cell_type": "code",
      "source": [
        "#Checking null values in the weight column\n",
        "print(athlete['Team'].isnull().value_counts(),\"\\n\") \n",
        "print(\"Data \\n\",athlete['Team'].value_counts())"
      ],
      "metadata": {
        "colab": {
          "base_uri": "https://localhost:8080/"
        },
        "id": "VvUeoxs4dTq2",
        "outputId": "f5adcb8f-d718-408f-bd00-4d70892b20eb"
      },
      "execution_count": 16,
      "outputs": [
        {
          "output_type": "stream",
          "name": "stdout",
          "text": [
            "False    269731\n",
            "Name: Team, dtype: int64 \n",
            "\n",
            "Data \n",
            " United States    17598\n",
            "France           11817\n",
            "Great Britain    11264\n",
            "Italy            10213\n",
            "Germany           9230\n",
            "                 ...  \n",
            "Souriceau-38         1\n",
            "Carabinier-5         1\n",
            "Ducky-4              1\n",
            "Ducky-16             1\n",
            "Digby                1\n",
            "Name: Team, Length: 1184, dtype: int64\n"
          ]
        }
      ]
    },
    {
      "cell_type": "code",
      "source": [
        "#Checking null values in the NOC column\n",
        "print(athlete['NOC'].isnull().value_counts(),\"\\n\") \n",
        "print(\"Data \\n\",athlete['NOC'].value_counts())"
      ],
      "metadata": {
        "colab": {
          "base_uri": "https://localhost:8080/"
        },
        "id": "DfsmOyD7dgZz",
        "outputId": "edf58cec-59c0-4470-9ea8-9c29ccf53351"
      },
      "execution_count": 17,
      "outputs": [
        {
          "output_type": "stream",
          "name": "stdout",
          "text": [
            "False    269731\n",
            "Name: NOC, dtype: int64 \n",
            "\n",
            "Data \n",
            " USA    18604\n",
            "FRA    12551\n",
            "GBR    12115\n",
            "ITA    10668\n",
            "GER     9734\n",
            "       ...  \n",
            "YMD        5\n",
            "SSD        3\n",
            "UNK        2\n",
            "NBO        2\n",
            "NFL        1\n",
            "Name: NOC, Length: 230, dtype: int64\n"
          ]
        }
      ]
    },
    {
      "cell_type": "code",
      "source": [
        "#Checking null values in the games column\n",
        "print(athlete['Games'].isnull().value_counts(),\"\\n\") \n",
        "print(\"Data \\n\",athlete['Games'].value_counts())"
      ],
      "metadata": {
        "colab": {
          "base_uri": "https://localhost:8080/"
        },
        "id": "ca4twIhXdmXx",
        "outputId": "cd6e88dd-fa34-4488-cfaa-2d76c16ef539"
      },
      "execution_count": 18,
      "outputs": [
        {
          "output_type": "stream",
          "name": "stdout",
          "text": [
            "False    269731\n",
            "Name: Games, dtype: int64 \n",
            "\n",
            "Data \n",
            " 2000 Summer    13821\n",
            "1996 Summer    13780\n",
            "2016 Summer    13688\n",
            "2008 Summer    13602\n",
            "2004 Summer    13443\n",
            "1992 Summer    12977\n",
            "2012 Summer    12920\n",
            "1988 Summer    12037\n",
            "1972 Summer    10304\n",
            "1984 Summer     9454\n",
            "1976 Summer     8641\n",
            "1968 Summer     8588\n",
            "1952 Summer     8270\n",
            "1960 Summer     8119\n",
            "1964 Summer     7702\n",
            "1980 Summer     7191\n",
            "1948 Summer     6308\n",
            "1936 Summer     6251\n",
            "1956 Summer     5127\n",
            "1924 Summer     5110\n",
            "2014 Winter     4891\n",
            "1928 Summer     4656\n",
            "2010 Winter     4402\n",
            "2006 Winter     4382\n",
            "1920 Summer     4292\n",
            "2002 Winter     4109\n",
            "1912 Summer     4040\n",
            "1998 Winter     3605\n",
            "1992 Winter     3436\n",
            "1994 Winter     3160\n",
            "1908 Summer     3069\n",
            "1988 Winter     2639\n",
            "1932 Summer     2465\n",
            "1984 Winter     2134\n",
            "1900 Summer     1898\n",
            "1968 Winter     1891\n",
            "1976 Winter     1861\n",
            "1964 Winter     1778\n",
            "1980 Winter     1746\n",
            "1906 Summer     1733\n",
            "1972 Winter     1655\n",
            "1956 Winter     1307\n",
            "1904 Summer     1301\n",
            "1960 Winter     1116\n",
            "1952 Winter     1088\n",
            "1948 Winter     1075\n",
            "1936 Winter      895\n",
            "1928 Winter      582\n",
            "1924 Winter      460\n",
            "1896 Summer      380\n",
            "1932 Winter      352\n",
            "Name: Games, dtype: int64\n"
          ]
        }
      ]
    },
    {
      "cell_type": "code",
      "source": [
        "#Checking null values in the year column\n",
        "print(athlete['Year'].isnull().value_counts(),\"\\n\") \n",
        "print(\"Data \\n\",athlete['Year'].value_counts())"
      ],
      "metadata": {
        "colab": {
          "base_uri": "https://localhost:8080/"
        },
        "id": "BpeJ02TMdnMa",
        "outputId": "b73b68c3-d5f6-4648-8e23-75130eae2845"
      },
      "execution_count": 19,
      "outputs": [
        {
          "output_type": "stream",
          "name": "stdout",
          "text": [
            "False    269731\n",
            "Name: Year, dtype: int64 \n",
            "\n",
            "Data \n",
            " 1992    16413\n",
            "1988    14676\n",
            "2000    13821\n",
            "1996    13780\n",
            "2016    13688\n",
            "2008    13602\n",
            "2004    13443\n",
            "2012    12920\n",
            "1972    11959\n",
            "1984    11588\n",
            "1976    10502\n",
            "1968    10479\n",
            "1964     9480\n",
            "1952     9358\n",
            "1960     9235\n",
            "1980     8937\n",
            "1948     7383\n",
            "1936     7146\n",
            "1956     6434\n",
            "1924     5570\n",
            "1928     5238\n",
            "2014     4891\n",
            "2010     4402\n",
            "2006     4382\n",
            "1920     4292\n",
            "2002     4109\n",
            "1912     4040\n",
            "1998     3605\n",
            "1994     3160\n",
            "1908     3069\n",
            "1932     2817\n",
            "1900     1898\n",
            "1906     1733\n",
            "1904     1301\n",
            "1896      380\n",
            "Name: Year, dtype: int64\n"
          ]
        }
      ]
    },
    {
      "cell_type": "code",
      "source": [
        "#Checking null values for season column\n",
        "print(athlete['Season'].isnull().value_counts(),\"\\n\") \n",
        "print(\"Data \\n\",athlete['Season'].value_counts())"
      ],
      "metadata": {
        "colab": {
          "base_uri": "https://localhost:8080/"
        },
        "id": "pXMHNQOQeKEI",
        "outputId": "b9f53c14-9693-4d3c-8d15-248132d5508c"
      },
      "execution_count": 20,
      "outputs": [
        {
          "output_type": "stream",
          "name": "stdout",
          "text": [
            "False    269731\n",
            "Name: Season, dtype: int64 \n",
            "\n",
            "Data \n",
            " Summer    221167\n",
            "Winter     48564\n",
            "Name: Season, dtype: int64\n"
          ]
        }
      ]
    },
    {
      "cell_type": "code",
      "source": [
        "#Checking null values for season column \n",
        "print(athlete['City'].isnull().value_counts(),\"\\n\") \n",
        "print(\"Data \\n\",athlete['City'].value_counts())"
      ],
      "metadata": {
        "colab": {
          "base_uri": "https://localhost:8080/"
        },
        "id": "gdLpanZYhkOB",
        "outputId": "05459fb0-c3f1-4f8a-8696-fc7962cf9a1f"
      },
      "execution_count": 21,
      "outputs": [
        {
          "output_type": "stream",
          "name": "stdout",
          "text": [
            "False    269731\n",
            "Name: City, dtype: int64 \n",
            "\n",
            "Data \n",
            " London                    22297\n",
            "Athina                    15556\n",
            "Sydney                    13821\n",
            "Atlanta                   13780\n",
            "Rio de Janeiro            13688\n",
            "Beijing                   13602\n",
            "Barcelona                 12977\n",
            "Seoul                     12037\n",
            "Los Angeles               11919\n",
            "Munich                    10304\n",
            "Montreal                   8641\n",
            "Mexico City                8588\n",
            "Helsinki                   8270\n",
            "Roma                       8119\n",
            "Tokyo                      7702\n",
            "Moskva                     7191\n",
            "Paris                      7008\n",
            "Berlin                     6251\n",
            "Sochi                      4891\n",
            "Melbourne                  4829\n",
            "Amsterdam                  4656\n",
            "Vancouver                  4402\n",
            "Torino                     4382\n",
            "Stockholm                  4338\n",
            "Antwerpen                  4292\n",
            "Salt Lake City             4109\n",
            "Innsbruck                  3639\n",
            "Nagano                     3605\n",
            "Albertville                3436\n",
            "Lillehammer                3160\n",
            "Calgary                    2639\n",
            "Sarajevo                   2134\n",
            "Lake Placid                2098\n",
            "Grenoble                   1891\n",
            "Sankt Moritz               1657\n",
            "Sapporo                    1655\n",
            "Cortina d'Ampezzo          1307\n",
            "St. Louis                  1301\n",
            "Squaw Valley               1116\n",
            "Oslo                       1088\n",
            "Garmisch-Partenkirchen      895\n",
            "Chamonix                    460\n",
            "Name: City, dtype: int64\n"
          ]
        }
      ]
    },
    {
      "cell_type": "code",
      "source": [
        "#Checking null values in Sport \n",
        "print(athlete['Sport'].isnull().value_counts(),\"\\n\") #There are no null values\n",
        "print(\"Data \\n\",athlete['Sport'].value_counts())"
      ],
      "metadata": {
        "colab": {
          "base_uri": "https://localhost:8080/"
        },
        "id": "0p98Vqs_h0yG",
        "outputId": "78083243-9fa6-4d56-b20f-c83d35ecd3b0"
      },
      "execution_count": 22,
      "outputs": [
        {
          "output_type": "stream",
          "name": "stdout",
          "text": [
            "False    269731\n",
            "Name: Sport, dtype: int64 \n",
            "\n",
            "Data \n",
            " Athletics        38624\n",
            "Gymnastics       26707\n",
            "Swimming         23195\n",
            "Shooting         11448\n",
            "Cycling          10827\n",
            "                 ...  \n",
            "Racquets            12\n",
            "Jeu De Paume        11\n",
            "Roque                4\n",
            "Basque Pelota        2\n",
            "Aeronautics          1\n",
            "Name: Sport, Length: 66, dtype: int64\n"
          ]
        }
      ]
    },
    {
      "cell_type": "code",
      "source": [
        "# Checking null values Event \n",
        "print(\"Checking for null values \\n\",athlete['Event'].isnull().value_counts(),\"\\n\") \n",
        "print(\"Data \\n\",athlete['Event'].value_counts())"
      ],
      "metadata": {
        "colab": {
          "base_uri": "https://localhost:8080/"
        },
        "id": "xkIIs3D-h6RE",
        "outputId": "92adafca-cb34-4777-dbbf-40855a5ae185"
      },
      "execution_count": 23,
      "outputs": [
        {
          "output_type": "stream",
          "name": "stdout",
          "text": [
            "Checking for null values \n",
            " False    269731\n",
            "Name: Event, dtype: int64 \n",
            "\n",
            "Data \n",
            " Football Men's Football                                5733\n",
            "Ice Hockey Men's Ice Hockey                            4762\n",
            "Hockey Men's Hockey                                    3958\n",
            "Water Polo Men's Water Polo                            3358\n",
            "Basketball Men's Basketball                            3280\n",
            "                                                       ... \n",
            "Archery Men's Target Archery, 33 metres, Individual       2\n",
            "Archery Men's Target Archery, 50 metres, Individual       2\n",
            "Sailing Mixed 18 foot                                     2\n",
            "Croquet Mixed Doubles                                     2\n",
            "Aeronautics Mixed Aeronautics                             1\n",
            "Name: Event, Length: 765, dtype: int64\n"
          ]
        }
      ]
    },
    {
      "cell_type": "code",
      "source": [
        "#The null values in Medal column are not actually null. They indicate that there has been no medal acheivement.\n",
        "print(\"Checking for null values \\n\",athlete['Medal'].isnull().value_counts(),\"\\n\") #There are 231333 entries without the medal \n",
        "print(\"Insights on the column \\n\",athlete['Medal'].describe(),\"\\n\")\n",
        "print(\"Data \\n\",athlete['Medal'].value_counts())"
      ],
      "metadata": {
        "colab": {
          "base_uri": "https://localhost:8080/"
        },
        "id": "jyEm2VPjiLth",
        "outputId": "783cd1e4-c0b9-414a-c5d3-8d44a5cc8034"
      },
      "execution_count": 24,
      "outputs": [
        {
          "output_type": "stream",
          "name": "stdout",
          "text": [
            "Checking for null values \n",
            " True     229959\n",
            "False     39772\n",
            "Name: Medal, dtype: int64 \n",
            "\n",
            "Insights on the column \n",
            " count     39772\n",
            "unique        3\n",
            "top        Gold\n",
            "freq      13369\n",
            "Name: Medal, dtype: object \n",
            "\n",
            "Data \n",
            " Gold      13369\n",
            "Bronze    13295\n",
            "Silver    13108\n",
            "Name: Medal, dtype: int64\n"
          ]
        }
      ]
    },
    {
      "cell_type": "code",
      "source": [
        "import seaborn as sns\n",
        "%matplotlib inline\n",
        "import matplotlib.pyplot as plt"
      ],
      "metadata": {
        "id": "ja0GFNKiirUR"
      },
      "execution_count": 25,
      "outputs": []
    },
    {
      "cell_type": "code",
      "source": [
        "#Merge both the dataframes\n",
        "athlete_merged = athlete.merge(region, how = 'left', on = 'NOC')\n",
        "athlete_merged.head()"
      ],
      "metadata": {
        "id": "jJu8FZHiyB5L"
      },
      "execution_count": null,
      "outputs": []
    },
    {
      "cell_type": "code",
      "source": [
        "athlete_merged.shape"
      ],
      "metadata": {
        "id": "T-J0JrvYyEzZ"
      },
      "execution_count": null,
      "outputs": []
    },
    {
      "cell_type": "code",
      "source": [
        "athlete_merged.rename(columns={'region': 'Region', 'notes': 'Notes'}, inplace= True)"
      ],
      "metadata": {
        "id": "-2QlBa_3yRaV"
      },
      "execution_count": null,
      "outputs": []
    },
    {
      "cell_type": "code",
      "source": [
        "# Performing Exploratory Data Analysis "
      ],
      "metadata": {
        "id": "6Z7amUO9yUi7"
      },
      "execution_count": null,
      "outputs": []
    },
    {
      "cell_type": "code",
      "source": [
        "athlete_merged.info()"
      ],
      "metadata": {
        "id": "qR1tU1rnyW-F"
      },
      "execution_count": null,
      "outputs": []
    },
    {
      "cell_type": "code",
      "source": [
        "athlete_merged.describe()\n",
        "print(type(athlete_merged))"
      ],
      "metadata": {
        "id": "EPE3HE5tyc6F"
      },
      "execution_count": null,
      "outputs": []
    },
    {
      "cell_type": "code",
      "source": [
        "athlete_merged.isnull().sum()"
      ],
      "metadata": {
        "id": "grlibUrNzFcj"
      },
      "execution_count": null,
      "outputs": []
    },
    {
      "cell_type": "markdown",
      "source": [
        "Implementing analysis upon unique sports\n"
      ],
      "metadata": {
        "id": "QpQSpdqrfCuc"
      }
    },
    {
      "cell_type": "code",
      "source": [
        "athlete_merged['Medal'].value_counts()"
      ],
      "metadata": {
        "colab": {
          "base_uri": "https://localhost:8080/",
          "height": 166
        },
        "id": "mmc33ws7e83B",
        "outputId": "e32895c5-064b-4c80-bcb3-bc444d6e8e84"
      },
      "execution_count": 1,
      "outputs": [
        {
          "output_type": "error",
          "ename": "NameError",
          "evalue": "ignored",
          "traceback": [
            "\u001b[0;31m---------------------------------------------------------------------------\u001b[0m",
            "\u001b[0;31mNameError\u001b[0m                                 Traceback (most recent call last)",
            "\u001b[0;32m<ipython-input-1-c8f06b2f0fe5>\u001b[0m in \u001b[0;36m<module>\u001b[0;34m()\u001b[0m\n\u001b[0;32m----> 1\u001b[0;31m \u001b[0mathlete_merged\u001b[0m\u001b[0;34m[\u001b[0m\u001b[0;34m'Medal'\u001b[0m\u001b[0;34m]\u001b[0m\u001b[0;34m.\u001b[0m\u001b[0mvalue_counts\u001b[0m\u001b[0;34m(\u001b[0m\u001b[0;34m)\u001b[0m\u001b[0;34m\u001b[0m\u001b[0;34m\u001b[0m\u001b[0m\n\u001b[0m",
            "\u001b[0;31mNameError\u001b[0m: name 'athlete_merged' is not defined"
          ]
        }
      ]
    },
    {
      "cell_type": "code",
      "source": [
        "pd.get_dummies(athlete_merged['Medal'])"
      ],
      "metadata": {
        "id": "4IzXocxhfB36"
      },
      "execution_count": null,
      "outputs": []
    },
    {
      "cell_type": "code",
      "source": [
        "athlete_merged = pd.concat([athlete_merged,pd.get_dummies(athlete_merged['Medal'])], axis = 1)"
      ],
      "metadata": {
        "id": "bqjj1l9tfIkZ"
      },
      "execution_count": null,
      "outputs": []
    },
    {
      "cell_type": "code",
      "source": [
        "athlete_merged.groupby('NOC').sum()[['Gold', 'Silver', 'Bronze']].sort_values('Gold', ascending = False)"
      ],
      "metadata": {
        "id": "P8S2yltdfLLb"
      },
      "execution_count": null,
      "outputs": []
    },
    {
      "cell_type": "code",
      "source": [
        "athlete_merged.groupby('Sport').sum()[['Gold', 'Silver', 'Bronze']].sort_values('Gold', ascending = False)"
      ],
      "metadata": {
        "id": "xXAqkZZgfPME"
      },
      "execution_count": null,
      "outputs": []
    },
    {
      "cell_type": "code",
      "source": [
        "# Athlete details for the country India\n",
        "\n",
        "athlete_merged.query('Team == \"India\"').head()"
      ],
      "metadata": {
        "id": "d5Bw_IIByghl"
      },
      "execution_count": null,
      "outputs": []
    },
    {
      "cell_type": "code",
      "source": [
        "# Top participating countries in Olympics\n",
        "top_10_countries = athlete_merged.Team.value_counts().sort_values(ascending=False).head(10)\n",
        "top_10_countries"
      ],
      "metadata": {
        "id": "-aT1wls7zP8t"
      },
      "execution_count": null,
      "outputs": []
    },
    {
      "cell_type": "code",
      "source": [
        "# Top participating countries in Olympics\n",
        "top_10_countries = athlete_merged.Team.value_counts().sort_values(ascending=False).head(10)\n",
        "top_10_countries\n",
        "\n"
      ],
      "metadata": {
        "id": "wNXHvtO5yjuV"
      },
      "execution_count": null,
      "outputs": []
    },
    {
      "cell_type": "code",
      "source": [
        "#Plot for the top 10 countries\n",
        "\n",
        "plt.figure(figsize=(12,6))\n",
        "#plt.xticks(rotation=20)\n",
        "plt.title('Overall Participation by Country')\n",
        "sns.barplot(x=top_10_countries.index, y=top_10_countries);"
      ],
      "metadata": {
        "id": "KPa4FyaGyl9Z"
      },
      "execution_count": null,
      "outputs": []
    },
    {
      "cell_type": "code",
      "source": [
        "plt.figure(figsize=(12,6))\n",
        "plt.title(\"Age distribution of the athletes\")\n",
        "plt.xlabel('Age')\n",
        "plt.ylabel('Number of Participants')\n",
        "plt.hist(athlete_merged.Age, bins = np.arange(10,80,2), color='red', edgecolor = 'white');"
      ],
      "metadata": {
        "id": "btiRZDOcyp1u"
      },
      "execution_count": null,
      "outputs": []
    },
    {
      "cell_type": "code",
      "source": [
        "winter_games = athlete_merged[athlete_merged.Season == 'Winter'].Sport.unique()\n",
        "winter_games"
      ],
      "metadata": {
        "id": "hWCkkSoUzdkr"
      },
      "execution_count": null,
      "outputs": []
    },
    {
      "cell_type": "code",
      "source": [
        "summer_games = athlete_merged[athlete_merged.Season == 'Summer'].Sport.unique()\n",
        "summer_games"
      ],
      "metadata": {
        "id": "K8odyUY1zfLm"
      },
      "execution_count": null,
      "outputs": []
    },
    {
      "cell_type": "code",
      "source": [
        "# = athlete_merged.Sex.value_count()\n",
        "#athlete.value_counts(normalize=True) \n",
        "#gender_value_count\n",
        "gender_count = athlete_merged[\"Sex\"].value_counts()\n",
        "gender_count.to_frame()"
      ],
      "metadata": {
        "id": "ulfixJojyuiX"
      },
      "execution_count": null,
      "outputs": []
    },
    {
      "cell_type": "code",
      "source": [
        "plt.figure(figsize=(12,6))\n",
        "plt.title('Gender Distribution')\n",
        "plt.pie(gender_count, labels= gender_count, autopct = \"%1.1f%%\", startangle=180, shadow= True);"
      ],
      "metadata": {
        "id": "oP8ygY_uyxoV"
      },
      "execution_count": null,
      "outputs": []
    },
    {
      "cell_type": "code",
      "source": [
        "athlete_merged.Medal.value_counts()"
      ],
      "metadata": {
        "id": "6V_F7ibfyz-o"
      },
      "execution_count": null,
      "outputs": []
    },
    {
      "cell_type": "code",
      "source": [
        "female_participants = athlete_merged[(athlete_merged.Sex=='F')& (athlete_merged.Season=='Summer')][['Sex', 'Year']]\n",
        "female_participants = female_participants.groupby('Year').count().reset_index()\n",
        "female_participants.head()"
      ],
      "metadata": {
        "id": "8fpiHsrazpAt"
      },
      "execution_count": null,
      "outputs": []
    },
    {
      "cell_type": "code",
      "source": [
        "womenOlympics = athlete_merged[(athlete_merged.Sex == 'F') & (athlete_merged.Season == 'Summer')]"
      ],
      "metadata": {
        "id": "IYSwJI0Xzrsl"
      },
      "execution_count": null,
      "outputs": []
    },
    {
      "cell_type": "code",
      "source": [
        "sns.set(style=\"darkgrid\")\n",
        "plt.figure(figsize=(20,10))\n",
        "sns.countplot(x='Year', data=womenOlympics, palette=\"Spectral\")\n",
        "plt.title('Women Participation')"
      ],
      "metadata": {
        "id": "qaLCk0Bxzunn"
      },
      "execution_count": null,
      "outputs": []
    },
    {
      "cell_type": "code",
      "source": [
        "part = womenOlympics.groupby('Year')['Sex'].value_counts()\n",
        "plt.figure(figsize=(20,10))\n",
        "part.loc[:,'F'].plot()\n",
        "plt.title('Plot of Female Athletes over time')"
      ],
      "metadata": {
        "id": "XKwDxb0EzwkG"
      },
      "execution_count": null,
      "outputs": []
    },
    {
      "cell_type": "code",
      "source": [
        "goldMedals = athlete_merged[(athlete_merged.Medal == 'Gold')]\n",
        "goldMedals"
      ],
      "metadata": {
        "id": "NrX5lwtIz0mD"
      },
      "execution_count": null,
      "outputs": []
    },
    {
      "cell_type": "code",
      "source": [
        "totalGoldMedals = goldMedals.Region.value_counts().reset_index(name='Medal').head(6)\n",
        "plot = sns.catplot(x=\"index\", y = \"Medal\", data = totalGoldMedals, height =5, kind='bar', palette=\"Set3\")\n",
        "plot.despine(left = True)\n",
        "plot.set_xlabels(\"Top 5 Countries\")\n",
        "plot.set_ylabels(\"Number of Medals\")\n",
        "plt.title('Gold Medals per Country')"
      ],
      "metadata": {
        "id": "wYKIOwCWz4W0"
      },
      "execution_count": null,
      "outputs": []
    },
    {
      "cell_type": "code",
      "source": [
        ""
      ],
      "metadata": {
        "id": "n3hDaFCzz7Ey"
      },
      "execution_count": null,
      "outputs": []
    }
  ]
}