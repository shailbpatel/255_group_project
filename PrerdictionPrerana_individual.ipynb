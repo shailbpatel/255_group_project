{
 "cells": [
  {
   "cell_type": "code",
   "execution_count": 5,
   "metadata": {
    "id": "Tk0OxkwzYvGo"
   },
   "outputs": [],
   "source": [
    "import pandas as pd\n",
    "import numpy as np\n",
    "import matplotlib as mp"
   ]
  },
  {
   "cell_type": "code",
   "execution_count": 13,
   "metadata": {
    "id": "urzJEaGIZBkR"
   },
   "outputs": [],
   "source": [
    "athlete = pd.read_csv(\"athlete_events.csv\")\n",
    "region = pd.read_csv(\"noc_regions.csv\")"
   ]
  },
  {
   "cell_type": "code",
   "execution_count": 14,
   "metadata": {
    "colab": {
     "base_uri": "https://localhost:8080/"
    },
    "id": "x5FynAYUd40O",
    "outputId": "c1ae2fd7-11c2-41c6-daab-54865d8ae57c"
   },
   "outputs": [
    {
     "data": {
      "text/plain": [
       "1385"
      ]
     },
     "execution_count": 14,
     "metadata": {},
     "output_type": "execute_result"
    }
   ],
   "source": [
    "#Identifying the duplicate values\n",
    "athlete.duplicated().sum()"
   ]
  },
  {
   "cell_type": "code",
   "execution_count": 15,
   "metadata": {
    "id": "H9SKbfWheddd"
   },
   "outputs": [],
   "source": [
    "athlete.drop_duplicates(inplace = True)"
   ]
  },
  {
   "cell_type": "code",
   "execution_count": 16,
   "metadata": {
    "colab": {
     "base_uri": "https://localhost:8080/"
    },
    "id": "1BO_-J21e16G",
    "outputId": "810d1105-02f5-41e0-987a-c15635dc7978"
   },
   "outputs": [
    {
     "data": {
      "text/plain": [
       "0"
      ]
     },
     "execution_count": 16,
     "metadata": {},
     "output_type": "execute_result"
    }
   ],
   "source": [
    "athlete.duplicated().sum()"
   ]
  },
  {
   "cell_type": "code",
   "execution_count": 17,
   "metadata": {
    "colab": {
     "base_uri": "https://localhost:8080/"
    },
    "id": "le0aGFasZNwO",
    "outputId": "7871629f-be49-4089-d63d-92653e9e610a"
   },
   "outputs": [
    {
     "data": {
      "text/plain": [
       "Index(['ID', 'Name', 'Sex', 'Age', 'Height', 'Weight', 'Team', 'NOC', 'Games',\n",
       "       'Year', 'Season', 'City', 'Sport', 'Event', 'Medal'],\n",
       "      dtype='object')"
      ]
     },
     "execution_count": 17,
     "metadata": {},
     "output_type": "execute_result"
    }
   ],
   "source": [
    "#Displaying the columns in the dataset\n",
    "athlete.columns"
   ]
  },
  {
   "cell_type": "code",
   "execution_count": 18,
   "metadata": {
    "colab": {
     "base_uri": "https://localhost:8080/"
    },
    "id": "zRconaIVaSoH",
    "outputId": "23fee4f9-6a77-4fd6-eb1a-289c1897680c"
   },
   "outputs": [
    {
     "name": "stdout",
     "output_type": "stream",
     "text": [
      "False    269731\n",
      "Name: ID, dtype: int64\n",
      "There are no null values in the ID column\n"
     ]
    }
   ],
   "source": [
    "#The first step is to check the null values in each individual column\n",
    "\n",
    "print(athlete[\"ID\"].isnull().value_counts())\n",
    "print(\"There are no null values in the ID column\")"
   ]
  },
  {
   "cell_type": "code",
   "execution_count": 19,
   "metadata": {
    "colab": {
     "base_uri": "https://localhost:8080/"
    },
    "id": "1v2obbi4bGcq",
    "outputId": "5457fc12-824e-400a-a9ab-7b1dd44de968"
   },
   "outputs": [
    {
     "name": "stdout",
     "output_type": "stream",
     "text": [
      "False    269731\n",
      "Name: Name, dtype: int64\n",
      "There are no null values in the Name column\n"
     ]
    }
   ],
   "source": [
    "# Checking null values in the name column\n",
    "print(athlete['Name'].isnull().value_counts())\n",
    "print(\"There are no null values in the Name column\")"
   ]
  },
  {
   "cell_type": "code",
   "execution_count": 20,
   "metadata": {
    "colab": {
     "base_uri": "https://localhost:8080/"
    },
    "id": "QNeHc5sGbUWY",
    "outputId": "3f6cb229-30db-4ff5-fccb-d3aafed51c70"
   },
   "outputs": [
    {
     "name": "stdout",
     "output_type": "stream",
     "text": [
      "False    269731\n",
      "Name: Sex, dtype: int64 \n",
      "\n",
      "Data in the column \n",
      " M    195353\n",
      "F     74378\n",
      "Name: Sex, dtype: int64\n"
     ]
    }
   ],
   "source": [
    "#Checking null values in the Sex column\n",
    "\n",
    "print(athlete['Sex'].isnull().value_counts(),\"\\n\") \n",
    "print(\"Data in the column \\n\",athlete['Sex'].value_counts())"
   ]
  },
  {
   "cell_type": "code",
   "execution_count": 21,
   "metadata": {
    "colab": {
     "base_uri": "https://localhost:8080/"
    },
    "id": "5-Q-77z1b8cE",
    "outputId": "6fd2f493-ae56-493d-cfdf-938bcd8e9f33"
   },
   "outputs": [
    {
     "name": "stdout",
     "output_type": "stream",
     "text": [
      "False    260416\n",
      "True       9315\n",
      "Name: Age, dtype: int64 \n",
      "\n",
      "Finding invalid age \n",
      " Series([], Name: Age, dtype: float64)\n"
     ]
    }
   ],
   "source": [
    "#Checking null values in the Age colum\n",
    "print(athlete['Age'].isnull().value_counts(),\"\\n\") \n",
    "print(\"Finding invalid age \\n\",athlete[\"Age\"][(athlete['Age']>100) | (athlete['Age']<0)])"
   ]
  },
  {
   "cell_type": "code",
   "execution_count": 22,
   "metadata": {
    "colab": {
     "base_uri": "https://localhost:8080/"
    },
    "id": "FYZOQ0HNfpSj",
    "outputId": "207b77db-8582-440b-9f1a-27b7da372957"
   },
   "outputs": [
    {
     "name": "stdout",
     "output_type": "stream",
     "text": [
      "False    269731\n",
      "Name: Age, dtype: int64 \n",
      "\n"
     ]
    }
   ],
   "source": [
    "#Replacing null values with mean\n",
    "mean_val = athlete['Age'].mean()\n",
    "athlete['Age'].fillna(value=mean_val, inplace=True)\n",
    "print(athlete['Age'].isnull().value_counts(),\"\\n\") "
   ]
  },
  {
   "cell_type": "code",
   "execution_count": 23,
   "metadata": {
    "colab": {
     "base_uri": "https://localhost:8080/"
    },
    "id": "BlEscYPRcY-R",
    "outputId": "7f53a062-42c7-432b-c183-2063607aa418"
   },
   "outputs": [
    {
     "name": "stdout",
     "output_type": "stream",
     "text": [
      "False    210917\n",
      "True      58814\n",
      "Name: Height, dtype: int64 \n",
      "\n"
     ]
    }
   ],
   "source": [
    "#Checking null values in the Height column\n",
    "print(athlete['Height'].isnull().value_counts(),\"\\n\") \n",
    "\n"
   ]
  },
  {
   "cell_type": "code",
   "execution_count": 24,
   "metadata": {
    "colab": {
     "base_uri": "https://localhost:8080/"
    },
    "id": "Vwn71sdygU91",
    "outputId": "20f24a79-39dc-4ba3-dadf-382b89876090"
   },
   "outputs": [
    {
     "name": "stdout",
     "output_type": "stream",
     "text": [
      "False    269731\n",
      "Name: Height, dtype: int64 \n",
      "\n"
     ]
    }
   ],
   "source": [
    "#Replacing null values with mean\n",
    "mean_val = athlete['Height'].mean()\n",
    "athlete['Height'].fillna(value=mean_val, inplace=True)\n",
    "print(athlete['Height'].isnull().value_counts(),\"\\n\") "
   ]
  },
  {
   "cell_type": "code",
   "execution_count": 25,
   "metadata": {
    "colab": {
     "base_uri": "https://localhost:8080/"
    },
    "id": "7O5oULuRc2c2",
    "outputId": "2f1ed619-1fdb-4ac5-88cf-217eb755545e"
   },
   "outputs": [
    {
     "name": "stdout",
     "output_type": "stream",
     "text": [
      "False    208204\n",
      "True      61527\n",
      "Name: Weight, dtype: int64 \n",
      "\n",
      "Chcking for invalid data \n",
      " Series([], Name: Weight, dtype: float64)\n"
     ]
    }
   ],
   "source": [
    "#Checking null values in the weight column\n",
    "print(athlete['Weight'].isnull().value_counts(),\"\\n\") #There are 62875 null values\n",
    "print(\"Chcking for invalid data \\n\",athlete[\"Weight\"][athlete[\"Weight\"]<=0])"
   ]
  },
  {
   "cell_type": "code",
   "execution_count": 26,
   "metadata": {
    "colab": {
     "base_uri": "https://localhost:8080/"
    },
    "id": "gBIWxrI4hBKb",
    "outputId": "098c8167-170b-4359-ea89-5a7122ec7f73"
   },
   "outputs": [
    {
     "name": "stdout",
     "output_type": "stream",
     "text": [
      "False    269731\n",
      "Name: Weight, dtype: int64 \n",
      "\n"
     ]
    }
   ],
   "source": [
    "#Replacing null values with median\n",
    "med_val = athlete['Weight'].median()\n",
    "athlete['Weight'].fillna(value=med_val, inplace=True)\n",
    "print(athlete['Weight'].isnull().value_counts(),\"\\n\") \n"
   ]
  },
  {
   "cell_type": "code",
   "execution_count": 27,
   "metadata": {
    "colab": {
     "base_uri": "https://localhost:8080/"
    },
    "id": "VvUeoxs4dTq2",
    "outputId": "f5adcb8f-d718-408f-bd00-4d70892b20eb"
   },
   "outputs": [
    {
     "name": "stdout",
     "output_type": "stream",
     "text": [
      "False    269731\n",
      "Name: Team, dtype: int64 \n",
      "\n",
      "Data \n",
      " United States       17598\n",
      "France              11817\n",
      "Great Britain       11264\n",
      "Italy               10213\n",
      "Germany              9230\n",
      "                    ...  \n",
      "Jeannette-18            1\n",
      "Lbeck                   1\n",
      "Plume-patte-32          1\n",
      "Demi-Mondaine-17        1\n",
      "Carabinier-15           1\n",
      "Name: Team, Length: 1184, dtype: int64\n"
     ]
    }
   ],
   "source": [
    "#Checking null values in the weight column\n",
    "print(athlete['Team'].isnull().value_counts(),\"\\n\") \n",
    "print(\"Data \\n\",athlete['Team'].value_counts())"
   ]
  },
  {
   "cell_type": "code",
   "execution_count": 28,
   "metadata": {
    "colab": {
     "base_uri": "https://localhost:8080/"
    },
    "id": "DfsmOyD7dgZz",
    "outputId": "edf58cec-59c0-4470-9ea8-9c29ccf53351"
   },
   "outputs": [
    {
     "name": "stdout",
     "output_type": "stream",
     "text": [
      "False    269731\n",
      "Name: NOC, dtype: int64 \n",
      "\n",
      "Data \n",
      " USA    18604\n",
      "FRA    12551\n",
      "GBR    12115\n",
      "ITA    10668\n",
      "GER     9734\n",
      "       ...  \n",
      "YMD        5\n",
      "SSD        3\n",
      "UNK        2\n",
      "NBO        2\n",
      "NFL        1\n",
      "Name: NOC, Length: 230, dtype: int64\n"
     ]
    }
   ],
   "source": [
    "#Checking null values in the NOC column\n",
    "print(athlete['NOC'].isnull().value_counts(),\"\\n\") \n",
    "print(\"Data \\n\",athlete['NOC'].value_counts())"
   ]
  },
  {
   "cell_type": "code",
   "execution_count": 29,
   "metadata": {
    "colab": {
     "base_uri": "https://localhost:8080/"
    },
    "id": "ca4twIhXdmXx",
    "outputId": "cd6e88dd-fa34-4488-cfaa-2d76c16ef539"
   },
   "outputs": [
    {
     "name": "stdout",
     "output_type": "stream",
     "text": [
      "False    269731\n",
      "Name: Games, dtype: int64 \n",
      "\n",
      "Data \n",
      " 2000 Summer    13821\n",
      "1996 Summer    13780\n",
      "2016 Summer    13688\n",
      "2008 Summer    13602\n",
      "2004 Summer    13443\n",
      "1992 Summer    12977\n",
      "2012 Summer    12920\n",
      "1988 Summer    12037\n",
      "1972 Summer    10304\n",
      "1984 Summer     9454\n",
      "1976 Summer     8641\n",
      "1968 Summer     8588\n",
      "1952 Summer     8270\n",
      "1960 Summer     8119\n",
      "1964 Summer     7702\n",
      "1980 Summer     7191\n",
      "1948 Summer     6308\n",
      "1936 Summer     6251\n",
      "1956 Summer     5127\n",
      "1924 Summer     5110\n",
      "2014 Winter     4891\n",
      "1928 Summer     4656\n",
      "2010 Winter     4402\n",
      "2006 Winter     4382\n",
      "1920 Summer     4292\n",
      "2002 Winter     4109\n",
      "1912 Summer     4040\n",
      "1998 Winter     3605\n",
      "1992 Winter     3436\n",
      "1994 Winter     3160\n",
      "1908 Summer     3069\n",
      "1988 Winter     2639\n",
      "1932 Summer     2465\n",
      "1984 Winter     2134\n",
      "1900 Summer     1898\n",
      "1968 Winter     1891\n",
      "1976 Winter     1861\n",
      "1964 Winter     1778\n",
      "1980 Winter     1746\n",
      "1906 Summer     1733\n",
      "1972 Winter     1655\n",
      "1956 Winter     1307\n",
      "1904 Summer     1301\n",
      "1960 Winter     1116\n",
      "1952 Winter     1088\n",
      "1948 Winter     1075\n",
      "1936 Winter      895\n",
      "1928 Winter      582\n",
      "1924 Winter      460\n",
      "1896 Summer      380\n",
      "1932 Winter      352\n",
      "Name: Games, dtype: int64\n"
     ]
    }
   ],
   "source": [
    "#Checking null values in the games column\n",
    "print(athlete['Games'].isnull().value_counts(),\"\\n\") \n",
    "print(\"Data \\n\",athlete['Games'].value_counts())"
   ]
  },
  {
   "cell_type": "code",
   "execution_count": 30,
   "metadata": {
    "colab": {
     "base_uri": "https://localhost:8080/"
    },
    "id": "BpeJ02TMdnMa",
    "outputId": "b73b68c3-d5f6-4648-8e23-75130eae2845"
   },
   "outputs": [
    {
     "name": "stdout",
     "output_type": "stream",
     "text": [
      "False    269731\n",
      "Name: Year, dtype: int64 \n",
      "\n",
      "Data \n",
      " 1992    16413\n",
      "1988    14676\n",
      "2000    13821\n",
      "1996    13780\n",
      "2016    13688\n",
      "2008    13602\n",
      "2004    13443\n",
      "2012    12920\n",
      "1972    11959\n",
      "1984    11588\n",
      "1976    10502\n",
      "1968    10479\n",
      "1964     9480\n",
      "1952     9358\n",
      "1960     9235\n",
      "1980     8937\n",
      "1948     7383\n",
      "1936     7146\n",
      "1956     6434\n",
      "1924     5570\n",
      "1928     5238\n",
      "2014     4891\n",
      "2010     4402\n",
      "2006     4382\n",
      "1920     4292\n",
      "2002     4109\n",
      "1912     4040\n",
      "1998     3605\n",
      "1994     3160\n",
      "1908     3069\n",
      "1932     2817\n",
      "1900     1898\n",
      "1906     1733\n",
      "1904     1301\n",
      "1896      380\n",
      "Name: Year, dtype: int64\n"
     ]
    }
   ],
   "source": [
    "#Checking null values in the year column\n",
    "print(athlete['Year'].isnull().value_counts(),\"\\n\") \n",
    "print(\"Data \\n\",athlete['Year'].value_counts())"
   ]
  },
  {
   "cell_type": "code",
   "execution_count": 31,
   "metadata": {
    "colab": {
     "base_uri": "https://localhost:8080/"
    },
    "id": "pXMHNQOQeKEI",
    "outputId": "b9f53c14-9693-4d3c-8d15-248132d5508c"
   },
   "outputs": [
    {
     "name": "stdout",
     "output_type": "stream",
     "text": [
      "False    269731\n",
      "Name: Season, dtype: int64 \n",
      "\n",
      "Data \n",
      " Summer    221167\n",
      "Winter     48564\n",
      "Name: Season, dtype: int64\n"
     ]
    }
   ],
   "source": [
    "#Checking null values for season column\n",
    "print(athlete['Season'].isnull().value_counts(),\"\\n\") \n",
    "print(\"Data \\n\",athlete['Season'].value_counts())"
   ]
  },
  {
   "cell_type": "code",
   "execution_count": 32,
   "metadata": {
    "colab": {
     "base_uri": "https://localhost:8080/"
    },
    "id": "gdLpanZYhkOB",
    "outputId": "05459fb0-c3f1-4f8a-8696-fc7962cf9a1f"
   },
   "outputs": [
    {
     "name": "stdout",
     "output_type": "stream",
     "text": [
      "False    269731\n",
      "Name: City, dtype: int64 \n",
      "\n",
      "Data \n",
      " London                    22297\n",
      "Athina                    15556\n",
      "Sydney                    13821\n",
      "Atlanta                   13780\n",
      "Rio de Janeiro            13688\n",
      "Beijing                   13602\n",
      "Barcelona                 12977\n",
      "Seoul                     12037\n",
      "Los Angeles               11919\n",
      "Munich                    10304\n",
      "Montreal                   8641\n",
      "Mexico City                8588\n",
      "Helsinki                   8270\n",
      "Roma                       8119\n",
      "Tokyo                      7702\n",
      "Moskva                     7191\n",
      "Paris                      7008\n",
      "Berlin                     6251\n",
      "Sochi                      4891\n",
      "Melbourne                  4829\n",
      "Amsterdam                  4656\n",
      "Vancouver                  4402\n",
      "Torino                     4382\n",
      "Stockholm                  4338\n",
      "Antwerpen                  4292\n",
      "Salt Lake City             4109\n",
      "Innsbruck                  3639\n",
      "Nagano                     3605\n",
      "Albertville                3436\n",
      "Lillehammer                3160\n",
      "Calgary                    2639\n",
      "Sarajevo                   2134\n",
      "Lake Placid                2098\n",
      "Grenoble                   1891\n",
      "Sankt Moritz               1657\n",
      "Sapporo                    1655\n",
      "Cortina d'Ampezzo          1307\n",
      "St. Louis                  1301\n",
      "Squaw Valley               1116\n",
      "Oslo                       1088\n",
      "Garmisch-Partenkirchen      895\n",
      "Chamonix                    460\n",
      "Name: City, dtype: int64\n"
     ]
    }
   ],
   "source": [
    "#Checking null values for season column \n",
    "print(athlete['City'].isnull().value_counts(),\"\\n\") \n",
    "print(\"Data \\n\",athlete['City'].value_counts())"
   ]
  },
  {
   "cell_type": "code",
   "execution_count": 33,
   "metadata": {
    "colab": {
     "base_uri": "https://localhost:8080/"
    },
    "id": "0p98Vqs_h0yG",
    "outputId": "78083243-9fa6-4d56-b20f-c83d35ecd3b0"
   },
   "outputs": [
    {
     "name": "stdout",
     "output_type": "stream",
     "text": [
      "False    269731\n",
      "Name: Sport, dtype: int64 \n",
      "\n",
      "Data \n",
      " Athletics        38624\n",
      "Gymnastics       26707\n",
      "Swimming         23195\n",
      "Shooting         11448\n",
      "Cycling          10827\n",
      "                 ...  \n",
      "Racquets            12\n",
      "Jeu De Paume        11\n",
      "Roque                4\n",
      "Basque Pelota        2\n",
      "Aeronautics          1\n",
      "Name: Sport, Length: 66, dtype: int64\n"
     ]
    }
   ],
   "source": [
    "#Checking null values in Sport \n",
    "print(athlete['Sport'].isnull().value_counts(),\"\\n\") #There are no null values\n",
    "print(\"Data \\n\",athlete['Sport'].value_counts())"
   ]
  },
  {
   "cell_type": "code",
   "execution_count": 34,
   "metadata": {
    "colab": {
     "base_uri": "https://localhost:8080/"
    },
    "id": "xkIIs3D-h6RE",
    "outputId": "92adafca-cb34-4777-dbbf-40855a5ae185"
   },
   "outputs": [
    {
     "name": "stdout",
     "output_type": "stream",
     "text": [
      "Checking for null values \n",
      " False    269731\n",
      "Name: Event, dtype: int64 \n",
      "\n",
      "Data \n",
      " Football Men's Football                                5733\n",
      "Ice Hockey Men's Ice Hockey                            4762\n",
      "Hockey Men's Hockey                                    3958\n",
      "Water Polo Men's Water Polo                            3358\n",
      "Basketball Men's Basketball                            3280\n",
      "                                                       ... \n",
      "Croquet Mixed Doubles                                     2\n",
      "Archery Men's Target Archery, 28 metres, Individual       2\n",
      "Archery Men's Target Archery, 33 metres, Individual       2\n",
      "Archery Men's Championnat Du Monde                        2\n",
      "Aeronautics Mixed Aeronautics                             1\n",
      "Name: Event, Length: 765, dtype: int64\n"
     ]
    }
   ],
   "source": [
    "# Checking null values Event \n",
    "print(\"Checking for null values \\n\",athlete['Event'].isnull().value_counts(),\"\\n\") \n",
    "print(\"Data \\n\",athlete['Event'].value_counts())"
   ]
  },
  {
   "cell_type": "code",
   "execution_count": 35,
   "metadata": {
    "colab": {
     "base_uri": "https://localhost:8080/"
    },
    "id": "jyEm2VPjiLth",
    "outputId": "783cd1e4-c0b9-414a-c5d3-8d44a5cc8034"
   },
   "outputs": [
    {
     "name": "stdout",
     "output_type": "stream",
     "text": [
      "Checking for null values \n",
      " True     229959\n",
      "False     39772\n",
      "Name: Medal, dtype: int64 \n",
      "\n",
      "Insights on the column \n",
      " count     39772\n",
      "unique        3\n",
      "top        Gold\n",
      "freq      13369\n",
      "Name: Medal, dtype: object \n",
      "\n",
      "Data \n",
      " Gold      13369\n",
      "Bronze    13295\n",
      "Silver    13108\n",
      "Name: Medal, dtype: int64\n"
     ]
    }
   ],
   "source": [
    "#The null values in Medal column are not actually null. They indicate that there has been no medal acheivement.\n",
    "print(\"Checking for null values \\n\",athlete['Medal'].isnull().value_counts(),\"\\n\") #There are 231333 entries without the medal \n",
    "print(\"Insights on the column \\n\",athlete['Medal'].describe(),\"\\n\")\n",
    "print(\"Data \\n\",athlete['Medal'].value_counts())"
   ]
  },
  {
   "cell_type": "code",
   "execution_count": 36,
   "metadata": {
    "id": "ja0GFNKiirUR"
   },
   "outputs": [],
   "source": [
    "import seaborn as sns\n",
    "%matplotlib inline\n",
    "import matplotlib.pyplot as plt"
   ]
  },
  {
   "cell_type": "code",
   "execution_count": 37,
   "metadata": {
    "id": "jJu8FZHiyB5L"
   },
   "outputs": [
    {
     "data": {
      "text/html": [
       "<div>\n",
       "<style scoped>\n",
       "    .dataframe tbody tr th:only-of-type {\n",
       "        vertical-align: middle;\n",
       "    }\n",
       "\n",
       "    .dataframe tbody tr th {\n",
       "        vertical-align: top;\n",
       "    }\n",
       "\n",
       "    .dataframe thead th {\n",
       "        text-align: right;\n",
       "    }\n",
       "</style>\n",
       "<table border=\"1\" class=\"dataframe\">\n",
       "  <thead>\n",
       "    <tr style=\"text-align: right;\">\n",
       "      <th></th>\n",
       "      <th>ID</th>\n",
       "      <th>Name</th>\n",
       "      <th>Sex</th>\n",
       "      <th>Age</th>\n",
       "      <th>Height</th>\n",
       "      <th>Weight</th>\n",
       "      <th>Team</th>\n",
       "      <th>NOC</th>\n",
       "      <th>Games</th>\n",
       "      <th>Year</th>\n",
       "      <th>Season</th>\n",
       "      <th>City</th>\n",
       "      <th>Sport</th>\n",
       "      <th>Event</th>\n",
       "      <th>Medal</th>\n",
       "      <th>region</th>\n",
       "      <th>notes</th>\n",
       "    </tr>\n",
       "  </thead>\n",
       "  <tbody>\n",
       "    <tr>\n",
       "      <th>0</th>\n",
       "      <td>1</td>\n",
       "      <td>A Dijiang</td>\n",
       "      <td>M</td>\n",
       "      <td>24.0</td>\n",
       "      <td>180.000000</td>\n",
       "      <td>80.0</td>\n",
       "      <td>China</td>\n",
       "      <td>CHN</td>\n",
       "      <td>1992 Summer</td>\n",
       "      <td>1992</td>\n",
       "      <td>Summer</td>\n",
       "      <td>Barcelona</td>\n",
       "      <td>Basketball</td>\n",
       "      <td>Basketball Men's Basketball</td>\n",
       "      <td>NaN</td>\n",
       "      <td>China</td>\n",
       "      <td>NaN</td>\n",
       "    </tr>\n",
       "    <tr>\n",
       "      <th>1</th>\n",
       "      <td>2</td>\n",
       "      <td>A Lamusi</td>\n",
       "      <td>M</td>\n",
       "      <td>23.0</td>\n",
       "      <td>170.000000</td>\n",
       "      <td>60.0</td>\n",
       "      <td>China</td>\n",
       "      <td>CHN</td>\n",
       "      <td>2012 Summer</td>\n",
       "      <td>2012</td>\n",
       "      <td>Summer</td>\n",
       "      <td>London</td>\n",
       "      <td>Judo</td>\n",
       "      <td>Judo Men's Extra-Lightweight</td>\n",
       "      <td>NaN</td>\n",
       "      <td>China</td>\n",
       "      <td>NaN</td>\n",
       "    </tr>\n",
       "    <tr>\n",
       "      <th>2</th>\n",
       "      <td>3</td>\n",
       "      <td>Gunnar Nielsen Aaby</td>\n",
       "      <td>M</td>\n",
       "      <td>24.0</td>\n",
       "      <td>175.338953</td>\n",
       "      <td>70.0</td>\n",
       "      <td>Denmark</td>\n",
       "      <td>DEN</td>\n",
       "      <td>1920 Summer</td>\n",
       "      <td>1920</td>\n",
       "      <td>Summer</td>\n",
       "      <td>Antwerpen</td>\n",
       "      <td>Football</td>\n",
       "      <td>Football Men's Football</td>\n",
       "      <td>NaN</td>\n",
       "      <td>Denmark</td>\n",
       "      <td>NaN</td>\n",
       "    </tr>\n",
       "    <tr>\n",
       "      <th>3</th>\n",
       "      <td>4</td>\n",
       "      <td>Edgar Lindenau Aabye</td>\n",
       "      <td>M</td>\n",
       "      <td>34.0</td>\n",
       "      <td>175.338953</td>\n",
       "      <td>70.0</td>\n",
       "      <td>Denmark/Sweden</td>\n",
       "      <td>DEN</td>\n",
       "      <td>1900 Summer</td>\n",
       "      <td>1900</td>\n",
       "      <td>Summer</td>\n",
       "      <td>Paris</td>\n",
       "      <td>Tug-Of-War</td>\n",
       "      <td>Tug-Of-War Men's Tug-Of-War</td>\n",
       "      <td>Gold</td>\n",
       "      <td>Denmark</td>\n",
       "      <td>NaN</td>\n",
       "    </tr>\n",
       "    <tr>\n",
       "      <th>4</th>\n",
       "      <td>5</td>\n",
       "      <td>Christine Jacoba Aaftink</td>\n",
       "      <td>F</td>\n",
       "      <td>21.0</td>\n",
       "      <td>185.000000</td>\n",
       "      <td>82.0</td>\n",
       "      <td>Netherlands</td>\n",
       "      <td>NED</td>\n",
       "      <td>1988 Winter</td>\n",
       "      <td>1988</td>\n",
       "      <td>Winter</td>\n",
       "      <td>Calgary</td>\n",
       "      <td>Speed Skating</td>\n",
       "      <td>Speed Skating Women's 500 metres</td>\n",
       "      <td>NaN</td>\n",
       "      <td>Netherlands</td>\n",
       "      <td>NaN</td>\n",
       "    </tr>\n",
       "  </tbody>\n",
       "</table>\n",
       "</div>"
      ],
      "text/plain": [
       "   ID                      Name Sex   Age      Height  Weight            Team  \\\n",
       "0   1                 A Dijiang   M  24.0  180.000000    80.0           China   \n",
       "1   2                  A Lamusi   M  23.0  170.000000    60.0           China   \n",
       "2   3       Gunnar Nielsen Aaby   M  24.0  175.338953    70.0         Denmark   \n",
       "3   4      Edgar Lindenau Aabye   M  34.0  175.338953    70.0  Denmark/Sweden   \n",
       "4   5  Christine Jacoba Aaftink   F  21.0  185.000000    82.0     Netherlands   \n",
       "\n",
       "   NOC        Games  Year  Season       City          Sport  \\\n",
       "0  CHN  1992 Summer  1992  Summer  Barcelona     Basketball   \n",
       "1  CHN  2012 Summer  2012  Summer     London           Judo   \n",
       "2  DEN  1920 Summer  1920  Summer  Antwerpen       Football   \n",
       "3  DEN  1900 Summer  1900  Summer      Paris     Tug-Of-War   \n",
       "4  NED  1988 Winter  1988  Winter    Calgary  Speed Skating   \n",
       "\n",
       "                              Event Medal       region notes  \n",
       "0       Basketball Men's Basketball   NaN        China   NaN  \n",
       "1      Judo Men's Extra-Lightweight   NaN        China   NaN  \n",
       "2           Football Men's Football   NaN      Denmark   NaN  \n",
       "3       Tug-Of-War Men's Tug-Of-War  Gold      Denmark   NaN  \n",
       "4  Speed Skating Women's 500 metres   NaN  Netherlands   NaN  "
      ]
     },
     "execution_count": 37,
     "metadata": {},
     "output_type": "execute_result"
    }
   ],
   "source": [
    "#Merge both the dataframes\n",
    "athlete_merged = athlete.merge(region, how = 'left', on = 'NOC')\n",
    "athlete_merged.head()"
   ]
  },
  {
   "cell_type": "code",
   "execution_count": 38,
   "metadata": {
    "id": "T-J0JrvYyEzZ"
   },
   "outputs": [
    {
     "data": {
      "text/plain": [
       "(269731, 17)"
      ]
     },
     "execution_count": 38,
     "metadata": {},
     "output_type": "execute_result"
    }
   ],
   "source": [
    "athlete_merged.shape"
   ]
  },
  {
   "cell_type": "code",
   "execution_count": 39,
   "metadata": {
    "id": "-2QlBa_3yRaV"
   },
   "outputs": [],
   "source": [
    "athlete_merged.rename(columns={'region': 'Region', 'notes': 'Notes'}, inplace= True)"
   ]
  },
  {
   "cell_type": "code",
   "execution_count": 40,
   "metadata": {
    "id": "6Z7amUO9yUi7"
   },
   "outputs": [],
   "source": [
    "# Performing Exploratory Data Analysis "
   ]
  },
  {
   "cell_type": "code",
   "execution_count": 41,
   "metadata": {
    "id": "qR1tU1rnyW-F"
   },
   "outputs": [
    {
     "name": "stdout",
     "output_type": "stream",
     "text": [
      "<class 'pandas.core.frame.DataFrame'>\n",
      "Int64Index: 269731 entries, 0 to 269730\n",
      "Data columns (total 17 columns):\n",
      " #   Column  Non-Null Count   Dtype  \n",
      "---  ------  --------------   -----  \n",
      " 0   ID      269731 non-null  int64  \n",
      " 1   Name    269731 non-null  object \n",
      " 2   Sex     269731 non-null  object \n",
      " 3   Age     269731 non-null  float64\n",
      " 4   Height  269731 non-null  float64\n",
      " 5   Weight  269731 non-null  float64\n",
      " 6   Team    269731 non-null  object \n",
      " 7   NOC     269731 non-null  object \n",
      " 8   Games   269731 non-null  object \n",
      " 9   Year    269731 non-null  int64  \n",
      " 10  Season  269731 non-null  object \n",
      " 11  City    269731 non-null  object \n",
      " 12  Sport   269731 non-null  object \n",
      " 13  Event   269731 non-null  object \n",
      " 14  Medal   39772 non-null   object \n",
      " 15  Region  269361 non-null  object \n",
      " 16  Notes   5035 non-null    object \n",
      "dtypes: float64(3), int64(2), object(12)\n",
      "memory usage: 37.0+ MB\n"
     ]
    }
   ],
   "source": [
    "athlete_merged.info()"
   ]
  },
  {
   "cell_type": "code",
   "execution_count": 42,
   "metadata": {
    "id": "EPE3HE5tyc6F"
   },
   "outputs": [
    {
     "name": "stdout",
     "output_type": "stream",
     "text": [
      "<class 'pandas.core.frame.DataFrame'>\n"
     ]
    }
   ],
   "source": [
    "athlete_merged.describe()\n",
    "print(type(athlete_merged))"
   ]
  },
  {
   "cell_type": "code",
   "execution_count": 43,
   "metadata": {
    "id": "grlibUrNzFcj"
   },
   "outputs": [
    {
     "data": {
      "text/plain": [
       "ID             0\n",
       "Name           0\n",
       "Sex            0\n",
       "Age            0\n",
       "Height         0\n",
       "Weight         0\n",
       "Team           0\n",
       "NOC            0\n",
       "Games          0\n",
       "Year           0\n",
       "Season         0\n",
       "City           0\n",
       "Sport          0\n",
       "Event          0\n",
       "Medal     229959\n",
       "Region       370\n",
       "Notes     264696\n",
       "dtype: int64"
      ]
     },
     "execution_count": 43,
     "metadata": {},
     "output_type": "execute_result"
    }
   ],
   "source": [
    "athlete_merged.isnull().sum()"
   ]
  },
  {
   "cell_type": "markdown",
   "metadata": {
    "id": "QpQSpdqrfCuc"
   },
   "source": [
    "Implementing analysis upon unique sports\n"
   ]
  },
  {
   "cell_type": "code",
   "execution_count": 44,
   "metadata": {
    "colab": {
     "base_uri": "https://localhost:8080/",
     "height": 166
    },
    "id": "mmc33ws7e83B",
    "outputId": "e32895c5-064b-4c80-bcb3-bc444d6e8e84"
   },
   "outputs": [
    {
     "data": {
      "text/plain": [
       "Gold      13369\n",
       "Bronze    13295\n",
       "Silver    13108\n",
       "Name: Medal, dtype: int64"
      ]
     },
     "execution_count": 44,
     "metadata": {},
     "output_type": "execute_result"
    }
   ],
   "source": [
    "athlete_merged['Medal'].value_counts()"
   ]
  },
  {
   "cell_type": "code",
   "execution_count": 45,
   "metadata": {
    "id": "4IzXocxhfB36"
   },
   "outputs": [
    {
     "data": {
      "text/html": [
       "<div>\n",
       "<style scoped>\n",
       "    .dataframe tbody tr th:only-of-type {\n",
       "        vertical-align: middle;\n",
       "    }\n",
       "\n",
       "    .dataframe tbody tr th {\n",
       "        vertical-align: top;\n",
       "    }\n",
       "\n",
       "    .dataframe thead th {\n",
       "        text-align: right;\n",
       "    }\n",
       "</style>\n",
       "<table border=\"1\" class=\"dataframe\">\n",
       "  <thead>\n",
       "    <tr style=\"text-align: right;\">\n",
       "      <th></th>\n",
       "      <th>Bronze</th>\n",
       "      <th>Gold</th>\n",
       "      <th>Silver</th>\n",
       "    </tr>\n",
       "  </thead>\n",
       "  <tbody>\n",
       "    <tr>\n",
       "      <th>0</th>\n",
       "      <td>0</td>\n",
       "      <td>0</td>\n",
       "      <td>0</td>\n",
       "    </tr>\n",
       "    <tr>\n",
       "      <th>1</th>\n",
       "      <td>0</td>\n",
       "      <td>0</td>\n",
       "      <td>0</td>\n",
       "    </tr>\n",
       "    <tr>\n",
       "      <th>2</th>\n",
       "      <td>0</td>\n",
       "      <td>0</td>\n",
       "      <td>0</td>\n",
       "    </tr>\n",
       "    <tr>\n",
       "      <th>3</th>\n",
       "      <td>0</td>\n",
       "      <td>1</td>\n",
       "      <td>0</td>\n",
       "    </tr>\n",
       "    <tr>\n",
       "      <th>4</th>\n",
       "      <td>0</td>\n",
       "      <td>0</td>\n",
       "      <td>0</td>\n",
       "    </tr>\n",
       "    <tr>\n",
       "      <th>...</th>\n",
       "      <td>...</td>\n",
       "      <td>...</td>\n",
       "      <td>...</td>\n",
       "    </tr>\n",
       "    <tr>\n",
       "      <th>269726</th>\n",
       "      <td>0</td>\n",
       "      <td>0</td>\n",
       "      <td>0</td>\n",
       "    </tr>\n",
       "    <tr>\n",
       "      <th>269727</th>\n",
       "      <td>0</td>\n",
       "      <td>0</td>\n",
       "      <td>0</td>\n",
       "    </tr>\n",
       "    <tr>\n",
       "      <th>269728</th>\n",
       "      <td>0</td>\n",
       "      <td>0</td>\n",
       "      <td>0</td>\n",
       "    </tr>\n",
       "    <tr>\n",
       "      <th>269729</th>\n",
       "      <td>0</td>\n",
       "      <td>0</td>\n",
       "      <td>0</td>\n",
       "    </tr>\n",
       "    <tr>\n",
       "      <th>269730</th>\n",
       "      <td>0</td>\n",
       "      <td>0</td>\n",
       "      <td>0</td>\n",
       "    </tr>\n",
       "  </tbody>\n",
       "</table>\n",
       "<p>269731 rows × 3 columns</p>\n",
       "</div>"
      ],
      "text/plain": [
       "        Bronze  Gold  Silver\n",
       "0            0     0       0\n",
       "1            0     0       0\n",
       "2            0     0       0\n",
       "3            0     1       0\n",
       "4            0     0       0\n",
       "...        ...   ...     ...\n",
       "269726       0     0       0\n",
       "269727       0     0       0\n",
       "269728       0     0       0\n",
       "269729       0     0       0\n",
       "269730       0     0       0\n",
       "\n",
       "[269731 rows x 3 columns]"
      ]
     },
     "execution_count": 45,
     "metadata": {},
     "output_type": "execute_result"
    }
   ],
   "source": [
    "pd.get_dummies(athlete_merged['Medal'])"
   ]
  },
  {
   "cell_type": "code",
   "execution_count": 46,
   "metadata": {
    "id": "bqjj1l9tfIkZ"
   },
   "outputs": [],
   "source": [
    "athlete_merged = pd.concat([athlete_merged,pd.get_dummies(athlete_merged['Medal'])], axis = 1)"
   ]
  },
  {
   "cell_type": "code",
   "execution_count": 47,
   "metadata": {
    "id": "P8S2yltdfLLb"
   },
   "outputs": [
    {
     "data": {
      "text/html": [
       "<div>\n",
       "<style scoped>\n",
       "    .dataframe tbody tr th:only-of-type {\n",
       "        vertical-align: middle;\n",
       "    }\n",
       "\n",
       "    .dataframe tbody tr th {\n",
       "        vertical-align: top;\n",
       "    }\n",
       "\n",
       "    .dataframe thead th {\n",
       "        text-align: right;\n",
       "    }\n",
       "</style>\n",
       "<table border=\"1\" class=\"dataframe\">\n",
       "  <thead>\n",
       "    <tr style=\"text-align: right;\">\n",
       "      <th></th>\n",
       "      <th>Gold</th>\n",
       "      <th>Silver</th>\n",
       "      <th>Bronze</th>\n",
       "    </tr>\n",
       "    <tr>\n",
       "      <th>NOC</th>\n",
       "      <th></th>\n",
       "      <th></th>\n",
       "      <th></th>\n",
       "    </tr>\n",
       "  </thead>\n",
       "  <tbody>\n",
       "    <tr>\n",
       "      <th>USA</th>\n",
       "      <td>2638.0</td>\n",
       "      <td>1641.0</td>\n",
       "      <td>1358.0</td>\n",
       "    </tr>\n",
       "    <tr>\n",
       "      <th>URS</th>\n",
       "      <td>1082.0</td>\n",
       "      <td>732.0</td>\n",
       "      <td>689.0</td>\n",
       "    </tr>\n",
       "    <tr>\n",
       "      <th>GER</th>\n",
       "      <td>745.0</td>\n",
       "      <td>674.0</td>\n",
       "      <td>746.0</td>\n",
       "    </tr>\n",
       "    <tr>\n",
       "      <th>GBR</th>\n",
       "      <td>677.0</td>\n",
       "      <td>739.0</td>\n",
       "      <td>651.0</td>\n",
       "    </tr>\n",
       "    <tr>\n",
       "      <th>ITA</th>\n",
       "      <td>575.0</td>\n",
       "      <td>531.0</td>\n",
       "      <td>531.0</td>\n",
       "    </tr>\n",
       "    <tr>\n",
       "      <th>...</th>\n",
       "      <td>...</td>\n",
       "      <td>...</td>\n",
       "      <td>...</td>\n",
       "    </tr>\n",
       "    <tr>\n",
       "      <th>LAO</th>\n",
       "      <td>0.0</td>\n",
       "      <td>0.0</td>\n",
       "      <td>0.0</td>\n",
       "    </tr>\n",
       "    <tr>\n",
       "      <th>AHO</th>\n",
       "      <td>0.0</td>\n",
       "      <td>1.0</td>\n",
       "      <td>0.0</td>\n",
       "    </tr>\n",
       "    <tr>\n",
       "      <th>LBR</th>\n",
       "      <td>0.0</td>\n",
       "      <td>0.0</td>\n",
       "      <td>0.0</td>\n",
       "    </tr>\n",
       "    <tr>\n",
       "      <th>LCA</th>\n",
       "      <td>0.0</td>\n",
       "      <td>0.0</td>\n",
       "      <td>0.0</td>\n",
       "    </tr>\n",
       "    <tr>\n",
       "      <th>LBA</th>\n",
       "      <td>0.0</td>\n",
       "      <td>0.0</td>\n",
       "      <td>0.0</td>\n",
       "    </tr>\n",
       "  </tbody>\n",
       "</table>\n",
       "<p>230 rows × 3 columns</p>\n",
       "</div>"
      ],
      "text/plain": [
       "       Gold  Silver  Bronze\n",
       "NOC                        \n",
       "USA  2638.0  1641.0  1358.0\n",
       "URS  1082.0   732.0   689.0\n",
       "GER   745.0   674.0   746.0\n",
       "GBR   677.0   739.0   651.0\n",
       "ITA   575.0   531.0   531.0\n",
       "..      ...     ...     ...\n",
       "LAO     0.0     0.0     0.0\n",
       "AHO     0.0     1.0     0.0\n",
       "LBR     0.0     0.0     0.0\n",
       "LCA     0.0     0.0     0.0\n",
       "LBA     0.0     0.0     0.0\n",
       "\n",
       "[230 rows x 3 columns]"
      ]
     },
     "execution_count": 47,
     "metadata": {},
     "output_type": "execute_result"
    }
   ],
   "source": [
    "athlete_merged.groupby('NOC').sum()[['Gold', 'Silver', 'Bronze']].sort_values('Gold', ascending = False)"
   ]
  },
  {
   "cell_type": "code",
   "execution_count": 48,
   "metadata": {
    "id": "xXAqkZZgfPME"
   },
   "outputs": [
    {
     "data": {
      "text/html": [
       "<div>\n",
       "<style scoped>\n",
       "    .dataframe tbody tr th:only-of-type {\n",
       "        vertical-align: middle;\n",
       "    }\n",
       "\n",
       "    .dataframe tbody tr th {\n",
       "        vertical-align: top;\n",
       "    }\n",
       "\n",
       "    .dataframe thead th {\n",
       "        text-align: right;\n",
       "    }\n",
       "</style>\n",
       "<table border=\"1\" class=\"dataframe\">\n",
       "  <thead>\n",
       "    <tr style=\"text-align: right;\">\n",
       "      <th></th>\n",
       "      <th>Gold</th>\n",
       "      <th>Silver</th>\n",
       "      <th>Bronze</th>\n",
       "    </tr>\n",
       "    <tr>\n",
       "      <th>Sport</th>\n",
       "      <th></th>\n",
       "      <th></th>\n",
       "      <th></th>\n",
       "    </tr>\n",
       "  </thead>\n",
       "  <tbody>\n",
       "    <tr>\n",
       "      <th>Athletics</th>\n",
       "      <td>1339.0</td>\n",
       "      <td>1334.0</td>\n",
       "      <td>1296.0</td>\n",
       "    </tr>\n",
       "    <tr>\n",
       "      <th>Swimming</th>\n",
       "      <td>1099.0</td>\n",
       "      <td>993.0</td>\n",
       "      <td>956.0</td>\n",
       "    </tr>\n",
       "    <tr>\n",
       "      <th>Rowing</th>\n",
       "      <td>978.0</td>\n",
       "      <td>977.0</td>\n",
       "      <td>990.0</td>\n",
       "    </tr>\n",
       "    <tr>\n",
       "      <th>Gymnastics</th>\n",
       "      <td>791.0</td>\n",
       "      <td>746.0</td>\n",
       "      <td>719.0</td>\n",
       "    </tr>\n",
       "    <tr>\n",
       "      <th>Fencing</th>\n",
       "      <td>594.0</td>\n",
       "      <td>583.0</td>\n",
       "      <td>566.0</td>\n",
       "    </tr>\n",
       "    <tr>\n",
       "      <th>...</th>\n",
       "      <td>...</td>\n",
       "      <td>...</td>\n",
       "      <td>...</td>\n",
       "    </tr>\n",
       "    <tr>\n",
       "      <th>Racquets</th>\n",
       "      <td>3.0</td>\n",
       "      <td>3.0</td>\n",
       "      <td>4.0</td>\n",
       "    </tr>\n",
       "    <tr>\n",
       "      <th>Basque Pelota</th>\n",
       "      <td>2.0</td>\n",
       "      <td>0.0</td>\n",
       "      <td>0.0</td>\n",
       "    </tr>\n",
       "    <tr>\n",
       "      <th>Roque</th>\n",
       "      <td>1.0</td>\n",
       "      <td>1.0</td>\n",
       "      <td>1.0</td>\n",
       "    </tr>\n",
       "    <tr>\n",
       "      <th>Jeu De Paume</th>\n",
       "      <td>1.0</td>\n",
       "      <td>1.0</td>\n",
       "      <td>1.0</td>\n",
       "    </tr>\n",
       "    <tr>\n",
       "      <th>Aeronautics</th>\n",
       "      <td>1.0</td>\n",
       "      <td>0.0</td>\n",
       "      <td>0.0</td>\n",
       "    </tr>\n",
       "  </tbody>\n",
       "</table>\n",
       "<p>66 rows × 3 columns</p>\n",
       "</div>"
      ],
      "text/plain": [
       "                 Gold  Silver  Bronze\n",
       "Sport                                \n",
       "Athletics      1339.0  1334.0  1296.0\n",
       "Swimming       1099.0   993.0   956.0\n",
       "Rowing          978.0   977.0   990.0\n",
       "Gymnastics      791.0   746.0   719.0\n",
       "Fencing         594.0   583.0   566.0\n",
       "...               ...     ...     ...\n",
       "Racquets          3.0     3.0     4.0\n",
       "Basque Pelota     2.0     0.0     0.0\n",
       "Roque             1.0     1.0     1.0\n",
       "Jeu De Paume      1.0     1.0     1.0\n",
       "Aeronautics       1.0     0.0     0.0\n",
       "\n",
       "[66 rows x 3 columns]"
      ]
     },
     "execution_count": 48,
     "metadata": {},
     "output_type": "execute_result"
    }
   ],
   "source": [
    "athlete_merged.groupby('Sport').sum()[['Gold', 'Silver', 'Bronze']].sort_values('Gold', ascending = False)"
   ]
  },
  {
   "cell_type": "code",
   "execution_count": 49,
   "metadata": {
    "id": "d5Bw_IIByghl"
   },
   "outputs": [
    {
     "data": {
      "text/html": [
       "<div>\n",
       "<style scoped>\n",
       "    .dataframe tbody tr th:only-of-type {\n",
       "        vertical-align: middle;\n",
       "    }\n",
       "\n",
       "    .dataframe tbody tr th {\n",
       "        vertical-align: top;\n",
       "    }\n",
       "\n",
       "    .dataframe thead th {\n",
       "        text-align: right;\n",
       "    }\n",
       "</style>\n",
       "<table border=\"1\" class=\"dataframe\">\n",
       "  <thead>\n",
       "    <tr style=\"text-align: right;\">\n",
       "      <th></th>\n",
       "      <th>ID</th>\n",
       "      <th>Name</th>\n",
       "      <th>Sex</th>\n",
       "      <th>Age</th>\n",
       "      <th>Height</th>\n",
       "      <th>Weight</th>\n",
       "      <th>Team</th>\n",
       "      <th>NOC</th>\n",
       "      <th>Games</th>\n",
       "      <th>Year</th>\n",
       "      <th>Season</th>\n",
       "      <th>City</th>\n",
       "      <th>Sport</th>\n",
       "      <th>Event</th>\n",
       "      <th>Medal</th>\n",
       "      <th>Region</th>\n",
       "      <th>Notes</th>\n",
       "      <th>Bronze</th>\n",
       "      <th>Gold</th>\n",
       "      <th>Silver</th>\n",
       "    </tr>\n",
       "  </thead>\n",
       "  <tbody>\n",
       "    <tr>\n",
       "      <th>505</th>\n",
       "      <td>281</td>\n",
       "      <td>S. Abdul Hamid</td>\n",
       "      <td>M</td>\n",
       "      <td>25.454776</td>\n",
       "      <td>175.338953</td>\n",
       "      <td>70.0</td>\n",
       "      <td>India</td>\n",
       "      <td>IND</td>\n",
       "      <td>1928 Summer</td>\n",
       "      <td>1928</td>\n",
       "      <td>Summer</td>\n",
       "      <td>Amsterdam</td>\n",
       "      <td>Athletics</td>\n",
       "      <td>Athletics Men's 110 metres Hurdles</td>\n",
       "      <td>NaN</td>\n",
       "      <td>India</td>\n",
       "      <td>NaN</td>\n",
       "      <td>0</td>\n",
       "      <td>0</td>\n",
       "      <td>0</td>\n",
       "    </tr>\n",
       "    <tr>\n",
       "      <th>506</th>\n",
       "      <td>281</td>\n",
       "      <td>S. Abdul Hamid</td>\n",
       "      <td>M</td>\n",
       "      <td>25.454776</td>\n",
       "      <td>175.338953</td>\n",
       "      <td>70.0</td>\n",
       "      <td>India</td>\n",
       "      <td>IND</td>\n",
       "      <td>1928 Summer</td>\n",
       "      <td>1928</td>\n",
       "      <td>Summer</td>\n",
       "      <td>Amsterdam</td>\n",
       "      <td>Athletics</td>\n",
       "      <td>Athletics Men's 400 metres Hurdles</td>\n",
       "      <td>NaN</td>\n",
       "      <td>India</td>\n",
       "      <td>NaN</td>\n",
       "      <td>0</td>\n",
       "      <td>0</td>\n",
       "      <td>0</td>\n",
       "    </tr>\n",
       "    <tr>\n",
       "      <th>895</th>\n",
       "      <td>512</td>\n",
       "      <td>Shiny Kurisingal Abraham-Wilson</td>\n",
       "      <td>F</td>\n",
       "      <td>19.000000</td>\n",
       "      <td>167.000000</td>\n",
       "      <td>53.0</td>\n",
       "      <td>India</td>\n",
       "      <td>IND</td>\n",
       "      <td>1984 Summer</td>\n",
       "      <td>1984</td>\n",
       "      <td>Summer</td>\n",
       "      <td>Los Angeles</td>\n",
       "      <td>Athletics</td>\n",
       "      <td>Athletics Women's 800 metres</td>\n",
       "      <td>NaN</td>\n",
       "      <td>India</td>\n",
       "      <td>NaN</td>\n",
       "      <td>0</td>\n",
       "      <td>0</td>\n",
       "      <td>0</td>\n",
       "    </tr>\n",
       "    <tr>\n",
       "      <th>896</th>\n",
       "      <td>512</td>\n",
       "      <td>Shiny Kurisingal Abraham-Wilson</td>\n",
       "      <td>F</td>\n",
       "      <td>19.000000</td>\n",
       "      <td>167.000000</td>\n",
       "      <td>53.0</td>\n",
       "      <td>India</td>\n",
       "      <td>IND</td>\n",
       "      <td>1984 Summer</td>\n",
       "      <td>1984</td>\n",
       "      <td>Summer</td>\n",
       "      <td>Los Angeles</td>\n",
       "      <td>Athletics</td>\n",
       "      <td>Athletics Women's 4 x 400 metres Relay</td>\n",
       "      <td>NaN</td>\n",
       "      <td>India</td>\n",
       "      <td>NaN</td>\n",
       "      <td>0</td>\n",
       "      <td>0</td>\n",
       "      <td>0</td>\n",
       "    </tr>\n",
       "    <tr>\n",
       "      <th>897</th>\n",
       "      <td>512</td>\n",
       "      <td>Shiny Kurisingal Abraham-Wilson</td>\n",
       "      <td>F</td>\n",
       "      <td>23.000000</td>\n",
       "      <td>167.000000</td>\n",
       "      <td>53.0</td>\n",
       "      <td>India</td>\n",
       "      <td>IND</td>\n",
       "      <td>1988 Summer</td>\n",
       "      <td>1988</td>\n",
       "      <td>Summer</td>\n",
       "      <td>Seoul</td>\n",
       "      <td>Athletics</td>\n",
       "      <td>Athletics Women's 800 metres</td>\n",
       "      <td>NaN</td>\n",
       "      <td>India</td>\n",
       "      <td>NaN</td>\n",
       "      <td>0</td>\n",
       "      <td>0</td>\n",
       "      <td>0</td>\n",
       "    </tr>\n",
       "  </tbody>\n",
       "</table>\n",
       "</div>"
      ],
      "text/plain": [
       "      ID                             Name Sex        Age      Height  Weight  \\\n",
       "505  281                   S. Abdul Hamid   M  25.454776  175.338953    70.0   \n",
       "506  281                   S. Abdul Hamid   M  25.454776  175.338953    70.0   \n",
       "895  512  Shiny Kurisingal Abraham-Wilson   F  19.000000  167.000000    53.0   \n",
       "896  512  Shiny Kurisingal Abraham-Wilson   F  19.000000  167.000000    53.0   \n",
       "897  512  Shiny Kurisingal Abraham-Wilson   F  23.000000  167.000000    53.0   \n",
       "\n",
       "      Team  NOC        Games  Year  Season         City      Sport  \\\n",
       "505  India  IND  1928 Summer  1928  Summer    Amsterdam  Athletics   \n",
       "506  India  IND  1928 Summer  1928  Summer    Amsterdam  Athletics   \n",
       "895  India  IND  1984 Summer  1984  Summer  Los Angeles  Athletics   \n",
       "896  India  IND  1984 Summer  1984  Summer  Los Angeles  Athletics   \n",
       "897  India  IND  1988 Summer  1988  Summer        Seoul  Athletics   \n",
       "\n",
       "                                      Event Medal Region Notes  Bronze  Gold  \\\n",
       "505      Athletics Men's 110 metres Hurdles   NaN  India   NaN       0     0   \n",
       "506      Athletics Men's 400 metres Hurdles   NaN  India   NaN       0     0   \n",
       "895            Athletics Women's 800 metres   NaN  India   NaN       0     0   \n",
       "896  Athletics Women's 4 x 400 metres Relay   NaN  India   NaN       0     0   \n",
       "897            Athletics Women's 800 metres   NaN  India   NaN       0     0   \n",
       "\n",
       "     Silver  \n",
       "505       0  \n",
       "506       0  \n",
       "895       0  \n",
       "896       0  \n",
       "897       0  "
      ]
     },
     "execution_count": 49,
     "metadata": {},
     "output_type": "execute_result"
    }
   ],
   "source": [
    "# Athlete details for the country India\n",
    "\n",
    "athlete_merged.query('Team == \"India\"').head()"
   ]
  },
  {
   "cell_type": "code",
   "execution_count": 50,
   "metadata": {
    "id": "-aT1wls7zP8t"
   },
   "outputs": [
    {
     "data": {
      "text/plain": [
       "United States    17598\n",
       "France           11817\n",
       "Great Britain    11264\n",
       "Italy            10213\n",
       "Germany           9230\n",
       "Canada            9226\n",
       "Japan             8269\n",
       "Sweden            8004\n",
       "Australia         7512\n",
       "Hungary           6492\n",
       "Name: Team, dtype: int64"
      ]
     },
     "execution_count": 50,
     "metadata": {},
     "output_type": "execute_result"
    }
   ],
   "source": [
    "# Top participating countries in Olympics\n",
    "top_10_countries = athlete_merged.Team.value_counts().sort_values(ascending=False).head(10)\n",
    "top_10_countries"
   ]
  },
  {
   "cell_type": "code",
   "execution_count": 51,
   "metadata": {
    "id": "wNXHvtO5yjuV"
   },
   "outputs": [
    {
     "data": {
      "text/plain": [
       "United States    17598\n",
       "France           11817\n",
       "Great Britain    11264\n",
       "Italy            10213\n",
       "Germany           9230\n",
       "Canada            9226\n",
       "Japan             8269\n",
       "Sweden            8004\n",
       "Australia         7512\n",
       "Hungary           6492\n",
       "Name: Team, dtype: int64"
      ]
     },
     "execution_count": 51,
     "metadata": {},
     "output_type": "execute_result"
    }
   ],
   "source": [
    "# Top participating countries in Olympics\n",
    "top_10_countries = athlete_merged.Team.value_counts().sort_values(ascending=False).head(10)\n",
    "top_10_countries\n",
    "\n"
   ]
  },
  {
   "cell_type": "code",
   "execution_count": 52,
   "metadata": {
    "id": "KPa4FyaGyl9Z"
   },
   "outputs": [
    {
     "data": {
      "image/png": "[encoded data removed]",
      "text/plain": [
       "<Figure size 864x432 with 1 Axes>"
      ]
     },
     "metadata": {
      "needs_background": "light"
     },
     "output_type": "display_data"
    }
   ],
   "source": [
    "#Plot for the top 10 countries\n",
    "\n",
    "plt.figure(figsize=(12,6))\n",
    "#plt.xticks(rotation=20)\n",
    "plt.title('Overall Participation by Country')\n",
    "sns.barplot(x=top_10_countries.index, y=top_10_countries);"
   ]
  },
  {
   "cell_type": "code",
   "execution_count": 53,
   "metadata": {
    "id": "btiRZDOcyp1u"
   },
   "outputs": [
    {
     "data": {
      "image/png": "[encoded data removed]",
      "text/plain": [
       "<Figure size 864x432 with 1 Axes>"
      ]
     },
     "metadata": {
      "needs_background": "light"
     },
     "output_type": "display_data"
    }
   ],
   "source": [
    "plt.figure(figsize=(12,6))\n",
    "plt.title(\"Age distribution of the athletes\")\n",
    "plt.xlabel('Age')\n",
    "plt.ylabel('Number of Participants')\n",
    "plt.hist(athlete_merged.Age, bins = np.arange(10,80,2), color='red', edgecolor = 'white');"
   ]
  },
  {
   "cell_type": "code",
   "execution_count": 54,
   "metadata": {
    "id": "hWCkkSoUzdkr"
   },
   "outputs": [
    {
     "data": {
      "text/plain": [
       "array(['Speed Skating', 'Cross Country Skiing', 'Ice Hockey', 'Biathlon',\n",
       "       'Alpine Skiing', 'Luge', 'Bobsleigh', 'Figure Skating',\n",
       "       'Nordic Combined', 'Freestyle Skiing', 'Ski Jumping', 'Curling',\n",
       "       'Snowboarding', 'Short Track Speed Skating', 'Skeleton',\n",
       "       'Military Ski Patrol', 'Alpinism'], dtype=object)"
      ]
     },
     "execution_count": 54,
     "metadata": {},
     "output_type": "execute_result"
    }
   ],
   "source": [
    "winter_games = athlete_merged[athlete_merged.Season == 'Winter'].Sport.unique()\n",
    "winter_games"
   ]
  },
  {
   "cell_type": "code",
   "execution_count": 55,
   "metadata": {
    "id": "K8odyUY1zfLm"
   },
   "outputs": [
    {
     "data": {
      "text/plain": [
       "array(['Basketball', 'Judo', 'Football', 'Tug-Of-War', 'Athletics',\n",
       "       'Swimming', 'Badminton', 'Sailing', 'Gymnastics',\n",
       "       'Art Competitions', 'Handball', 'Weightlifting', 'Wrestling',\n",
       "       'Water Polo', 'Hockey', 'Rowing', 'Fencing', 'Equestrianism',\n",
       "       'Shooting', 'Boxing', 'Taekwondo', 'Cycling', 'Diving', 'Canoeing',\n",
       "       'Tennis', 'Modern Pentathlon', 'Golf', 'Softball', 'Archery',\n",
       "       'Volleyball', 'Synchronized Swimming', 'Table Tennis', 'Baseball',\n",
       "       'Rhythmic Gymnastics', 'Rugby Sevens', 'Trampolining',\n",
       "       'Beach Volleyball', 'Triathlon', 'Rugby', 'Lacrosse', 'Polo',\n",
       "       'Cricket', 'Ice Hockey', 'Racquets', 'Motorboating', 'Croquet',\n",
       "       'Figure Skating', 'Jeu De Paume', 'Roque', 'Basque Pelota',\n",
       "       'Alpinism', 'Aeronautics'], dtype=object)"
      ]
     },
     "execution_count": 55,
     "metadata": {},
     "output_type": "execute_result"
    }
   ],
   "source": [
    "summer_games = athlete_merged[athlete_merged.Season == 'Summer'].Sport.unique()\n",
    "summer_games"
   ]
  },
  {
   "cell_type": "code",
   "execution_count": 56,
   "metadata": {
    "id": "ulfixJojyuiX"
   },
   "outputs": [
    {
     "data": {
      "text/html": [
       "<div>\n",
       "<style scoped>\n",
       "    .dataframe tbody tr th:only-of-type {\n",
       "        vertical-align: middle;\n",
       "    }\n",
       "\n",
       "    .dataframe tbody tr th {\n",
       "        vertical-align: top;\n",
       "    }\n",
       "\n",
       "    .dataframe thead th {\n",
       "        text-align: right;\n",
       "    }\n",
       "</style>\n",
       "<table border=\"1\" class=\"dataframe\">\n",
       "  <thead>\n",
       "    <tr style=\"text-align: right;\">\n",
       "      <th></th>\n",
       "      <th>Sex</th>\n",
       "    </tr>\n",
       "  </thead>\n",
       "  <tbody>\n",
       "    <tr>\n",
       "      <th>M</th>\n",
       "      <td>195353</td>\n",
       "    </tr>\n",
       "    <tr>\n",
       "      <th>F</th>\n",
       "      <td>74378</td>\n",
       "    </tr>\n",
       "  </tbody>\n",
       "</table>\n",
       "</div>"
      ],
      "text/plain": [
       "      Sex\n",
       "M  195353\n",
       "F   74378"
      ]
     },
     "execution_count": 56,
     "metadata": {},
     "output_type": "execute_result"
    }
   ],
   "source": [
    "# = athlete_merged.Sex.value_count()\n",
    "#athlete.value_counts(normalize=True) \n",
    "#gender_value_count\n",
    "gender_count = athlete_merged[\"Sex\"].value_counts()\n",
    "gender_count.to_frame()"
   ]
  },
  {
   "cell_type": "code",
   "execution_count": 57,
   "metadata": {
    "id": "oP8ygY_uyxoV"
   },
   "outputs": [
    {
     "data": {
      "image/png": "[encoded data removed]",
      "text/plain": [
       "<Figure size 864x432 with 1 Axes>"
      ]
     },
     "metadata": {},
     "output_type": "display_data"
    }
   ],
   "source": [
    "plt.figure(figsize=(12,6))\n",
    "plt.title('Gender Distribution')\n",
    "plt.pie(gender_count, labels= gender_count, autopct = \"%1.1f%%\", startangle=180, shadow= True);"
   ]
  },
  {
   "cell_type": "code",
   "execution_count": 58,
   "metadata": {
    "id": "6V_F7ibfyz-o"
   },
   "outputs": [
    {
     "data": {
      "text/plain": [
       "Gold      13369\n",
       "Bronze    13295\n",
       "Silver    13108\n",
       "Name: Medal, dtype: int64"
      ]
     },
     "execution_count": 58,
     "metadata": {},
     "output_type": "execute_result"
    }
   ],
   "source": [
    "athlete_merged.Medal.value_counts()"
   ]
  },
  {
   "cell_type": "code",
   "execution_count": 59,
   "metadata": {
    "id": "8fpiHsrazpAt"
   },
   "outputs": [
    {
     "data": {
      "text/html": [
       "<div>\n",
       "<style scoped>\n",
       "    .dataframe tbody tr th:only-of-type {\n",
       "        vertical-align: middle;\n",
       "    }\n",
       "\n",
       "    .dataframe tbody tr th {\n",
       "        vertical-align: top;\n",
       "    }\n",
       "\n",
       "    .dataframe thead th {\n",
       "        text-align: right;\n",
       "    }\n",
       "</style>\n",
       "<table border=\"1\" class=\"dataframe\">\n",
       "  <thead>\n",
       "    <tr style=\"text-align: right;\">\n",
       "      <th></th>\n",
       "      <th>Year</th>\n",
       "      <th>Sex</th>\n",
       "    </tr>\n",
       "  </thead>\n",
       "  <tbody>\n",
       "    <tr>\n",
       "      <th>0</th>\n",
       "      <td>1900</td>\n",
       "      <td>33</td>\n",
       "    </tr>\n",
       "    <tr>\n",
       "      <th>1</th>\n",
       "      <td>1904</td>\n",
       "      <td>16</td>\n",
       "    </tr>\n",
       "    <tr>\n",
       "      <th>2</th>\n",
       "      <td>1906</td>\n",
       "      <td>11</td>\n",
       "    </tr>\n",
       "    <tr>\n",
       "      <th>3</th>\n",
       "      <td>1908</td>\n",
       "      <td>47</td>\n",
       "    </tr>\n",
       "    <tr>\n",
       "      <th>4</th>\n",
       "      <td>1912</td>\n",
       "      <td>87</td>\n",
       "    </tr>\n",
       "  </tbody>\n",
       "</table>\n",
       "</div>"
      ],
      "text/plain": [
       "   Year  Sex\n",
       "0  1900   33\n",
       "1  1904   16\n",
       "2  1906   11\n",
       "3  1908   47\n",
       "4  1912   87"
      ]
     },
     "execution_count": 59,
     "metadata": {},
     "output_type": "execute_result"
    }
   ],
   "source": [
    "female_participants = athlete_merged[(athlete_merged.Sex=='F')& (athlete_merged.Season=='Summer')][['Sex', 'Year']]\n",
    "female_participants = female_participants.groupby('Year').count().reset_index()\n",
    "female_participants.head()"
   ]
  },
  {
   "cell_type": "code",
   "execution_count": 60,
   "metadata": {
    "id": "IYSwJI0Xzrsl"
   },
   "outputs": [],
   "source": [
    "womenOlympics = athlete_merged[(athlete_merged.Sex == 'F') & (athlete_merged.Season == 'Summer')]"
   ]
  },
  {
   "cell_type": "code",
   "execution_count": 61,
   "metadata": {
    "id": "qaLCk0Bxzunn"
   },
   "outputs": [
    {
     "data": {
      "text/plain": [
       "Text(0.5, 1.0, 'Women Participation')"
      ]
     },
     "execution_count": 61,
     "metadata": {},
     "output_type": "execute_result"
    },
    {
     "data": {
      "image/png": "[encoded data removed]",
      "text/plain": [
       "<Figure size 1440x720 with 1 Axes>"
      ]
     },
     "metadata": {},
     "output_type": "display_data"
    }
   ],
   "source": [
    "sns.set(style=\"darkgrid\")\n",
    "plt.figure(figsize=(20,10))\n",
    "sns.countplot(x='Year', data=womenOlympics, palette=\"Spectral\")\n",
    "plt.title('Women Participation')"
   ]
  },
  {
   "cell_type": "code",
   "execution_count": 62,
   "metadata": {
    "id": "XKwDxb0EzwkG"
   },
   "outputs": [
    {
     "data": {
      "text/plain": [
       "Text(0.5, 1.0, 'Plot of Female Athletes over time')"
      ]
     },
     "execution_count": 62,
     "metadata": {},
     "output_type": "execute_result"
    },
    {
     "data": {
      "image/png": "[encoded data removed]",
      "text/plain": [
       "<Figure size 1440x720 with 1 Axes>"
      ]
     },
     "metadata": {},
     "output_type": "display_data"
    }
   ],
   "source": [
    "part = womenOlympics.groupby('Year')['Sex'].value_counts()\n",
    "plt.figure(figsize=(20,10))\n",
    "part.loc[:,'F'].plot()\n",
    "plt.title('Plot of Female Athletes over time')"
   ]
  },
  {
   "cell_type": "code",
   "execution_count": 63,
   "metadata": {
    "id": "NrX5lwtIz0mD"
   },
   "outputs": [
    {
     "data": {
      "text/html": [
       "<div>\n",
       "<style scoped>\n",
       "    .dataframe tbody tr th:only-of-type {\n",
       "        vertical-align: middle;\n",
       "    }\n",
       "\n",
       "    .dataframe tbody tr th {\n",
       "        vertical-align: top;\n",
       "    }\n",
       "\n",
       "    .dataframe thead th {\n",
       "        text-align: right;\n",
       "    }\n",
       "</style>\n",
       "<table border=\"1\" class=\"dataframe\">\n",
       "  <thead>\n",
       "    <tr style=\"text-align: right;\">\n",
       "      <th></th>\n",
       "      <th>ID</th>\n",
       "      <th>Name</th>\n",
       "      <th>Sex</th>\n",
       "      <th>Age</th>\n",
       "      <th>Height</th>\n",
       "      <th>Weight</th>\n",
       "      <th>Team</th>\n",
       "      <th>NOC</th>\n",
       "      <th>Games</th>\n",
       "      <th>Year</th>\n",
       "      <th>Season</th>\n",
       "      <th>City</th>\n",
       "      <th>Sport</th>\n",
       "      <th>Event</th>\n",
       "      <th>Medal</th>\n",
       "      <th>Region</th>\n",
       "      <th>Notes</th>\n",
       "      <th>Bronze</th>\n",
       "      <th>Gold</th>\n",
       "      <th>Silver</th>\n",
       "    </tr>\n",
       "  </thead>\n",
       "  <tbody>\n",
       "    <tr>\n",
       "      <th>3</th>\n",
       "      <td>4</td>\n",
       "      <td>Edgar Lindenau Aabye</td>\n",
       "      <td>M</td>\n",
       "      <td>34.0</td>\n",
       "      <td>175.338953</td>\n",
       "      <td>70.0</td>\n",
       "      <td>Denmark/Sweden</td>\n",
       "      <td>DEN</td>\n",
       "      <td>1900 Summer</td>\n",
       "      <td>1900</td>\n",
       "      <td>Summer</td>\n",
       "      <td>Paris</td>\n",
       "      <td>Tug-Of-War</td>\n",
       "      <td>Tug-Of-War Men's Tug-Of-War</td>\n",
       "      <td>Gold</td>\n",
       "      <td>Denmark</td>\n",
       "      <td>NaN</td>\n",
       "      <td>0</td>\n",
       "      <td>1</td>\n",
       "      <td>0</td>\n",
       "    </tr>\n",
       "    <tr>\n",
       "      <th>42</th>\n",
       "      <td>17</td>\n",
       "      <td>Paavo Johannes Aaltonen</td>\n",
       "      <td>M</td>\n",
       "      <td>28.0</td>\n",
       "      <td>175.000000</td>\n",
       "      <td>64.0</td>\n",
       "      <td>Finland</td>\n",
       "      <td>FIN</td>\n",
       "      <td>1948 Summer</td>\n",
       "      <td>1948</td>\n",
       "      <td>Summer</td>\n",
       "      <td>London</td>\n",
       "      <td>Gymnastics</td>\n",
       "      <td>Gymnastics Men's Team All-Around</td>\n",
       "      <td>Gold</td>\n",
       "      <td>Finland</td>\n",
       "      <td>NaN</td>\n",
       "      <td>0</td>\n",
       "      <td>1</td>\n",
       "      <td>0</td>\n",
       "    </tr>\n",
       "    <tr>\n",
       "      <th>44</th>\n",
       "      <td>17</td>\n",
       "      <td>Paavo Johannes Aaltonen</td>\n",
       "      <td>M</td>\n",
       "      <td>28.0</td>\n",
       "      <td>175.000000</td>\n",
       "      <td>64.0</td>\n",
       "      <td>Finland</td>\n",
       "      <td>FIN</td>\n",
       "      <td>1948 Summer</td>\n",
       "      <td>1948</td>\n",
       "      <td>Summer</td>\n",
       "      <td>London</td>\n",
       "      <td>Gymnastics</td>\n",
       "      <td>Gymnastics Men's Horse Vault</td>\n",
       "      <td>Gold</td>\n",
       "      <td>Finland</td>\n",
       "      <td>NaN</td>\n",
       "      <td>0</td>\n",
       "      <td>1</td>\n",
       "      <td>0</td>\n",
       "    </tr>\n",
       "    <tr>\n",
       "      <th>48</th>\n",
       "      <td>17</td>\n",
       "      <td>Paavo Johannes Aaltonen</td>\n",
       "      <td>M</td>\n",
       "      <td>28.0</td>\n",
       "      <td>175.000000</td>\n",
       "      <td>64.0</td>\n",
       "      <td>Finland</td>\n",
       "      <td>FIN</td>\n",
       "      <td>1948 Summer</td>\n",
       "      <td>1948</td>\n",
       "      <td>Summer</td>\n",
       "      <td>London</td>\n",
       "      <td>Gymnastics</td>\n",
       "      <td>Gymnastics Men's Pommelled Horse</td>\n",
       "      <td>Gold</td>\n",
       "      <td>Finland</td>\n",
       "      <td>NaN</td>\n",
       "      <td>0</td>\n",
       "      <td>1</td>\n",
       "      <td>0</td>\n",
       "    </tr>\n",
       "    <tr>\n",
       "      <th>60</th>\n",
       "      <td>20</td>\n",
       "      <td>Kjetil Andr Aamodt</td>\n",
       "      <td>M</td>\n",
       "      <td>20.0</td>\n",
       "      <td>176.000000</td>\n",
       "      <td>85.0</td>\n",
       "      <td>Norway</td>\n",
       "      <td>NOR</td>\n",
       "      <td>1992 Winter</td>\n",
       "      <td>1992</td>\n",
       "      <td>Winter</td>\n",
       "      <td>Albertville</td>\n",
       "      <td>Alpine Skiing</td>\n",
       "      <td>Alpine Skiing Men's Super G</td>\n",
       "      <td>Gold</td>\n",
       "      <td>Norway</td>\n",
       "      <td>NaN</td>\n",
       "      <td>0</td>\n",
       "      <td>1</td>\n",
       "      <td>0</td>\n",
       "    </tr>\n",
       "    <tr>\n",
       "      <th>...</th>\n",
       "      <td>...</td>\n",
       "      <td>...</td>\n",
       "      <td>...</td>\n",
       "      <td>...</td>\n",
       "      <td>...</td>\n",
       "      <td>...</td>\n",
       "      <td>...</td>\n",
       "      <td>...</td>\n",
       "      <td>...</td>\n",
       "      <td>...</td>\n",
       "      <td>...</td>\n",
       "      <td>...</td>\n",
       "      <td>...</td>\n",
       "      <td>...</td>\n",
       "      <td>...</td>\n",
       "      <td>...</td>\n",
       "      <td>...</td>\n",
       "      <td>...</td>\n",
       "      <td>...</td>\n",
       "      <td>...</td>\n",
       "    </tr>\n",
       "    <tr>\n",
       "      <th>269596</th>\n",
       "      <td>135503</td>\n",
       "      <td>Zurab Zviadauri</td>\n",
       "      <td>M</td>\n",
       "      <td>23.0</td>\n",
       "      <td>182.000000</td>\n",
       "      <td>90.0</td>\n",
       "      <td>Georgia</td>\n",
       "      <td>GEO</td>\n",
       "      <td>2004 Summer</td>\n",
       "      <td>2004</td>\n",
       "      <td>Summer</td>\n",
       "      <td>Athina</td>\n",
       "      <td>Judo</td>\n",
       "      <td>Judo Men's Middleweight</td>\n",
       "      <td>Gold</td>\n",
       "      <td>Georgia</td>\n",
       "      <td>NaN</td>\n",
       "      <td>0</td>\n",
       "      <td>1</td>\n",
       "      <td>0</td>\n",
       "    </tr>\n",
       "    <tr>\n",
       "      <th>269624</th>\n",
       "      <td>135520</td>\n",
       "      <td>Julia Zwehl</td>\n",
       "      <td>F</td>\n",
       "      <td>28.0</td>\n",
       "      <td>167.000000</td>\n",
       "      <td>60.0</td>\n",
       "      <td>Germany</td>\n",
       "      <td>GER</td>\n",
       "      <td>2004 Summer</td>\n",
       "      <td>2004</td>\n",
       "      <td>Summer</td>\n",
       "      <td>Athina</td>\n",
       "      <td>Hockey</td>\n",
       "      <td>Hockey Women's Hockey</td>\n",
       "      <td>Gold</td>\n",
       "      <td>Germany</td>\n",
       "      <td>NaN</td>\n",
       "      <td>0</td>\n",
       "      <td>1</td>\n",
       "      <td>0</td>\n",
       "    </tr>\n",
       "    <tr>\n",
       "      <th>269631</th>\n",
       "      <td>135523</td>\n",
       "      <td>Ronald Ferdinand \"Ron\" Zwerver</td>\n",
       "      <td>M</td>\n",
       "      <td>29.0</td>\n",
       "      <td>200.000000</td>\n",
       "      <td>93.0</td>\n",
       "      <td>Netherlands</td>\n",
       "      <td>NED</td>\n",
       "      <td>1996 Summer</td>\n",
       "      <td>1996</td>\n",
       "      <td>Summer</td>\n",
       "      <td>Atlanta</td>\n",
       "      <td>Volleyball</td>\n",
       "      <td>Volleyball Men's Volleyball</td>\n",
       "      <td>Gold</td>\n",
       "      <td>Netherlands</td>\n",
       "      <td>NaN</td>\n",
       "      <td>0</td>\n",
       "      <td>1</td>\n",
       "      <td>0</td>\n",
       "    </tr>\n",
       "    <tr>\n",
       "      <th>269664</th>\n",
       "      <td>135545</td>\n",
       "      <td>Henk Jan Zwolle</td>\n",
       "      <td>M</td>\n",
       "      <td>31.0</td>\n",
       "      <td>197.000000</td>\n",
       "      <td>93.0</td>\n",
       "      <td>Netherlands</td>\n",
       "      <td>NED</td>\n",
       "      <td>1996 Summer</td>\n",
       "      <td>1996</td>\n",
       "      <td>Summer</td>\n",
       "      <td>Atlanta</td>\n",
       "      <td>Rowing</td>\n",
       "      <td>Rowing Men's Coxed Eights</td>\n",
       "      <td>Gold</td>\n",
       "      <td>Netherlands</td>\n",
       "      <td>NaN</td>\n",
       "      <td>0</td>\n",
       "      <td>1</td>\n",
       "      <td>0</td>\n",
       "    </tr>\n",
       "    <tr>\n",
       "      <th>269691</th>\n",
       "      <td>135553</td>\n",
       "      <td>Galina Ivanovna Zybina (-Fyodorova)</td>\n",
       "      <td>F</td>\n",
       "      <td>21.0</td>\n",
       "      <td>168.000000</td>\n",
       "      <td>80.0</td>\n",
       "      <td>Soviet Union</td>\n",
       "      <td>URS</td>\n",
       "      <td>1952 Summer</td>\n",
       "      <td>1952</td>\n",
       "      <td>Summer</td>\n",
       "      <td>Helsinki</td>\n",
       "      <td>Athletics</td>\n",
       "      <td>Athletics Women's Shot Put</td>\n",
       "      <td>Gold</td>\n",
       "      <td>Russia</td>\n",
       "      <td>NaN</td>\n",
       "      <td>0</td>\n",
       "      <td>1</td>\n",
       "      <td>0</td>\n",
       "    </tr>\n",
       "  </tbody>\n",
       "</table>\n",
       "<p>13369 rows × 20 columns</p>\n",
       "</div>"
      ],
      "text/plain": [
       "            ID                                 Name Sex   Age      Height  \\\n",
       "3            4                 Edgar Lindenau Aabye   M  34.0  175.338953   \n",
       "42          17              Paavo Johannes Aaltonen   M  28.0  175.000000   \n",
       "44          17              Paavo Johannes Aaltonen   M  28.0  175.000000   \n",
       "48          17              Paavo Johannes Aaltonen   M  28.0  175.000000   \n",
       "60          20                   Kjetil Andr Aamodt   M  20.0  176.000000   \n",
       "...        ...                                  ...  ..   ...         ...   \n",
       "269596  135503                      Zurab Zviadauri   M  23.0  182.000000   \n",
       "269624  135520                          Julia Zwehl   F  28.0  167.000000   \n",
       "269631  135523       Ronald Ferdinand \"Ron\" Zwerver   M  29.0  200.000000   \n",
       "269664  135545                      Henk Jan Zwolle   M  31.0  197.000000   \n",
       "269691  135553  Galina Ivanovna Zybina (-Fyodorova)   F  21.0  168.000000   \n",
       "\n",
       "        Weight            Team  NOC        Games  Year  Season         City  \\\n",
       "3         70.0  Denmark/Sweden  DEN  1900 Summer  1900  Summer        Paris   \n",
       "42        64.0         Finland  FIN  1948 Summer  1948  Summer       London   \n",
       "44        64.0         Finland  FIN  1948 Summer  1948  Summer       London   \n",
       "48        64.0         Finland  FIN  1948 Summer  1948  Summer       London   \n",
       "60        85.0          Norway  NOR  1992 Winter  1992  Winter  Albertville   \n",
       "...        ...             ...  ...          ...   ...     ...          ...   \n",
       "269596    90.0         Georgia  GEO  2004 Summer  2004  Summer       Athina   \n",
       "269624    60.0         Germany  GER  2004 Summer  2004  Summer       Athina   \n",
       "269631    93.0     Netherlands  NED  1996 Summer  1996  Summer      Atlanta   \n",
       "269664    93.0     Netherlands  NED  1996 Summer  1996  Summer      Atlanta   \n",
       "269691    80.0    Soviet Union  URS  1952 Summer  1952  Summer     Helsinki   \n",
       "\n",
       "                Sport                             Event Medal       Region  \\\n",
       "3          Tug-Of-War       Tug-Of-War Men's Tug-Of-War  Gold      Denmark   \n",
       "42         Gymnastics  Gymnastics Men's Team All-Around  Gold      Finland   \n",
       "44         Gymnastics      Gymnastics Men's Horse Vault  Gold      Finland   \n",
       "48         Gymnastics  Gymnastics Men's Pommelled Horse  Gold      Finland   \n",
       "60      Alpine Skiing       Alpine Skiing Men's Super G  Gold       Norway   \n",
       "...               ...                               ...   ...          ...   \n",
       "269596           Judo           Judo Men's Middleweight  Gold      Georgia   \n",
       "269624         Hockey             Hockey Women's Hockey  Gold      Germany   \n",
       "269631     Volleyball       Volleyball Men's Volleyball  Gold  Netherlands   \n",
       "269664         Rowing         Rowing Men's Coxed Eights  Gold  Netherlands   \n",
       "269691      Athletics        Athletics Women's Shot Put  Gold       Russia   \n",
       "\n",
       "       Notes  Bronze  Gold  Silver  \n",
       "3        NaN       0     1       0  \n",
       "42       NaN       0     1       0  \n",
       "44       NaN       0     1       0  \n",
       "48       NaN       0     1       0  \n",
       "60       NaN       0     1       0  \n",
       "...      ...     ...   ...     ...  \n",
       "269596   NaN       0     1       0  \n",
       "269624   NaN       0     1       0  \n",
       "269631   NaN       0     1       0  \n",
       "269664   NaN       0     1       0  \n",
       "269691   NaN       0     1       0  \n",
       "\n",
       "[13369 rows x 20 columns]"
      ]
     },
     "execution_count": 63,
     "metadata": {},
     "output_type": "execute_result"
    }
   ],
   "source": [
    "goldMedals = athlete_merged[(athlete_merged.Medal == 'Gold')]\n",
    "goldMedals"
   ]
  },
  {
   "cell_type": "code",
   "execution_count": 64,
   "metadata": {
    "id": "wYKIOwCWz4W0"
   },
   "outputs": [
    {
     "data": {
      "text/plain": [
       "Text(0.5, 1.0, 'Gold Medals per Country')"
      ]
     },
     "execution_count": 64,
     "metadata": {},
     "output_type": "execute_result"
    },
    {
     "data": {
      "image/png": "[encoded data removed]",
      "text/plain": [
       "<Figure size 360x360 with 1 Axes>"
      ]
     },
     "metadata": {},
     "output_type": "display_data"
    }
   ],
   "source": [
    "totalGoldMedals = goldMedals.Region.value_counts().reset_index(name='Medal').head(6)\n",
    "plot = sns.catplot(x=\"index\", y = \"Medal\", data = totalGoldMedals, height =5, kind='bar', palette=\"Set3\")\n",
    "plot.despine(left = True)\n",
    "plot.set_xlabels(\"Top 5 Countries\")\n",
    "plot.set_ylabels(\"Number of Medals\")\n",
    "plt.title('Gold Medals per Country')"
   ]
  },
  {
   "cell_type": "code",
   "execution_count": 65,
   "metadata": {
    "id": "n3hDaFCzz7Ey"
   },
   "outputs": [],
   "source": [
    "#This columns shows no significance and contains large number of null values\n",
    "\n",
    "del athlete_merged['Notes']"
   ]
  },
  {
   "cell_type": "code",
   "execution_count": 66,
   "metadata": {},
   "outputs": [
    {
     "data": {
      "text/plain": [
       "False    269361\n",
       "True        370\n",
       "Name: Region, dtype: int64"
      ]
     },
     "execution_count": 66,
     "metadata": {},
     "output_type": "execute_result"
    }
   ],
   "source": [
    "athlete_merged['Region'].isna().value_counts()"
   ]
  },
  {
   "cell_type": "code",
   "execution_count": 67,
   "metadata": {},
   "outputs": [
    {
     "data": {
      "text/html": [
       "<div>\n",
       "<style scoped>\n",
       "    .dataframe tbody tr th:only-of-type {\n",
       "        vertical-align: middle;\n",
       "    }\n",
       "\n",
       "    .dataframe tbody tr th {\n",
       "        vertical-align: top;\n",
       "    }\n",
       "\n",
       "    .dataframe thead th {\n",
       "        text-align: right;\n",
       "    }\n",
       "</style>\n",
       "<table border=\"1\" class=\"dataframe\">\n",
       "  <thead>\n",
       "    <tr style=\"text-align: right;\">\n",
       "      <th></th>\n",
       "      <th>Sex</th>\n",
       "      <th>Age</th>\n",
       "      <th>Height</th>\n",
       "      <th>Weight</th>\n",
       "      <th>Team</th>\n",
       "      <th>NOC</th>\n",
       "      <th>Year</th>\n",
       "      <th>Season</th>\n",
       "      <th>City</th>\n",
       "      <th>Event</th>\n",
       "      <th>Medal</th>\n",
       "      <th>Bronze</th>\n",
       "      <th>Gold</th>\n",
       "      <th>Silver</th>\n",
       "    </tr>\n",
       "  </thead>\n",
       "  <tbody>\n",
       "    <tr>\n",
       "      <th>0</th>\n",
       "      <td>M</td>\n",
       "      <td>24.0</td>\n",
       "      <td>180.000000</td>\n",
       "      <td>80.0</td>\n",
       "      <td>China</td>\n",
       "      <td>CHN</td>\n",
       "      <td>1992</td>\n",
       "      <td>Summer</td>\n",
       "      <td>Barcelona</td>\n",
       "      <td>Basketball Men's Basketball</td>\n",
       "      <td>NaN</td>\n",
       "      <td>0</td>\n",
       "      <td>0</td>\n",
       "      <td>0</td>\n",
       "    </tr>\n",
       "    <tr>\n",
       "      <th>1</th>\n",
       "      <td>M</td>\n",
       "      <td>23.0</td>\n",
       "      <td>170.000000</td>\n",
       "      <td>60.0</td>\n",
       "      <td>China</td>\n",
       "      <td>CHN</td>\n",
       "      <td>2012</td>\n",
       "      <td>Summer</td>\n",
       "      <td>London</td>\n",
       "      <td>Judo Men's Extra-Lightweight</td>\n",
       "      <td>NaN</td>\n",
       "      <td>0</td>\n",
       "      <td>0</td>\n",
       "      <td>0</td>\n",
       "    </tr>\n",
       "    <tr>\n",
       "      <th>2</th>\n",
       "      <td>M</td>\n",
       "      <td>24.0</td>\n",
       "      <td>175.338953</td>\n",
       "      <td>70.0</td>\n",
       "      <td>Denmark</td>\n",
       "      <td>DEN</td>\n",
       "      <td>1920</td>\n",
       "      <td>Summer</td>\n",
       "      <td>Antwerpen</td>\n",
       "      <td>Football Men's Football</td>\n",
       "      <td>NaN</td>\n",
       "      <td>0</td>\n",
       "      <td>0</td>\n",
       "      <td>0</td>\n",
       "    </tr>\n",
       "    <tr>\n",
       "      <th>3</th>\n",
       "      <td>M</td>\n",
       "      <td>34.0</td>\n",
       "      <td>175.338953</td>\n",
       "      <td>70.0</td>\n",
       "      <td>Denmark/Sweden</td>\n",
       "      <td>DEN</td>\n",
       "      <td>1900</td>\n",
       "      <td>Summer</td>\n",
       "      <td>Paris</td>\n",
       "      <td>Tug-Of-War Men's Tug-Of-War</td>\n",
       "      <td>Gold</td>\n",
       "      <td>0</td>\n",
       "      <td>1</td>\n",
       "      <td>0</td>\n",
       "    </tr>\n",
       "    <tr>\n",
       "      <th>4</th>\n",
       "      <td>F</td>\n",
       "      <td>21.0</td>\n",
       "      <td>185.000000</td>\n",
       "      <td>82.0</td>\n",
       "      <td>Netherlands</td>\n",
       "      <td>NED</td>\n",
       "      <td>1988</td>\n",
       "      <td>Winter</td>\n",
       "      <td>Calgary</td>\n",
       "      <td>Speed Skating Women's 500 metres</td>\n",
       "      <td>NaN</td>\n",
       "      <td>0</td>\n",
       "      <td>0</td>\n",
       "      <td>0</td>\n",
       "    </tr>\n",
       "  </tbody>\n",
       "</table>\n",
       "</div>"
      ],
      "text/plain": [
       "  Sex   Age      Height  Weight            Team  NOC  Year  Season       City  \\\n",
       "0   M  24.0  180.000000    80.0           China  CHN  1992  Summer  Barcelona   \n",
       "1   M  23.0  170.000000    60.0           China  CHN  2012  Summer     London   \n",
       "2   M  24.0  175.338953    70.0         Denmark  DEN  1920  Summer  Antwerpen   \n",
       "3   M  34.0  175.338953    70.0  Denmark/Sweden  DEN  1900  Summer      Paris   \n",
       "4   F  21.0  185.000000    82.0     Netherlands  NED  1988  Winter    Calgary   \n",
       "\n",
       "                              Event Medal  Bronze  Gold  Silver  \n",
       "0       Basketball Men's Basketball   NaN       0     0       0  \n",
       "1      Judo Men's Extra-Lightweight   NaN       0     0       0  \n",
       "2           Football Men's Football   NaN       0     0       0  \n",
       "3       Tug-Of-War Men's Tug-Of-War  Gold       0     1       0  \n",
       "4  Speed Skating Women's 500 metres   NaN       0     0       0  "
      ]
     },
     "execution_count": 67,
     "metadata": {},
     "output_type": "execute_result"
    }
   ],
   "source": [
    "#ID and Name are the attributes which doesn't contribute a lot for prediction so dropped those columns\n",
    "#Data present Game,Sport and Region and found in other columns so we can drop them.\n",
    "athlete_merged.drop([\"ID\",\"Name\",\"Games\",\"Sport\",\"Region\"],axis=1,inplace=True)\n",
    "athlete_merged.head()"
   ]
  },
  {
   "cell_type": "code",
   "execution_count": 69,
   "metadata": {},
   "outputs": [],
   "source": [
    "# Filling Nulls with NO as they represent no medal and replacing different medals with 1.  \n",
    "athlete_merged['Medal'].fillna(0,inplace=True)\n",
    "athlete_merged['Medal'].replace(\"Gold\",1,inplace=True)\n",
    "athlete_merged['Medal'].replace(\"Bronze\",2,inplace=True)\n",
    "athlete_merged['Medal'].replace(\"Silver\",3,inplace=True)"
   ]
  },
  {
   "cell_type": "code",
   "execution_count": 70,
   "metadata": {},
   "outputs": [
    {
     "data": {
      "text/plain": [
       "0    229959\n",
       "1     13369\n",
       "2     13295\n",
       "3     13108\n",
       "Name: Medal, dtype: int64"
      ]
     },
     "execution_count": 70,
     "metadata": {},
     "output_type": "execute_result"
    }
   ],
   "source": [
    "athlete_merged['Medal'].value_counts()"
   ]
  },
  {
   "cell_type": "code",
   "execution_count": 71,
   "metadata": {},
   "outputs": [
    {
     "data": {
      "text/html": [
       "<div>\n",
       "<style scoped>\n",
       "    .dataframe tbody tr th:only-of-type {\n",
       "        vertical-align: middle;\n",
       "    }\n",
       "\n",
       "    .dataframe tbody tr th {\n",
       "        vertical-align: top;\n",
       "    }\n",
       "\n",
       "    .dataframe thead th {\n",
       "        text-align: right;\n",
       "    }\n",
       "</style>\n",
       "<table border=\"1\" class=\"dataframe\">\n",
       "  <thead>\n",
       "    <tr style=\"text-align: right;\">\n",
       "      <th></th>\n",
       "      <th>Sex</th>\n",
       "      <th>Age</th>\n",
       "      <th>Height</th>\n",
       "      <th>Weight</th>\n",
       "      <th>Team</th>\n",
       "      <th>NOC</th>\n",
       "      <th>Year</th>\n",
       "      <th>Season</th>\n",
       "      <th>City</th>\n",
       "      <th>Event</th>\n",
       "      <th>Medal</th>\n",
       "      <th>Bronze</th>\n",
       "      <th>Gold</th>\n",
       "      <th>Silver</th>\n",
       "    </tr>\n",
       "  </thead>\n",
       "  <tbody>\n",
       "    <tr>\n",
       "      <th>0</th>\n",
       "      <td>M</td>\n",
       "      <td>24.0</td>\n",
       "      <td>180.000000</td>\n",
       "      <td>80.0</td>\n",
       "      <td>China</td>\n",
       "      <td>CHN</td>\n",
       "      <td>1992</td>\n",
       "      <td>Summer</td>\n",
       "      <td>Barcelona</td>\n",
       "      <td>Basketball Men's Basketball</td>\n",
       "      <td>0</td>\n",
       "      <td>0</td>\n",
       "      <td>0</td>\n",
       "      <td>0</td>\n",
       "    </tr>\n",
       "    <tr>\n",
       "      <th>1</th>\n",
       "      <td>M</td>\n",
       "      <td>23.0</td>\n",
       "      <td>170.000000</td>\n",
       "      <td>60.0</td>\n",
       "      <td>China</td>\n",
       "      <td>CHN</td>\n",
       "      <td>2012</td>\n",
       "      <td>Summer</td>\n",
       "      <td>London</td>\n",
       "      <td>Judo Men's Extra-Lightweight</td>\n",
       "      <td>0</td>\n",
       "      <td>0</td>\n",
       "      <td>0</td>\n",
       "      <td>0</td>\n",
       "    </tr>\n",
       "    <tr>\n",
       "      <th>2</th>\n",
       "      <td>M</td>\n",
       "      <td>24.0</td>\n",
       "      <td>175.338953</td>\n",
       "      <td>70.0</td>\n",
       "      <td>Denmark</td>\n",
       "      <td>DEN</td>\n",
       "      <td>1920</td>\n",
       "      <td>Summer</td>\n",
       "      <td>Antwerpen</td>\n",
       "      <td>Football Men's Football</td>\n",
       "      <td>0</td>\n",
       "      <td>0</td>\n",
       "      <td>0</td>\n",
       "      <td>0</td>\n",
       "    </tr>\n",
       "    <tr>\n",
       "      <th>3</th>\n",
       "      <td>M</td>\n",
       "      <td>34.0</td>\n",
       "      <td>175.338953</td>\n",
       "      <td>70.0</td>\n",
       "      <td>Denmark/Sweden</td>\n",
       "      <td>DEN</td>\n",
       "      <td>1900</td>\n",
       "      <td>Summer</td>\n",
       "      <td>Paris</td>\n",
       "      <td>Tug-Of-War Men's Tug-Of-War</td>\n",
       "      <td>1</td>\n",
       "      <td>0</td>\n",
       "      <td>1</td>\n",
       "      <td>0</td>\n",
       "    </tr>\n",
       "    <tr>\n",
       "      <th>4</th>\n",
       "      <td>F</td>\n",
       "      <td>21.0</td>\n",
       "      <td>185.000000</td>\n",
       "      <td>82.0</td>\n",
       "      <td>Netherlands</td>\n",
       "      <td>NED</td>\n",
       "      <td>1988</td>\n",
       "      <td>Winter</td>\n",
       "      <td>Calgary</td>\n",
       "      <td>Speed Skating Women's 500 metres</td>\n",
       "      <td>0</td>\n",
       "      <td>0</td>\n",
       "      <td>0</td>\n",
       "      <td>0</td>\n",
       "    </tr>\n",
       "  </tbody>\n",
       "</table>\n",
       "</div>"
      ],
      "text/plain": [
       "  Sex   Age      Height  Weight            Team  NOC  Year  Season       City  \\\n",
       "0   M  24.0  180.000000    80.0           China  CHN  1992  Summer  Barcelona   \n",
       "1   M  23.0  170.000000    60.0           China  CHN  2012  Summer     London   \n",
       "2   M  24.0  175.338953    70.0         Denmark  DEN  1920  Summer  Antwerpen   \n",
       "3   M  34.0  175.338953    70.0  Denmark/Sweden  DEN  1900  Summer      Paris   \n",
       "4   F  21.0  185.000000    82.0     Netherlands  NED  1988  Winter    Calgary   \n",
       "\n",
       "                              Event  Medal  Bronze  Gold  Silver  \n",
       "0       Basketball Men's Basketball      0       0     0       0  \n",
       "1      Judo Men's Extra-Lightweight      0       0     0       0  \n",
       "2           Football Men's Football      0       0     0       0  \n",
       "3       Tug-Of-War Men's Tug-Of-War      1       0     1       0  \n",
       "4  Speed Skating Women's 500 metres      0       0     0       0  "
      ]
     },
     "execution_count": 71,
     "metadata": {},
     "output_type": "execute_result"
    }
   ],
   "source": [
    "athlete_merged.head()"
   ]
  },
  {
   "cell_type": "code",
   "execution_count": 74,
   "metadata": {},
   "outputs": [],
   "source": [
    "#Importing Cleaned Data into a file\n",
    "athlete_merged.to_csv('Cleaned_Olympic_Data.csv')"
   ]
  },
  {
   "cell_type": "code",
   "execution_count": 76,
   "metadata": {},
   "outputs": [],
   "source": [
    "#Encoding Sex and Season Columns using Label Binarizer"
   ]
  },
  {
   "cell_type": "code",
   "execution_count": 77,
   "metadata": {},
   "outputs": [],
   "source": [
    "from sklearn import preprocessing\n",
    "lb = preprocessing.LabelBinarizer()"
   ]
  },
  {
   "cell_type": "code",
   "execution_count": 78,
   "metadata": {},
   "outputs": [],
   "source": [
    "athlete_merged[\"Sex\"]=lb.fit_transform(athlete_merged[\"Sex\"])\n",
    "athlete_merged[\"Season\"]=lb.fit_transform(athlete_merged[\"Season\"])"
   ]
  },
  {
   "cell_type": "code",
   "execution_count": 79,
   "metadata": {},
   "outputs": [
    {
     "data": {
      "text/html": [
       "<div>\n",
       "<style scoped>\n",
       "    .dataframe tbody tr th:only-of-type {\n",
       "        vertical-align: middle;\n",
       "    }\n",
       "\n",
       "    .dataframe tbody tr th {\n",
       "        vertical-align: top;\n",
       "    }\n",
       "\n",
       "    .dataframe thead th {\n",
       "        text-align: right;\n",
       "    }\n",
       "</style>\n",
       "<table border=\"1\" class=\"dataframe\">\n",
       "  <thead>\n",
       "    <tr style=\"text-align: right;\">\n",
       "      <th></th>\n",
       "      <th>Sex</th>\n",
       "      <th>Age</th>\n",
       "      <th>Height</th>\n",
       "      <th>Weight</th>\n",
       "      <th>Team</th>\n",
       "      <th>NOC</th>\n",
       "      <th>Year</th>\n",
       "      <th>Season</th>\n",
       "      <th>City</th>\n",
       "      <th>Event</th>\n",
       "      <th>Medal</th>\n",
       "      <th>Bronze</th>\n",
       "      <th>Gold</th>\n",
       "      <th>Silver</th>\n",
       "    </tr>\n",
       "  </thead>\n",
       "  <tbody>\n",
       "    <tr>\n",
       "      <th>0</th>\n",
       "      <td>1</td>\n",
       "      <td>24.0</td>\n",
       "      <td>180.000000</td>\n",
       "      <td>80.0</td>\n",
       "      <td>China</td>\n",
       "      <td>CHN</td>\n",
       "      <td>1992</td>\n",
       "      <td>0</td>\n",
       "      <td>Barcelona</td>\n",
       "      <td>Basketball Men's Basketball</td>\n",
       "      <td>0</td>\n",
       "      <td>0</td>\n",
       "      <td>0</td>\n",
       "      <td>0</td>\n",
       "    </tr>\n",
       "    <tr>\n",
       "      <th>1</th>\n",
       "      <td>1</td>\n",
       "      <td>23.0</td>\n",
       "      <td>170.000000</td>\n",
       "      <td>60.0</td>\n",
       "      <td>China</td>\n",
       "      <td>CHN</td>\n",
       "      <td>2012</td>\n",
       "      <td>0</td>\n",
       "      <td>London</td>\n",
       "      <td>Judo Men's Extra-Lightweight</td>\n",
       "      <td>0</td>\n",
       "      <td>0</td>\n",
       "      <td>0</td>\n",
       "      <td>0</td>\n",
       "    </tr>\n",
       "    <tr>\n",
       "      <th>2</th>\n",
       "      <td>1</td>\n",
       "      <td>24.0</td>\n",
       "      <td>175.338953</td>\n",
       "      <td>70.0</td>\n",
       "      <td>Denmark</td>\n",
       "      <td>DEN</td>\n",
       "      <td>1920</td>\n",
       "      <td>0</td>\n",
       "      <td>Antwerpen</td>\n",
       "      <td>Football Men's Football</td>\n",
       "      <td>0</td>\n",
       "      <td>0</td>\n",
       "      <td>0</td>\n",
       "      <td>0</td>\n",
       "    </tr>\n",
       "    <tr>\n",
       "      <th>3</th>\n",
       "      <td>1</td>\n",
       "      <td>34.0</td>\n",
       "      <td>175.338953</td>\n",
       "      <td>70.0</td>\n",
       "      <td>Denmark/Sweden</td>\n",
       "      <td>DEN</td>\n",
       "      <td>1900</td>\n",
       "      <td>0</td>\n",
       "      <td>Paris</td>\n",
       "      <td>Tug-Of-War Men's Tug-Of-War</td>\n",
       "      <td>1</td>\n",
       "      <td>0</td>\n",
       "      <td>1</td>\n",
       "      <td>0</td>\n",
       "    </tr>\n",
       "    <tr>\n",
       "      <th>4</th>\n",
       "      <td>0</td>\n",
       "      <td>21.0</td>\n",
       "      <td>185.000000</td>\n",
       "      <td>82.0</td>\n",
       "      <td>Netherlands</td>\n",
       "      <td>NED</td>\n",
       "      <td>1988</td>\n",
       "      <td>1</td>\n",
       "      <td>Calgary</td>\n",
       "      <td>Speed Skating Women's 500 metres</td>\n",
       "      <td>0</td>\n",
       "      <td>0</td>\n",
       "      <td>0</td>\n",
       "      <td>0</td>\n",
       "    </tr>\n",
       "  </tbody>\n",
       "</table>\n",
       "</div>"
      ],
      "text/plain": [
       "   Sex   Age      Height  Weight            Team  NOC  Year  Season  \\\n",
       "0    1  24.0  180.000000    80.0           China  CHN  1992       0   \n",
       "1    1  23.0  170.000000    60.0           China  CHN  2012       0   \n",
       "2    1  24.0  175.338953    70.0         Denmark  DEN  1920       0   \n",
       "3    1  34.0  175.338953    70.0  Denmark/Sweden  DEN  1900       0   \n",
       "4    0  21.0  185.000000    82.0     Netherlands  NED  1988       1   \n",
       "\n",
       "        City                             Event  Medal  Bronze  Gold  Silver  \n",
       "0  Barcelona       Basketball Men's Basketball      0       0     0       0  \n",
       "1     London      Judo Men's Extra-Lightweight      0       0     0       0  \n",
       "2  Antwerpen           Football Men's Football      0       0     0       0  \n",
       "3      Paris       Tug-Of-War Men's Tug-Of-War      1       0     1       0  \n",
       "4    Calgary  Speed Skating Women's 500 metres      0       0     0       0  "
      ]
     },
     "execution_count": 79,
     "metadata": {},
     "output_type": "execute_result"
    }
   ],
   "source": [
    "athlete_merged.head()"
   ]
  },
  {
   "cell_type": "code",
   "execution_count": 80,
   "metadata": {},
   "outputs": [],
   "source": [
    "#Creating dictionaries which consists Unique value of each column and their count.\n",
    "team_dict=athlete_merged['Team'].value_counts().to_dict()\n",
    "NOC_dict=athlete_merged['NOC'].value_counts().to_dict()\n",
    "city_dict=athlete_merged['City'].value_counts().to_dict()\n",
    "event_dict=athlete_merged['Event'].value_counts().to_dict()"
   ]
  },
  {
   "cell_type": "code",
   "execution_count": 81,
   "metadata": {},
   "outputs": [],
   "source": [
    "# Mapping categorical columns with the frequency \n",
    "athlete_merged['Team']=athlete_merged['Team'].map(team_dict)\n",
    "athlete_merged['NOC']=athlete_merged['NOC'].map(NOC_dict)\n",
    "athlete_merged['City']=athlete_merged['City'].map(city_dict)\n",
    "athlete_merged['Event']=athlete_merged['Event'].map(event_dict)"
   ]
  },
  {
   "cell_type": "code",
   "execution_count": 82,
   "metadata": {},
   "outputs": [
    {
     "data": {
      "text/html": [
       "<div>\n",
       "<style scoped>\n",
       "    .dataframe tbody tr th:only-of-type {\n",
       "        vertical-align: middle;\n",
       "    }\n",
       "\n",
       "    .dataframe tbody tr th {\n",
       "        vertical-align: top;\n",
       "    }\n",
       "\n",
       "    .dataframe thead th {\n",
       "        text-align: right;\n",
       "    }\n",
       "</style>\n",
       "<table border=\"1\" class=\"dataframe\">\n",
       "  <thead>\n",
       "    <tr style=\"text-align: right;\">\n",
       "      <th></th>\n",
       "      <th>Sex</th>\n",
       "      <th>Age</th>\n",
       "      <th>Height</th>\n",
       "      <th>Weight</th>\n",
       "      <th>Team</th>\n",
       "      <th>NOC</th>\n",
       "      <th>Year</th>\n",
       "      <th>Season</th>\n",
       "      <th>City</th>\n",
       "      <th>Event</th>\n",
       "      <th>Medal</th>\n",
       "      <th>Bronze</th>\n",
       "      <th>Gold</th>\n",
       "      <th>Silver</th>\n",
       "    </tr>\n",
       "  </thead>\n",
       "  <tbody>\n",
       "    <tr>\n",
       "      <th>0</th>\n",
       "      <td>1</td>\n",
       "      <td>24.0</td>\n",
       "      <td>180.000000</td>\n",
       "      <td>80.0</td>\n",
       "      <td>4975</td>\n",
       "      <td>5141</td>\n",
       "      <td>1992</td>\n",
       "      <td>0</td>\n",
       "      <td>12977</td>\n",
       "      <td>3280</td>\n",
       "      <td>0</td>\n",
       "      <td>0</td>\n",
       "      <td>0</td>\n",
       "      <td>0</td>\n",
       "    </tr>\n",
       "    <tr>\n",
       "      <th>1</th>\n",
       "      <td>1</td>\n",
       "      <td>23.0</td>\n",
       "      <td>170.000000</td>\n",
       "      <td>60.0</td>\n",
       "      <td>4975</td>\n",
       "      <td>5141</td>\n",
       "      <td>2012</td>\n",
       "      <td>0</td>\n",
       "      <td>22297</td>\n",
       "      <td>341</td>\n",
       "      <td>0</td>\n",
       "      <td>0</td>\n",
       "      <td>0</td>\n",
       "      <td>0</td>\n",
       "    </tr>\n",
       "    <tr>\n",
       "      <th>2</th>\n",
       "      <td>1</td>\n",
       "      <td>24.0</td>\n",
       "      <td>175.338953</td>\n",
       "      <td>70.0</td>\n",
       "      <td>3385</td>\n",
       "      <td>3531</td>\n",
       "      <td>1920</td>\n",
       "      <td>0</td>\n",
       "      <td>4292</td>\n",
       "      <td>5733</td>\n",
       "      <td>0</td>\n",
       "      <td>0</td>\n",
       "      <td>0</td>\n",
       "      <td>0</td>\n",
       "    </tr>\n",
       "    <tr>\n",
       "      <th>3</th>\n",
       "      <td>1</td>\n",
       "      <td>34.0</td>\n",
       "      <td>175.338953</td>\n",
       "      <td>70.0</td>\n",
       "      <td>6</td>\n",
       "      <td>3531</td>\n",
       "      <td>1900</td>\n",
       "      <td>0</td>\n",
       "      <td>7008</td>\n",
       "      <td>170</td>\n",
       "      <td>1</td>\n",
       "      <td>0</td>\n",
       "      <td>1</td>\n",
       "      <td>0</td>\n",
       "    </tr>\n",
       "    <tr>\n",
       "      <th>4</th>\n",
       "      <td>0</td>\n",
       "      <td>21.0</td>\n",
       "      <td>185.000000</td>\n",
       "      <td>82.0</td>\n",
       "      <td>5660</td>\n",
       "      <td>5781</td>\n",
       "      <td>1988</td>\n",
       "      <td>1</td>\n",
       "      <td>2639</td>\n",
       "      <td>467</td>\n",
       "      <td>0</td>\n",
       "      <td>0</td>\n",
       "      <td>0</td>\n",
       "      <td>0</td>\n",
       "    </tr>\n",
       "  </tbody>\n",
       "</table>\n",
       "</div>"
      ],
      "text/plain": [
       "   Sex   Age      Height  Weight  Team   NOC  Year  Season   City  Event  \\\n",
       "0    1  24.0  180.000000    80.0  4975  5141  1992       0  12977   3280   \n",
       "1    1  23.0  170.000000    60.0  4975  5141  2012       0  22297    341   \n",
       "2    1  24.0  175.338953    70.0  3385  3531  1920       0   4292   5733   \n",
       "3    1  34.0  175.338953    70.0     6  3531  1900       0   7008    170   \n",
       "4    0  21.0  185.000000    82.0  5660  5781  1988       1   2639    467   \n",
       "\n",
       "   Medal  Bronze  Gold  Silver  \n",
       "0      0       0     0       0  \n",
       "1      0       0     0       0  \n",
       "2      0       0     0       0  \n",
       "3      1       0     1       0  \n",
       "4      0       0     0       0  "
      ]
     },
     "execution_count": 82,
     "metadata": {},
     "output_type": "execute_result"
    }
   ],
   "source": [
    "athlete_merged.head()"
   ]
  },
  {
   "cell_type": "code",
   "execution_count": 83,
   "metadata": {},
   "outputs": [],
   "source": [
    "from sklearn.ensemble import RandomForestClassifier\n",
    "from sklearn.model_selection import train_test_split\n",
    "from sklearn.ensemble import RandomForestRegressor\n",
    "from sklearn.inspection import permutation_importance\n",
    "from matplotlib import pyplot as plt"
   ]
  },
  {
   "cell_type": "code",
   "execution_count": 84,
   "metadata": {},
   "outputs": [],
   "source": [
    "plt.rcParams.update({'figure.figsize': (12.0, 8.0)})\n",
    "plt.rcParams.update({'font.size': 14})"
   ]
  },
  {
   "cell_type": "code",
   "execution_count": 85,
   "metadata": {},
   "outputs": [],
   "source": [
    "X = athlete_merged.drop('Medal',axis=1)\n",
    "Y = athlete_merged[['Medal']]"
   ]
  },
  {
   "cell_type": "code",
   "execution_count": 86,
   "metadata": {},
   "outputs": [],
   "source": [
    "X_train, X_test, Y_train, Y_test = train_test_split(X, Y, test_size=0.33, random_state=40)"
   ]
  },
  {
   "cell_type": "code",
   "execution_count": 87,
   "metadata": {},
   "outputs": [
    {
     "name": "stderr",
     "output_type": "stream",
     "text": [
      "<ipython-input-87-4f05f06beb84>:2: DataConversionWarning: A column-vector y was passed when a 1d array was expected. Please change the shape of y to (n_samples,), for example using ravel().\n",
      "  rf.fit(X_train, Y_train)\n"
     ]
    },
    {
     "data": {
      "text/plain": [
       "RandomForestRegressor()"
      ]
     },
     "execution_count": 87,
     "metadata": {},
     "output_type": "execute_result"
    }
   ],
   "source": [
    "rf = RandomForestRegressor(n_estimators=100)\n",
    "rf.fit(X_train, Y_train)"
   ]
  },
  {
   "cell_type": "code",
   "execution_count": 90,
   "metadata": {},
   "outputs": [
    {
     "data": {
      "text/plain": [
       "Text(0.5, 0, 'Random Forest Feature Importance')"
      ]
     },
     "execution_count": 90,
     "metadata": {},
     "output_type": "execute_result"
    },
    {
     "data": {
      "image/png": "[encoded data removed]",
      "text/plain": [
       "<Figure size 864x576 with 1 Axes>"
      ]
     },
     "metadata": {},
     "output_type": "display_data"
    }
   ],
   "source": [
    "sorted_idx = rf.feature_importances_.argsort()\n",
    "plt.barh(X.columns[sorted_idx], rf.feature_importances_[sorted_idx])\n",
    "plt.xlabel(\"Random Forest Feature Importance\")"
   ]
  },
  {
   "cell_type": "code",
   "execution_count": 91,
   "metadata": {},
   "outputs": [
    {
     "name": "stderr",
     "output_type": "stream",
     "text": [
      "/Users/apple/anaconda3/lib/python3.8/site-packages/pandas/core/frame.py:4308: SettingWithCopyWarning: \n",
      "A value is trying to be set on a copy of a slice from a DataFrame\n",
      "\n",
      "See the caveats in the documentation: https://pandas.pydata.org/pandas-docs/stable/user_guide/indexing.html#returning-a-view-versus-a-copy\n",
      "  return super().drop(\n"
     ]
    }
   ],
   "source": [
    "X_train.drop(['Sex','Season'],axis=1,inplace=True)"
   ]
  },
  {
   "cell_type": "code",
   "execution_count": 92,
   "metadata": {},
   "outputs": [],
   "source": [
    "from sklearn.preprocessing import StandardScaler\n",
    "sc=StandardScaler()"
   ]
  },
  {
   "cell_type": "code",
   "execution_count": 106,
   "metadata": {},
   "outputs": [],
   "source": [
    "X_train=pd.DataFrame(sc.fit_transform(X_train[['Age','Height','Weight','Team','NOC','Year','City','Event']]))\n",
    "X_train.columns=['Age','Height','Weight','Team','NOC','Year','City','Event']\n",
    "X_test=pd.DataFrame(sc.fit_transform(X_test[['Age','Height','Weight','Team','NOC','Year','City','Event']]))\n",
    "X_test.columns=['Age','Height','Weight','Team','NOC','Year','City','Event']"
   ]
  },
  {
   "cell_type": "code",
   "execution_count": null,
   "metadata": {},
   "outputs": [],
   "source": [
    "from sklearn.neighbors import KNeighborsClassifier\n",
    "knn=KNeighborsClassifier()\n",
    "knn.fit(X_train,Y_train)"
   ]
  },
  {
   "cell_type": "code",
   "execution_count": null,
   "metadata": {},
   "outputs": [],
   "source": [
    "from sklearn.neighbors import KNeighborsClassifier\n",
    "knn=KNeighborsClassifier()\n",
    "knn.fit(X_train,Y_train)"
   ]
  },
  {
   "cell_type": "code",
   "execution_count": null,
   "metadata": {},
   "outputs": [],
   "source": [
    "y_pred = knn.predict(X_test)"
   ]
  },
  {
   "cell_type": "code",
   "execution_count": null,
   "metadata": {},
   "outputs": [],
   "source": [
    "cm = confusion_matrix(Y_test,y_pred)\n",
    "cm"
   ]
  },
  {
   "cell_type": "code",
   "execution_count": null,
   "metadata": {},
   "outputs": [],
   "source": [
    "%matplotlib inline\n",
    "import seaborn as sn\n",
    "import matplotlib.pyplot as plt\n",
    "plt.figure(figsize=(7,5))\n",
    "sn.heatmap(cm,annot=True)\n",
    "plt.xlabel(\"Predict\")\n",
    "plt.ylabel(\"Truth\")"
   ]
  },
  {
   "cell_type": "code",
   "execution_count": null,
   "metadata": {},
   "outputs": [],
   "source": []
  }
 ],
 "metadata": {
  "colab": {
   "collapsed_sections": [],
   "name": "Prerdiction_Prerana.ipynb",
   "provenance": []
  },
  "kernelspec": {
   "display_name": "Python 3",
   "language": "python",
   "name": "python3"
  },
  "language_info": {
   "codemirror_mode": {
    "name": "ipython",
    "version": 3
   },
   "file_extension": ".py",
   "mimetype": "text/x-python",
   "name": "python",
   "nbconvert_exporter": "python",
   "pygments_lexer": "ipython3",
   "version": "3.8.8"
  }
 },
 "nbformat": 4,
 "nbformat_minor": 1
}
