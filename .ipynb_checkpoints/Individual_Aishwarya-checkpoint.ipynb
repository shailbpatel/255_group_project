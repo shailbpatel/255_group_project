{
 "cells": [
  {
   "cell_type": "code",
   "execution_count": 1,
   "metadata": {
    "id": "JwJSYGOUrbgE"
   },
   "outputs": [],
   "source": [
    "#Importing required packages\n",
    "import pandas as pd\n",
    "import numpy as np\n",
    "import matplotlib as mp\n",
    "import matplotlib.pyplot as plt\n",
    "import seaborn as sns"
   ]
  },
  {
   "cell_type": "code",
   "execution_count": 2,
   "metadata": {
    "id": "LX0cDpdesULO"
   },
   "outputs": [],
   "source": [
    "athlete_events=pd.read_csv('C:/Users/aishw/Downloads/OLYMPIC MEDAL PREDICTION/athlete_events.csv')"
   ]
  },
  {
   "cell_type": "code",
   "execution_count": 3,
   "metadata": {
    "colab": {
     "base_uri": "https://localhost:8080/",
     "height": 468
    },
    "id": "fH0iJJCoz7Bj",
    "outputId": "4e7136a6-977b-4906-b13a-165f1e96ecf1"
   },
   "outputs": [
    {
     "data": {
      "text/html": [
       "<div>\n",
       "<style scoped>\n",
       "    .dataframe tbody tr th:only-of-type {\n",
       "        vertical-align: middle;\n",
       "    }\n",
       "\n",
       "    .dataframe tbody tr th {\n",
       "        vertical-align: top;\n",
       "    }\n",
       "\n",
       "    .dataframe thead th {\n",
       "        text-align: right;\n",
       "    }\n",
       "</style>\n",
       "<table border=\"1\" class=\"dataframe\">\n",
       "  <thead>\n",
       "    <tr style=\"text-align: right;\">\n",
       "      <th></th>\n",
       "      <th>ID</th>\n",
       "      <th>Name</th>\n",
       "      <th>Sex</th>\n",
       "      <th>Age</th>\n",
       "      <th>Height</th>\n",
       "      <th>Weight</th>\n",
       "      <th>Team</th>\n",
       "      <th>NOC</th>\n",
       "      <th>Games</th>\n",
       "      <th>Year</th>\n",
       "      <th>Season</th>\n",
       "      <th>City</th>\n",
       "      <th>Sport</th>\n",
       "      <th>Event</th>\n",
       "      <th>Medal</th>\n",
       "    </tr>\n",
       "  </thead>\n",
       "  <tbody>\n",
       "    <tr>\n",
       "      <th>0</th>\n",
       "      <td>1</td>\n",
       "      <td>A Dijiang</td>\n",
       "      <td>M</td>\n",
       "      <td>24.0</td>\n",
       "      <td>180.0</td>\n",
       "      <td>80.0</td>\n",
       "      <td>China</td>\n",
       "      <td>CHN</td>\n",
       "      <td>1992 Summer</td>\n",
       "      <td>1992</td>\n",
       "      <td>Summer</td>\n",
       "      <td>Barcelona</td>\n",
       "      <td>Basketball</td>\n",
       "      <td>Basketball Men's Basketball</td>\n",
       "      <td>NaN</td>\n",
       "    </tr>\n",
       "    <tr>\n",
       "      <th>1</th>\n",
       "      <td>2</td>\n",
       "      <td>A Lamusi</td>\n",
       "      <td>M</td>\n",
       "      <td>23.0</td>\n",
       "      <td>170.0</td>\n",
       "      <td>60.0</td>\n",
       "      <td>China</td>\n",
       "      <td>CHN</td>\n",
       "      <td>2012 Summer</td>\n",
       "      <td>2012</td>\n",
       "      <td>Summer</td>\n",
       "      <td>London</td>\n",
       "      <td>Judo</td>\n",
       "      <td>Judo Men's Extra-Lightweight</td>\n",
       "      <td>NaN</td>\n",
       "    </tr>\n",
       "    <tr>\n",
       "      <th>2</th>\n",
       "      <td>3</td>\n",
       "      <td>Gunnar Nielsen Aaby</td>\n",
       "      <td>M</td>\n",
       "      <td>24.0</td>\n",
       "      <td>NaN</td>\n",
       "      <td>NaN</td>\n",
       "      <td>Denmark</td>\n",
       "      <td>DEN</td>\n",
       "      <td>1920 Summer</td>\n",
       "      <td>1920</td>\n",
       "      <td>Summer</td>\n",
       "      <td>Antwerpen</td>\n",
       "      <td>Football</td>\n",
       "      <td>Football Men's Football</td>\n",
       "      <td>NaN</td>\n",
       "    </tr>\n",
       "    <tr>\n",
       "      <th>3</th>\n",
       "      <td>4</td>\n",
       "      <td>Edgar Lindenau Aabye</td>\n",
       "      <td>M</td>\n",
       "      <td>34.0</td>\n",
       "      <td>NaN</td>\n",
       "      <td>NaN</td>\n",
       "      <td>Denmark/Sweden</td>\n",
       "      <td>DEN</td>\n",
       "      <td>1900 Summer</td>\n",
       "      <td>1900</td>\n",
       "      <td>Summer</td>\n",
       "      <td>Paris</td>\n",
       "      <td>Tug-Of-War</td>\n",
       "      <td>Tug-Of-War Men's Tug-Of-War</td>\n",
       "      <td>Gold</td>\n",
       "    </tr>\n",
       "    <tr>\n",
       "      <th>4</th>\n",
       "      <td>5</td>\n",
       "      <td>Christine Jacoba Aaftink</td>\n",
       "      <td>F</td>\n",
       "      <td>21.0</td>\n",
       "      <td>185.0</td>\n",
       "      <td>82.0</td>\n",
       "      <td>Netherlands</td>\n",
       "      <td>NED</td>\n",
       "      <td>1988 Winter</td>\n",
       "      <td>1988</td>\n",
       "      <td>Winter</td>\n",
       "      <td>Calgary</td>\n",
       "      <td>Speed Skating</td>\n",
       "      <td>Speed Skating Women's 500 metres</td>\n",
       "      <td>NaN</td>\n",
       "    </tr>\n",
       "    <tr>\n",
       "      <th>...</th>\n",
       "      <td>...</td>\n",
       "      <td>...</td>\n",
       "      <td>...</td>\n",
       "      <td>...</td>\n",
       "      <td>...</td>\n",
       "      <td>...</td>\n",
       "      <td>...</td>\n",
       "      <td>...</td>\n",
       "      <td>...</td>\n",
       "      <td>...</td>\n",
       "      <td>...</td>\n",
       "      <td>...</td>\n",
       "      <td>...</td>\n",
       "      <td>...</td>\n",
       "      <td>...</td>\n",
       "    </tr>\n",
       "    <tr>\n",
       "      <th>271111</th>\n",
       "      <td>135569</td>\n",
       "      <td>Andrzej ya</td>\n",
       "      <td>M</td>\n",
       "      <td>29.0</td>\n",
       "      <td>179.0</td>\n",
       "      <td>89.0</td>\n",
       "      <td>Poland-1</td>\n",
       "      <td>POL</td>\n",
       "      <td>1976 Winter</td>\n",
       "      <td>1976</td>\n",
       "      <td>Winter</td>\n",
       "      <td>Innsbruck</td>\n",
       "      <td>Luge</td>\n",
       "      <td>Luge Mixed (Men)'s Doubles</td>\n",
       "      <td>NaN</td>\n",
       "    </tr>\n",
       "    <tr>\n",
       "      <th>271112</th>\n",
       "      <td>135570</td>\n",
       "      <td>Piotr ya</td>\n",
       "      <td>M</td>\n",
       "      <td>27.0</td>\n",
       "      <td>176.0</td>\n",
       "      <td>59.0</td>\n",
       "      <td>Poland</td>\n",
       "      <td>POL</td>\n",
       "      <td>2014 Winter</td>\n",
       "      <td>2014</td>\n",
       "      <td>Winter</td>\n",
       "      <td>Sochi</td>\n",
       "      <td>Ski Jumping</td>\n",
       "      <td>Ski Jumping Men's Large Hill, Individual</td>\n",
       "      <td>NaN</td>\n",
       "    </tr>\n",
       "    <tr>\n",
       "      <th>271113</th>\n",
       "      <td>135570</td>\n",
       "      <td>Piotr ya</td>\n",
       "      <td>M</td>\n",
       "      <td>27.0</td>\n",
       "      <td>176.0</td>\n",
       "      <td>59.0</td>\n",
       "      <td>Poland</td>\n",
       "      <td>POL</td>\n",
       "      <td>2014 Winter</td>\n",
       "      <td>2014</td>\n",
       "      <td>Winter</td>\n",
       "      <td>Sochi</td>\n",
       "      <td>Ski Jumping</td>\n",
       "      <td>Ski Jumping Men's Large Hill, Team</td>\n",
       "      <td>NaN</td>\n",
       "    </tr>\n",
       "    <tr>\n",
       "      <th>271114</th>\n",
       "      <td>135571</td>\n",
       "      <td>Tomasz Ireneusz ya</td>\n",
       "      <td>M</td>\n",
       "      <td>30.0</td>\n",
       "      <td>185.0</td>\n",
       "      <td>96.0</td>\n",
       "      <td>Poland</td>\n",
       "      <td>POL</td>\n",
       "      <td>1998 Winter</td>\n",
       "      <td>1998</td>\n",
       "      <td>Winter</td>\n",
       "      <td>Nagano</td>\n",
       "      <td>Bobsleigh</td>\n",
       "      <td>Bobsleigh Men's Four</td>\n",
       "      <td>NaN</td>\n",
       "    </tr>\n",
       "    <tr>\n",
       "      <th>271115</th>\n",
       "      <td>135571</td>\n",
       "      <td>Tomasz Ireneusz ya</td>\n",
       "      <td>M</td>\n",
       "      <td>34.0</td>\n",
       "      <td>185.0</td>\n",
       "      <td>96.0</td>\n",
       "      <td>Poland</td>\n",
       "      <td>POL</td>\n",
       "      <td>2002 Winter</td>\n",
       "      <td>2002</td>\n",
       "      <td>Winter</td>\n",
       "      <td>Salt Lake City</td>\n",
       "      <td>Bobsleigh</td>\n",
       "      <td>Bobsleigh Men's Four</td>\n",
       "      <td>NaN</td>\n",
       "    </tr>\n",
       "  </tbody>\n",
       "</table>\n",
       "<p>271116 rows × 15 columns</p>\n",
       "</div>"
      ],
      "text/plain": [
       "            ID                      Name Sex   Age  Height  Weight  \\\n",
       "0            1                 A Dijiang   M  24.0   180.0    80.0   \n",
       "1            2                  A Lamusi   M  23.0   170.0    60.0   \n",
       "2            3       Gunnar Nielsen Aaby   M  24.0     NaN     NaN   \n",
       "3            4      Edgar Lindenau Aabye   M  34.0     NaN     NaN   \n",
       "4            5  Christine Jacoba Aaftink   F  21.0   185.0    82.0   \n",
       "...        ...                       ...  ..   ...     ...     ...   \n",
       "271111  135569                Andrzej ya   M  29.0   179.0    89.0   \n",
       "271112  135570                  Piotr ya   M  27.0   176.0    59.0   \n",
       "271113  135570                  Piotr ya   M  27.0   176.0    59.0   \n",
       "271114  135571        Tomasz Ireneusz ya   M  30.0   185.0    96.0   \n",
       "271115  135571        Tomasz Ireneusz ya   M  34.0   185.0    96.0   \n",
       "\n",
       "                  Team  NOC        Games  Year  Season            City  \\\n",
       "0                China  CHN  1992 Summer  1992  Summer       Barcelona   \n",
       "1                China  CHN  2012 Summer  2012  Summer          London   \n",
       "2              Denmark  DEN  1920 Summer  1920  Summer       Antwerpen   \n",
       "3       Denmark/Sweden  DEN  1900 Summer  1900  Summer           Paris   \n",
       "4          Netherlands  NED  1988 Winter  1988  Winter         Calgary   \n",
       "...                ...  ...          ...   ...     ...             ...   \n",
       "271111        Poland-1  POL  1976 Winter  1976  Winter       Innsbruck   \n",
       "271112          Poland  POL  2014 Winter  2014  Winter           Sochi   \n",
       "271113          Poland  POL  2014 Winter  2014  Winter           Sochi   \n",
       "271114          Poland  POL  1998 Winter  1998  Winter          Nagano   \n",
       "271115          Poland  POL  2002 Winter  2002  Winter  Salt Lake City   \n",
       "\n",
       "                Sport                                     Event Medal  \n",
       "0          Basketball               Basketball Men's Basketball   NaN  \n",
       "1                Judo              Judo Men's Extra-Lightweight   NaN  \n",
       "2            Football                   Football Men's Football   NaN  \n",
       "3          Tug-Of-War               Tug-Of-War Men's Tug-Of-War  Gold  \n",
       "4       Speed Skating          Speed Skating Women's 500 metres   NaN  \n",
       "...               ...                                       ...   ...  \n",
       "271111           Luge                Luge Mixed (Men)'s Doubles   NaN  \n",
       "271112    Ski Jumping  Ski Jumping Men's Large Hill, Individual   NaN  \n",
       "271113    Ski Jumping        Ski Jumping Men's Large Hill, Team   NaN  \n",
       "271114      Bobsleigh                      Bobsleigh Men's Four   NaN  \n",
       "271115      Bobsleigh                      Bobsleigh Men's Four   NaN  \n",
       "\n",
       "[271116 rows x 15 columns]"
      ]
     },
     "execution_count": 3,
     "metadata": {},
     "output_type": "execute_result"
    }
   ],
   "source": [
    "athlete_events"
   ]
  },
  {
   "cell_type": "code",
   "execution_count": 4,
   "metadata": {
    "colab": {
     "base_uri": "https://localhost:8080/"
    },
    "id": "gIRgYvt5sZm0",
    "outputId": "6ace4019-fef6-439c-f264-04d6569b0838"
   },
   "outputs": [
    {
     "name": "stdout",
     "output_type": "stream",
     "text": [
      "False    271116\n",
      "Name: Name, dtype: int64\n"
     ]
    }
   ],
   "source": [
    "print(athlete_events['Name'].isnull().value_counts())"
   ]
  },
  {
   "cell_type": "code",
   "execution_count": 5,
   "metadata": {
    "colab": {
     "base_uri": "https://localhost:8080/"
    },
    "id": "CfH-FW6osb-t",
    "outputId": "fb313793-6628-43fc-b9b4-39706ae29f6a"
   },
   "outputs": [
    {
     "name": "stdout",
     "output_type": "stream",
     "text": [
      "Checking for null values \n",
      " False    271116\n",
      "Name: Sex, dtype: int64 \n",
      "\n",
      "Insights on the column \n",
      " count     271116\n",
      "unique         2\n",
      "top            M\n",
      "freq      196594\n",
      "Name: Sex, dtype: object \n",
      "\n",
      "Unique Values and their counts \n",
      " M    196594\n",
      "F     74522\n",
      "Name: Sex, dtype: int64\n"
     ]
    }
   ],
   "source": [
    "print(\"Checking for null values \\n\",athlete_events['Sex'].isnull().value_counts(),\"\\n\") #There are no null values\n",
    "print(\"Insights on the column \\n\",athlete_events['Sex'].describe(),\"\\n\")\n",
    "print(\"Unique Values and their counts \\n\",athlete_events['Sex'].value_counts())"
   ]
  },
  {
   "cell_type": "code",
   "execution_count": 6,
   "metadata": {
    "colab": {
     "base_uri": "https://localhost:8080/"
    },
    "id": "qoA-D8vxseVS",
    "outputId": "f3eda557-c1f1-4736-ba54-e40b1175aefe"
   },
   "outputs": [
    {
     "name": "stdout",
     "output_type": "stream",
     "text": [
      "Checking for null values \n",
      " False    261642\n",
      "True       9474\n",
      "Name: Age, dtype: int64 \n",
      "\n",
      "Finding invalid age\n",
      " Series([], Name: Age, dtype: float64)\n"
     ]
    }
   ],
   "source": [
    "print(\"Checking for null values \\n\",athlete_events['Age'].isnull().value_counts(),\"\\n\") #There are 9474 null values\n",
    "print(\"Finding invalid age\\n\",athlete_events[\"Age\"][(athlete_events['Age']>100) | (athlete_events['Age']<0)])\n"
   ]
  },
  {
   "cell_type": "code",
   "execution_count": 7,
   "metadata": {
    "colab": {
     "base_uri": "https://localhost:8080/"
    },
    "id": "ycuxbfjHsgru",
    "outputId": "e2b7de32-9fa6-4f8a-d192-27f5ccd800b1"
   },
   "outputs": [
    {
     "name": "stdout",
     "output_type": "stream",
     "text": [
      "Checking for null values\n",
      " False    210945\n",
      "True      60171\n",
      "Name: Height, dtype: int64 \n",
      "\n",
      "Insights on the column data\n",
      " count    210945.000000\n",
      "mean        175.338970\n",
      "std          10.518462\n",
      "min         127.000000\n",
      "25%         168.000000\n",
      "50%         175.000000\n",
      "75%         183.000000\n",
      "max         226.000000\n",
      "Name: Height, dtype: float64 \n",
      "\n"
     ]
    }
   ],
   "source": [
    "print(\"Checking for null values\\n\",athlete_events['Height'].isnull().value_counts(),\"\\n\") #There are 60171 null values\n",
    "print(\"Insights on the column data\\n\",athlete_events['Height'].describe(),\"\\n\")"
   ]
  },
  {
   "cell_type": "code",
   "execution_count": 8,
   "metadata": {
    "colab": {
     "base_uri": "https://localhost:8080/"
    },
    "id": "Fa76KjOAsjKA",
    "outputId": "992329a1-3bce-4827-c8e4-aeecb2b18e5e"
   },
   "outputs": [
    {
     "name": "stdout",
     "output_type": "stream",
     "text": [
      "Checking for null values\n",
      " False    208241\n",
      "True      62875\n",
      "Name: Weight, dtype: int64 \n",
      "\n",
      "Insights on the column data\n",
      " count    208241.000000\n",
      "mean         70.702393\n",
      "std          14.348020\n",
      "min          25.000000\n",
      "25%          60.000000\n",
      "50%          70.000000\n",
      "75%          79.000000\n",
      "max         214.000000\n",
      "Name: Weight, dtype: float64 \n",
      "\n",
      "Chcking for invalid data \n",
      " Series([], Name: Weight, dtype: float64)\n"
     ]
    }
   ],
   "source": [
    "print(\"Checking for null values\\n\",athlete_events['Weight'].isnull().value_counts(),\"\\n\") #There are 62875 null values\n",
    "print(\"Insights on the column data\\n\",athlete_events['Weight'].describe(),\"\\n\")\n",
    "print(\"Chcking for invalid data \\n\",athlete_events[\"Weight\"][athlete_events[\"Weight\"]<=0])"
   ]
  },
  {
   "cell_type": "code",
   "execution_count": 9,
   "metadata": {
    "colab": {
     "base_uri": "https://localhost:8080/"
    },
    "id": "aG7XURDzsmLN",
    "outputId": "9ac292a4-9a94-458c-d182-cb41b403c2e4"
   },
   "outputs": [
    {
     "name": "stdout",
     "output_type": "stream",
     "text": [
      "Checking for null values \n",
      " False    271116\n",
      "Name: Team, dtype: int64 \n",
      "\n",
      "Insights on the column \n",
      " count            271116\n",
      "unique             1184\n",
      "top       United States\n",
      "freq              17847\n",
      "Name: Team, dtype: object \n",
      "\n",
      "Unique Values and their counts \n",
      " United States    17847\n",
      "France           11988\n",
      "Great Britain    11404\n",
      "Italy            10260\n",
      "Germany           9326\n",
      "                 ...  \n",
      "Digby                1\n",
      "Don Schufro          1\n",
      "Carabinier-15        1\n",
      "Cuxhaven             1\n",
      "Briar                1\n",
      "Name: Team, Length: 1184, dtype: int64\n"
     ]
    }
   ],
   "source": [
    "print(\"Checking for null values \\n\",athlete_events['Team'].isnull().value_counts(),\"\\n\") #There are no null values\n",
    "print(\"Insights on the column \\n\",athlete_events['Team'].describe(),\"\\n\")\n",
    "print(\"Unique Values and their counts \\n\",athlete_events['Team'].value_counts())"
   ]
  },
  {
   "cell_type": "code",
   "execution_count": 10,
   "metadata": {
    "colab": {
     "base_uri": "https://localhost:8080/"
    },
    "id": "7Y-m86zosovT",
    "outputId": "07a1c458-334c-4144-b41c-294b3007b74e"
   },
   "outputs": [
    {
     "name": "stdout",
     "output_type": "stream",
     "text": [
      "Checking for null values \n",
      " False    271116\n",
      "Name: NOC, dtype: int64 \n",
      "\n",
      "Insights on the column \n",
      " count     271116\n",
      "unique       230\n",
      "top          USA\n",
      "freq       18853\n",
      "Name: NOC, dtype: object \n",
      "\n",
      "Unique Values and their counts \n",
      " USA    18853\n",
      "FRA    12758\n",
      "GBR    12256\n",
      "ITA    10715\n",
      "GER     9830\n",
      "       ...  \n",
      "YMD        5\n",
      "SSD        3\n",
      "UNK        2\n",
      "NBO        2\n",
      "NFL        1\n",
      "Name: NOC, Length: 230, dtype: int64\n"
     ]
    }
   ],
   "source": [
    "print(\"Checking for null values \\n\",athlete_events['NOC'].isnull().value_counts(),\"\\n\") #There are no null values\n",
    "print(\"Insights on the column \\n\",athlete_events['NOC'].describe(),\"\\n\")\n",
    "print(\"Unique Values and their counts \\n\",athlete_events['NOC'].value_counts())"
   ]
  },
  {
   "cell_type": "code",
   "execution_count": 11,
   "metadata": {
    "colab": {
     "base_uri": "https://localhost:8080/"
    },
    "id": "1cM1zb4xsrHA",
    "outputId": "6f3b18d6-ad59-4108-825c-b5de5a0d01f9"
   },
   "outputs": [
    {
     "name": "stdout",
     "output_type": "stream",
     "text": [
      "Checking for null values \n",
      " False    271116\n",
      "Name: Games, dtype: int64 \n",
      "\n",
      "Insights on the column \n",
      " count          271116\n",
      "unique             51\n",
      "top       2000 Summer\n",
      "freq            13821\n",
      "Name: Games, dtype: object \n",
      "\n",
      "Unique Values and their counts \n",
      " 2000 Summer    13821\n",
      "1996 Summer    13780\n",
      "2016 Summer    13688\n",
      "2008 Summer    13602\n",
      "2004 Summer    13443\n",
      "1992 Summer    12977\n",
      "2012 Summer    12920\n",
      "1988 Summer    12037\n",
      "1972 Summer    10304\n",
      "1984 Summer     9454\n",
      "1976 Summer     8641\n",
      "1968 Summer     8588\n",
      "1952 Summer     8270\n",
      "1960 Summer     8119\n",
      "1964 Summer     7702\n",
      "1980 Summer     7191\n",
      "1936 Summer     6506\n",
      "1948 Summer     6405\n",
      "1924 Summer     5233\n",
      "1956 Summer     5127\n",
      "1928 Summer     4992\n",
      "2014 Winter     4891\n",
      "2010 Winter     4402\n",
      "2006 Winter     4382\n",
      "1920 Summer     4292\n",
      "2002 Winter     4109\n",
      "1912 Summer     4040\n",
      "1998 Winter     3605\n",
      "1992 Winter     3436\n",
      "1994 Winter     3160\n",
      "1908 Summer     3101\n",
      "1932 Summer     2969\n",
      "1988 Winter     2639\n",
      "1984 Winter     2134\n",
      "1900 Summer     1936\n",
      "1968 Winter     1891\n",
      "1976 Winter     1861\n",
      "1964 Winter     1778\n",
      "1980 Winter     1746\n",
      "1906 Summer     1733\n",
      "1972 Winter     1655\n",
      "1956 Winter     1307\n",
      "1904 Summer     1301\n",
      "1960 Winter     1116\n",
      "1952 Winter     1088\n",
      "1948 Winter     1075\n",
      "1936 Winter      895\n",
      "1928 Winter      582\n",
      "1924 Winter      460\n",
      "1896 Summer      380\n",
      "1932 Winter      352\n",
      "Name: Games, dtype: int64\n"
     ]
    }
   ],
   "source": [
    "print(\"Checking for null values \\n\",athlete_events['Games'].isnull().value_counts(),\"\\n\") #There are no null values\n",
    "print(\"Insights on the column \\n\",athlete_events['Games'].describe(),\"\\n\")\n",
    "print(\"Unique Values and their counts \\n\",athlete_events['Games'].value_counts())"
   ]
  },
  {
   "cell_type": "code",
   "execution_count": 12,
   "metadata": {
    "colab": {
     "base_uri": "https://localhost:8080/"
    },
    "id": "pOkPA08rsv-4",
    "outputId": "52eb876c-fbf7-4c3f-e75f-01536d65d6f2"
   },
   "outputs": [
    {
     "name": "stdout",
     "output_type": "stream",
     "text": [
      "Checking for null values \n",
      " False    271116\n",
      "Name: Year, dtype: int64 \n",
      "\n",
      "Insights on the column \n",
      " count    271116.000000\n",
      "mean       1978.378480\n",
      "std          29.877632\n",
      "min        1896.000000\n",
      "25%        1960.000000\n",
      "50%        1988.000000\n",
      "75%        2002.000000\n",
      "max        2016.000000\n",
      "Name: Year, dtype: float64 \n",
      "\n",
      "Unique Values and their counts \n",
      " 1992    16413\n",
      "1988    14676\n",
      "2000    13821\n",
      "1996    13780\n",
      "2016    13688\n",
      "2008    13602\n",
      "2004    13443\n",
      "2012    12920\n",
      "1972    11959\n",
      "1984    11588\n",
      "1976    10502\n",
      "1968    10479\n",
      "1964     9480\n",
      "1952     9358\n",
      "1960     9235\n",
      "1980     8937\n",
      "1948     7480\n",
      "1936     7401\n",
      "1956     6434\n",
      "1924     5693\n",
      "1928     5574\n",
      "2014     4891\n",
      "2010     4402\n",
      "2006     4382\n",
      "1920     4292\n",
      "2002     4109\n",
      "1912     4040\n",
      "1998     3605\n",
      "1932     3321\n",
      "1994     3160\n",
      "1908     3101\n",
      "1900     1936\n",
      "1906     1733\n",
      "1904     1301\n",
      "1896      380\n",
      "Name: Year, dtype: int64\n"
     ]
    }
   ],
   "source": [
    "print(\"Checking for null values \\n\",athlete_events['Year'].isnull().value_counts(),\"\\n\") #There are no null values\n",
    "print(\"Insights on the column \\n\",athlete_events['Year'].describe(),\"\\n\")\n",
    "print(\"Unique Values and their counts \\n\",athlete_events['Year'].value_counts())"
   ]
  },
  {
   "cell_type": "code",
   "execution_count": 13,
   "metadata": {
    "colab": {
     "base_uri": "https://localhost:8080/"
    },
    "id": "8Xji80H_sydM",
    "outputId": "c0379f06-8921-48a0-fe54-e7f454d0b27a"
   },
   "outputs": [
    {
     "name": "stdout",
     "output_type": "stream",
     "text": [
      "Checking for null values \n",
      " False    271116\n",
      "Name: Season, dtype: int64 \n",
      "\n",
      "Insights on the column \n",
      " count     271116\n",
      "unique         2\n",
      "top       Summer\n",
      "freq      222552\n",
      "Name: Season, dtype: object \n",
      "\n",
      "Unique Values and their counts \n",
      " Summer    222552\n",
      "Winter     48564\n",
      "Name: Season, dtype: int64\n"
     ]
    }
   ],
   "source": [
    "print(\"Checking for null values \\n\",athlete_events['Season'].isnull().value_counts(),\"\\n\") #There are no null values\n",
    "print(\"Insights on the column \\n\",athlete_events['Season'].describe(),\"\\n\")\n",
    "print(\"Unique Values and their counts \\n\",athlete_events['Season'].value_counts())"
   ]
  },
  {
   "cell_type": "code",
   "execution_count": 14,
   "metadata": {
    "colab": {
     "base_uri": "https://localhost:8080/"
    },
    "id": "YJh_BsHjtQoF",
    "outputId": "7d488510-c7c8-43f5-fe9c-ed7689ecaa2a"
   },
   "outputs": [
    {
     "name": "stdout",
     "output_type": "stream",
     "text": [
      "Checking for null values \n",
      " False    271116\n",
      "Name: City, dtype: int64 \n",
      "\n",
      "Insights on the column \n",
      " count     271116\n",
      "unique        42\n",
      "top       London\n",
      "freq       22426\n",
      "Name: City, dtype: object \n",
      "\n",
      "Unique Values and their counts \n",
      " London                    22426\n",
      "Athina                    15556\n",
      "Sydney                    13821\n",
      "Atlanta                   13780\n",
      "Rio de Janeiro            13688\n",
      "Beijing                   13602\n",
      "Barcelona                 12977\n",
      "Los Angeles               12423\n",
      "Seoul                     12037\n",
      "Munich                    10304\n",
      "Montreal                   8641\n",
      "Mexico City                8588\n",
      "Helsinki                   8270\n",
      "Roma                       8119\n",
      "Tokyo                      7702\n",
      "Moskva                     7191\n",
      "Paris                      7169\n",
      "Berlin                     6506\n",
      "Amsterdam                  4992\n",
      "Sochi                      4891\n",
      "Melbourne                  4829\n",
      "Vancouver                  4402\n",
      "Torino                     4382\n",
      "Stockholm                  4338\n",
      "Antwerpen                  4292\n",
      "Salt Lake City             4109\n",
      "Innsbruck                  3639\n",
      "Nagano                     3605\n",
      "Albertville                3436\n",
      "Lillehammer                3160\n",
      "Calgary                    2639\n",
      "Sarajevo                   2134\n",
      "Lake Placid                2098\n",
      "Grenoble                   1891\n",
      "Sankt Moritz               1657\n",
      "Sapporo                    1655\n",
      "Cortina d'Ampezzo          1307\n",
      "St. Louis                  1301\n",
      "Squaw Valley               1116\n",
      "Oslo                       1088\n",
      "Garmisch-Partenkirchen      895\n",
      "Chamonix                    460\n",
      "Name: City, dtype: int64\n"
     ]
    }
   ],
   "source": [
    "print(\"Checking for null values \\n\",athlete_events['City'].isnull().value_counts(),\"\\n\") #There are no null values\n",
    "print(\"Insights on the column \\n\",athlete_events['City'].describe(),\"\\n\")\n",
    "print(\"Unique Values and their counts \\n\",athlete_events['City'].value_counts())"
   ]
  },
  {
   "cell_type": "code",
   "execution_count": 15,
   "metadata": {
    "colab": {
     "base_uri": "https://localhost:8080/"
    },
    "id": "lkfNCEK5Zpz0",
    "outputId": "3fd88cef-2e56-465d-ca6e-bd1400efe63a"
   },
   "outputs": [
    {
     "name": "stdout",
     "output_type": "stream",
     "text": [
      "Checking for null values \n",
      " False    271116\n",
      "Name: Sport, dtype: int64 \n",
      "\n",
      "Insights on the column \n",
      " count        271116\n",
      "unique           66\n",
      "top       Athletics\n",
      "freq          38624\n",
      "Name: Sport, dtype: object \n",
      "\n",
      "Unique Values and their counts \n",
      " Athletics        38624\n",
      "Gymnastics       26707\n",
      "Swimming         23195\n",
      "Shooting         11448\n",
      "Cycling          10859\n",
      "                 ...  \n",
      "Racquets            12\n",
      "Jeu De Paume        11\n",
      "Roque                4\n",
      "Basque Pelota        2\n",
      "Aeronautics          1\n",
      "Name: Sport, Length: 66, dtype: int64\n"
     ]
    }
   ],
   "source": [
    "print(\"Checking for null values \\n\",athlete_events['Sport'].isnull().value_counts(),\"\\n\") #There are no null values\n",
    "print(\"Insights on the column \\n\",athlete_events['Sport'].describe(),\"\\n\")\n",
    "print(\"Unique Values and their counts \\n\",athlete_events['Sport'].value_counts())"
   ]
  },
  {
   "cell_type": "code",
   "execution_count": 16,
   "metadata": {
    "colab": {
     "base_uri": "https://localhost:8080/"
    },
    "id": "5suZZUKlZtHl",
    "outputId": "80842e30-2439-48ab-f8d8-b2d7049de88d"
   },
   "outputs": [
    {
     "name": "stdout",
     "output_type": "stream",
     "text": [
      "Checking for null values \n",
      " False    271116\n",
      "Name: Event, dtype: int64 \n",
      "\n",
      "Insights on the column \n",
      " count                      271116\n",
      "unique                        765\n",
      "top       Football Men's Football\n",
      "freq                         5733\n",
      "Name: Event, dtype: object \n",
      "\n",
      "Unique Values and their counts \n",
      " Football Men's Football                                5733\n",
      "Ice Hockey Men's Ice Hockey                            4762\n",
      "Hockey Men's Hockey                                    3958\n",
      "Water Polo Men's Water Polo                            3358\n",
      "Basketball Men's Basketball                            3280\n",
      "                                                       ... \n",
      "Sailing Mixed 18 foot                                     2\n",
      "Archery Men's Target Archery, 28 metres, Individual       2\n",
      "Archery Men's Championnat Du Monde                        2\n",
      "Archery Men's Target Archery, 33 metres, Individual       2\n",
      "Aeronautics Mixed Aeronautics                             1\n",
      "Name: Event, Length: 765, dtype: int64\n"
     ]
    }
   ],
   "source": [
    "print(\"Checking for null values \\n\",athlete_events['Event'].isnull().value_counts(),\"\\n\") #There are no null values\n",
    "print(\"Insights on the column \\n\",athlete_events['Event'].describe(),\"\\n\")\n",
    "print(\"Unique Values and their counts \\n\",athlete_events['Event'].value_counts())"
   ]
  },
  {
   "cell_type": "code",
   "execution_count": 17,
   "metadata": {
    "colab": {
     "base_uri": "https://localhost:8080/"
    },
    "id": "bVYcrduNZtVP",
    "outputId": "a272833b-22f0-49c2-d945-e922fd30bb18"
   },
   "outputs": [
    {
     "name": "stdout",
     "output_type": "stream",
     "text": [
      "Checking for null values \n",
      " True     231333\n",
      "False     39783\n",
      "Name: Medal, dtype: int64 \n",
      "\n",
      "Insights on the column \n",
      " count     39783\n",
      "unique        3\n",
      "top        Gold\n",
      "freq      13372\n",
      "Name: Medal, dtype: object \n",
      "\n",
      "Unique Values and their counts \n",
      " Gold      13372\n",
      "Bronze    13295\n",
      "Silver    13116\n",
      "Name: Medal, dtype: int64\n"
     ]
    }
   ],
   "source": [
    "print(\"Checking for null values \\n\",athlete_events['Medal'].isnull().value_counts(),\"\\n\") #There are 231333 null values\n",
    "print(\"Insights on the column \\n\",athlete_events['Medal'].describe(),\"\\n\")\n",
    "print(\"Unique Values and their counts \\n\",athlete_events['Medal'].value_counts())"
   ]
  },
  {
   "cell_type": "code",
   "execution_count": 18,
   "metadata": {
    "id": "8aO0CN__Ztif"
   },
   "outputs": [],
   "source": [
    "noc_regions=pd.read_csv('C:/Users/aishw/Downloads/OLYMPIC MEDAL PREDICTION/noc_regions.csv')"
   ]
  },
  {
   "cell_type": "code",
   "execution_count": 19,
   "metadata": {
    "colab": {
     "base_uri": "https://localhost:8080/"
    },
    "id": "lfagchyPZtua",
    "outputId": "5d3b7d23-59dd-4aa5-ea9f-6e305b51a9e6"
   },
   "outputs": [
    {
     "data": {
      "text/plain": [
       "Index(['NOC', 'region', 'notes'], dtype='object')"
      ]
     },
     "execution_count": 19,
     "metadata": {},
     "output_type": "execute_result"
    }
   ],
   "source": [
    "noc_regions.columns"
   ]
  },
  {
   "cell_type": "code",
   "execution_count": 20,
   "metadata": {
    "colab": {
     "base_uri": "https://localhost:8080/"
    },
    "id": "N0tqgacEZtx5",
    "outputId": "f239011d-5f04-4e7d-fd65-c3a28baa42a4"
   },
   "outputs": [
    {
     "name": "stdout",
     "output_type": "stream",
     "text": [
      "Checking for null values \n",
      " False    230\n",
      "Name: NOC, dtype: int64 \n",
      "\n",
      "Insights on the column \n",
      " count     230\n",
      "unique    230\n",
      "top       CRO\n",
      "freq        1\n",
      "Name: NOC, dtype: object \n",
      "\n",
      "Unique Values and their counts \n",
      " CRO    1\n",
      "GER    1\n",
      "PUR    1\n",
      "KAZ    1\n",
      "ISV    1\n",
      "      ..\n",
      "MAS    1\n",
      "KOR    1\n",
      "SOM    1\n",
      "NFL    1\n",
      "SEN    1\n",
      "Name: NOC, Length: 230, dtype: int64\n"
     ]
    }
   ],
   "source": [
    "print(\"Checking for null values \\n\",noc_regions['NOC'].isnull().value_counts(),\"\\n\") #There are no null values\n",
    "print(\"Insights on the column \\n\",noc_regions['NOC'].describe(),\"\\n\")\n",
    "print(\"Unique Values and their counts \\n\",noc_regions['NOC'].value_counts())\n"
   ]
  },
  {
   "cell_type": "code",
   "execution_count": 21,
   "metadata": {
    "colab": {
     "base_uri": "https://localhost:8080/"
    },
    "id": "so2F6vXCZ9xh",
    "outputId": "f64c2cbb-25f9-4fe9-fadc-142d5da1e18c"
   },
   "outputs": [
    {
     "name": "stdout",
     "output_type": "stream",
     "text": [
      "Checking for null values \n",
      " False    227\n",
      "True       3\n",
      "Name: region, dtype: int64 \n",
      "\n",
      "Insights on the column \n",
      " count         227\n",
      "unique        206\n",
      "top       Germany\n",
      "freq            4\n",
      "Name: region, dtype: object \n",
      "\n",
      "Unique Values and their counts \n",
      " Germany           4\n",
      "Serbia            3\n",
      "Czech Republic    3\n",
      "Malaysia          3\n",
      "Russia            3\n",
      "                 ..\n",
      "Paraguay          1\n",
      "Liberia           1\n",
      "Bermuda           1\n",
      "Sweden            1\n",
      "Somalia           1\n",
      "Name: region, Length: 206, dtype: int64\n"
     ]
    }
   ],
   "source": [
    "print(\"Checking for null values \\n\",noc_regions['region'].isnull().value_counts(),\"\\n\") #There are 3 null values\n",
    "print(\"Insights on the column \\n\",noc_regions['region'].describe(),\"\\n\")\n",
    "print(\"Unique Values and their counts \\n\",noc_regions['region'].value_counts())"
   ]
  },
  {
   "cell_type": "code",
   "execution_count": 22,
   "metadata": {
    "colab": {
     "base_uri": "https://localhost:8080/"
    },
    "id": "H8EH8PLGaDVU",
    "outputId": "ee8a6ce0-f7cd-4efd-8ae0-190295a293e4"
   },
   "outputs": [
    {
     "name": "stdout",
     "output_type": "stream",
     "text": [
      "Checking for null values \n",
      " True     209\n",
      "False     21\n",
      "Name: notes, dtype: int64 \n",
      "\n",
      "Insights on the column \n",
      " count              21\n",
      "unique             21\n",
      "top       South Yemen\n",
      "freq                1\n",
      "Name: notes, dtype: object \n",
      "\n",
      "Unique Values and their counts \n",
      " South Yemen                    1\n",
      "Trinidad and Tobago            1\n",
      "North Borneo                   1\n",
      "West Indies Federation         1\n",
      "Netherlands Antilles           1\n",
      "Australasia                    1\n",
      "Turks and Caicos Islands       1\n",
      "Unknown                        1\n",
      "Refugee Olympic Team           1\n",
      "Serbia and Montenegro          1\n",
      "Bohemia                        1\n",
      "Crete                          1\n",
      "United Arab Republic           1\n",
      "Hong Kong                      1\n",
      "Tuvalu                         1\n",
      "Virgin Islands                 1\n",
      "Newfoundland                   1\n",
      "Yugoslavia                     1\n",
      "Individual Olympic Athletes    1\n",
      "Antigua and Barbuda            1\n",
      "North Yemen                    1\n",
      "Name: notes, dtype: int64\n"
     ]
    }
   ],
   "source": [
    "print(\"Checking for null values \\n\",noc_regions['notes'].isnull().value_counts(),\"\\n\") #There are 209 null values\n",
    "print(\"Insights on the column \\n\",noc_regions['notes'].describe(),\"\\n\")\n",
    "print(\"Unique Values and their counts \\n\",noc_regions['notes'].value_counts())"
   ]
  },
  {
   "cell_type": "code",
   "execution_count": 23,
   "metadata": {
    "id": "oPCMYXS8aDkr"
   },
   "outputs": [],
   "source": [
    "athlete_merged = pd.merge(athlete_events,noc_regions)"
   ]
  },
  {
   "cell_type": "code",
   "execution_count": 24,
   "metadata": {
    "colab": {
     "base_uri": "https://localhost:8080/",
     "height": 424
    },
    "id": "5RQMvi274gBz",
    "outputId": "1eabe32c-2817-494e-ba51-72dadfbfb7a5"
   },
   "outputs": [
    {
     "data": {
      "text/html": [
       "<div>\n",
       "<style scoped>\n",
       "    .dataframe tbody tr th:only-of-type {\n",
       "        vertical-align: middle;\n",
       "    }\n",
       "\n",
       "    .dataframe tbody tr th {\n",
       "        vertical-align: top;\n",
       "    }\n",
       "\n",
       "    .dataframe thead th {\n",
       "        text-align: right;\n",
       "    }\n",
       "</style>\n",
       "<table border=\"1\" class=\"dataframe\">\n",
       "  <thead>\n",
       "    <tr style=\"text-align: right;\">\n",
       "      <th></th>\n",
       "      <th>Year</th>\n",
       "      <th>Season</th>\n",
       "      <th>Medal</th>\n",
       "      <th>medal_count</th>\n",
       "    </tr>\n",
       "  </thead>\n",
       "  <tbody>\n",
       "    <tr>\n",
       "      <th>0</th>\n",
       "      <td>1896</td>\n",
       "      <td>Summer</td>\n",
       "      <td>Gold</td>\n",
       "      <td>62</td>\n",
       "    </tr>\n",
       "    <tr>\n",
       "      <th>1</th>\n",
       "      <td>1896</td>\n",
       "      <td>Summer</td>\n",
       "      <td>Silver</td>\n",
       "      <td>43</td>\n",
       "    </tr>\n",
       "    <tr>\n",
       "      <th>2</th>\n",
       "      <td>1896</td>\n",
       "      <td>Summer</td>\n",
       "      <td>Bronze</td>\n",
       "      <td>38</td>\n",
       "    </tr>\n",
       "    <tr>\n",
       "      <th>3</th>\n",
       "      <td>1900</td>\n",
       "      <td>Summer</td>\n",
       "      <td>Silver</td>\n",
       "      <td>228</td>\n",
       "    </tr>\n",
       "    <tr>\n",
       "      <th>4</th>\n",
       "      <td>1900</td>\n",
       "      <td>Summer</td>\n",
       "      <td>Gold</td>\n",
       "      <td>201</td>\n",
       "    </tr>\n",
       "    <tr>\n",
       "      <th>...</th>\n",
       "      <td>...</td>\n",
       "      <td>...</td>\n",
       "      <td>...</td>\n",
       "      <td>...</td>\n",
       "    </tr>\n",
       "    <tr>\n",
       "      <th>148</th>\n",
       "      <td>2014</td>\n",
       "      <td>Winter</td>\n",
       "      <td>Bronze</td>\n",
       "      <td>198</td>\n",
       "    </tr>\n",
       "    <tr>\n",
       "      <th>149</th>\n",
       "      <td>2014</td>\n",
       "      <td>Winter</td>\n",
       "      <td>Silver</td>\n",
       "      <td>197</td>\n",
       "    </tr>\n",
       "    <tr>\n",
       "      <th>150</th>\n",
       "      <td>2016</td>\n",
       "      <td>Summer</td>\n",
       "      <td>Bronze</td>\n",
       "      <td>703</td>\n",
       "    </tr>\n",
       "    <tr>\n",
       "      <th>151</th>\n",
       "      <td>2016</td>\n",
       "      <td>Summer</td>\n",
       "      <td>Gold</td>\n",
       "      <td>664</td>\n",
       "    </tr>\n",
       "    <tr>\n",
       "      <th>152</th>\n",
       "      <td>2016</td>\n",
       "      <td>Summer</td>\n",
       "      <td>Silver</td>\n",
       "      <td>655</td>\n",
       "    </tr>\n",
       "  </tbody>\n",
       "</table>\n",
       "<p>153 rows × 4 columns</p>\n",
       "</div>"
      ],
      "text/plain": [
       "     Year  Season   Medal  medal_count\n",
       "0    1896  Summer    Gold           62\n",
       "1    1896  Summer  Silver           43\n",
       "2    1896  Summer  Bronze           38\n",
       "3    1900  Summer  Silver          228\n",
       "4    1900  Summer    Gold          201\n",
       "..    ...     ...     ...          ...\n",
       "148  2014  Winter  Bronze          198\n",
       "149  2014  Winter  Silver          197\n",
       "150  2016  Summer  Bronze          703\n",
       "151  2016  Summer    Gold          664\n",
       "152  2016  Summer  Silver          655\n",
       "\n",
       "[153 rows x 4 columns]"
      ]
     },
     "execution_count": 24,
     "metadata": {},
     "output_type": "execute_result"
    }
   ],
   "source": [
    "medal_count = athlete_merged.groupby(['Year' ,'Season'])['Medal'].value_counts().reset_index(name='medal_count')\n",
    "medal_count"
   ]
  },
  {
   "cell_type": "code",
   "execution_count": 25,
   "metadata": {
    "colab": {
     "base_uri": "https://localhost:8080/",
     "height": 394
    },
    "id": "CKspHHPA4ttn",
    "outputId": "48ef81ec-7fad-4d74-ec43-146c86fa3e2c"
   },
   "outputs": [
    {
     "data": {
      "text/html": [
       "<div>\n",
       "<style scoped>\n",
       "    .dataframe tbody tr th:only-of-type {\n",
       "        vertical-align: middle;\n",
       "    }\n",
       "\n",
       "    .dataframe tbody tr th {\n",
       "        vertical-align: top;\n",
       "    }\n",
       "\n",
       "    .dataframe thead th {\n",
       "        text-align: right;\n",
       "    }\n",
       "</style>\n",
       "<table border=\"1\" class=\"dataframe\">\n",
       "  <thead>\n",
       "    <tr style=\"text-align: right;\">\n",
       "      <th></th>\n",
       "      <th>Medal</th>\n",
       "      <th>Bronze</th>\n",
       "      <th>Gold</th>\n",
       "      <th>Silver</th>\n",
       "    </tr>\n",
       "    <tr>\n",
       "      <th>Year</th>\n",
       "      <th>Season</th>\n",
       "      <th></th>\n",
       "      <th></th>\n",
       "      <th></th>\n",
       "    </tr>\n",
       "  </thead>\n",
       "  <tbody>\n",
       "    <tr>\n",
       "      <th>1896</th>\n",
       "      <th>Summer</th>\n",
       "      <td>38</td>\n",
       "      <td>62</td>\n",
       "      <td>43</td>\n",
       "    </tr>\n",
       "    <tr>\n",
       "      <th>1900</th>\n",
       "      <th>Summer</th>\n",
       "      <td>175</td>\n",
       "      <td>201</td>\n",
       "      <td>228</td>\n",
       "    </tr>\n",
       "    <tr>\n",
       "      <th>1904</th>\n",
       "      <th>Summer</th>\n",
       "      <td>150</td>\n",
       "      <td>173</td>\n",
       "      <td>163</td>\n",
       "    </tr>\n",
       "    <tr>\n",
       "      <th>1906</th>\n",
       "      <th>Summer</th>\n",
       "      <td>145</td>\n",
       "      <td>157</td>\n",
       "      <td>156</td>\n",
       "    </tr>\n",
       "    <tr>\n",
       "      <th>1908</th>\n",
       "      <th>Summer</th>\n",
       "      <td>256</td>\n",
       "      <td>294</td>\n",
       "      <td>281</td>\n",
       "    </tr>\n",
       "    <tr>\n",
       "      <th>1912</th>\n",
       "      <th>Summer</th>\n",
       "      <td>300</td>\n",
       "      <td>326</td>\n",
       "      <td>315</td>\n",
       "    </tr>\n",
       "    <tr>\n",
       "      <th>1920</th>\n",
       "      <th>Summer</th>\n",
       "      <td>367</td>\n",
       "      <td>493</td>\n",
       "      <td>448</td>\n",
       "    </tr>\n",
       "    <tr>\n",
       "      <th rowspan=\"2\" valign=\"top\">1924</th>\n",
       "      <th>Summer</th>\n",
       "      <td>274</td>\n",
       "      <td>277</td>\n",
       "      <td>281</td>\n",
       "    </tr>\n",
       "    <tr>\n",
       "      <th>Winter</th>\n",
       "      <td>37</td>\n",
       "      <td>55</td>\n",
       "      <td>38</td>\n",
       "    </tr>\n",
       "    <tr>\n",
       "      <th>1928</th>\n",
       "      <th>Summer</th>\n",
       "      <td>250</td>\n",
       "      <td>245</td>\n",
       "      <td>239</td>\n",
       "    </tr>\n",
       "  </tbody>\n",
       "</table>\n",
       "</div>"
      ],
      "text/plain": [
       "Medal        Bronze  Gold  Silver\n",
       "Year Season                      \n",
       "1896 Summer      38    62      43\n",
       "1900 Summer     175   201     228\n",
       "1904 Summer     150   173     163\n",
       "1906 Summer     145   157     156\n",
       "1908 Summer     256   294     281\n",
       "1912 Summer     300   326     315\n",
       "1920 Summer     367   493     448\n",
       "1924 Summer     274   277     281\n",
       "     Winter      37    55      38\n",
       "1928 Summer     250   245     239"
      ]
     },
     "execution_count": 25,
     "metadata": {},
     "output_type": "execute_result"
    }
   ],
   "source": [
    "medal_type_count_year =pd.pivot_table(medal_count, values='medal_count', index=['Year' ,'Season'], columns=['Medal'], aggfunc=np.sum)[:10]\n",
    "medal_type_count_year"
   ]
  },
  {
   "cell_type": "code",
   "execution_count": 26,
   "metadata": {
    "colab": {
     "base_uri": "https://localhost:8080/"
    },
    "id": "u2qKUzph5JWG",
    "outputId": "1114e54d-2638-4787-b9b0-3403eb940442"
   },
   "outputs": [
    {
     "data": {
      "text/plain": [
       "1385"
      ]
     },
     "execution_count": 26,
     "metadata": {},
     "output_type": "execute_result"
    }
   ],
   "source": [
    "athlete_merged.duplicated().sum()"
   ]
  },
  {
   "cell_type": "code",
   "execution_count": 27,
   "metadata": {
    "id": "c7AwYyPl5Xtf"
   },
   "outputs": [],
   "source": [
    "athlete_merged = athlete_merged.drop_duplicates()"
   ]
  },
  {
   "cell_type": "code",
   "execution_count": 28,
   "metadata": {
    "colab": {
     "base_uri": "https://localhost:8080/"
    },
    "id": "mImzBrTS5cf-",
    "outputId": "818fc4f4-3cc8-4c6d-aefe-d59f18db1870"
   },
   "outputs": [
    {
     "data": {
      "text/plain": [
       "0"
      ]
     },
     "execution_count": 28,
     "metadata": {},
     "output_type": "execute_result"
    }
   ],
   "source": [
    "athlete_merged.duplicated().sum()"
   ]
  },
  {
   "cell_type": "code",
   "execution_count": 29,
   "metadata": {
    "id": "YIMnA6pj6HFX"
   },
   "outputs": [],
   "source": [
    "athlete_merged['Age'].fillna((athlete_merged['Age'].mean()),inplace=True)\n",
    "athlete_merged['Height'].fillna((athlete_merged['Height'].mean()),inplace=True)\n",
    "athlete_merged['Weight'].fillna((athlete_merged['Weight'].mean()),inplace=True)"
   ]
  },
  {
   "cell_type": "code",
   "execution_count": 30,
   "metadata": {
    "id": "byD3l1fG6IFE"
   },
   "outputs": [],
   "source": [
    "athlete_merged['region'].fillna(athlete_merged['Team'],inplace=True)"
   ]
  },
  {
   "cell_type": "code",
   "execution_count": 31,
   "metadata": {
    "id": "Fn3ii-_t6IYi"
   },
   "outputs": [],
   "source": [
    "athlete_merged['notes'].fillna('No Notes',inplace=True)"
   ]
  },
  {
   "cell_type": "code",
   "execution_count": 32,
   "metadata": {
    "id": "YIBc16Dj6Ikl"
   },
   "outputs": [],
   "source": [
    "athlete_merged['Medal'].fillna('No Medal',inplace =True)"
   ]
  },
  {
   "cell_type": "code",
   "execution_count": 33,
   "metadata": {
    "colab": {
     "base_uri": "https://localhost:8080/"
    },
    "id": "acE3cDfr6IvC",
    "outputId": "c2c2f727-d51a-425d-afe1-c84eb4f8ddad"
   },
   "outputs": [
    {
     "data": {
      "text/plain": [
       "ID        0\n",
       "Name      0\n",
       "Sex       0\n",
       "Age       0\n",
       "Height    0\n",
       "Weight    0\n",
       "Team      0\n",
       "NOC       0\n",
       "Games     0\n",
       "Year      0\n",
       "Season    0\n",
       "City      0\n",
       "Sport     0\n",
       "Event     0\n",
       "Medal     0\n",
       "region    0\n",
       "notes     0\n",
       "dtype: int64"
      ]
     },
     "execution_count": 33,
     "metadata": {},
     "output_type": "execute_result"
    }
   ],
   "source": [
    "athlete_merged.isnull().sum()"
   ]
  },
  {
   "cell_type": "code",
   "execution_count": 34,
   "metadata": {
    "colab": {
     "base_uri": "https://localhost:8080/"
    },
    "id": "f6NV0uit8f-f",
    "outputId": "4285afda-ca5d-4f34-b2ba-f3cfa53043a7"
   },
   "outputs": [
    {
     "name": "stdout",
     "output_type": "stream",
     "text": [
      "Total number of althetes in olymics: 269382\n"
     ]
    }
   ],
   "source": [
    "althetes_count = len(athlete_merged.ID)\n",
    "print('Total number of althetes in olymics:', althetes_count)"
   ]
  },
  {
   "cell_type": "code",
   "execution_count": 35,
   "metadata": {
    "colab": {
     "base_uri": "https://localhost:8080/",
     "height": 112
    },
    "id": "0N8rfcg1A8MK",
    "outputId": "e138e1d3-257d-44fc-de15-8a5a596f1c65"
   },
   "outputs": [
    {
     "data": {
      "text/html": [
       "<div>\n",
       "<style scoped>\n",
       "    .dataframe tbody tr th:only-of-type {\n",
       "        vertical-align: middle;\n",
       "    }\n",
       "\n",
       "    .dataframe tbody tr th {\n",
       "        vertical-align: top;\n",
       "    }\n",
       "\n",
       "    .dataframe thead th {\n",
       "        text-align: right;\n",
       "    }\n",
       "</style>\n",
       "<table border=\"1\" class=\"dataframe\">\n",
       "  <thead>\n",
       "    <tr style=\"text-align: right;\">\n",
       "      <th></th>\n",
       "      <th>Sex</th>\n",
       "    </tr>\n",
       "  </thead>\n",
       "  <tbody>\n",
       "    <tr>\n",
       "      <th>M</th>\n",
       "      <td>195133</td>\n",
       "    </tr>\n",
       "    <tr>\n",
       "      <th>F</th>\n",
       "      <td>74249</td>\n",
       "    </tr>\n",
       "  </tbody>\n",
       "</table>\n",
       "</div>"
      ],
      "text/plain": [
       "      Sex\n",
       "M  195133\n",
       "F   74249"
      ]
     },
     "execution_count": 35,
     "metadata": {},
     "output_type": "execute_result"
    }
   ],
   "source": [
    "#gender_value_count\n",
    "gender_count = athlete_merged[\"Sex\"].value_counts()\n",
    "gender_count.to_frame()"
   ]
  },
  {
   "cell_type": "code",
   "execution_count": 36,
   "metadata": {
    "colab": {
     "base_uri": "https://localhost:8080/",
     "height": 373
    },
    "id": "p8wPdcaQ6I62",
    "outputId": "52f8a430-780c-44b5-ff2b-077460ce0410"
   },
   "outputs": [
    {
     "data": {
      "image/png": "[encoded data removed]",
      "text/plain": [
       "<Figure size 864x432 with 1 Axes>"
      ]
     },
     "metadata": {},
     "output_type": "display_data"
    }
   ],
   "source": [
    "plt.figure(figsize=(12,6))\n",
    "plt.title('Gender Distribution')\n",
    "plt.pie(gender_count, labels= gender_count, autopct = \"%1.1f%%\", startangle=180, shadow= True);"
   ]
  },
  {
   "cell_type": "code",
   "execution_count": 37,
   "metadata": {
    "colab": {
     "base_uri": "https://localhost:8080/"
    },
    "id": "QbNBgAD88pQE",
    "outputId": "a19c72bb-62d0-40c8-b964-79652779a272"
   },
   "outputs": [
    {
     "data": {
      "text/plain": [
       "(42,\n",
       " array(['Barcelona', 'London', 'Sydney', 'Athina', 'Rio de Janeiro',\n",
       "        'Torino', 'Nagano', 'Salt Lake City', 'Atlanta', 'Beijing',\n",
       "        'Sochi', 'Los Angeles', 'Berlin', 'Lake Placid', 'Sarajevo',\n",
       "        'Seoul', 'Vancouver', 'Albertville', 'Lillehammer', 'Calgary',\n",
       "        'Helsinki', 'Antwerpen', 'Paris', 'Munich', 'Amsterdam',\n",
       "        'Stockholm', 'Roma', 'Melbourne', 'Tokyo', 'Montreal',\n",
       "        'Mexico City', 'Moskva', 'Grenoble', 'Innsbruck', 'Sankt Moritz',\n",
       "        'Oslo', 'Squaw Valley', 'Sapporo', 'Garmisch-Partenkirchen',\n",
       "        \"Cortina d'Ampezzo\", 'Chamonix', 'St. Louis'], dtype=object))"
      ]
     },
     "execution_count": 37,
     "metadata": {},
     "output_type": "execute_result"
    }
   ],
   "source": [
    "city_count, city_arr = athlete_merged['City'].nunique(), athlete_merged['City'].unique()\n",
    "city_count, city_arr"
   ]
  },
  {
   "cell_type": "code",
   "execution_count": 38,
   "metadata": {
    "colab": {
     "base_uri": "https://localhost:8080/"
    },
    "id": "q2W3U0E36JIZ",
    "outputId": "e0fcca10-166f-4a8c-d74d-57c154b15c38"
   },
   "outputs": [
    {
     "data": {
      "text/plain": [
       "array(['Speed Skating', 'Short Track Speed Skating', 'Curling',\n",
       "       'Figure Skating', 'Snowboarding', 'Cross Country Skiing',\n",
       "       'Ice Hockey', 'Freestyle Skiing', 'Alpine Skiing', 'Biathlon',\n",
       "       'Ski Jumping', 'Bobsleigh', 'Nordic Combined', 'Skeleton', 'Luge',\n",
       "       'Military Ski Patrol', 'Alpinism'], dtype=object)"
      ]
     },
     "execution_count": 38,
     "metadata": {},
     "output_type": "execute_result"
    }
   ],
   "source": [
    "winter_games = athlete_merged[athlete_merged.Season == 'Winter'].Sport.unique()\n",
    "winter_games"
   ]
  },
  {
   "cell_type": "code",
   "execution_count": 39,
   "metadata": {
    "colab": {
     "base_uri": "https://localhost:8080/",
     "height": 295
    },
    "id": "YWkRVbDT9iNH",
    "outputId": "bb073abc-4ca2-4792-986b-f2df3bdea52a"
   },
   "outputs": [
    {
     "data": {
      "image/png": "[encoded data removed]",
      "text/plain": [
       "<Figure size 432x288 with 1 Axes>"
      ]
     },
     "metadata": {
      "needs_background": "light"
     },
     "output_type": "display_data"
    }
   ],
   "source": [
    "winter=athlete_merged[athlete_merged['Season']=='Winter']\n",
    "winter_medal=winter[winter['Medal']!='No Medal']\n",
    "sns.countplot(x='Medal',hue='Sex',data=winter_medal)\n",
    "plt.xlabel('Medal')\n",
    "plt.ylabel('Number of Medals')\n",
    "plt.title('Gender wise medal distribution in Winter Olympics')\n",
    "plt.show()"
   ]
  },
  {
   "cell_type": "code",
   "execution_count": 40,
   "metadata": {
    "colab": {
     "base_uri": "https://localhost:8080/"
    },
    "id": "mPM5Ctfd9XB_",
    "outputId": "0d62ca04-e4e9-4db1-bd16-a542d57809a5"
   },
   "outputs": [
    {
     "data": {
      "text/plain": [
       "array(['Basketball', 'Judo', 'Boxing', 'Wrestling', 'Swimming',\n",
       "       'Softball', 'Hockey', 'Archery', 'Triathlon', 'Football',\n",
       "       'Rhythmic Gymnastics', 'Athletics', 'Badminton', 'Fencing',\n",
       "       'Gymnastics', 'Volleyball', 'Baseball', 'Water Polo', 'Shooting',\n",
       "       'Weightlifting', 'Cycling', 'Rowing', 'Sailing', 'Diving',\n",
       "       'Modern Pentathlon', 'Art Competitions', 'Synchronized Swimming',\n",
       "       'Handball', 'Canoeing', 'Table Tennis', 'Tennis', 'Taekwondo',\n",
       "       'Beach Volleyball', 'Trampolining', 'Golf', 'Equestrianism',\n",
       "       'Tug-Of-War', 'Polo', 'Rugby Sevens', 'Ice Hockey',\n",
       "       'Figure Skating', 'Roque', 'Rugby', 'Lacrosse', 'Jeu De Paume',\n",
       "       'Cricket', 'Croquet', 'Motorboating', 'Basque Pelota', 'Alpinism',\n",
       "       'Aeronautics', 'Racquets'], dtype=object)"
      ]
     },
     "execution_count": 40,
     "metadata": {},
     "output_type": "execute_result"
    }
   ],
   "source": [
    "summer_games = athlete_merged[athlete_merged.Season == 'Summer'].Sport.unique()\n",
    "summer_games"
   ]
  },
  {
   "cell_type": "code",
   "execution_count": 41,
   "metadata": {
    "colab": {
     "base_uri": "https://localhost:8080/",
     "height": 295
    },
    "id": "TbzpclSC9dax",
    "outputId": "242a84b5-2f06-459f-848a-d15944fc7be6"
   },
   "outputs": [
    {
     "data": {
      "image/png": "[encoded data removed]",
      "text/plain": [
       "<Figure size 432x288 with 1 Axes>"
      ]
     },
     "metadata": {
      "needs_background": "light"
     },
     "output_type": "display_data"
    }
   ],
   "source": [
    "summer=athlete_merged[athlete_merged['Season']=='Summer']\n",
    "summer_medal = summer[summer['Medal']!='No Medal']\n",
    "sns.countplot(x='Medal',hue='Sex', data=summer_medal)\n",
    "plt.xlabel('Medal')\n",
    "plt.ylabel('Number of Medals')\n",
    "plt.title('Gender wise medal distribution in Summer Olympics')\n",
    "plt.show()"
   ]
  },
  {
   "cell_type": "code",
   "execution_count": 42,
   "metadata": {
    "colab": {
     "base_uri": "https://localhost:8080/",
     "height": 405
    },
    "id": "HvFJZxez-q2Q",
    "outputId": "58d78e90-1246-4cda-88b5-be25e3870d24"
   },
   "outputs": [
    {
     "data": {
      "text/plain": [
       "<matplotlib.axes._subplots.AxesSubplot at 0x2130e3d7308>"
      ]
     },
     "execution_count": 42,
     "metadata": {},
     "output_type": "execute_result"
    },
    {
     "data": {
      "image/png": "[encoded data removed]",
      "text/plain": [
       "<Figure size 864x432 with 1 Axes>"
      ]
     },
     "metadata": {
      "needs_background": "light"
     },
     "output_type": "display_data"
    }
   ],
   "source": [
    "plt.figure(figsize=(12,6))\n",
    "sns.countplot(data=athlete_merged, y = athlete_merged.query(\"Season == 'Winter'\")['Sport'], hue='Sex')\n"
   ]
  },
  {
   "cell_type": "code",
   "execution_count": 43,
   "metadata": {
    "colab": {
     "base_uri": "https://localhost:8080/",
     "height": 641
    },
    "id": "i3fm4Br9FSWD",
    "outputId": "309674e1-2427-4d2b-9241-2c656c140611"
   },
   "outputs": [
    {
     "data": {
      "text/html": [
       "<div>\n",
       "<style scoped>\n",
       "    .dataframe tbody tr th:only-of-type {\n",
       "        vertical-align: middle;\n",
       "    }\n",
       "\n",
       "    .dataframe tbody tr th {\n",
       "        vertical-align: top;\n",
       "    }\n",
       "\n",
       "    .dataframe thead th {\n",
       "        text-align: right;\n",
       "    }\n",
       "</style>\n",
       "<table border=\"1\" class=\"dataframe\">\n",
       "  <thead>\n",
       "    <tr style=\"text-align: right;\">\n",
       "      <th></th>\n",
       "      <th>ID</th>\n",
       "      <th>Name</th>\n",
       "      <th>Sex</th>\n",
       "      <th>Age</th>\n",
       "      <th>Height</th>\n",
       "      <th>Weight</th>\n",
       "      <th>Team</th>\n",
       "      <th>NOC</th>\n",
       "      <th>Games</th>\n",
       "      <th>Year</th>\n",
       "      <th>Season</th>\n",
       "      <th>City</th>\n",
       "      <th>Sport</th>\n",
       "      <th>Event</th>\n",
       "      <th>Medal</th>\n",
       "      <th>region</th>\n",
       "      <th>notes</th>\n",
       "    </tr>\n",
       "  </thead>\n",
       "  <tbody>\n",
       "    <tr>\n",
       "      <th>68</th>\n",
       "      <td>17294</td>\n",
       "      <td>Cai Yalin</td>\n",
       "      <td>M</td>\n",
       "      <td>23.0</td>\n",
       "      <td>174.0</td>\n",
       "      <td>60.0</td>\n",
       "      <td>China</td>\n",
       "      <td>CHN</td>\n",
       "      <td>2000 Summer</td>\n",
       "      <td>2000</td>\n",
       "      <td>Summer</td>\n",
       "      <td>Sydney</td>\n",
       "      <td>Shooting</td>\n",
       "      <td>Shooting Men's Air Rifle, 10 metres</td>\n",
       "      <td>Gold</td>\n",
       "      <td>China</td>\n",
       "      <td>No Notes</td>\n",
       "    </tr>\n",
       "    <tr>\n",
       "      <th>77</th>\n",
       "      <td>17299</td>\n",
       "      <td>Cai Yun</td>\n",
       "      <td>M</td>\n",
       "      <td>32.0</td>\n",
       "      <td>181.0</td>\n",
       "      <td>68.0</td>\n",
       "      <td>China-1</td>\n",
       "      <td>CHN</td>\n",
       "      <td>2012 Summer</td>\n",
       "      <td>2012</td>\n",
       "      <td>Summer</td>\n",
       "      <td>London</td>\n",
       "      <td>Badminton</td>\n",
       "      <td>Badminton Men's Doubles</td>\n",
       "      <td>Gold</td>\n",
       "      <td>China</td>\n",
       "      <td>No Notes</td>\n",
       "    </tr>\n",
       "    <tr>\n",
       "      <th>87</th>\n",
       "      <td>17995</td>\n",
       "      <td>Cao Lei</td>\n",
       "      <td>F</td>\n",
       "      <td>24.0</td>\n",
       "      <td>168.0</td>\n",
       "      <td>75.0</td>\n",
       "      <td>China</td>\n",
       "      <td>CHN</td>\n",
       "      <td>2008 Summer</td>\n",
       "      <td>2008</td>\n",
       "      <td>Summer</td>\n",
       "      <td>Beijing</td>\n",
       "      <td>Weightlifting</td>\n",
       "      <td>Weightlifting Women's Heavyweight</td>\n",
       "      <td>Gold</td>\n",
       "      <td>China</td>\n",
       "      <td>No Notes</td>\n",
       "    </tr>\n",
       "    <tr>\n",
       "      <th>104</th>\n",
       "      <td>18005</td>\n",
       "      <td>Cao Yuan</td>\n",
       "      <td>M</td>\n",
       "      <td>17.0</td>\n",
       "      <td>160.0</td>\n",
       "      <td>42.0</td>\n",
       "      <td>China</td>\n",
       "      <td>CHN</td>\n",
       "      <td>2012 Summer</td>\n",
       "      <td>2012</td>\n",
       "      <td>Summer</td>\n",
       "      <td>London</td>\n",
       "      <td>Diving</td>\n",
       "      <td>Diving Men's Synchronized Platform</td>\n",
       "      <td>Gold</td>\n",
       "      <td>China</td>\n",
       "      <td>No Notes</td>\n",
       "    </tr>\n",
       "    <tr>\n",
       "      <th>105</th>\n",
       "      <td>18005</td>\n",
       "      <td>Cao Yuan</td>\n",
       "      <td>M</td>\n",
       "      <td>21.0</td>\n",
       "      <td>160.0</td>\n",
       "      <td>42.0</td>\n",
       "      <td>China</td>\n",
       "      <td>CHN</td>\n",
       "      <td>2016 Summer</td>\n",
       "      <td>2016</td>\n",
       "      <td>Summer</td>\n",
       "      <td>Rio de Janeiro</td>\n",
       "      <td>Diving</td>\n",
       "      <td>Diving Men's Springboard</td>\n",
       "      <td>Gold</td>\n",
       "      <td>China</td>\n",
       "      <td>No Notes</td>\n",
       "    </tr>\n",
       "    <tr>\n",
       "      <th>...</th>\n",
       "      <td>...</td>\n",
       "      <td>...</td>\n",
       "      <td>...</td>\n",
       "      <td>...</td>\n",
       "      <td>...</td>\n",
       "      <td>...</td>\n",
       "      <td>...</td>\n",
       "      <td>...</td>\n",
       "      <td>...</td>\n",
       "      <td>...</td>\n",
       "      <td>...</td>\n",
       "      <td>...</td>\n",
       "      <td>...</td>\n",
       "      <td>...</td>\n",
       "      <td>...</td>\n",
       "      <td>...</td>\n",
       "      <td>...</td>\n",
       "    </tr>\n",
       "    <tr>\n",
       "      <th>269895</th>\n",
       "      <td>129665</td>\n",
       "      <td>Hannelore \"Hanni\" Wenzel (-Weirather)</td>\n",
       "      <td>F</td>\n",
       "      <td>23.0</td>\n",
       "      <td>165.0</td>\n",
       "      <td>57.0</td>\n",
       "      <td>Liechtenstein</td>\n",
       "      <td>LIE</td>\n",
       "      <td>1980 Winter</td>\n",
       "      <td>1980</td>\n",
       "      <td>Winter</td>\n",
       "      <td>Lake Placid</td>\n",
       "      <td>Alpine Skiing</td>\n",
       "      <td>Alpine Skiing Women's Giant Slalom</td>\n",
       "      <td>Gold</td>\n",
       "      <td>Liechtenstein</td>\n",
       "      <td>No Notes</td>\n",
       "    </tr>\n",
       "    <tr>\n",
       "      <th>269896</th>\n",
       "      <td>129665</td>\n",
       "      <td>Hannelore \"Hanni\" Wenzel (-Weirather)</td>\n",
       "      <td>F</td>\n",
       "      <td>23.0</td>\n",
       "      <td>165.0</td>\n",
       "      <td>57.0</td>\n",
       "      <td>Liechtenstein</td>\n",
       "      <td>LIE</td>\n",
       "      <td>1980 Winter</td>\n",
       "      <td>1980</td>\n",
       "      <td>Winter</td>\n",
       "      <td>Lake Placid</td>\n",
       "      <td>Alpine Skiing</td>\n",
       "      <td>Alpine Skiing Women's Slalom</td>\n",
       "      <td>Gold</td>\n",
       "      <td>Liechtenstein</td>\n",
       "      <td>No Notes</td>\n",
       "    </tr>\n",
       "    <tr>\n",
       "      <th>270328</th>\n",
       "      <td>86592</td>\n",
       "      <td>Vnuste Niyongabo</td>\n",
       "      <td>M</td>\n",
       "      <td>22.0</td>\n",
       "      <td>176.0</td>\n",
       "      <td>60.0</td>\n",
       "      <td>Burundi</td>\n",
       "      <td>BDI</td>\n",
       "      <td>1996 Summer</td>\n",
       "      <td>1996</td>\n",
       "      <td>Summer</td>\n",
       "      <td>Atlanta</td>\n",
       "      <td>Athletics</td>\n",
       "      <td>Athletics Men's 5,000 metres</td>\n",
       "      <td>Gold</td>\n",
       "      <td>Burundi</td>\n",
       "      <td>No Notes</td>\n",
       "    </tr>\n",
       "    <tr>\n",
       "      <th>270492</th>\n",
       "      <td>48966</td>\n",
       "      <td>Hong Xun Vinh</td>\n",
       "      <td>M</td>\n",
       "      <td>41.0</td>\n",
       "      <td>175.0</td>\n",
       "      <td>75.0</td>\n",
       "      <td>Vietnam</td>\n",
       "      <td>VIE</td>\n",
       "      <td>2016 Summer</td>\n",
       "      <td>2016</td>\n",
       "      <td>Summer</td>\n",
       "      <td>Rio de Janeiro</td>\n",
       "      <td>Shooting</td>\n",
       "      <td>Shooting Men's Air Pistol, 10 metres</td>\n",
       "      <td>Gold</td>\n",
       "      <td>Vietnam</td>\n",
       "      <td>No Notes</td>\n",
       "    </tr>\n",
       "    <tr>\n",
       "      <th>270693</th>\n",
       "      <td>58601</td>\n",
       "      <td>Majlinda Kelmendi</td>\n",
       "      <td>F</td>\n",
       "      <td>25.0</td>\n",
       "      <td>162.0</td>\n",
       "      <td>52.0</td>\n",
       "      <td>Kosovo</td>\n",
       "      <td>KOS</td>\n",
       "      <td>2016 Summer</td>\n",
       "      <td>2016</td>\n",
       "      <td>Summer</td>\n",
       "      <td>Rio de Janeiro</td>\n",
       "      <td>Judo</td>\n",
       "      <td>Judo Women's Half-Lightweight</td>\n",
       "      <td>Gold</td>\n",
       "      <td>Kosovo</td>\n",
       "      <td>No Notes</td>\n",
       "    </tr>\n",
       "  </tbody>\n",
       "</table>\n",
       "<p>13368 rows × 17 columns</p>\n",
       "</div>"
      ],
      "text/plain": [
       "            ID                                   Name Sex   Age  Height  \\\n",
       "68       17294                              Cai Yalin   M  23.0   174.0   \n",
       "77       17299                                Cai Yun   M  32.0   181.0   \n",
       "87       17995                                Cao Lei   F  24.0   168.0   \n",
       "104      18005                               Cao Yuan   M  17.0   160.0   \n",
       "105      18005                               Cao Yuan   M  21.0   160.0   \n",
       "...        ...                                    ...  ..   ...     ...   \n",
       "269895  129665  Hannelore \"Hanni\" Wenzel (-Weirather)   F  23.0   165.0   \n",
       "269896  129665  Hannelore \"Hanni\" Wenzel (-Weirather)   F  23.0   165.0   \n",
       "270328   86592                       Vnuste Niyongabo   M  22.0   176.0   \n",
       "270492   48966                          Hong Xun Vinh   M  41.0   175.0   \n",
       "270693   58601                      Majlinda Kelmendi   F  25.0   162.0   \n",
       "\n",
       "        Weight           Team  NOC        Games  Year  Season            City  \\\n",
       "68        60.0          China  CHN  2000 Summer  2000  Summer          Sydney   \n",
       "77        68.0        China-1  CHN  2012 Summer  2012  Summer          London   \n",
       "87        75.0          China  CHN  2008 Summer  2008  Summer         Beijing   \n",
       "104       42.0          China  CHN  2012 Summer  2012  Summer          London   \n",
       "105       42.0          China  CHN  2016 Summer  2016  Summer  Rio de Janeiro   \n",
       "...        ...            ...  ...          ...   ...     ...             ...   \n",
       "269895    57.0  Liechtenstein  LIE  1980 Winter  1980  Winter     Lake Placid   \n",
       "269896    57.0  Liechtenstein  LIE  1980 Winter  1980  Winter     Lake Placid   \n",
       "270328    60.0        Burundi  BDI  1996 Summer  1996  Summer         Atlanta   \n",
       "270492    75.0        Vietnam  VIE  2016 Summer  2016  Summer  Rio de Janeiro   \n",
       "270693    52.0         Kosovo  KOS  2016 Summer  2016  Summer  Rio de Janeiro   \n",
       "\n",
       "                Sport                                 Event Medal  \\\n",
       "68           Shooting   Shooting Men's Air Rifle, 10 metres  Gold   \n",
       "77          Badminton               Badminton Men's Doubles  Gold   \n",
       "87      Weightlifting     Weightlifting Women's Heavyweight  Gold   \n",
       "104            Diving    Diving Men's Synchronized Platform  Gold   \n",
       "105            Diving              Diving Men's Springboard  Gold   \n",
       "...               ...                                   ...   ...   \n",
       "269895  Alpine Skiing    Alpine Skiing Women's Giant Slalom  Gold   \n",
       "269896  Alpine Skiing          Alpine Skiing Women's Slalom  Gold   \n",
       "270328      Athletics          Athletics Men's 5,000 metres  Gold   \n",
       "270492       Shooting  Shooting Men's Air Pistol, 10 metres  Gold   \n",
       "270693           Judo         Judo Women's Half-Lightweight  Gold   \n",
       "\n",
       "               region     notes  \n",
       "68              China  No Notes  \n",
       "77              China  No Notes  \n",
       "87              China  No Notes  \n",
       "104             China  No Notes  \n",
       "105             China  No Notes  \n",
       "...               ...       ...  \n",
       "269895  Liechtenstein  No Notes  \n",
       "269896  Liechtenstein  No Notes  \n",
       "270328        Burundi  No Notes  \n",
       "270492        Vietnam  No Notes  \n",
       "270693         Kosovo  No Notes  \n",
       "\n",
       "[13368 rows x 17 columns]"
      ]
     },
     "execution_count": 43,
     "metadata": {},
     "output_type": "execute_result"
    }
   ],
   "source": [
    "totalGoldMedals = athlete_merged[(athlete_merged.Medal == 'Gold')]\n",
    "totalGoldMedals"
   ]
  },
  {
   "cell_type": "code",
   "execution_count": 44,
   "metadata": {
    "colab": {
     "base_uri": "https://localhost:8080/",
     "height": 356
    },
    "id": "KQSzP1MbE-x6",
    "outputId": "003e37db-ff28-4385-fa17-caf63ff92a1b"
   },
   "outputs": [
    {
     "data": {
      "text/plain": [
       "Text(0.5, 1, 'Gold Medals per Country')"
      ]
     },
     "execution_count": 44,
     "metadata": {},
     "output_type": "execute_result"
    },
    {
     "data": {
      "image/png": "[encoded data removed]",
      "text/plain": [
       "<Figure size 360x360 with 1 Axes>"
      ]
     },
     "metadata": {
      "needs_background": "light"
     },
     "output_type": "display_data"
    }
   ],
   "source": [
    "totalGoldMedals = totalGoldMedals.region.value_counts().reset_index(name='Medal').head(6)\n",
    "plot = sns.catplot(x=\"index\", y = \"Medal\", data = totalGoldMedals, height =5, kind='bar', palette='rocket')\n",
    "plot.despine(left = True)\n",
    "plot.set_xlabels(\"Top 5 Countries\")\n",
    "plot.set_ylabels(\"Number of Medals\")\n",
    "plt.title('Gold Medals per Country')"
   ]
  },
  {
   "cell_type": "code",
   "execution_count": 45,
   "metadata": {},
   "outputs": [
    {
     "name": "stdout",
     "output_type": "stream",
     "text": [
      "Participation of atheletes in each sport:\n",
      " Sport\n",
      "Aeronautics            1\n",
      "Alpine Skiing       8829\n",
      "Alpinism              25\n",
      "Archery             2334\n",
      "Art Competitions    2263\n",
      "                    ... \n",
      "Tug-Of-War           170\n",
      "Volleyball          3404\n",
      "Water Polo          3836\n",
      "Weightlifting       3926\n",
      "Wrestling           7154\n",
      "Name: ID, Length: 66, dtype: int64\n"
     ]
    }
   ],
   "source": [
    "athlete_merged_sport = athlete_merged.groupby(\"Sport\")[\"ID\"].count()\n",
    "print(\"Participation of atheletes in each sport:\\n\", athlete_merged_sport)"
   ]
  },
  {
   "cell_type": "code",
   "execution_count": null,
   "metadata": {},
   "outputs": [],
   "source": []
  }
 ],
 "metadata": {
  "colab": {
   "name": "Olympics_model_prediction.ipynb",
   "provenance": []
  },
  "kernelspec": {
   "display_name": "Python 3",
   "language": "python",
   "name": "python3"
  },
  "language_info": {
   "codemirror_mode": {
    "name": "ipython",
    "version": 3
   },
   "file_extension": ".py",
   "mimetype": "text/x-python",
   "name": "python",
   "nbconvert_exporter": "python",
   "pygments_lexer": "ipython3",
   "version": "3.7.6"
  }
 },
 "nbformat": 4,
 "nbformat_minor": 1
}
