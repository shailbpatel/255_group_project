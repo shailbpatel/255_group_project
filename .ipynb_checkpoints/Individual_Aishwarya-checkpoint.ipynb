{
 "cells": [
  {
   "cell_type": "code",
   "execution_count": 1,
   "metadata": {
    "id": "JwJSYGOUrbgE"
   },
   "outputs": [],
   "source": [
    "#Importing required packages\n",
    "import pandas as pd\n",
    "import numpy as np\n",
    "import matplotlib as mp\n",
    "import matplotlib.pyplot as plt\n",
    "import seaborn as sns"
   ]
  },
  {
   "cell_type": "code",
   "execution_count": 2,
   "metadata": {
    "id": "LX0cDpdesULO"
   },
   "outputs": [
    {
     "ename": "FileNotFoundError",
     "evalue": "[Errno 2] File athlete_events.csv does not exist: 'athlete_events.csv'",
     "output_type": "error",
     "traceback": [
      "\u001b[1;31m---------------------------------------------------------------------------\u001b[0m",
      "\u001b[1;31mFileNotFoundError\u001b[0m                         Traceback (most recent call last)",
      "\u001b[1;32m<ipython-input-2-0c0b838ded97>\u001b[0m in \u001b[0;36m<module>\u001b[1;34m\u001b[0m\n\u001b[1;32m----> 1\u001b[1;33m \u001b[0mathlete_events\u001b[0m\u001b[1;33m=\u001b[0m\u001b[0mpd\u001b[0m\u001b[1;33m.\u001b[0m\u001b[0mread_csv\u001b[0m\u001b[1;33m(\u001b[0m\u001b[1;34m'athlete_events.csv'\u001b[0m\u001b[1;33m)\u001b[0m\u001b[1;33m\u001b[0m\u001b[1;33m\u001b[0m\u001b[0m\n\u001b[0m",
      "\u001b[1;32m~\\anaconda3\\lib\\site-packages\\pandas\\io\\parsers.py\u001b[0m in \u001b[0;36mparser_f\u001b[1;34m(filepath_or_buffer, sep, delimiter, header, names, index_col, usecols, squeeze, prefix, mangle_dupe_cols, dtype, engine, converters, true_values, false_values, skipinitialspace, skiprows, skipfooter, nrows, na_values, keep_default_na, na_filter, verbose, skip_blank_lines, parse_dates, infer_datetime_format, keep_date_col, date_parser, dayfirst, cache_dates, iterator, chunksize, compression, thousands, decimal, lineterminator, quotechar, quoting, doublequote, escapechar, comment, encoding, dialect, error_bad_lines, warn_bad_lines, delim_whitespace, low_memory, memory_map, float_precision)\u001b[0m\n\u001b[0;32m    674\u001b[0m         )\n\u001b[0;32m    675\u001b[0m \u001b[1;33m\u001b[0m\u001b[0m\n\u001b[1;32m--> 676\u001b[1;33m         \u001b[1;32mreturn\u001b[0m \u001b[0m_read\u001b[0m\u001b[1;33m(\u001b[0m\u001b[0mfilepath_or_buffer\u001b[0m\u001b[1;33m,\u001b[0m \u001b[0mkwds\u001b[0m\u001b[1;33m)\u001b[0m\u001b[1;33m\u001b[0m\u001b[1;33m\u001b[0m\u001b[0m\n\u001b[0m\u001b[0;32m    677\u001b[0m \u001b[1;33m\u001b[0m\u001b[0m\n\u001b[0;32m    678\u001b[0m     \u001b[0mparser_f\u001b[0m\u001b[1;33m.\u001b[0m\u001b[0m__name__\u001b[0m \u001b[1;33m=\u001b[0m \u001b[0mname\u001b[0m\u001b[1;33m\u001b[0m\u001b[1;33m\u001b[0m\u001b[0m\n",
      "\u001b[1;32m~\\anaconda3\\lib\\site-packages\\pandas\\io\\parsers.py\u001b[0m in \u001b[0;36m_read\u001b[1;34m(filepath_or_buffer, kwds)\u001b[0m\n\u001b[0;32m    446\u001b[0m \u001b[1;33m\u001b[0m\u001b[0m\n\u001b[0;32m    447\u001b[0m     \u001b[1;31m# Create the parser.\u001b[0m\u001b[1;33m\u001b[0m\u001b[1;33m\u001b[0m\u001b[1;33m\u001b[0m\u001b[0m\n\u001b[1;32m--> 448\u001b[1;33m     \u001b[0mparser\u001b[0m \u001b[1;33m=\u001b[0m \u001b[0mTextFileReader\u001b[0m\u001b[1;33m(\u001b[0m\u001b[0mfp_or_buf\u001b[0m\u001b[1;33m,\u001b[0m \u001b[1;33m**\u001b[0m\u001b[0mkwds\u001b[0m\u001b[1;33m)\u001b[0m\u001b[1;33m\u001b[0m\u001b[1;33m\u001b[0m\u001b[0m\n\u001b[0m\u001b[0;32m    449\u001b[0m \u001b[1;33m\u001b[0m\u001b[0m\n\u001b[0;32m    450\u001b[0m     \u001b[1;32mif\u001b[0m \u001b[0mchunksize\u001b[0m \u001b[1;32mor\u001b[0m \u001b[0miterator\u001b[0m\u001b[1;33m:\u001b[0m\u001b[1;33m\u001b[0m\u001b[1;33m\u001b[0m\u001b[0m\n",
      "\u001b[1;32m~\\anaconda3\\lib\\site-packages\\pandas\\io\\parsers.py\u001b[0m in \u001b[0;36m__init__\u001b[1;34m(self, f, engine, **kwds)\u001b[0m\n\u001b[0;32m    878\u001b[0m             \u001b[0mself\u001b[0m\u001b[1;33m.\u001b[0m\u001b[0moptions\u001b[0m\u001b[1;33m[\u001b[0m\u001b[1;34m\"has_index_names\"\u001b[0m\u001b[1;33m]\u001b[0m \u001b[1;33m=\u001b[0m \u001b[0mkwds\u001b[0m\u001b[1;33m[\u001b[0m\u001b[1;34m\"has_index_names\"\u001b[0m\u001b[1;33m]\u001b[0m\u001b[1;33m\u001b[0m\u001b[1;33m\u001b[0m\u001b[0m\n\u001b[0;32m    879\u001b[0m \u001b[1;33m\u001b[0m\u001b[0m\n\u001b[1;32m--> 880\u001b[1;33m         \u001b[0mself\u001b[0m\u001b[1;33m.\u001b[0m\u001b[0m_make_engine\u001b[0m\u001b[1;33m(\u001b[0m\u001b[0mself\u001b[0m\u001b[1;33m.\u001b[0m\u001b[0mengine\u001b[0m\u001b[1;33m)\u001b[0m\u001b[1;33m\u001b[0m\u001b[1;33m\u001b[0m\u001b[0m\n\u001b[0m\u001b[0;32m    881\u001b[0m \u001b[1;33m\u001b[0m\u001b[0m\n\u001b[0;32m    882\u001b[0m     \u001b[1;32mdef\u001b[0m \u001b[0mclose\u001b[0m\u001b[1;33m(\u001b[0m\u001b[0mself\u001b[0m\u001b[1;33m)\u001b[0m\u001b[1;33m:\u001b[0m\u001b[1;33m\u001b[0m\u001b[1;33m\u001b[0m\u001b[0m\n",
      "\u001b[1;32m~\\anaconda3\\lib\\site-packages\\pandas\\io\\parsers.py\u001b[0m in \u001b[0;36m_make_engine\u001b[1;34m(self, engine)\u001b[0m\n\u001b[0;32m   1112\u001b[0m     \u001b[1;32mdef\u001b[0m \u001b[0m_make_engine\u001b[0m\u001b[1;33m(\u001b[0m\u001b[0mself\u001b[0m\u001b[1;33m,\u001b[0m \u001b[0mengine\u001b[0m\u001b[1;33m=\u001b[0m\u001b[1;34m\"c\"\u001b[0m\u001b[1;33m)\u001b[0m\u001b[1;33m:\u001b[0m\u001b[1;33m\u001b[0m\u001b[1;33m\u001b[0m\u001b[0m\n\u001b[0;32m   1113\u001b[0m         \u001b[1;32mif\u001b[0m \u001b[0mengine\u001b[0m \u001b[1;33m==\u001b[0m \u001b[1;34m\"c\"\u001b[0m\u001b[1;33m:\u001b[0m\u001b[1;33m\u001b[0m\u001b[1;33m\u001b[0m\u001b[0m\n\u001b[1;32m-> 1114\u001b[1;33m             \u001b[0mself\u001b[0m\u001b[1;33m.\u001b[0m\u001b[0m_engine\u001b[0m \u001b[1;33m=\u001b[0m \u001b[0mCParserWrapper\u001b[0m\u001b[1;33m(\u001b[0m\u001b[0mself\u001b[0m\u001b[1;33m.\u001b[0m\u001b[0mf\u001b[0m\u001b[1;33m,\u001b[0m \u001b[1;33m**\u001b[0m\u001b[0mself\u001b[0m\u001b[1;33m.\u001b[0m\u001b[0moptions\u001b[0m\u001b[1;33m)\u001b[0m\u001b[1;33m\u001b[0m\u001b[1;33m\u001b[0m\u001b[0m\n\u001b[0m\u001b[0;32m   1115\u001b[0m         \u001b[1;32melse\u001b[0m\u001b[1;33m:\u001b[0m\u001b[1;33m\u001b[0m\u001b[1;33m\u001b[0m\u001b[0m\n\u001b[0;32m   1116\u001b[0m             \u001b[1;32mif\u001b[0m \u001b[0mengine\u001b[0m \u001b[1;33m==\u001b[0m \u001b[1;34m\"python\"\u001b[0m\u001b[1;33m:\u001b[0m\u001b[1;33m\u001b[0m\u001b[1;33m\u001b[0m\u001b[0m\n",
      "\u001b[1;32m~\\anaconda3\\lib\\site-packages\\pandas\\io\\parsers.py\u001b[0m in \u001b[0;36m__init__\u001b[1;34m(self, src, **kwds)\u001b[0m\n\u001b[0;32m   1889\u001b[0m         \u001b[0mkwds\u001b[0m\u001b[1;33m[\u001b[0m\u001b[1;34m\"usecols\"\u001b[0m\u001b[1;33m]\u001b[0m \u001b[1;33m=\u001b[0m \u001b[0mself\u001b[0m\u001b[1;33m.\u001b[0m\u001b[0musecols\u001b[0m\u001b[1;33m\u001b[0m\u001b[1;33m\u001b[0m\u001b[0m\n\u001b[0;32m   1890\u001b[0m \u001b[1;33m\u001b[0m\u001b[0m\n\u001b[1;32m-> 1891\u001b[1;33m         \u001b[0mself\u001b[0m\u001b[1;33m.\u001b[0m\u001b[0m_reader\u001b[0m \u001b[1;33m=\u001b[0m \u001b[0mparsers\u001b[0m\u001b[1;33m.\u001b[0m\u001b[0mTextReader\u001b[0m\u001b[1;33m(\u001b[0m\u001b[0msrc\u001b[0m\u001b[1;33m,\u001b[0m \u001b[1;33m**\u001b[0m\u001b[0mkwds\u001b[0m\u001b[1;33m)\u001b[0m\u001b[1;33m\u001b[0m\u001b[1;33m\u001b[0m\u001b[0m\n\u001b[0m\u001b[0;32m   1892\u001b[0m         \u001b[0mself\u001b[0m\u001b[1;33m.\u001b[0m\u001b[0munnamed_cols\u001b[0m \u001b[1;33m=\u001b[0m \u001b[0mself\u001b[0m\u001b[1;33m.\u001b[0m\u001b[0m_reader\u001b[0m\u001b[1;33m.\u001b[0m\u001b[0munnamed_cols\u001b[0m\u001b[1;33m\u001b[0m\u001b[1;33m\u001b[0m\u001b[0m\n\u001b[0;32m   1893\u001b[0m \u001b[1;33m\u001b[0m\u001b[0m\n",
      "\u001b[1;32mpandas\\_libs\\parsers.pyx\u001b[0m in \u001b[0;36mpandas._libs.parsers.TextReader.__cinit__\u001b[1;34m()\u001b[0m\n",
      "\u001b[1;32mpandas\\_libs\\parsers.pyx\u001b[0m in \u001b[0;36mpandas._libs.parsers.TextReader._setup_parser_source\u001b[1;34m()\u001b[0m\n",
      "\u001b[1;31mFileNotFoundError\u001b[0m: [Errno 2] File athlete_events.csv does not exist: 'athlete_events.csv'"
     ]
    }
   ],
   "source": [
    "athlete_events=pd.read_csv('athlete_events.csv')"
   ]
  },
  {
   "cell_type": "code",
   "execution_count": null,
   "metadata": {
    "colab": {
     "base_uri": "https://localhost:8080/",
     "height": 468
    },
    "id": "fH0iJJCoz7Bj",
    "outputId": "4e7136a6-977b-4906-b13a-165f1e96ecf1"
   },
   "outputs": [],
   "source": [
    "athlete_events"
   ]
  },
  {
   "cell_type": "code",
   "execution_count": null,
   "metadata": {
    "colab": {
     "base_uri": "https://localhost:8080/"
    },
    "id": "gIRgYvt5sZm0",
    "outputId": "6ace4019-fef6-439c-f264-04d6569b0838"
   },
   "outputs": [],
   "source": [
    "print(athlete_events['Name'].isnull().value_counts())"
   ]
  },
  {
   "cell_type": "code",
   "execution_count": null,
   "metadata": {
    "colab": {
     "base_uri": "https://localhost:8080/"
    },
    "id": "CfH-FW6osb-t",
    "outputId": "fb313793-6628-43fc-b9b4-39706ae29f6a"
   },
   "outputs": [],
   "source": [
    "print(\"Checking for null values \\n\",athlete_events['Sex'].isnull().value_counts(),\"\\n\") #There are no null values\n",
    "print(\"Insights on the column \\n\",athlete_events['Sex'].describe(),\"\\n\")\n",
    "print(\"Unique Values and their counts \\n\",athlete_events['Sex'].value_counts())"
   ]
  },
  {
   "cell_type": "code",
   "execution_count": null,
   "metadata": {
    "colab": {
     "base_uri": "https://localhost:8080/"
    },
    "id": "qoA-D8vxseVS",
    "outputId": "f3eda557-c1f1-4736-ba54-e40b1175aefe"
   },
   "outputs": [],
   "source": [
    "print(\"Checking for null values \\n\",athlete_events['Age'].isnull().value_counts(),\"\\n\") #There are 9474 null values\n",
    "print(\"Finding invalid age\\n\",athlete_events[\"Age\"][(athlete_events['Age']>100) | (athlete_events['Age']<0)])\n"
   ]
  },
  {
   "cell_type": "code",
   "execution_count": null,
   "metadata": {
    "colab": {
     "base_uri": "https://localhost:8080/"
    },
    "id": "ycuxbfjHsgru",
    "outputId": "e2b7de32-9fa6-4f8a-d192-27f5ccd800b1"
   },
   "outputs": [],
   "source": [
    "print(\"Checking for null values\\n\",athlete_events['Height'].isnull().value_counts(),\"\\n\") #There are 60171 null values\n",
    "print(\"Insights on the column data\\n\",athlete_events['Height'].describe(),\"\\n\")"
   ]
  },
  {
   "cell_type": "code",
   "execution_count": null,
   "metadata": {
    "colab": {
     "base_uri": "https://localhost:8080/"
    },
    "id": "Fa76KjOAsjKA",
    "outputId": "992329a1-3bce-4827-c8e4-aeecb2b18e5e"
   },
   "outputs": [],
   "source": [
    "print(\"Checking for null values\\n\",athlete_events['Weight'].isnull().value_counts(),\"\\n\") #There are 62875 null values\n",
    "print(\"Insights on the column data\\n\",athlete_events['Weight'].describe(),\"\\n\")\n",
    "print(\"Chcking for invalid data \\n\",athlete_events[\"Weight\"][athlete_events[\"Weight\"]<=0])"
   ]
  },
  {
   "cell_type": "code",
   "execution_count": null,
   "metadata": {
    "colab": {
     "base_uri": "https://localhost:8080/"
    },
    "id": "aG7XURDzsmLN",
    "outputId": "9ac292a4-9a94-458c-d182-cb41b403c2e4"
   },
   "outputs": [],
   "source": [
    "print(\"Checking for null values \\n\",athlete_events['Team'].isnull().value_counts(),\"\\n\") #There are no null values\n",
    "print(\"Insights on the column \\n\",athlete_events['Team'].describe(),\"\\n\")\n",
    "print(\"Unique Values and their counts \\n\",athlete_events['Team'].value_counts())"
   ]
  },
  {
   "cell_type": "code",
   "execution_count": null,
   "metadata": {
    "colab": {
     "base_uri": "https://localhost:8080/"
    },
    "id": "7Y-m86zosovT",
    "outputId": "07a1c458-334c-4144-b41c-294b3007b74e"
   },
   "outputs": [],
   "source": [
    "print(\"Checking for null values \\n\",athlete_events['NOC'].isnull().value_counts(),\"\\n\") #There are no null values\n",
    "print(\"Insights on the column \\n\",athlete_events['NOC'].describe(),\"\\n\")\n",
    "print(\"Unique Values and their counts \\n\",athlete_events['NOC'].value_counts())"
   ]
  },
  {
   "cell_type": "code",
   "execution_count": null,
   "metadata": {
    "colab": {
     "base_uri": "https://localhost:8080/"
    },
    "id": "1cM1zb4xsrHA",
    "outputId": "6f3b18d6-ad59-4108-825c-b5de5a0d01f9"
   },
   "outputs": [],
   "source": [
    "print(\"Checking for null values \\n\",athlete_events['Games'].isnull().value_counts(),\"\\n\") #There are no null values\n",
    "print(\"Insights on the column \\n\",athlete_events['Games'].describe(),\"\\n\")\n",
    "print(\"Unique Values and their counts \\n\",athlete_events['Games'].value_counts())"
   ]
  },
  {
   "cell_type": "code",
   "execution_count": null,
   "metadata": {
    "colab": {
     "base_uri": "https://localhost:8080/"
    },
    "id": "pOkPA08rsv-4",
    "outputId": "52eb876c-fbf7-4c3f-e75f-01536d65d6f2"
   },
   "outputs": [],
   "source": [
    "print(\"Checking for null values \\n\",athlete_events['Year'].isnull().value_counts(),\"\\n\") #There are no null values\n",
    "print(\"Insights on the column \\n\",athlete_events['Year'].describe(),\"\\n\")\n",
    "print(\"Unique Values and their counts \\n\",athlete_events['Year'].value_counts())"
   ]
  },
  {
   "cell_type": "code",
   "execution_count": null,
   "metadata": {
    "colab": {
     "base_uri": "https://localhost:8080/"
    },
    "id": "8Xji80H_sydM",
    "outputId": "c0379f06-8921-48a0-fe54-e7f454d0b27a"
   },
   "outputs": [],
   "source": [
    "print(\"Checking for null values \\n\",athlete_events['Season'].isnull().value_counts(),\"\\n\") #There are no null values\n",
    "print(\"Insights on the column \\n\",athlete_events['Season'].describe(),\"\\n\")\n",
    "print(\"Unique Values and their counts \\n\",athlete_events['Season'].value_counts())"
   ]
  },
  {
   "cell_type": "code",
   "execution_count": null,
   "metadata": {
    "colab": {
     "base_uri": "https://localhost:8080/"
    },
    "id": "YJh_BsHjtQoF",
    "outputId": "7d488510-c7c8-43f5-fe9c-ed7689ecaa2a"
   },
   "outputs": [],
   "source": [
    "print(\"Checking for null values \\n\",athlete_events['City'].isnull().value_counts(),\"\\n\") #There are no null values\n",
    "print(\"Insights on the column \\n\",athlete_events['City'].describe(),\"\\n\")\n",
    "print(\"Unique Values and their counts \\n\",athlete_events['City'].value_counts())"
   ]
  },
  {
   "cell_type": "code",
   "execution_count": null,
   "metadata": {
    "colab": {
     "base_uri": "https://localhost:8080/"
    },
    "id": "lkfNCEK5Zpz0",
    "outputId": "3fd88cef-2e56-465d-ca6e-bd1400efe63a"
   },
   "outputs": [],
   "source": [
    "print(\"Checking for null values \\n\",athlete_events['Sport'].isnull().value_counts(),\"\\n\") #There are no null values\n",
    "print(\"Insights on the column \\n\",athlete_events['Sport'].describe(),\"\\n\")\n",
    "print(\"Unique Values and their counts \\n\",athlete_events['Sport'].value_counts())"
   ]
  },
  {
   "cell_type": "code",
   "execution_count": null,
   "metadata": {
    "colab": {
     "base_uri": "https://localhost:8080/"
    },
    "id": "5suZZUKlZtHl",
    "outputId": "80842e30-2439-48ab-f8d8-b2d7049de88d"
   },
   "outputs": [],
   "source": [
    "print(\"Checking for null values \\n\",athlete_events['Event'].isnull().value_counts(),\"\\n\") #There are no null values\n",
    "print(\"Insights on the column \\n\",athlete_events['Event'].describe(),\"\\n\")\n",
    "print(\"Unique Values and their counts \\n\",athlete_events['Event'].value_counts())"
   ]
  },
  {
   "cell_type": "code",
   "execution_count": null,
   "metadata": {
    "colab": {
     "base_uri": "https://localhost:8080/"
    },
    "id": "bVYcrduNZtVP",
    "outputId": "a272833b-22f0-49c2-d945-e922fd30bb18"
   },
   "outputs": [],
   "source": [
    "print(\"Checking for null values \\n\",athlete_events['Medal'].isnull().value_counts(),\"\\n\") #There are 231333 null values\n",
    "print(\"Insights on the column \\n\",athlete_events['Medal'].describe(),\"\\n\")\n",
    "print(\"Unique Values and their counts \\n\",athlete_events['Medal'].value_counts())"
   ]
  },
  {
   "cell_type": "code",
   "execution_count": null,
   "metadata": {
    "id": "8aO0CN__Ztif"
   },
   "outputs": [],
   "source": [
    "noc_regions=pd.read_csv('noc_regions.csv')"
   ]
  },
  {
   "cell_type": "code",
   "execution_count": null,
   "metadata": {
    "colab": {
     "base_uri": "https://localhost:8080/"
    },
    "id": "lfagchyPZtua",
    "outputId": "5d3b7d23-59dd-4aa5-ea9f-6e305b51a9e6"
   },
   "outputs": [],
   "source": [
    "noc_regions.columns"
   ]
  },
  {
   "cell_type": "code",
   "execution_count": null,
   "metadata": {
    "colab": {
     "base_uri": "https://localhost:8080/"
    },
    "id": "N0tqgacEZtx5",
    "outputId": "f239011d-5f04-4e7d-fd65-c3a28baa42a4"
   },
   "outputs": [],
   "source": [
    "print(\"Checking for null values \\n\",noc_regions['NOC'].isnull().value_counts(),\"\\n\") #There are no null values\n",
    "print(\"Insights on the column \\n\",noc_regions['NOC'].describe(),\"\\n\")\n",
    "print(\"Unique Values and their counts \\n\",noc_regions['NOC'].value_counts())\n"
   ]
  },
  {
   "cell_type": "code",
   "execution_count": null,
   "metadata": {
    "colab": {
     "base_uri": "https://localhost:8080/"
    },
    "id": "so2F6vXCZ9xh",
    "outputId": "f64c2cbb-25f9-4fe9-fadc-142d5da1e18c"
   },
   "outputs": [],
   "source": [
    "print(\"Checking for null values \\n\",noc_regions['region'].isnull().value_counts(),\"\\n\") #There are 3 null values\n",
    "print(\"Insights on the column \\n\",noc_regions['region'].describe(),\"\\n\")\n",
    "print(\"Unique Values and their counts \\n\",noc_regions['region'].value_counts())"
   ]
  },
  {
   "cell_type": "code",
   "execution_count": null,
   "metadata": {
    "colab": {
     "base_uri": "https://localhost:8080/"
    },
    "id": "H8EH8PLGaDVU",
    "outputId": "ee8a6ce0-f7cd-4efd-8ae0-190295a293e4"
   },
   "outputs": [],
   "source": [
    "print(\"Checking for null values \\n\",noc_regions['notes'].isnull().value_counts(),\"\\n\") #There are 209 null values\n",
    "print(\"Insights on the column \\n\",noc_regions['notes'].describe(),\"\\n\")\n",
    "print(\"Unique Values and their counts \\n\",noc_regions['notes'].value_counts())"
   ]
  },
  {
   "cell_type": "code",
   "execution_count": null,
   "metadata": {
    "id": "oPCMYXS8aDkr"
   },
   "outputs": [],
   "source": [
    "athlete_merged = pd.merge(athlete_events,noc_regions)"
   ]
  },
  {
   "cell_type": "code",
   "execution_count": null,
   "metadata": {
    "colab": {
     "base_uri": "https://localhost:8080/",
     "height": 424
    },
    "id": "5RQMvi274gBz",
    "outputId": "1eabe32c-2817-494e-ba51-72dadfbfb7a5"
   },
   "outputs": [],
   "source": [
    "medal_count = athlete_merged.groupby(['Year' ,'Season'])['Medal'].value_counts().reset_index(name='medal_count')\n",
    "medal_count"
   ]
  },
  {
   "cell_type": "code",
   "execution_count": null,
   "metadata": {
    "colab": {
     "base_uri": "https://localhost:8080/",
     "height": 394
    },
    "id": "CKspHHPA4ttn",
    "outputId": "48ef81ec-7fad-4d74-ec43-146c86fa3e2c"
   },
   "outputs": [],
   "source": [
    "medal_type_count_year =pd.pivot_table(medal_count, values='medal_count', index=['Year' ,'Season'], columns=['Medal'], aggfunc=np.sum)[:10]\n",
    "medal_type_count_year"
   ]
  },
  {
   "cell_type": "code",
   "execution_count": null,
   "metadata": {
    "colab": {
     "base_uri": "https://localhost:8080/"
    },
    "id": "u2qKUzph5JWG",
    "outputId": "1114e54d-2638-4787-b9b0-3403eb940442"
   },
   "outputs": [],
   "source": [
    "athlete_merged.duplicated().sum()"
   ]
  },
  {
   "cell_type": "code",
   "execution_count": null,
   "metadata": {
    "id": "c7AwYyPl5Xtf"
   },
   "outputs": [],
   "source": [
    "athlete_merged = athlete_merged.drop_duplicates()"
   ]
  },
  {
   "cell_type": "code",
   "execution_count": null,
   "metadata": {
    "colab": {
     "base_uri": "https://localhost:8080/"
    },
    "id": "mImzBrTS5cf-",
    "outputId": "818fc4f4-3cc8-4c6d-aefe-d59f18db1870"
   },
   "outputs": [],
   "source": [
    "athlete_merged.duplicated().sum()"
   ]
  },
  {
   "cell_type": "code",
   "execution_count": null,
   "metadata": {
    "id": "YIMnA6pj6HFX"
   },
   "outputs": [],
   "source": [
    "athlete_merged['Age'].fillna((athlete_merged['Age'].mean()),inplace=True)\n",
    "athlete_merged['Height'].fillna((athlete_merged['Height'].mean()),inplace=True)\n",
    "athlete_merged['Weight'].fillna((athlete_merged['Weight'].mean()),inplace=True)"
   ]
  },
  {
   "cell_type": "code",
   "execution_count": null,
   "metadata": {
    "id": "byD3l1fG6IFE"
   },
   "outputs": [],
   "source": [
    "athlete_merged['region'].fillna(athlete_merged['Team'],inplace=True)"
   ]
  },
  {
   "cell_type": "code",
   "execution_count": null,
   "metadata": {
    "id": "Fn3ii-_t6IYi"
   },
   "outputs": [],
   "source": [
    "athlete_merged['notes'].fillna('No Notes',inplace=True)"
   ]
  },
  {
   "cell_type": "code",
   "execution_count": null,
   "metadata": {
    "id": "YIBc16Dj6Ikl"
   },
   "outputs": [],
   "source": [
    "athlete_merged['Medal'].fillna('No Medal',inplace =True)"
   ]
  },
  {
   "cell_type": "code",
   "execution_count": null,
   "metadata": {
    "colab": {
     "base_uri": "https://localhost:8080/"
    },
    "id": "acE3cDfr6IvC",
    "outputId": "c2c2f727-d51a-425d-afe1-c84eb4f8ddad"
   },
   "outputs": [],
   "source": [
    "athlete_merged.isnull().sum()"
   ]
  },
  {
   "cell_type": "code",
   "execution_count": null,
   "metadata": {
    "colab": {
     "base_uri": "https://localhost:8080/"
    },
    "id": "f6NV0uit8f-f",
    "outputId": "4285afda-ca5d-4f34-b2ba-f3cfa53043a7"
   },
   "outputs": [],
   "source": [
    "althetes_count = len(athlete_merged.ID)\n",
    "print('Total number of althetes in olymics:', althetes_count)"
   ]
  },
  {
   "cell_type": "code",
   "execution_count": null,
   "metadata": {
    "colab": {
     "base_uri": "https://localhost:8080/",
     "height": 112
    },
    "id": "0N8rfcg1A8MK",
    "outputId": "e138e1d3-257d-44fc-de15-8a5a596f1c65"
   },
   "outputs": [],
   "source": [
    "#gender_value_count\n",
    "gender_count = athlete_merged[\"Sex\"].value_counts()\n",
    "gender_count.to_frame()"
   ]
  },
  {
   "cell_type": "code",
   "execution_count": null,
   "metadata": {
    "colab": {
     "base_uri": "https://localhost:8080/",
     "height": 373
    },
    "id": "p8wPdcaQ6I62",
    "outputId": "52f8a430-780c-44b5-ff2b-077460ce0410"
   },
   "outputs": [],
   "source": [
    "plt.figure(figsize=(12,6))\n",
    "plt.title('Gender Distribution')\n",
    "plt.pie(gender_count, labels= gender_count, autopct = \"%1.1f%%\", startangle=180, shadow= True);"
   ]
  },
  {
   "cell_type": "code",
   "execution_count": null,
   "metadata": {
    "colab": {
     "base_uri": "https://localhost:8080/"
    },
    "id": "QbNBgAD88pQE",
    "outputId": "a19c72bb-62d0-40c8-b964-79652779a272"
   },
   "outputs": [],
   "source": [
    "city_count, city_arr = athlete_merged['City'].nunique(), athlete_merged['City'].unique()\n",
    "city_count, city_arr"
   ]
  },
  {
   "cell_type": "code",
   "execution_count": null,
   "metadata": {
    "colab": {
     "base_uri": "https://localhost:8080/"
    },
    "id": "q2W3U0E36JIZ",
    "outputId": "e0fcca10-166f-4a8c-d74d-57c154b15c38"
   },
   "outputs": [],
   "source": [
    "winter_games = athlete_merged[athlete_merged.Season == 'Winter'].Sport.unique()\n",
    "winter_games"
   ]
  },
  {
   "cell_type": "code",
   "execution_count": null,
   "metadata": {
    "colab": {
     "base_uri": "https://localhost:8080/",
     "height": 295
    },
    "id": "YWkRVbDT9iNH",
    "outputId": "bb073abc-4ca2-4792-986b-f2df3bdea52a"
   },
   "outputs": [],
   "source": [
    "winter=athlete_merged[athlete_merged['Season']=='Winter']\n",
    "winter_medal=winter[winter['Medal']!='No Medal']\n",
    "sns.countplot(x='Medal',hue='Sex',data=winter_medal)\n",
    "plt.xlabel('Medal')\n",
    "plt.ylabel('Number of Medals')\n",
    "plt.title('Gender wise medal distribution in Winter Olympics')\n",
    "plt.show()"
   ]
  },
  {
   "cell_type": "code",
   "execution_count": null,
   "metadata": {
    "colab": {
     "base_uri": "https://localhost:8080/"
    },
    "id": "mPM5Ctfd9XB_",
    "outputId": "0d62ca04-e4e9-4db1-bd16-a542d57809a5"
   },
   "outputs": [],
   "source": [
    "summer_games = athlete_merged[athlete_merged.Season == 'Summer'].Sport.unique()\n",
    "summer_games"
   ]
  },
  {
   "cell_type": "code",
   "execution_count": null,
   "metadata": {
    "colab": {
     "base_uri": "https://localhost:8080/",
     "height": 295
    },
    "id": "TbzpclSC9dax",
    "outputId": "242a84b5-2f06-459f-848a-d15944fc7be6"
   },
   "outputs": [],
   "source": [
    "summer=athlete_merged[athlete_merged['Season']=='Summer']\n",
    "summer_medal = summer[summer['Medal']!='No Medal']\n",
    "sns.countplot(x='Medal',hue='Sex', data=summer_medal)\n",
    "plt.xlabel('Medal')\n",
    "plt.ylabel('Number of Medals')\n",
    "plt.title('Gender wise medal distribution in Summer Olympics')\n",
    "plt.show()"
   ]
  },
  {
   "cell_type": "code",
   "execution_count": null,
   "metadata": {
    "colab": {
     "base_uri": "https://localhost:8080/",
     "height": 405
    },
    "id": "HvFJZxez-q2Q",
    "outputId": "58d78e90-1246-4cda-88b5-be25e3870d24"
   },
   "outputs": [],
   "source": [
    "plt.figure(figsize=(12,6))\n",
    "sns.countplot(data=athlete_merged, y = athlete_merged.query(\"Season == 'Winter'\")['Sport'], hue='Sex')\n"
   ]
  },
  {
   "cell_type": "code",
   "execution_count": null,
   "metadata": {
    "colab": {
     "base_uri": "https://localhost:8080/",
     "height": 641
    },
    "id": "i3fm4Br9FSWD",
    "outputId": "309674e1-2427-4d2b-9241-2c656c140611"
   },
   "outputs": [],
   "source": [
    "totalGoldMedals = athlete_merged[(athlete_merged.Medal == 'Gold')]\n",
    "totalGoldMedals"
   ]
  },
  {
   "cell_type": "code",
   "execution_count": null,
   "metadata": {
    "colab": {
     "base_uri": "https://localhost:8080/",
     "height": 356
    },
    "id": "KQSzP1MbE-x6",
    "outputId": "003e37db-ff28-4385-fa17-caf63ff92a1b"
   },
   "outputs": [],
   "source": [
    "totalGoldMedals = totalGoldMedals.region.value_counts().reset_index(name='Medal').head(6)\n",
    "plot = sns.catplot(x=\"index\", y = \"Medal\", data = totalGoldMedals, height =5, kind='bar', palette='rocket')\n",
    "plot.despine(left = True)\n",
    "plot.set_xlabels(\"Top 5 Countries\")\n",
    "plot.set_ylabels(\"Number of Medals\")\n",
    "plt.title('Gold Medals per Country')"
   ]
  },
  {
   "cell_type": "code",
   "execution_count": null,
   "metadata": {
    "id": "BQuw1yoDDxMI"
   },
   "outputs": [],
   "source": [
    "import plotly.express as px\n",
    "import plotly.graph_objects as go\n",
    "fig = px.scatter(athlete_merged, x=\"Height\", y=\"Weight\", trendline=\"ols\", color = \"Sex\", facet_col = \"Season\",\n",
    "             color_discrete_map= {'M': '#3C8DD6', 'F': '#EC2781'})\n",
    "\n",
    "fig.update_layout(title = \"<b>Height of male and female players according to the season</b>\",\n",
    "                 plot_bgcolor = \"#ECECEC\")\n",
    "\n",
    "fig.show()"
   ]
  },
  {
   "cell_type": "code",
   "execution_count": null,
   "metadata": {},
   "outputs": [],
   "source": []
  }
 ],
 "metadata": {
  "colab": {
   "name": "Olympics_model_prediction.ipynb",
   "provenance": []
  },
  "kernelspec": {
   "display_name": "Python 3",
   "language": "python",
   "name": "python3"
  },
  "language_info": {
   "codemirror_mode": {
    "name": "ipython",
    "version": 3
   },
   "file_extension": ".py",
   "mimetype": "text/x-python",
   "name": "python",
   "nbconvert_exporter": "python",
   "pygments_lexer": "ipython3",
   "version": "3.7.6"
  }
 },
 "nbformat": 4,
 "nbformat_minor": 1
}
