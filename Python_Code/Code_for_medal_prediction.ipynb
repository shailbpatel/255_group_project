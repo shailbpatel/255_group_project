
{
  "cells": [
    {
      "cell_type": "code",
      "source": [
        "import pandas as pd\n",
        "import numpy as np\n",
        "import matplotlib as mp"
      ],
      "metadata": {
        "id": "NNUhgV1lQFIa"
      },
      "id": "NNUhgV1lQFIa",
      "execution_count": null,
      "outputs": []
    },
    {
      "cell_type": "code",
      "source": [
        "## Importing data from csv files\n",
        "athlete = pd.read_csv(\"athlete_events.csv\" , on_bad_lines='skip')\n",
        "region = pd.read_csv(\"noc_regions.csv\")\n",
        "athlete"
      ],
      "metadata": {
        "colab": {
          "base_uri": "https://localhost:8080/",
          "height": 676
        },
        "id": "S7NqTOu3QHLf",
        "outputId": "9955f608-c0f0-40c0-cfc7-278c9ddd82ee"
      },
      "id": "S7NqTOu3QHLf",
      "execution_count": null,
      "outputs": [
        {
          "output_type": "execute_result",
          "data": {
            "text/plain": [
              "            ID                      Name Sex   Age  Height  Weight  \\\n",
              "0            1                 A Dijiang   M  24.0   180.0    80.0   \n",
              "1            2                  A Lamusi   M  23.0   170.0    60.0   \n",
              "2            3       Gunnar Nielsen Aaby   M  24.0     NaN     NaN   \n",
              "3            4      Edgar Lindenau Aabye   M  34.0     NaN     NaN   \n",
              "4            5  Christine Jacoba Aaftink   F  21.0   185.0    82.0   \n",
              "...        ...                       ...  ..   ...     ...     ...   \n",
              "271111  135569                Andrzej ya   M  29.0   179.0    89.0   \n",
              "271112  135570                  Piotr ya   M  27.0   176.0    59.0   \n",
              "271113  135570                  Piotr ya   M  27.0   176.0    59.0   \n",
              "271114  135571        Tomasz Ireneusz ya   M  30.0   185.0    96.0   \n",
              "271115  135571        Tomasz Ireneusz ya   M  34.0   185.0    96.0   \n",
              "\n",
              "                  Team  NOC        Games  Year  Season            City  \\\n",
              "0                China  CHN  1992 Summer  1992  Summer       Barcelona   \n",
              "1                China  CHN  2012 Summer  2012  Summer          London   \n",
              "2              Denmark  DEN  1920 Summer  1920  Summer       Antwerpen   \n",
              "3       Denmark/Sweden  DEN  1900 Summer  1900  Summer           Paris   \n",
              "4          Netherlands  NED  1988 Winter  1988  Winter         Calgary   \n",
              "...                ...  ...          ...   ...     ...             ...   \n",
              "271111        Poland-1  POL  1976 Winter  1976  Winter       Innsbruck   \n",
              "271112          Poland  POL  2014 Winter  2014  Winter           Sochi   \n",
              "271113          Poland  POL  2014 Winter  2014  Winter           Sochi   \n",
              "271114          Poland  POL  1998 Winter  1998  Winter          Nagano   \n",
              "271115          Poland  POL  2002 Winter  2002  Winter  Salt Lake City   \n",
              "\n",
              "                Sport                                     Event Medal  \n",
              "0          Basketball               Basketball Men's Basketball   NaN  \n",
              "1                Judo              Judo Men's Extra-Lightweight   NaN  \n",
              "2            Football                   Football Men's Football   NaN  \n",
              "3          Tug-Of-War               Tug-Of-War Men's Tug-Of-War  Gold  \n",
              "4       Speed Skating          Speed Skating Women's 500 metres   NaN  \n",
              "...               ...                                       ...   ...  \n",
              "271111           Luge                Luge Mixed (Men)'s Doubles   NaN  \n",
              "271112    Ski Jumping  Ski Jumping Men's Large Hill, Individual   NaN  \n",
              "271113    Ski Jumping        Ski Jumping Men's Large Hill, Team   NaN  \n",
              "271114      Bobsleigh                      Bobsleigh Men's Four   NaN  \n",
              "271115      Bobsleigh                      Bobsleigh Men's Four   NaN  \n",
              "\n",
              "[271116 rows x 15 columns]"
            ],
            "text/html": [
              "\n",
              "  <div id=\"df-6eddfbe5-258d-4726-9658-f9976cae93e1\">\n",
              "    <div class=\"colab-df-container\">\n",
              "      <div>\n",
              "<style scoped>\n",
              "    .dataframe tbody tr th:only-of-type {\n",
              "        vertical-align: middle;\n",
              "    }\n",
              "\n",
              "    .dataframe tbody tr th {\n",
              "        vertical-align: top;\n",
              "    }\n",
              "\n",
              "    .dataframe thead th {\n",
              "        text-align: right;\n",
              "    }\n",
              "</style>\n",
              "<table border=\"1\" class=\"dataframe\">\n",
              "  <thead>\n",
              "    <tr style=\"text-align: right;\">\n",
              "      <th></th>\n",
              "      <th>ID</th>\n",
              "      <th>Name</th>\n",
              "      <th>Sex</th>\n",
              "      <th>Age</th>\n",
              "      <th>Height</th>\n",
              "      <th>Weight</th>\n",
              "      <th>Team</th>\n",
              "      <th>NOC</th>\n",
              "      <th>Games</th>\n",
              "      <th>Year</th>\n",
              "      <th>Season</th>\n",
              "      <th>City</th>\n",
              "      <th>Sport</th>\n",
              "      <th>Event</th>\n",
              "      <th>Medal</th>\n",
              "    </tr>\n",
              "  </thead>\n",
              "  <tbody>\n",
              "    <tr>\n",
              "      <th>0</th>\n",
              "      <td>1</td>\n",
              "      <td>A Dijiang</td>\n",
              "      <td>M</td>\n",
              "      <td>24.0</td>\n",
              "      <td>180.0</td>\n",
              "      <td>80.0</td>\n",
              "      <td>China</td>\n",
              "      <td>CHN</td>\n",
              "      <td>1992 Summer</td>\n",
              "      <td>1992</td>\n",
              "      <td>Summer</td>\n",
              "      <td>Barcelona</td>\n",
              "      <td>Basketball</td>\n",
              "      <td>Basketball Men's Basketball</td>\n",
              "      <td>NaN</td>\n",
              "    </tr>\n",
              "    <tr>\n",
              "      <th>1</th>\n",
              "      <td>2</td>\n",
              "      <td>A Lamusi</td>\n",
              "      <td>M</td>\n",
              "      <td>23.0</td>\n",
              "      <td>170.0</td>\n",
              "      <td>60.0</td>\n",
              "      <td>China</td>\n",
              "      <td>CHN</td>\n",
              "      <td>2012 Summer</td>\n",
              "      <td>2012</td>\n",
              "      <td>Summer</td>\n",
              "      <td>London</td>\n",
              "      <td>Judo</td>\n",
              "      <td>Judo Men's Extra-Lightweight</td>\n",
              "      <td>NaN</td>\n",
              "    </tr>\n",
              "    <tr>\n",
              "      <th>2</th>\n",
              "      <td>3</td>\n",
              "      <td>Gunnar Nielsen Aaby</td>\n",
              "      <td>M</td>\n",
              "      <td>24.0</td>\n",
              "      <td>NaN</td>\n",
              "      <td>NaN</td>\n",
              "      <td>Denmark</td>\n",
              "      <td>DEN</td>\n",
              "      <td>1920 Summer</td>\n",
              "      <td>1920</td>\n",
              "      <td>Summer</td>\n",
              "      <td>Antwerpen</td>\n",
              "      <td>Football</td>\n",
              "      <td>Football Men's Football</td>\n",
              "      <td>NaN</td>\n",
              "    </tr>\n",
              "    <tr>\n",
              "      <th>3</th>\n",
              "      <td>4</td>\n",
              "      <td>Edgar Lindenau Aabye</td>\n",
              "      <td>M</td>\n",
              "      <td>34.0</td>\n",
              "      <td>NaN</td>\n",
              "      <td>NaN</td>\n",
              "      <td>Denmark/Sweden</td>\n",
              "      <td>DEN</td>\n",
              "      <td>1900 Summer</td>\n",
              "      <td>1900</td>\n",
              "      <td>Summer</td>\n",
              "      <td>Paris</td>\n",
              "      <td>Tug-Of-War</td>\n",
              "      <td>Tug-Of-War Men's Tug-Of-War</td>\n",
              "      <td>Gold</td>\n",
              "    </tr>\n",
              "    <tr>\n",
              "      <th>4</th>\n",
              "      <td>5</td>\n",
              "      <td>Christine Jacoba Aaftink</td>\n",
              "      <td>F</td>\n",
              "      <td>21.0</td>\n",
              "      <td>185.0</td>\n",
              "      <td>82.0</td>\n",
              "      <td>Netherlands</td>\n",
              "      <td>NED</td>\n",
              "      <td>1988 Winter</td>\n",
              "      <td>1988</td>\n",
              "      <td>Winter</td>\n",
              "      <td>Calgary</td>\n",
              "      <td>Speed Skating</td>\n",
              "      <td>Speed Skating Women's 500 metres</td>\n",
              "      <td>NaN</td>\n",
              "    </tr>\n",
              "    <tr>\n",
              "      <th>...</th>\n",
              "      <td>...</td>\n",
              "      <td>...</td>\n",
              "      <td>...</td>\n",
              "      <td>...</td>\n",
              "      <td>...</td>\n",
              "      <td>...</td>\n",
              "      <td>...</td>\n",
              "      <td>...</td>\n",
              "      <td>...</td>\n",
              "      <td>...</td>\n",
              "      <td>...</td>\n",
              "      <td>...</td>\n",
              "      <td>...</td>\n",
              "      <td>...</td>\n",
              "      <td>...</td>\n",
              "    </tr>\n",
              "    <tr>\n",
              "      <th>271111</th>\n",
              "      <td>135569</td>\n",
              "      <td>Andrzej ya</td>\n",
              "      <td>M</td>\n",
              "      <td>29.0</td>\n",
              "      <td>179.0</td>\n",
              "      <td>89.0</td>\n",
              "      <td>Poland-1</td>\n",
              "      <td>POL</td>\n",
              "      <td>1976 Winter</td>\n",
              "      <td>1976</td>\n",
              "      <td>Winter</td>\n",
              "      <td>Innsbruck</td>\n",
              "      <td>Luge</td>\n",
              "      <td>Luge Mixed (Men)'s Doubles</td>\n",
              "      <td>NaN</td>\n",
              "    </tr>\n",
              "    <tr>\n",
              "      <th>271112</th>\n",
              "      <td>135570</td>\n",
              "      <td>Piotr ya</td>\n",
              "      <td>M</td>\n",
              "      <td>27.0</td>\n",
              "      <td>176.0</td>\n",
              "      <td>59.0</td>\n",
              "      <td>Poland</td>\n",
              "      <td>POL</td>\n",
              "      <td>2014 Winter</td>\n",
              "      <td>2014</td>\n",
              "      <td>Winter</td>\n",
              "      <td>Sochi</td>\n",
              "      <td>Ski Jumping</td>\n",
              "      <td>Ski Jumping Men's Large Hill, Individual</td>\n",
              "      <td>NaN</td>\n",
              "    </tr>\n",
              "    <tr>\n",
              "      <th>271113</th>\n",
              "      <td>135570</td>\n",
              "      <td>Piotr ya</td>\n",
              "      <td>M</td>\n",
              "      <td>27.0</td>\n",
              "      <td>176.0</td>\n",
              "      <td>59.0</td>\n",
              "      <td>Poland</td>\n",
              "      <td>POL</td>\n",
              "      <td>2014 Winter</td>\n",
              "      <td>2014</td>\n",
              "      <td>Winter</td>\n",
              "      <td>Sochi</td>\n",
              "      <td>Ski Jumping</td>\n",
              "      <td>Ski Jumping Men's Large Hill, Team</td>\n",
              "      <td>NaN</td>\n",
              "    </tr>\n",
              "    <tr>\n",
              "      <th>271114</th>\n",
              "      <td>135571</td>\n",
              "      <td>Tomasz Ireneusz ya</td>\n",
              "      <td>M</td>\n",
              "      <td>30.0</td>\n",
              "      <td>185.0</td>\n",
              "      <td>96.0</td>\n",
              "      <td>Poland</td>\n",
              "      <td>POL</td>\n",
              "      <td>1998 Winter</td>\n",
              "      <td>1998</td>\n",
              "      <td>Winter</td>\n",
              "      <td>Nagano</td>\n",
              "      <td>Bobsleigh</td>\n",
              "      <td>Bobsleigh Men's Four</td>\n",
              "      <td>NaN</td>\n",
              "    </tr>\n",
              "    <tr>\n",
              "      <th>271115</th>\n",
              "      <td>135571</td>\n",
              "      <td>Tomasz Ireneusz ya</td>\n",
              "      <td>M</td>\n",
              "      <td>34.0</td>\n",
              "      <td>185.0</td>\n",
              "      <td>96.0</td>\n",
              "      <td>Poland</td>\n",
              "      <td>POL</td>\n",
              "      <td>2002 Winter</td>\n",
              "      <td>2002</td>\n",
              "      <td>Winter</td>\n",
              "      <td>Salt Lake City</td>\n",
              "      <td>Bobsleigh</td>\n",
              "      <td>Bobsleigh Men's Four</td>\n",
              "      <td>NaN</td>\n",
              "    </tr>\n",
              "  </tbody>\n",
              "</table>\n",
              "<p>271116 rows × 15 columns</p>\n",
              "</div>\n",
              "      <button class=\"colab-df-convert\" onclick=\"convertToInteractive('df-6eddfbe5-258d-4726-9658-f9976cae93e1')\"\n",
              "              title=\"Convert this dataframe to an interactive table.\"\n",
              "              style=\"display:none;\">\n",
              "        \n",
              "  <svg xmlns=\"http://www.w3.org/2000/svg\" height=\"24px\"viewBox=\"0 0 24 24\"\n",
              "       width=\"24px\">\n",
              "    <path d=\"M0 0h24v24H0V0z\" fill=\"none\"/>\n",
              "    <path d=\"M18.56 5.44l.94 2.06.94-2.06 2.06-.94-2.06-.94-.94-2.06-.94 2.06-2.06.94zm-11 1L8.5 8.5l.94-2.06 2.06-.94-2.06-.94L8.5 2.5l-.94 2.06-2.06.94zm10 10l.94 2.06.94-2.06 2.06-.94-2.06-.94-.94-2.06-.94 2.06-2.06.94z\"/><path d=\"M17.41 7.96l-1.37-1.37c-.4-.4-.92-.59-1.43-.59-.52 0-1.04.2-1.43.59L10.3 9.45l-7.72 7.72c-.78.78-.78 2.05 0 2.83L4 21.41c.39.39.9.59 1.41.59.51 0 1.02-.2 1.41-.59l7.78-7.78 2.81-2.81c.8-.78.8-2.07 0-2.86zM5.41 20L4 18.59l7.72-7.72 1.47 1.35L5.41 20z\"/>\n",
              "  </svg>\n",
              "      </button>\n",
              "      \n",
              "  <style>\n",
              "    .colab-df-container {\n",
              "      display:flex;\n",
              "      flex-wrap:wrap;\n",
              "      gap: 12px;\n",
              "    }\n",
              "\n",
              "    .colab-df-convert {\n",
              "      background-color: #E8F0FE;\n",
              "      border: none;\n",
              "      border-radius: 50%;\n",
              "      cursor: pointer;\n",
              "      display: none;\n",
              "      fill: #1967D2;\n",
              "      height: 32px;\n",
              "      padding: 0 0 0 0;\n",
              "      width: 32px;\n",
              "    }\n",
              "\n",
              "    .colab-df-convert:hover {\n",
              "      background-color: #E2EBFA;\n",
              "      box-shadow: 0px 1px 2px rgba(60, 64, 67, 0.3), 0px 1px 3px 1px rgba(60, 64, 67, 0.15);\n",
              "      fill: #174EA6;\n",
              "    }\n",
              "\n",
              "    [theme=dark] .colab-df-convert {\n",
              "      background-color: #3B4455;\n",
              "      fill: #D2E3FC;\n",
              "    }\n",
              "\n",
              "    [theme=dark] .colab-df-convert:hover {\n",
              "      background-color: #434B5C;\n",
              "      box-shadow: 0px 1px 3px 1px rgba(0, 0, 0, 0.15);\n",
              "      filter: drop-shadow(0px 1px 2px rgba(0, 0, 0, 0.3));\n",
              "      fill: #FFFFFF;\n",
              "    }\n",
              "  </style>\n",
              "\n",
              "      <script>\n",
              "        const buttonEl =\n",
              "          document.querySelector('#df-6eddfbe5-258d-4726-9658-f9976cae93e1 button.colab-df-convert');\n",
              "        buttonEl.style.display =\n",
              "          google.colab.kernel.accessAllowed ? 'block' : 'none';\n",
              "\n",
              "        async function convertToInteractive(key) {\n",
              "          const element = document.querySelector('#df-6eddfbe5-258d-4726-9658-f9976cae93e1');\n",
              "          const dataTable =\n",
              "            await google.colab.kernel.invokeFunction('convertToInteractive',\n",
              "                                                     [key], {});\n",
              "          if (!dataTable) return;\n",
              "\n",
              "          const docLinkHtml = 'Like what you see? Visit the ' +\n",
              "            '<a target=\"_blank\" href=https://colab.research.google.com/notebooks/data_table.ipynb>data table notebook</a>'\n",
              "            + ' to learn more about interactive tables.';\n",
              "          element.innerHTML = '';\n",
              "          dataTable['output_type'] = 'display_data';\n",
              "          await google.colab.output.renderOutput(dataTable, element);\n",
              "          const docLink = document.createElement('div');\n",
              "          docLink.innerHTML = docLinkHtml;\n",
              "          element.appendChild(docLink);\n",
              "        }\n",
              "      </script>\n",
              "    </div>\n",
              "  </div>\n",
              "  "
            ]
          },
          "metadata": {},
          "execution_count": 4
        }
      ]
    },
    {
      "cell_type": "code",
      "source": [
        "#Displaying the columns in the dataset\n",
        "athlete.columns"
      ],
      "metadata": {
        "id": "1y-u6p6PQRQm",
        "colab": {
          "base_uri": "https://localhost:8080/"
        },
        "outputId": "f5b339d9-660f-4705-9792-303a857f74d1"
      },
      "id": "1y-u6p6PQRQm",
      "execution_count": null,
      "outputs": [
        {
          "output_type": "execute_result",
          "data": {
            "text/plain": [
              "Index(['ID', 'Name', 'Sex', 'Age', 'Height', 'Weight', 'Team', 'NOC', 'Games',\n",
              "       'Year', 'Season', 'City', 'Sport', 'Event', 'Medal'],\n",
              "      dtype='object')"
            ]
          },
          "metadata": {},
          "execution_count": 5
        }
      ]
    },
    {
      "cell_type": "code",
      "source": [
        "#The first step is to check the null values in each individual column\n",
        "\n",
        "print(athlete[\"ID\"].isnull().value_counts())\n",
        "print(\"There are no null values in the ID column\")"
      ],
      "metadata": {
        "id": "Dgu6arzKQTk0",
        "colab": {
          "base_uri": "https://localhost:8080/"
        },
        "outputId": "3f6bfd59-9025-4e99-f95c-34aeccdba332"
      },
      "id": "Dgu6arzKQTk0",
      "execution_count": null,
      "outputs": [
        {
          "output_type": "stream",
          "name": "stdout",
          "text": [
            "False    271116\n",
            "Name: ID, dtype: int64\n",
            "There are no null values in the ID column\n"
          ]
        }
      ]
    },
    {
      "cell_type": "code",
      "source": [
        "# Checking null values in the name column\n",
        "print(athlete['Name'].isnull().value_counts())\n",
        "print(\"There are no null values in the Name column\")"
      ],
      "metadata": {
        "id": "ZOHk7RntQWqR",
        "colab": {
          "base_uri": "https://localhost:8080/"
        },
        "outputId": "2b929477-bdd0-447e-f5d3-ddf62fc19fdf"
      },
      "id": "ZOHk7RntQWqR",
      "execution_count": null,
      "outputs": [
        {
          "output_type": "stream",
          "name": "stdout",
          "text": [
            "False    271116\n",
            "Name: Name, dtype: int64\n",
            "There are no null values in the Name column\n"
          ]
        }
      ]
    },
    {
      "cell_type": "code",
      "source": [
        "#Checking null values in the Sex column\n",
        "\n",
        "print(athlete['Sex'].isnull().value_counts(),\"\\n\") \n",
        "print(\"Data in the column \\n\",athlete['Sex'].value_counts())"
      ],
      "metadata": {
        "id": "_sHj7VOVQZWu",
        "colab": {
          "base_uri": "https://localhost:8080/"
        },
        "outputId": "a6bcc734-533b-4bdd-d981-144be32703b4"
      },
      "id": "_sHj7VOVQZWu",
      "execution_count": null,
      "outputs": [
        {
          "output_type": "stream",
          "name": "stdout",
          "text": [
            "False    271116\n",
            "Name: Sex, dtype: int64 \n",
            "\n",
            "Data in the column \n",
            " M    196594\n",
            "F     74522\n",
            "Name: Sex, dtype: int64\n"
          ]
        }
      ]
    },
    {
      "cell_type": "code",
      "source": [
        "athlete['Sex'].value_counts()"
      ],
      "metadata": {
        "id": "YOLDPOVvQbR6",
        "colab": {
          "base_uri": "https://localhost:8080/"
        },
        "outputId": "b71312a4-0ed6-44a1-bae6-637030e99ccd"
      },
      "id": "YOLDPOVvQbR6",
      "execution_count": null,
      "outputs": [
        {
          "output_type": "execute_result",
          "data": {
            "text/plain": [
              "M    196594\n",
              "F     74522\n",
              "Name: Sex, dtype: int64"
            ]
          },
          "metadata": {},
          "execution_count": 9
        }
      ]
    },
    {
      "cell_type": "code",
      "source": [
        "#Checking null values in the Age colum\n",
        "#athlete['Age'] = pd.to_numeric(athlete['Age'], errors='coerce')\n",
        "print(\"Checking for null values \\n\",athlete['Age'].isnull().value_counts(),\"\\n\") #There are 9474 null values\n",
        "print(\"Finding invalid age\\n\", athlete[\"Age\"][(athlete['Age']>100) | (athlete['Age']<0)])"
      ],
      "metadata": {
        "id": "JNkfL4vsQc_j",
        "colab": {
          "base_uri": "https://localhost:8080/"
        },
        "outputId": "31e553f6-d3c9-41ae-ad29-9d535873bf44"
      },
      "id": "JNkfL4vsQc_j",
      "execution_count": null,
      "outputs": [
        {
          "output_type": "stream",
          "name": "stdout",
          "text": [
            "Checking for null values \n",
            " False    261642\n",
            "True       9474\n",
            "Name: Age, dtype: int64 \n",
            "\n",
            "Finding invalid age\n",
            " Series([], Name: Age, dtype: float64)\n"
          ]
        }
      ]
    },
    {
      "cell_type": "code",
      "source": [
        "#Replacing null values with median\n",
        "mean_val = athlete['Age'].median()\n",
        "athlete['Age'].fillna(value=mean_val, inplace=True)\n",
        "\n",
        "print(athlete['Age'].isnull().value_counts(),\"\\n\") "
      ],
      "metadata": {
        "id": "aW-B3JP6QfPy",
        "colab": {
          "base_uri": "https://localhost:8080/"
        },
        "outputId": "ff877646-5524-4afd-a03d-80032878ae63"
      },
      "id": "aW-B3JP6QfPy",
      "execution_count": null,
      "outputs": [
        {
          "output_type": "stream",
          "name": "stdout",
          "text": [
            "False    271116\n",
            "Name: Age, dtype: int64 \n",
            "\n"
          ]
        }
      ]
    },
    {
      "cell_type": "code",
      "source": [
        "#Checking null values in the Height column\n",
        "print(athlete['Height'].isnull().value_counts(),\"\\n\") "
      ],
      "metadata": {
        "id": "pyon4L3HQhCt",
        "colab": {
          "base_uri": "https://localhost:8080/"
        },
        "outputId": "d004f3d2-7b09-43d8-8472-1ce624203e68"
      },
      "id": "pyon4L3HQhCt",
      "execution_count": null,
      "outputs": [
        {
          "output_type": "stream",
          "name": "stdout",
          "text": [
            "False    210945\n",
            "True      60171\n",
            "Name: Height, dtype: int64 \n",
            "\n"
          ]
        }
      ]
    },
    {
      "cell_type": "code",
      "source": [
        "#Replacing null values with median\n",
        "athlete['Height'] = pd.to_numeric(athlete['Height'], errors='coerce')\n",
        "mean_val = athlete['Height'].median()\n",
        "athlete['Height'].fillna(value=mean_val, inplace=True)\n",
        "print(athlete['Height'].isnull().value_counts(),\"\\n\") "
      ],
      "metadata": {
        "id": "xiaZqb2PQi7T",
        "colab": {
          "base_uri": "https://localhost:8080/"
        },
        "outputId": "36738747-517a-4697-f897-11df9b4a7bfc"
      },
      "id": "xiaZqb2PQi7T",
      "execution_count": null,
      "outputs": [
        {
          "output_type": "stream",
          "name": "stdout",
          "text": [
            "False    271116\n",
            "Name: Height, dtype: int64 \n",
            "\n"
          ]
        }
      ]
    },
    {
      "cell_type": "code",
      "source": [
        "#Checking null values in the weight column\n",
        "athlete['Weight'] = pd.to_numeric(athlete['Weight'], errors='coerce')\n",
        "print(athlete['Weight'].isnull().value_counts(),\"\\n\") #There are 62875 null values\n",
        "print(\"Chcking for invalid data \\n\",athlete[\"Weight\"][athlete[\"Weight\"]<=0])"
      ],
      "metadata": {
        "id": "ZgC2TI-MQk6l",
        "colab": {
          "base_uri": "https://localhost:8080/"
        },
        "outputId": "94edfb52-c395-4f84-dfcf-cb4c91ccb867"
      },
      "id": "ZgC2TI-MQk6l",
      "execution_count": null,
      "outputs": [
        {
          "output_type": "stream",
          "name": "stdout",
          "text": [
            "False    208241\n",
            "True      62875\n",
            "Name: Weight, dtype: int64 \n",
            "\n",
            "Chcking for invalid data \n",
            " Series([], Name: Weight, dtype: float64)\n"
          ]
        }
      ]
    },
    {
      "cell_type": "code",
      "source": [
        "#Replacing null values with median\n",
        "med_val = athlete['Weight'].median()\n",
        "athlete['Weight'].fillna(value=med_val, inplace=True)\n",
        "print(athlete['Weight'].isnull().value_counts(),\"\\n\") "
      ],
      "metadata": {
        "id": "GWN7CiN3QmxP",
        "colab": {
          "base_uri": "https://localhost:8080/"
        },
        "outputId": "dc482dd6-7cdd-4212-815d-548411c2d84a"
      },
      "id": "GWN7CiN3QmxP",
      "execution_count": null,
      "outputs": [
        {
          "output_type": "stream",
          "name": "stdout",
          "text": [
            "False    271116\n",
            "Name: Weight, dtype: int64 \n",
            "\n"
          ]
        }
      ]
    },
    {
      "cell_type": "code",
      "source": [
        "#Checking null values in the Team column\n",
        "print(athlete['Team'].isnull().value_counts(),\"\\n\") \n",
        "print(\"Data \\n\",athlete['Team'].value_counts())"
      ],
      "metadata": {
        "id": "VXEY3ot5QogU",
        "colab": {
          "base_uri": "https://localhost:8080/"
        },
        "outputId": "7fc2fbdb-ba8a-4af6-8766-fa1d8ee9d7a9"
      },
      "id": "VXEY3ot5QogU",
      "execution_count": null,
      "outputs": [
        {
          "output_type": "stream",
          "name": "stdout",
          "text": [
            "False    271116\n",
            "Name: Team, dtype: int64 \n",
            "\n",
            "Data \n",
            " United States    17847\n",
            "France           11988\n",
            "Great Britain    11404\n",
            "Italy            10260\n",
            "Germany           9326\n",
            "                 ...  \n",
            "Briar                1\n",
            "Hannover             1\n",
            "Nan-2                1\n",
            "Brentina             1\n",
            "Digby                1\n",
            "Name: Team, Length: 1184, dtype: int64\n"
          ]
        }
      ]
    },
    {
      "cell_type": "code",
      "source": [
        "#Checking null values in the NOC column\n",
        "print(athlete['NOC'].isnull().value_counts(),\"\\n\") \n"
      ],
      "metadata": {
        "id": "KL95viMZQqWq",
        "colab": {
          "base_uri": "https://localhost:8080/"
        },
        "outputId": "094ddfb1-2e01-4106-a1ee-d8c7ce3c0956"
      },
      "id": "KL95viMZQqWq",
      "execution_count": null,
      "outputs": [
        {
          "output_type": "stream",
          "name": "stdout",
          "text": [
            "False    271116\n",
            "Name: NOC, dtype: int64 \n",
            "\n"
          ]
        }
      ]
    },
    {
      "cell_type": "code",
      "source": [
        "#Checking null values in the games column\n",
        "print(athlete['Games'].isnull().value_counts(),\"\\n\") "
      ],
      "metadata": {
        "id": "cdEcSgjLQsTx",
        "colab": {
          "base_uri": "https://localhost:8080/"
        },
        "outputId": "85285a30-dcfe-453d-b5ae-e4cc41dff7bf"
      },
      "id": "cdEcSgjLQsTx",
      "execution_count": null,
      "outputs": [
        {
          "output_type": "stream",
          "name": "stdout",
          "text": [
            "False    271116\n",
            "Name: Games, dtype: int64 \n",
            "\n"
          ]
        }
      ]
    },
    {
      "cell_type": "code",
      "source": [
        "#Checking null values for season column\n",
        "print(athlete['Season'].isnull().value_counts(),\"\\n\") "
      ],
      "metadata": {
        "id": "7pJU42lJQuHT",
        "colab": {
          "base_uri": "https://localhost:8080/"
        },
        "outputId": "781fbc1a-255e-4f3a-845e-6321cf159a97"
      },
      "id": "7pJU42lJQuHT",
      "execution_count": null,
      "outputs": [
        {
          "output_type": "stream",
          "name": "stdout",
          "text": [
            "False    271116\n",
            "Name: Season, dtype: int64 \n",
            "\n"
          ]
        }
      ]
    },
    {
      "cell_type": "code",
      "source": [
        "#Checking null values for city column \n",
        "print(athlete['City'].isnull().value_counts(),\"\\n\") "
      ],
      "metadata": {
        "id": "W-sAAbrLQvrG",
        "colab": {
          "base_uri": "https://localhost:8080/"
        },
        "outputId": "bbee9e0b-a72f-4d6f-a8fd-267191c298bb"
      },
      "id": "W-sAAbrLQvrG",
      "execution_count": null,
      "outputs": [
        {
          "output_type": "stream",
          "name": "stdout",
          "text": [
            "False    271116\n",
            "Name: City, dtype: int64 \n",
            "\n"
          ]
        }
      ]
    },
    {
      "cell_type": "code",
      "source": [
        "#Checking null values in Sport \n",
        "print(athlete['Sport'].isnull().value_counts(),\"\\n\") #There are no null values\n"
      ],
      "metadata": {
        "id": "KCIgKGseQxZR",
        "colab": {
          "base_uri": "https://localhost:8080/"
        },
        "outputId": "b9c80aa3-7d2e-41ee-d4c9-f0c8644f28c9"
      },
      "id": "KCIgKGseQxZR",
      "execution_count": null,
      "outputs": [
        {
          "output_type": "stream",
          "name": "stdout",
          "text": [
            "False    271116\n",
            "Name: Sport, dtype: int64 \n",
            "\n"
          ]
        }
      ]
    },
    {
      "cell_type": "code",
      "source": [
        "# Checking null values Event \n",
        "print(\"Checking for null values \\n\",athlete['Event'].isnull().value_counts(),\"\\n\") \n"
      ],
      "metadata": {
        "id": "glDiP98lQy-1",
        "colab": {
          "base_uri": "https://localhost:8080/"
        },
        "outputId": "794b26c7-e861-45e6-be25-843ee0937e91"
      },
      "id": "glDiP98lQy-1",
      "execution_count": null,
      "outputs": [
        {
          "output_type": "stream",
          "name": "stdout",
          "text": [
            "Checking for null values \n",
            " False    271116\n",
            "Name: Event, dtype: int64 \n",
            "\n"
          ]
        }
      ]
    },
    {
      "cell_type": "code",
      "source": [
        "#The null values in Medal column are not actually null. They indicate that there has been no medal acheivement.\n",
        "print(\"Checking for null values \\n\",athlete['Medal'].isnull().value_counts(),\"\\n\") #There are 231333 entries without the medal \n",
        "print(\"Insights on the column \\n\",athlete['Medal'].describe(),\"\\n\")\n",
        "print(\"Data \\n\",athlete['Medal'].value_counts())"
      ],
      "metadata": {
        "id": "OxwhmMxOQ0fG",
        "colab": {
          "base_uri": "https://localhost:8080/"
        },
        "outputId": "929d85cb-d07c-44c1-b0e1-1c989dbb1f55"
      },
      "id": "OxwhmMxOQ0fG",
      "execution_count": null,
      "outputs": [
        {
          "output_type": "stream",
          "name": "stdout",
          "text": [
            "Checking for null values \n",
            " True     231333\n",
            "False     39783\n",
            "Name: Medal, dtype: int64 \n",
            "\n",
            "Insights on the column \n",
            " count     39783\n",
            "unique        3\n",
            "top        Gold\n",
            "freq      13372\n",
            "Name: Medal, dtype: object \n",
            "\n",
            "Data \n",
            " Gold      13372\n",
            "Bronze    13295\n",
            "Silver    13116\n",
            "Name: Medal, dtype: int64\n"
          ]
        }
      ]
    },
    {
      "cell_type": "code",
      "source": [
        "import seaborn as sns\n",
        "%matplotlib inline\n",
        "import matplotlib.pyplot as plt"
      ],
      "metadata": {
        "id": "_f_GHcP4Q2aq"
      },
      "id": "_f_GHcP4Q2aq",
      "execution_count": null,
      "outputs": []
    },
    {
      "cell_type": "code",
      "source": [
        "#Merge both the dataframes\n",
        "athlete_merged = athlete.merge(region, how = 'left', on = 'NOC')\n",
        "athlete_merged.head()"
      ],
      "metadata": {
        "id": "Tu6_V2zEQ4ci",
        "colab": {
          "base_uri": "https://localhost:8080/",
          "height": 424
        },
        "outputId": "877c9d4b-e47e-426d-eb3d-3c56df3dfcc2"
      },
      "id": "Tu6_V2zEQ4ci",
      "execution_count": null,
      "outputs": [
        {
          "output_type": "execute_result",
          "data": {
            "text/plain": [
              "   ID                      Name Sex   Age  Height  Weight            Team  \\\n",
              "0   1                 A Dijiang   M  24.0   180.0    80.0           China   \n",
              "1   2                  A Lamusi   M  23.0   170.0    60.0           China   \n",
              "2   3       Gunnar Nielsen Aaby   M  24.0   175.0    70.0         Denmark   \n",
              "3   4      Edgar Lindenau Aabye   M  34.0   175.0    70.0  Denmark/Sweden   \n",
              "4   5  Christine Jacoba Aaftink   F  21.0   185.0    82.0     Netherlands   \n",
              "\n",
              "   NOC        Games  Year  Season       City          Sport  \\\n",
              "0  CHN  1992 Summer  1992  Summer  Barcelona     Basketball   \n",
              "1  CHN  2012 Summer  2012  Summer     London           Judo   \n",
              "2  DEN  1920 Summer  1920  Summer  Antwerpen       Football   \n",
              "3  DEN  1900 Summer  1900  Summer      Paris     Tug-Of-War   \n",
              "4  NED  1988 Winter  1988  Winter    Calgary  Speed Skating   \n",
              "\n",
              "                              Event Medal       region notes  \n",
              "0       Basketball Men's Basketball   NaN        China   NaN  \n",
              "1      Judo Men's Extra-Lightweight   NaN        China   NaN  \n",
              "2           Football Men's Football   NaN      Denmark   NaN  \n",
              "3       Tug-Of-War Men's Tug-Of-War  Gold      Denmark   NaN  \n",
              "4  Speed Skating Women's 500 metres   NaN  Netherlands   NaN  "
            ],
            "text/html": [
              "\n",
              "  <div id=\"df-50295df8-57f8-4abe-9b6a-21dd4de4fa12\">\n",
              "    <div class=\"colab-df-container\">\n",
              "      <div>\n",
              "<style scoped>\n",
              "    .dataframe tbody tr th:only-of-type {\n",
              "        vertical-align: middle;\n",
              "    }\n",
              "\n",
              "    .dataframe tbody tr th {\n",
              "        vertical-align: top;\n",
              "    }\n",
              "\n",
              "    .dataframe thead th {\n",
              "        text-align: right;\n",
              "    }\n",
              "</style>\n",
              "<table border=\"1\" class=\"dataframe\">\n",
              "  <thead>\n",
              "    <tr style=\"text-align: right;\">\n",
              "      <th></th>\n",
              "      <th>ID</th>\n",
              "      <th>Name</th>\n",
              "      <th>Sex</th>\n",
              "      <th>Age</th>\n",
              "      <th>Height</th>\n",
              "      <th>Weight</th>\n",
              "      <th>Team</th>\n",
              "      <th>NOC</th>\n",
              "      <th>Games</th>\n",
              "      <th>Year</th>\n",
              "      <th>Season</th>\n",
              "      <th>City</th>\n",
              "      <th>Sport</th>\n",
              "      <th>Event</th>\n",
              "      <th>Medal</th>\n",
              "      <th>region</th>\n",
              "      <th>notes</th>\n",
              "    </tr>\n",
              "  </thead>\n",
              "  <tbody>\n",
              "    <tr>\n",
              "      <th>0</th>\n",
              "      <td>1</td>\n",
              "      <td>A Dijiang</td>\n",
              "      <td>M</td>\n",
              "      <td>24.0</td>\n",
              "      <td>180.0</td>\n",
              "      <td>80.0</td>\n",
              "      <td>China</td>\n",
              "      <td>CHN</td>\n",
              "      <td>1992 Summer</td>\n",
              "      <td>1992</td>\n",
              "      <td>Summer</td>\n",
              "      <td>Barcelona</td>\n",
              "      <td>Basketball</td>\n",
              "      <td>Basketball Men's Basketball</td>\n",
              "      <td>NaN</td>\n",
              "      <td>China</td>\n",
              "      <td>NaN</td>\n",
              "    </tr>\n",
              "    <tr>\n",
              "      <th>1</th>\n",
              "      <td>2</td>\n",
              "      <td>A Lamusi</td>\n",
              "      <td>M</td>\n",
              "      <td>23.0</td>\n",
              "      <td>170.0</td>\n",
              "      <td>60.0</td>\n",
              "      <td>China</td>\n",
              "      <td>CHN</td>\n",
              "      <td>2012 Summer</td>\n",
              "      <td>2012</td>\n",
              "      <td>Summer</td>\n",
              "      <td>London</td>\n",
              "      <td>Judo</td>\n",
              "      <td>Judo Men's Extra-Lightweight</td>\n",
              "      <td>NaN</td>\n",
              "      <td>China</td>\n",
              "      <td>NaN</td>\n",
              "    </tr>\n",
              "    <tr>\n",
              "      <th>2</th>\n",
              "      <td>3</td>\n",
              "      <td>Gunnar Nielsen Aaby</td>\n",
              "      <td>M</td>\n",
              "      <td>24.0</td>\n",
              "      <td>175.0</td>\n",
              "      <td>70.0</td>\n",
              "      <td>Denmark</td>\n",
              "      <td>DEN</td>\n",
              "      <td>1920 Summer</td>\n",
              "      <td>1920</td>\n",
              "      <td>Summer</td>\n",
              "      <td>Antwerpen</td>\n",
              "      <td>Football</td>\n",
              "      <td>Football Men's Football</td>\n",
              "      <td>NaN</td>\n",
              "      <td>Denmark</td>\n",
              "      <td>NaN</td>\n",
              "    </tr>\n",
              "    <tr>\n",
              "      <th>3</th>\n",
              "      <td>4</td>\n",
              "      <td>Edgar Lindenau Aabye</td>\n",
              "      <td>M</td>\n",
              "      <td>34.0</td>\n",
              "      <td>175.0</td>\n",
              "      <td>70.0</td>\n",
              "      <td>Denmark/Sweden</td>\n",
              "      <td>DEN</td>\n",
              "      <td>1900 Summer</td>\n",
              "      <td>1900</td>\n",
              "      <td>Summer</td>\n",
              "      <td>Paris</td>\n",
              "      <td>Tug-Of-War</td>\n",
              "      <td>Tug-Of-War Men's Tug-Of-War</td>\n",
              "      <td>Gold</td>\n",
              "      <td>Denmark</td>\n",
              "      <td>NaN</td>\n",
              "    </tr>\n",
              "    <tr>\n",
              "      <th>4</th>\n",
              "      <td>5</td>\n",
              "      <td>Christine Jacoba Aaftink</td>\n",
              "      <td>F</td>\n",
              "      <td>21.0</td>\n",
              "      <td>185.0</td>\n",
              "      <td>82.0</td>\n",
              "      <td>Netherlands</td>\n",
              "      <td>NED</td>\n",
              "      <td>1988 Winter</td>\n",
              "      <td>1988</td>\n",
              "      <td>Winter</td>\n",
              "      <td>Calgary</td>\n",
              "      <td>Speed Skating</td>\n",
              "      <td>Speed Skating Women's 500 metres</td>\n",
              "      <td>NaN</td>\n",
              "      <td>Netherlands</td>\n",
              "      <td>NaN</td>\n",
              "    </tr>\n",
              "  </tbody>\n",
              "</table>\n",
              "</div>\n",
              "      <button class=\"colab-df-convert\" onclick=\"convertToInteractive('df-50295df8-57f8-4abe-9b6a-21dd4de4fa12')\"\n",
              "              title=\"Convert this dataframe to an interactive table.\"\n",
              "              style=\"display:none;\">\n",
              "        \n",
              "  <svg xmlns=\"http://www.w3.org/2000/svg\" height=\"24px\"viewBox=\"0 0 24 24\"\n",
              "       width=\"24px\">\n",
              "    <path d=\"M0 0h24v24H0V0z\" fill=\"none\"/>\n",
              "    <path d=\"M18.56 5.44l.94 2.06.94-2.06 2.06-.94-2.06-.94-.94-2.06-.94 2.06-2.06.94zm-11 1L8.5 8.5l.94-2.06 2.06-.94-2.06-.94L8.5 2.5l-.94 2.06-2.06.94zm10 10l.94 2.06.94-2.06 2.06-.94-2.06-.94-.94-2.06-.94 2.06-2.06.94z\"/><path d=\"M17.41 7.96l-1.37-1.37c-.4-.4-.92-.59-1.43-.59-.52 0-1.04.2-1.43.59L10.3 9.45l-7.72 7.72c-.78.78-.78 2.05 0 2.83L4 21.41c.39.39.9.59 1.41.59.51 0 1.02-.2 1.41-.59l7.78-7.78 2.81-2.81c.8-.78.8-2.07 0-2.86zM5.41 20L4 18.59l7.72-7.72 1.47 1.35L5.41 20z\"/>\n",
              "  </svg>\n",
              "      </button>\n",
              "      \n",
              "  <style>\n",
              "    .colab-df-container {\n",
              "      display:flex;\n",
              "      flex-wrap:wrap;\n",
              "      gap: 12px;\n",
              "    }\n",
              "\n",
              "    .colab-df-convert {\n",
              "      background-color: #E8F0FE;\n",
              "      border: none;\n",
              "      border-radius: 50%;\n",
              "      cursor: pointer;\n",
              "      display: none;\n",
              "      fill: #1967D2;\n",
              "      height: 32px;\n",
              "      padding: 0 0 0 0;\n",
              "      width: 32px;\n",
              "    }\n",
              "\n",
              "    .colab-df-convert:hover {\n",
              "      background-color: #E2EBFA;\n",
              "      box-shadow: 0px 1px 2px rgba(60, 64, 67, 0.3), 0px 1px 3px 1px rgba(60, 64, 67, 0.15);\n",
              "      fill: #174EA6;\n",
              "    }\n",
              "\n",
              "    [theme=dark] .colab-df-convert {\n",
              "      background-color: #3B4455;\n",
              "      fill: #D2E3FC;\n",
              "    }\n",
              "\n",
              "    [theme=dark] .colab-df-convert:hover {\n",
              "      background-color: #434B5C;\n",
              "      box-shadow: 0px 1px 3px 1px rgba(0, 0, 0, 0.15);\n",
              "      filter: drop-shadow(0px 1px 2px rgba(0, 0, 0, 0.3));\n",
              "      fill: #FFFFFF;\n",
              "    }\n",
              "  </style>\n",
              "\n",
              "      <script>\n",
              "        const buttonEl =\n",
              "          document.querySelector('#df-50295df8-57f8-4abe-9b6a-21dd4de4fa12 button.colab-df-convert');\n",
              "        buttonEl.style.display =\n",
              "          google.colab.kernel.accessAllowed ? 'block' : 'none';\n",
              "\n",
              "        async function convertToInteractive(key) {\n",
              "          const element = document.querySelector('#df-50295df8-57f8-4abe-9b6a-21dd4de4fa12');\n",
              "          const dataTable =\n",
              "            await google.colab.kernel.invokeFunction('convertToInteractive',\n",
              "                                                     [key], {});\n",
              "          if (!dataTable) return;\n",
              "\n",
              "          const docLinkHtml = 'Like what you see? Visit the ' +\n",
              "            '<a target=\"_blank\" href=https://colab.research.google.com/notebooks/data_table.ipynb>data table notebook</a>'\n",
              "            + ' to learn more about interactive tables.';\n",
              "          element.innerHTML = '';\n",
              "          dataTable['output_type'] = 'display_data';\n",
              "          await google.colab.output.renderOutput(dataTable, element);\n",
              "          const docLink = document.createElement('div');\n",
              "          docLink.innerHTML = docLinkHtml;\n",
              "          element.appendChild(docLink);\n",
              "        }\n",
              "      </script>\n",
              "    </div>\n",
              "  </div>\n",
              "  "
            ]
          },
          "metadata": {},
          "execution_count": 25
        }
      ]
    },
    {
      "cell_type": "code",
      "source": [
        "athlete_merged.shape"
      ],
      "metadata": {
        "id": "twFbpMADQ59k",
        "colab": {
          "base_uri": "https://localhost:8080/"
        },
        "outputId": "8459dee3-c576-4409-d176-59b5acf8d3be"
      },
      "id": "twFbpMADQ59k",
      "execution_count": null,
      "outputs": [
        {
          "output_type": "execute_result",
          "data": {
            "text/plain": [
              "(271116, 17)"
            ]
          },
          "metadata": {},
          "execution_count": 26
        }
      ]
    },
    {
      "cell_type": "code",
      "source": [
        "athlete_merged.rename(columns={'region': 'Region', 'notes': 'Notes'}, inplace= True)"
      ],
      "metadata": {
        "id": "1_ElI-qGUlTx"
      },
      "id": "1_ElI-qGUlTx",
      "execution_count": null,
      "outputs": []
    },
    {
      "cell_type": "code",
      "source": [
        "athlete_merged.info()"
      ],
      "metadata": {
        "id": "ohc2npBKUn-E",
        "colab": {
          "base_uri": "https://localhost:8080/"
        },
        "outputId": "ff88487f-7823-4579-8df8-ca86ea667b02"
      },
      "id": "ohc2npBKUn-E",
      "execution_count": null,
      "outputs": [
        {
          "output_type": "stream",
          "name": "stdout",
          "text": [
            "<class 'pandas.core.frame.DataFrame'>\n",
            "Int64Index: 271116 entries, 0 to 271115\n",
            "Data columns (total 17 columns):\n",
            " #   Column  Non-Null Count   Dtype  \n",
            "---  ------  --------------   -----  \n",
            " 0   ID      271116 non-null  int64  \n",
            " 1   Name    271116 non-null  object \n",
            " 2   Sex     271116 non-null  object \n",
            " 3   Age     271116 non-null  float64\n",
            " 4   Height  271116 non-null  float64\n",
            " 5   Weight  271116 non-null  float64\n",
            " 6   Team    271116 non-null  object \n",
            " 7   NOC     271116 non-null  object \n",
            " 8   Games   271116 non-null  object \n",
            " 9   Year    271116 non-null  int64  \n",
            " 10  Season  271116 non-null  object \n",
            " 11  City    271116 non-null  object \n",
            " 12  Sport   271116 non-null  object \n",
            " 13  Event   271116 non-null  object \n",
            " 14  Medal   39783 non-null   object \n",
            " 15  Region  270746 non-null  object \n",
            " 16  Notes   5039 non-null    object \n",
            "dtypes: float64(3), int64(2), object(12)\n",
            "memory usage: 37.2+ MB\n"
          ]
        }
      ]
    },
    {
      "cell_type": "code",
      "source": [
        "athlete_merged.describe()\n",
        "print(type(athlete_merged))"
      ],
      "metadata": {
        "id": "qIMx-GALUqD6",
        "colab": {
          "base_uri": "https://localhost:8080/"
        },
        "outputId": "1b97f9c8-6d87-48ca-cad5-4a83d8a76948"
      },
      "id": "qIMx-GALUqD6",
      "execution_count": null,
      "outputs": [
        {
          "output_type": "stream",
          "name": "stdout",
          "text": [
            "<class 'pandas.core.frame.DataFrame'>\n"
          ]
        }
      ]
    },
    {
      "cell_type": "code",
      "source": [
        "athlete_merged.isnull().sum()\n",
        "#There are no columns with null values except the medal column "
      ],
      "metadata": {
        "id": "0YqNobUXUsDp",
        "colab": {
          "base_uri": "https://localhost:8080/"
        },
        "outputId": "e65dcb28-623a-4db6-f9c7-f0dcfe92ddda"
      },
      "id": "0YqNobUXUsDp",
      "execution_count": null,
      "outputs": [
        {
          "output_type": "execute_result",
          "data": {
            "text/plain": [
              "ID             0\n",
              "Name           0\n",
              "Sex            0\n",
              "Age            0\n",
              "Height         0\n",
              "Weight         0\n",
              "Team           0\n",
              "NOC            0\n",
              "Games          0\n",
              "Year           0\n",
              "Season         0\n",
              "City           0\n",
              "Sport          0\n",
              "Event          0\n",
              "Medal     231333\n",
              "Region       370\n",
              "Notes     266077\n",
              "dtype: int64"
            ]
          },
          "metadata": {},
          "execution_count": 30
        }
      ]
    },
    {
      "cell_type": "code",
      "source": [
        "# Athlete details for the country India\n",
        "\n",
        "athlete_merged.query('Team == \"India\"').head()"
      ],
      "metadata": {
        "id": "X5Crz243Ut0s",
        "colab": {
          "base_uri": "https://localhost:8080/",
          "height": 337
        },
        "outputId": "b8640f00-7942-4acd-8d21-5c93507736da"
      },
      "id": "X5Crz243Ut0s",
      "execution_count": null,
      "outputs": [
        {
          "output_type": "execute_result",
          "data": {
            "text/plain": [
              "      ID                             Name Sex   Age  Height  Weight   Team  \\\n",
              "505  281                   S. Abdul Hamid   M  24.0   175.0    70.0  India   \n",
              "506  281                   S. Abdul Hamid   M  24.0   175.0    70.0  India   \n",
              "895  512  Shiny Kurisingal Abraham-Wilson   F  19.0   167.0    53.0  India   \n",
              "896  512  Shiny Kurisingal Abraham-Wilson   F  19.0   167.0    53.0  India   \n",
              "897  512  Shiny Kurisingal Abraham-Wilson   F  23.0   167.0    53.0  India   \n",
              "\n",
              "     NOC        Games  Year  Season         City      Sport  \\\n",
              "505  IND  1928 Summer  1928  Summer    Amsterdam  Athletics   \n",
              "506  IND  1928 Summer  1928  Summer    Amsterdam  Athletics   \n",
              "895  IND  1984 Summer  1984  Summer  Los Angeles  Athletics   \n",
              "896  IND  1984 Summer  1984  Summer  Los Angeles  Athletics   \n",
              "897  IND  1988 Summer  1988  Summer        Seoul  Athletics   \n",
              "\n",
              "                                      Event Medal Region Notes  \n",
              "505      Athletics Men's 110 metres Hurdles   NaN  India   NaN  \n",
              "506      Athletics Men's 400 metres Hurdles   NaN  India   NaN  \n",
              "895            Athletics Women's 800 metres   NaN  India   NaN  \n",
              "896  Athletics Women's 4 x 400 metres Relay   NaN  India   NaN  \n",
              "897            Athletics Women's 800 metres   NaN  India   NaN  "
            ],
            "text/html": [
              "\n",
              "  <div id=\"df-90f2986c-19f0-48ee-9d35-e9c5d155d219\">\n",
              "    <div class=\"colab-df-container\">\n",
              "      <div>\n",
              "<style scoped>\n",
              "    .dataframe tbody tr th:only-of-type {\n",
              "        vertical-align: middle;\n",
              "    }\n",
              "\n",
              "    .dataframe tbody tr th {\n",
              "        vertical-align: top;\n",
              "    }\n",
              "\n",
              "    .dataframe thead th {\n",
              "        text-align: right;\n",
              "    }\n",
              "</style>\n",
              "<table border=\"1\" class=\"dataframe\">\n",
              "  <thead>\n",
              "    <tr style=\"text-align: right;\">\n",
              "      <th></th>\n",
              "      <th>ID</th>\n",
              "      <th>Name</th>\n",
              "      <th>Sex</th>\n",
              "      <th>Age</th>\n",
              "      <th>Height</th>\n",
              "      <th>Weight</th>\n",
              "      <th>Team</th>\n",
              "      <th>NOC</th>\n",
              "      <th>Games</th>\n",
              "      <th>Year</th>\n",
              "      <th>Season</th>\n",
              "      <th>City</th>\n",
              "      <th>Sport</th>\n",
              "      <th>Event</th>\n",
              "      <th>Medal</th>\n",
              "      <th>Region</th>\n",
              "      <th>Notes</th>\n",
              "    </tr>\n",
              "  </thead>\n",
              "  <tbody>\n",
              "    <tr>\n",
              "      <th>505</th>\n",
              "      <td>281</td>\n",
              "      <td>S. Abdul Hamid</td>\n",
              "      <td>M</td>\n",
              "      <td>24.0</td>\n",
              "      <td>175.0</td>\n",
              "      <td>70.0</td>\n",
              "      <td>India</td>\n",
              "      <td>IND</td>\n",
              "      <td>1928 Summer</td>\n",
              "      <td>1928</td>\n",
              "      <td>Summer</td>\n",
              "      <td>Amsterdam</td>\n",
              "      <td>Athletics</td>\n",
              "      <td>Athletics Men's 110 metres Hurdles</td>\n",
              "      <td>NaN</td>\n",
              "      <td>India</td>\n",
              "      <td>NaN</td>\n",
              "    </tr>\n",
              "    <tr>\n",
              "      <th>506</th>\n",
              "      <td>281</td>\n",
              "      <td>S. Abdul Hamid</td>\n",
              "      <td>M</td>\n",
              "      <td>24.0</td>\n",
              "      <td>175.0</td>\n",
              "      <td>70.0</td>\n",
              "      <td>India</td>\n",
              "      <td>IND</td>\n",
              "      <td>1928 Summer</td>\n",
              "      <td>1928</td>\n",
              "      <td>Summer</td>\n",
              "      <td>Amsterdam</td>\n",
              "      <td>Athletics</td>\n",
              "      <td>Athletics Men's 400 metres Hurdles</td>\n",
              "      <td>NaN</td>\n",
              "      <td>India</td>\n",
              "      <td>NaN</td>\n",
              "    </tr>\n",
              "    <tr>\n",
              "      <th>895</th>\n",
              "      <td>512</td>\n",
              "      <td>Shiny Kurisingal Abraham-Wilson</td>\n",
              "      <td>F</td>\n",
              "      <td>19.0</td>\n",
              "      <td>167.0</td>\n",
              "      <td>53.0</td>\n",
              "      <td>India</td>\n",
              "      <td>IND</td>\n",
              "      <td>1984 Summer</td>\n",
              "      <td>1984</td>\n",
              "      <td>Summer</td>\n",
              "      <td>Los Angeles</td>\n",
              "      <td>Athletics</td>\n",
              "      <td>Athletics Women's 800 metres</td>\n",
              "      <td>NaN</td>\n",
              "      <td>India</td>\n",
              "      <td>NaN</td>\n",
              "    </tr>\n",
              "    <tr>\n",
              "      <th>896</th>\n",
              "      <td>512</td>\n",
              "      <td>Shiny Kurisingal Abraham-Wilson</td>\n",
              "      <td>F</td>\n",
              "      <td>19.0</td>\n",
              "      <td>167.0</td>\n",
              "      <td>53.0</td>\n",
              "      <td>India</td>\n",
              "      <td>IND</td>\n",
              "      <td>1984 Summer</td>\n",
              "      <td>1984</td>\n",
              "      <td>Summer</td>\n",
              "      <td>Los Angeles</td>\n",
              "      <td>Athletics</td>\n",
              "      <td>Athletics Women's 4 x 400 metres Relay</td>\n",
              "      <td>NaN</td>\n",
              "      <td>India</td>\n",
              "      <td>NaN</td>\n",
              "    </tr>\n",
              "    <tr>\n",
              "      <th>897</th>\n",
              "      <td>512</td>\n",
              "      <td>Shiny Kurisingal Abraham-Wilson</td>\n",
              "      <td>F</td>\n",
              "      <td>23.0</td>\n",
              "      <td>167.0</td>\n",
              "      <td>53.0</td>\n",
              "      <td>India</td>\n",
              "      <td>IND</td>\n",
              "      <td>1988 Summer</td>\n",
              "      <td>1988</td>\n",
              "      <td>Summer</td>\n",
              "      <td>Seoul</td>\n",
              "      <td>Athletics</td>\n",
              "      <td>Athletics Women's 800 metres</td>\n",
              "      <td>NaN</td>\n",
              "      <td>India</td>\n",
              "      <td>NaN</td>\n",
              "    </tr>\n",
              "  </tbody>\n",
              "</table>\n",
              "</div>\n",
              "      <button class=\"colab-df-convert\" onclick=\"convertToInteractive('df-90f2986c-19f0-48ee-9d35-e9c5d155d219')\"\n",
              "              title=\"Convert this dataframe to an interactive table.\"\n",
              "              style=\"display:none;\">\n",
              "        \n",
              "  <svg xmlns=\"http://www.w3.org/2000/svg\" height=\"24px\"viewBox=\"0 0 24 24\"\n",
              "       width=\"24px\">\n",
              "    <path d=\"M0 0h24v24H0V0z\" fill=\"none\"/>\n",
              "    <path d=\"M18.56 5.44l.94 2.06.94-2.06 2.06-.94-2.06-.94-.94-2.06-.94 2.06-2.06.94zm-11 1L8.5 8.5l.94-2.06 2.06-.94-2.06-.94L8.5 2.5l-.94 2.06-2.06.94zm10 10l.94 2.06.94-2.06 2.06-.94-2.06-.94-.94-2.06-.94 2.06-2.06.94z\"/><path d=\"M17.41 7.96l-1.37-1.37c-.4-.4-.92-.59-1.43-.59-.52 0-1.04.2-1.43.59L10.3 9.45l-7.72 7.72c-.78.78-.78 2.05 0 2.83L4 21.41c.39.39.9.59 1.41.59.51 0 1.02-.2 1.41-.59l7.78-7.78 2.81-2.81c.8-.78.8-2.07 0-2.86zM5.41 20L4 18.59l7.72-7.72 1.47 1.35L5.41 20z\"/>\n",
              "  </svg>\n",
              "      </button>\n",
              "      \n",
              "  <style>\n",
              "    .colab-df-container {\n",
              "      display:flex;\n",
              "      flex-wrap:wrap;\n",
              "      gap: 12px;\n",
              "    }\n",
              "\n",
              "    .colab-df-convert {\n",
              "      background-color: #E8F0FE;\n",
              "      border: none;\n",
              "      border-radius: 50%;\n",
              "      cursor: pointer;\n",
              "      display: none;\n",
              "      fill: #1967D2;\n",
              "      height: 32px;\n",
              "      padding: 0 0 0 0;\n",
              "      width: 32px;\n",
              "    }\n",
              "\n",
              "    .colab-df-convert:hover {\n",
              "      background-color: #E2EBFA;\n",
              "      box-shadow: 0px 1px 2px rgba(60, 64, 67, 0.3), 0px 1px 3px 1px rgba(60, 64, 67, 0.15);\n",
              "      fill: #174EA6;\n",
              "    }\n",
              "\n",
              "    [theme=dark] .colab-df-convert {\n",
              "      background-color: #3B4455;\n",
              "      fill: #D2E3FC;\n",
              "    }\n",
              "\n",
              "    [theme=dark] .colab-df-convert:hover {\n",
              "      background-color: #434B5C;\n",
              "      box-shadow: 0px 1px 3px 1px rgba(0, 0, 0, 0.15);\n",
              "      filter: drop-shadow(0px 1px 2px rgba(0, 0, 0, 0.3));\n",
              "      fill: #FFFFFF;\n",
              "    }\n",
              "  </style>\n",
              "\n",
              "      <script>\n",
              "        const buttonEl =\n",
              "          document.querySelector('#df-90f2986c-19f0-48ee-9d35-e9c5d155d219 button.colab-df-convert');\n",
              "        buttonEl.style.display =\n",
              "          google.colab.kernel.accessAllowed ? 'block' : 'none';\n",
              "\n",
              "        async function convertToInteractive(key) {\n",
              "          const element = document.querySelector('#df-90f2986c-19f0-48ee-9d35-e9c5d155d219');\n",
              "          const dataTable =\n",
              "            await google.colab.kernel.invokeFunction('convertToInteractive',\n",
              "                                                     [key], {});\n",
              "          if (!dataTable) return;\n",
              "\n",
              "          const docLinkHtml = 'Like what you see? Visit the ' +\n",
              "            '<a target=\"_blank\" href=https://colab.research.google.com/notebooks/data_table.ipynb>data table notebook</a>'\n",
              "            + ' to learn more about interactive tables.';\n",
              "          element.innerHTML = '';\n",
              "          dataTable['output_type'] = 'display_data';\n",
              "          await google.colab.output.renderOutput(dataTable, element);\n",
              "          const docLink = document.createElement('div');\n",
              "          docLink.innerHTML = docLinkHtml;\n",
              "          element.appendChild(docLink);\n",
              "        }\n",
              "      </script>\n",
              "    </div>\n",
              "  </div>\n",
              "  "
            ]
          },
          "metadata": {},
          "execution_count": 31
        }
      ]
    },
    {
      "cell_type": "code",
      "source": [
        "# Top participating countries in Olympics\n",
        "top_10_countries = athlete_merged.Team.value_counts().sort_values(ascending=False).head(10)\n",
        "top_10_countries"
      ],
      "metadata": {
        "id": "JDOk4PTMUv5X",
        "colab": {
          "base_uri": "https://localhost:8080/"
        },
        "outputId": "00d287b2-0c01-4baa-ca48-24a9d7fecf91"
      },
      "id": "JDOk4PTMUv5X",
      "execution_count": null,
      "outputs": [
        {
          "output_type": "execute_result",
          "data": {
            "text/plain": [
              "United States    17847\n",
              "France           11988\n",
              "Great Britain    11404\n",
              "Italy            10260\n",
              "Germany           9326\n",
              "Canada            9279\n",
              "Japan             8289\n",
              "Sweden            8052\n",
              "Australia         7513\n",
              "Hungary           6547\n",
              "Name: Team, dtype: int64"
            ]
          },
          "metadata": {},
          "execution_count": 32
        }
      ]
    },
    {
      "cell_type": "code",
      "source": [
        "#Plot for the top 10 countries\n",
        "\n",
        "plt.figure(figsize=(12,6))\n",
        "#plt.xticks(rotation=20)\n",
        "plt.title('Overall Participation by Country')\n",
        "sns.barplot(x=top_10_countries.index, y=top_10_countries);"
      ],
      "metadata": {
        "id": "7yS7QHqIUxrO",
        "colab": {
          "base_uri": "https://localhost:8080/",
          "height": 390
        },
        "outputId": "4bd5ef4a-07f6-441b-a2cf-fe21c686bfe6"
      },
      "id": "7yS7QHqIUxrO",
      "execution_count": null,
      "outputs": [
        {
          "output_type": "display_data",
          "data": {
            "text/plain": [
              "<Figure size 864x432 with 1 Axes>"
            ],
            "image/png": "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\n"
          },
          "metadata": {
            "needs_background": "light"
          }
        }
      ]
    },
    {
      "cell_type": "code",
      "source": [
        "#Participations according to the age\n",
        "plt.figure(figsize=(12,6))\n",
        "plt.title(\"Age distribution of the athletes\")\n",
        "plt.xlabel('Age')\n",
        "plt.ylabel('Number of Participants')\n",
        "plt.hist(athlete_merged.Age, bins = np.arange(10,60,2), color='red', edgecolor = 'white');"
      ],
      "metadata": {
        "id": "rxK3UydxUzhk",
        "colab": {
          "base_uri": "https://localhost:8080/",
          "height": 404
        },
        "outputId": "ec91a84f-8a82-4365-db52-2e3837abc21e"
      },
      "id": "rxK3UydxUzhk",
      "execution_count": null,
      "outputs": [
        {
          "output_type": "display_data",
          "data": {
            "text/plain": [
              "<Figure size 864x432 with 1 Axes>"
            ],
            "image/png": "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\n"
          },
          "metadata": {
            "needs_background": "light"
          }
        }
      ]
    },
    {
      "cell_type": "code",
      "source": [
        "winter_games = athlete_merged[athlete_merged.Season == 'Winter'].Sport.unique()\n",
        "winter_games"
      ],
      "metadata": {
        "id": "mBwcIRFIU1lC",
        "colab": {
          "base_uri": "https://localhost:8080/"
        },
        "outputId": "85010cda-2c61-4494-930c-86268f0fe912"
      },
      "id": "mBwcIRFIU1lC",
      "execution_count": null,
      "outputs": [
        {
          "output_type": "execute_result",
          "data": {
            "text/plain": [
              "array(['Speed Skating', 'Cross Country Skiing', 'Ice Hockey', 'Biathlon',\n",
              "       'Alpine Skiing', 'Luge', 'Bobsleigh', 'Figure Skating',\n",
              "       'Nordic Combined', 'Freestyle Skiing', 'Ski Jumping', 'Curling',\n",
              "       'Snowboarding', 'Short Track Speed Skating', 'Skeleton',\n",
              "       'Military Ski Patrol', 'Alpinism'], dtype=object)"
            ]
          },
          "metadata": {},
          "execution_count": 35
        }
      ]
    },
    {
      "cell_type": "code",
      "source": [
        "summer_games = athlete_merged[athlete_merged.Season == 'Summer'].Sport.unique()\n",
        "summer_games"
      ],
      "metadata": {
        "id": "Q4MuXHrCU3mi",
        "colab": {
          "base_uri": "https://localhost:8080/"
        },
        "outputId": "d705c9ef-94c9-4cfc-be63-9bb2d2e3ea29"
      },
      "id": "Q4MuXHrCU3mi",
      "execution_count": null,
      "outputs": [
        {
          "output_type": "execute_result",
          "data": {
            "text/plain": [
              "array(['Basketball', 'Judo', 'Football', 'Tug-Of-War', 'Athletics',\n",
              "       'Swimming', 'Badminton', 'Sailing', 'Gymnastics',\n",
              "       'Art Competitions', 'Handball', 'Weightlifting', 'Wrestling',\n",
              "       'Water Polo', 'Hockey', 'Rowing', 'Fencing', 'Equestrianism',\n",
              "       'Shooting', 'Boxing', 'Taekwondo', 'Cycling', 'Diving', 'Canoeing',\n",
              "       'Tennis', 'Modern Pentathlon', 'Golf', 'Softball', 'Archery',\n",
              "       'Volleyball', 'Synchronized Swimming', 'Table Tennis', 'Baseball',\n",
              "       'Rhythmic Gymnastics', 'Rugby Sevens', 'Trampolining',\n",
              "       'Beach Volleyball', 'Triathlon', 'Rugby', 'Lacrosse', 'Polo',\n",
              "       'Cricket', 'Ice Hockey', 'Racquets', 'Motorboating', 'Croquet',\n",
              "       'Figure Skating', 'Jeu De Paume', 'Roque', 'Basque Pelota',\n",
              "       'Alpinism', 'Aeronautics'], dtype=object)"
            ]
          },
          "metadata": {},
          "execution_count": 36
        }
      ]
    },
    {
      "cell_type": "code",
      "source": [
        "#Participations according to the Gender\n",
        "gender_count = athlete_merged[\"Sex\"].value_counts()\n",
        "gender_count.to_frame()"
      ],
      "metadata": {
        "id": "crGpXUlNU5DD",
        "colab": {
          "base_uri": "https://localhost:8080/",
          "height": 112
        },
        "outputId": "58449949-0dda-4f6a-a0e8-8210bc2ea139"
      },
      "id": "crGpXUlNU5DD",
      "execution_count": null,
      "outputs": [
        {
          "output_type": "execute_result",
          "data": {
            "text/plain": [
              "      Sex\n",
              "M  196594\n",
              "F   74522"
            ],
            "text/html": [
              "\n",
              "  <div id=\"df-e1004ec5-7ede-413d-a2db-9c27f1a79c4c\">\n",
              "    <div class=\"colab-df-container\">\n",
              "      <div>\n",
              "<style scoped>\n",
              "    .dataframe tbody tr th:only-of-type {\n",
              "        vertical-align: middle;\n",
              "    }\n",
              "\n",
              "    .dataframe tbody tr th {\n",
              "        vertical-align: top;\n",
              "    }\n",
              "\n",
              "    .dataframe thead th {\n",
              "        text-align: right;\n",
              "    }\n",
              "</style>\n",
              "<table border=\"1\" class=\"dataframe\">\n",
              "  <thead>\n",
              "    <tr style=\"text-align: right;\">\n",
              "      <th></th>\n",
              "      <th>Sex</th>\n",
              "    </tr>\n",
              "  </thead>\n",
              "  <tbody>\n",
              "    <tr>\n",
              "      <th>M</th>\n",
              "      <td>196594</td>\n",
              "    </tr>\n",
              "    <tr>\n",
              "      <th>F</th>\n",
              "      <td>74522</td>\n",
              "    </tr>\n",
              "  </tbody>\n",
              "</table>\n",
              "</div>\n",
              "      <button class=\"colab-df-convert\" onclick=\"convertToInteractive('df-e1004ec5-7ede-413d-a2db-9c27f1a79c4c')\"\n",
              "              title=\"Convert this dataframe to an interactive table.\"\n",
              "              style=\"display:none;\">\n",
              "        \n",
              "  <svg xmlns=\"http://www.w3.org/2000/svg\" height=\"24px\"viewBox=\"0 0 24 24\"\n",
              "       width=\"24px\">\n",
              "    <path d=\"M0 0h24v24H0V0z\" fill=\"none\"/>\n",
              "    <path d=\"M18.56 5.44l.94 2.06.94-2.06 2.06-.94-2.06-.94-.94-2.06-.94 2.06-2.06.94zm-11 1L8.5 8.5l.94-2.06 2.06-.94-2.06-.94L8.5 2.5l-.94 2.06-2.06.94zm10 10l.94 2.06.94-2.06 2.06-.94-2.06-.94-.94-2.06-.94 2.06-2.06.94z\"/><path d=\"M17.41 7.96l-1.37-1.37c-.4-.4-.92-.59-1.43-.59-.52 0-1.04.2-1.43.59L10.3 9.45l-7.72 7.72c-.78.78-.78 2.05 0 2.83L4 21.41c.39.39.9.59 1.41.59.51 0 1.02-.2 1.41-.59l7.78-7.78 2.81-2.81c.8-.78.8-2.07 0-2.86zM5.41 20L4 18.59l7.72-7.72 1.47 1.35L5.41 20z\"/>\n",
              "  </svg>\n",
              "      </button>\n",
              "      \n",
              "  <style>\n",
              "    .colab-df-container {\n",
              "      display:flex;\n",
              "      flex-wrap:wrap;\n",
              "      gap: 12px;\n",
              "    }\n",
              "\n",
              "    .colab-df-convert {\n",
              "      background-color: #E8F0FE;\n",
              "      border: none;\n",
              "      border-radius: 50%;\n",
              "      cursor: pointer;\n",
              "      display: none;\n",
              "      fill: #1967D2;\n",
              "      height: 32px;\n",
              "      padding: 0 0 0 0;\n",
              "      width: 32px;\n",
              "    }\n",
              "\n",
              "    .colab-df-convert:hover {\n",
              "      background-color: #E2EBFA;\n",
              "      box-shadow: 0px 1px 2px rgba(60, 64, 67, 0.3), 0px 1px 3px 1px rgba(60, 64, 67, 0.15);\n",
              "      fill: #174EA6;\n",
              "    }\n",
              "\n",
              "    [theme=dark] .colab-df-convert {\n",
              "      background-color: #3B4455;\n",
              "      fill: #D2E3FC;\n",
              "    }\n",
              "\n",
              "    [theme=dark] .colab-df-convert:hover {\n",
              "      background-color: #434B5C;\n",
              "      box-shadow: 0px 1px 3px 1px rgba(0, 0, 0, 0.15);\n",
              "      filter: drop-shadow(0px 1px 2px rgba(0, 0, 0, 0.3));\n",
              "      fill: #FFFFFF;\n",
              "    }\n",
              "  </style>\n",
              "\n",
              "      <script>\n",
              "        const buttonEl =\n",
              "          document.querySelector('#df-e1004ec5-7ede-413d-a2db-9c27f1a79c4c button.colab-df-convert');\n",
              "        buttonEl.style.display =\n",
              "          google.colab.kernel.accessAllowed ? 'block' : 'none';\n",
              "\n",
              "        async function convertToInteractive(key) {\n",
              "          const element = document.querySelector('#df-e1004ec5-7ede-413d-a2db-9c27f1a79c4c');\n",
              "          const dataTable =\n",
              "            await google.colab.kernel.invokeFunction('convertToInteractive',\n",
              "                                                     [key], {});\n",
              "          if (!dataTable) return;\n",
              "\n",
              "          const docLinkHtml = 'Like what you see? Visit the ' +\n",
              "            '<a target=\"_blank\" href=https://colab.research.google.com/notebooks/data_table.ipynb>data table notebook</a>'\n",
              "            + ' to learn more about interactive tables.';\n",
              "          element.innerHTML = '';\n",
              "          dataTable['output_type'] = 'display_data';\n",
              "          await google.colab.output.renderOutput(dataTable, element);\n",
              "          const docLink = document.createElement('div');\n",
              "          docLink.innerHTML = docLinkHtml;\n",
              "          element.appendChild(docLink);\n",
              "        }\n",
              "      </script>\n",
              "    </div>\n",
              "  </div>\n",
              "  "
            ]
          },
          "metadata": {},
          "execution_count": 37
        }
      ]
    },
    {
      "cell_type": "code",
      "source": [
        "plt.figure(figsize=(12,6))\n",
        "plt.title('Gender Distribution')\n",
        "plt.pie(gender_count, labels= gender_count, autopct = \"%1.1f%%\", startangle=180, shadow= True);"
      ],
      "metadata": {
        "id": "vH887wfXU7Df",
        "colab": {
          "base_uri": "https://localhost:8080/",
          "height": 373
        },
        "outputId": "4b3bd045-5915-449c-a40d-dfaee200b674"
      },
      "id": "vH887wfXU7Df",
      "execution_count": null,
      "outputs": [
        {
          "output_type": "display_data",
          "data": {
            "text/plain": [
              "<Figure size 864x432 with 1 Axes>"
            ],
            "image/png": "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\n"
          },
          "metadata": {}
        }
      ]
    },
    {
      "cell_type": "code",
      "source": [
        "#Different medals count values\n",
        "athlete_merged.Medal.value_counts()"
      ],
      "metadata": {
        "id": "KS9Au5oeU8xm",
        "colab": {
          "base_uri": "https://localhost:8080/"
        },
        "outputId": "14f39c33-282a-4cda-dee9-74c8fe0288ed"
      },
      "id": "KS9Au5oeU8xm",
      "execution_count": null,
      "outputs": [
        {
          "output_type": "execute_result",
          "data": {
            "text/plain": [
              "Gold      13372\n",
              "Bronze    13295\n",
              "Silver    13116\n",
              "Name: Medal, dtype: int64"
            ]
          },
          "metadata": {},
          "execution_count": 39
        }
      ]
    },
    {
      "cell_type": "code",
      "source": [
        "#Female Participations is Summer olympics\n",
        "female_participants = athlete_merged[(athlete_merged.Sex=='F')& (athlete_merged.Season=='Summer')][['Sex', 'Year']]\n",
        "female_participants = female_participants.groupby('Year').count().reset_index()\n",
        "female_participants"
      ],
      "metadata": {
        "id": "s_YpBOeWU-tI",
        "colab": {
          "base_uri": "https://localhost:8080/",
          "height": 927
        },
        "outputId": "ee839e66-adc0-4374-cc36-d414bc462943"
      },
      "id": "s_YpBOeWU-tI",
      "execution_count": null,
      "outputs": [
        {
          "output_type": "execute_result",
          "data": {
            "text/plain": [
              "    Year   Sex\n",
              "0   1900    33\n",
              "1   1904    16\n",
              "2   1906    11\n",
              "3   1908    47\n",
              "4   1912    87\n",
              "5   1920   134\n",
              "6   1924   244\n",
              "7   1928   404\n",
              "8   1932   347\n",
              "9   1936   468\n",
              "10  1948   628\n",
              "11  1952  1497\n",
              "12  1956   893\n",
              "13  1960  1435\n",
              "14  1964  1348\n",
              "15  1968  1777\n",
              "16  1972  2193\n",
              "17  1976  2172\n",
              "18  1980  1756\n",
              "19  1984  2447\n",
              "20  1988  3543\n",
              "21  1992  4124\n",
              "22  1996  5008\n",
              "23  2000  5431\n",
              "24  2004  5546\n",
              "25  2008  5816\n",
              "26  2012  5815\n",
              "27  2016  6223"
            ],
            "text/html": [
              "\n",
              "  <div id=\"df-9931e275-80b3-42ab-a6db-3198f6bf2aa9\">\n",
              "    <div class=\"colab-df-container\">\n",
              "      <div>\n",
              "<style scoped>\n",
              "    .dataframe tbody tr th:only-of-type {\n",
              "        vertical-align: middle;\n",
              "    }\n",
              "\n",
              "    .dataframe tbody tr th {\n",
              "        vertical-align: top;\n",
              "    }\n",
              "\n",
              "    .dataframe thead th {\n",
              "        text-align: right;\n",
              "    }\n",
              "</style>\n",
              "<table border=\"1\" class=\"dataframe\">\n",
              "  <thead>\n",
              "    <tr style=\"text-align: right;\">\n",
              "      <th></th>\n",
              "      <th>Year</th>\n",
              "      <th>Sex</th>\n",
              "    </tr>\n",
              "  </thead>\n",
              "  <tbody>\n",
              "    <tr>\n",
              "      <th>0</th>\n",
              "      <td>1900</td>\n",
              "      <td>33</td>\n",
              "    </tr>\n",
              "    <tr>\n",
              "      <th>1</th>\n",
              "      <td>1904</td>\n",
              "      <td>16</td>\n",
              "    </tr>\n",
              "    <tr>\n",
              "      <th>2</th>\n",
              "      <td>1906</td>\n",
              "      <td>11</td>\n",
              "    </tr>\n",
              "    <tr>\n",
              "      <th>3</th>\n",
              "      <td>1908</td>\n",
              "      <td>47</td>\n",
              "    </tr>\n",
              "    <tr>\n",
              "      <th>4</th>\n",
              "      <td>1912</td>\n",
              "      <td>87</td>\n",
              "    </tr>\n",
              "    <tr>\n",
              "      <th>5</th>\n",
              "      <td>1920</td>\n",
              "      <td>134</td>\n",
              "    </tr>\n",
              "    <tr>\n",
              "      <th>6</th>\n",
              "      <td>1924</td>\n",
              "      <td>244</td>\n",
              "    </tr>\n",
              "    <tr>\n",
              "      <th>7</th>\n",
              "      <td>1928</td>\n",
              "      <td>404</td>\n",
              "    </tr>\n",
              "    <tr>\n",
              "      <th>8</th>\n",
              "      <td>1932</td>\n",
              "      <td>347</td>\n",
              "    </tr>\n",
              "    <tr>\n",
              "      <th>9</th>\n",
              "      <td>1936</td>\n",
              "      <td>468</td>\n",
              "    </tr>\n",
              "    <tr>\n",
              "      <th>10</th>\n",
              "      <td>1948</td>\n",
              "      <td>628</td>\n",
              "    </tr>\n",
              "    <tr>\n",
              "      <th>11</th>\n",
              "      <td>1952</td>\n",
              "      <td>1497</td>\n",
              "    </tr>\n",
              "    <tr>\n",
              "      <th>12</th>\n",
              "      <td>1956</td>\n",
              "      <td>893</td>\n",
              "    </tr>\n",
              "    <tr>\n",
              "      <th>13</th>\n",
              "      <td>1960</td>\n",
              "      <td>1435</td>\n",
              "    </tr>\n",
              "    <tr>\n",
              "      <th>14</th>\n",
              "      <td>1964</td>\n",
              "      <td>1348</td>\n",
              "    </tr>\n",
              "    <tr>\n",
              "      <th>15</th>\n",
              "      <td>1968</td>\n",
              "      <td>1777</td>\n",
              "    </tr>\n",
              "    <tr>\n",
              "      <th>16</th>\n",
              "      <td>1972</td>\n",
              "      <td>2193</td>\n",
              "    </tr>\n",
              "    <tr>\n",
              "      <th>17</th>\n",
              "      <td>1976</td>\n",
              "      <td>2172</td>\n",
              "    </tr>\n",
              "    <tr>\n",
              "      <th>18</th>\n",
              "      <td>1980</td>\n",
              "      <td>1756</td>\n",
              "    </tr>\n",
              "    <tr>\n",
              "      <th>19</th>\n",
              "      <td>1984</td>\n",
              "      <td>2447</td>\n",
              "    </tr>\n",
              "    <tr>\n",
              "      <th>20</th>\n",
              "      <td>1988</td>\n",
              "      <td>3543</td>\n",
              "    </tr>\n",
              "    <tr>\n",
              "      <th>21</th>\n",
              "      <td>1992</td>\n",
              "      <td>4124</td>\n",
              "    </tr>\n",
              "    <tr>\n",
              "      <th>22</th>\n",
              "      <td>1996</td>\n",
              "      <td>5008</td>\n",
              "    </tr>\n",
              "    <tr>\n",
              "      <th>23</th>\n",
              "      <td>2000</td>\n",
              "      <td>5431</td>\n",
              "    </tr>\n",
              "    <tr>\n",
              "      <th>24</th>\n",
              "      <td>2004</td>\n",
              "      <td>5546</td>\n",
              "    </tr>\n",
              "    <tr>\n",
              "      <th>25</th>\n",
              "      <td>2008</td>\n",
              "      <td>5816</td>\n",
              "    </tr>\n",
              "    <tr>\n",
              "      <th>26</th>\n",
              "      <td>2012</td>\n",
              "      <td>5815</td>\n",
              "    </tr>\n",
              "    <tr>\n",
              "      <th>27</th>\n",
              "      <td>2016</td>\n",
              "      <td>6223</td>\n",
              "    </tr>\n",
              "  </tbody>\n",
              "</table>\n",
              "</div>\n",
              "      <button class=\"colab-df-convert\" onclick=\"convertToInteractive('df-9931e275-80b3-42ab-a6db-3198f6bf2aa9')\"\n",
              "              title=\"Convert this dataframe to an interactive table.\"\n",
              "              style=\"display:none;\">\n",
              "        \n",
              "  <svg xmlns=\"http://www.w3.org/2000/svg\" height=\"24px\"viewBox=\"0 0 24 24\"\n",
              "       width=\"24px\">\n",
              "    <path d=\"M0 0h24v24H0V0z\" fill=\"none\"/>\n",
              "    <path d=\"M18.56 5.44l.94 2.06.94-2.06 2.06-.94-2.06-.94-.94-2.06-.94 2.06-2.06.94zm-11 1L8.5 8.5l.94-2.06 2.06-.94-2.06-.94L8.5 2.5l-.94 2.06-2.06.94zm10 10l.94 2.06.94-2.06 2.06-.94-2.06-.94-.94-2.06-.94 2.06-2.06.94z\"/><path d=\"M17.41 7.96l-1.37-1.37c-.4-.4-.92-.59-1.43-.59-.52 0-1.04.2-1.43.59L10.3 9.45l-7.72 7.72c-.78.78-.78 2.05 0 2.83L4 21.41c.39.39.9.59 1.41.59.51 0 1.02-.2 1.41-.59l7.78-7.78 2.81-2.81c.8-.78.8-2.07 0-2.86zM5.41 20L4 18.59l7.72-7.72 1.47 1.35L5.41 20z\"/>\n",
              "  </svg>\n",
              "      </button>\n",
              "      \n",
              "  <style>\n",
              "    .colab-df-container {\n",
              "      display:flex;\n",
              "      flex-wrap:wrap;\n",
              "      gap: 12px;\n",
              "    }\n",
              "\n",
              "    .colab-df-convert {\n",
              "      background-color: #E8F0FE;\n",
              "      border: none;\n",
              "      border-radius: 50%;\n",
              "      cursor: pointer;\n",
              "      display: none;\n",
              "      fill: #1967D2;\n",
              "      height: 32px;\n",
              "      padding: 0 0 0 0;\n",
              "      width: 32px;\n",
              "    }\n",
              "\n",
              "    .colab-df-convert:hover {\n",
              "      background-color: #E2EBFA;\n",
              "      box-shadow: 0px 1px 2px rgba(60, 64, 67, 0.3), 0px 1px 3px 1px rgba(60, 64, 67, 0.15);\n",
              "      fill: #174EA6;\n",
              "    }\n",
              "\n",
              "    [theme=dark] .colab-df-convert {\n",
              "      background-color: #3B4455;\n",
              "      fill: #D2E3FC;\n",
              "    }\n",
              "\n",
              "    [theme=dark] .colab-df-convert:hover {\n",
              "      background-color: #434B5C;\n",
              "      box-shadow: 0px 1px 3px 1px rgba(0, 0, 0, 0.15);\n",
              "      filter: drop-shadow(0px 1px 2px rgba(0, 0, 0, 0.3));\n",
              "      fill: #FFFFFF;\n",
              "    }\n",
              "  </style>\n",
              "\n",
              "      <script>\n",
              "        const buttonEl =\n",
              "          document.querySelector('#df-9931e275-80b3-42ab-a6db-3198f6bf2aa9 button.colab-df-convert');\n",
              "        buttonEl.style.display =\n",
              "          google.colab.kernel.accessAllowed ? 'block' : 'none';\n",
              "\n",
              "        async function convertToInteractive(key) {\n",
              "          const element = document.querySelector('#df-9931e275-80b3-42ab-a6db-3198f6bf2aa9');\n",
              "          const dataTable =\n",
              "            await google.colab.kernel.invokeFunction('convertToInteractive',\n",
              "                                                     [key], {});\n",
              "          if (!dataTable) return;\n",
              "\n",
              "          const docLinkHtml = 'Like what you see? Visit the ' +\n",
              "            '<a target=\"_blank\" href=https://colab.research.google.com/notebooks/data_table.ipynb>data table notebook</a>'\n",
              "            + ' to learn more about interactive tables.';\n",
              "          element.innerHTML = '';\n",
              "          dataTable['output_type'] = 'display_data';\n",
              "          await google.colab.output.renderOutput(dataTable, element);\n",
              "          const docLink = document.createElement('div');\n",
              "          docLink.innerHTML = docLinkHtml;\n",
              "          element.appendChild(docLink);\n",
              "        }\n",
              "      </script>\n",
              "    </div>\n",
              "  </div>\n",
              "  "
            ]
          },
          "metadata": {},
          "execution_count": 40
        }
      ]
    },
    {
      "cell_type": "code",
      "source": [
        "summerWomenOlympics = athlete_merged[(athlete_merged.Sex == 'F') & (athlete_merged.Season == 'Summer')]"
      ],
      "metadata": {
        "id": "AbnPWlGhVAqs"
      },
      "id": "AbnPWlGhVAqs",
      "execution_count": null,
      "outputs": []
    },
    {
      "cell_type": "code",
      "source": [
        "#Women Participations in summer olympics\n",
        "sns.set(style=\"darkgrid\")\n",
        "plt.figure(figsize=(30,20))\n",
        "sns.countplot(x='Year', data=summerWomenOlympics, palette=\"Spectral\")\n",
        "plt.title('Women Participation')"
      ],
      "metadata": {
        "id": "a-Wanp1PVDMj",
        "colab": {
          "base_uri": "https://localhost:8080/",
          "height": 802
        },
        "outputId": "a92a90cc-73c0-4aac-c465-41449cceda4b"
      },
      "id": "a-Wanp1PVDMj",
      "execution_count": null,
      "outputs": [
        {
          "output_type": "execute_result",
          "data": {
            "text/plain": [
              "Text(0.5, 1.0, 'Women Participation')"
            ]
          },
          "metadata": {},
          "execution_count": 42
        },
        {
          "output_type": "display_data",
          "data": {
            "text/plain": [
              "<Figure size 2160x1440 with 1 Axes>"
            ],
            "image/png": "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\n"
          },
          "metadata": {}
        }
      ]
    },
    {
      "cell_type": "code",
      "source": [
        "part = summerWomenOlympics.groupby('Year')['Sex'].value_counts()\n",
        "plt.figure(figsize=(20,10))\n",
        "part.loc[:,'F'].plot()\n",
        "plt.title('Plot of Female Athletes over time')"
      ],
      "metadata": {
        "id": "53KAqs91VE9X",
        "colab": {
          "base_uri": "https://localhost:8080/",
          "height": 640
        },
        "outputId": "deb1c10e-8940-418b-e2ea-1e53376581d6"
      },
      "id": "53KAqs91VE9X",
      "execution_count": null,
      "outputs": [
        {
          "output_type": "execute_result",
          "data": {
            "text/plain": [
              "Text(0.5, 1.0, 'Plot of Female Athletes over time')"
            ]
          },
          "metadata": {},
          "execution_count": 43
        },
        {
          "output_type": "display_data",
          "data": {
            "text/plain": [
              "<Figure size 1440x720 with 1 Axes>"
            ],
            "image/png": "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\n"
          },
          "metadata": {}
        }
      ]
    },
    {
      "cell_type": "code",
      "source": [
        "summerMenOlympics = athlete_merged[(athlete_merged.Sex == 'M') & (athlete_merged.Season == 'Summer')]"
      ],
      "metadata": {
        "id": "_nTjp98sVG9I"
      },
      "id": "_nTjp98sVG9I",
      "execution_count": null,
      "outputs": []
    },
    {
      "cell_type": "code",
      "source": [
        "#Men Participations in summer olympics\n",
        "sns.set(style=\"darkgrid\")\n",
        "plt.figure(figsize=(30,20))\n",
        "sns.countplot(x='Year', data=summerMenOlympics, palette=\"Spectral\")\n",
        "plt.title('Men Participation')"
      ],
      "metadata": {
        "id": "ulKfgUoMVI_R",
        "colab": {
          "base_uri": "https://localhost:8080/",
          "height": 802
        },
        "outputId": "635591fe-bb56-4421-844c-b019c590f6d9"
      },
      "id": "ulKfgUoMVI_R",
      "execution_count": null,
      "outputs": [
        {
          "output_type": "execute_result",
          "data": {
            "text/plain": [
              "Text(0.5, 1.0, 'Men Participation')"
            ]
          },
          "metadata": {},
          "execution_count": 45
        },
        {
          "output_type": "display_data",
          "data": {
            "text/plain": [
              "<Figure size 2160x1440 with 1 Axes>"
            ],
            "image/png": "iVBORw0KGgoAAAANSUhEUgAABs4AAASCCAYAAAASfxmDAAAABHNCSVQICAgIfAhkiAAAAAlwSFlzAAALEgAACxIB0t1+/AAAADh0RVh0U29mdHdhcmUAbWF0cGxvdGxpYiB2ZXJzaW9uMy4yLjIsIGh0dHA6Ly9tYXRwbG90bGliLm9yZy+WH4yJAAAgAElEQVR4nOzdf5CddX3o8XeyJ8nyO9lIQgqot0yVOONIiAxjq0jVO5QxTVKEcot4B7W9crFtSn9otDZQKzhBW8tUUJlSRW+ntwVL2oRqvDod6ViGXhD7R5HelkYLFohNIoaYANns/cPb3KaCsCvksNnX66/sec45z+e7mw179s3zPbMmJiYmAgAAAAAAgBlu9rAHAAAAAAAAgOcC4QwAAAAAAAASzgAAAAAAAKASzgAAAAAAAKASzgAAAAAAAKASzgAAAAAAAKASzgAAAGa017/+9d1+++1Peb9ly5Z13333PSsz/OzP/mw333zzs/LcAAAAkzFrYmJiYthDAAAATAevec1r2rp1a7feemtjY2P7b1+9enVf/epX+8IXvtAJJ5zwjJ7zTW96U1/5ylcaDAbNnTu30047rXXr1rVo0aJJP9fatWtbvHhxl1566TM642T83u/9Xl//+tf74Ac/OLQZAAAAnowrzgAAACbh+OOP75Zbbtn/8d///d+3e/fuZ/Wc69at66677mrz5s19+9vf7v3vf/+kn2N8fPxZmAwAAODQIpwBAABMwqpVq9qwYcP+jzds2NDq1asPuM9jjz3W+vXrO/PMM/vRH/3R1q1b1549e6q6/fbbO+OMM/qDP/iDXvGKV/TKV76yT3/600/r3PPnz++ss87qH/7hH6r6xV/8xX7sx36s5cuX98Y3vnH/7fXdq8suu+yyfu7nfq5TTjmlm266qY0bN3b99de3bNmyLr744uq7V9H99V//dfXduPbRj360173udS1btqxzzjmnBx54oKoXv/jFff3rX9//3OvWrevNb35zy5Yt68ILL+wb3/jG/nO/733v69WvfnWnnnpq55xzTnfccUdVt956ax/72Mf6zGc+07Jly1q5cmX13avqbrzxxqr27dvXtdde24//+I/3ile8one84x3t3Lmzqvvvv78Xv/jF3XzzzZ155pmdfvrpfeQjH3lanzsAAICnQzgDAACYhFNOOaVHHnmke++9t/Hx8W655Zb9AejffPCDH2zLli1t2LChz33uc23durVrrrlm//F//dd/befOnd16661dccUVvfe97+3hhx9+ynNv3769zZs3t3Tp0qrOOOOMNm/e3G233dZLXvKSfvVXf/WA+2/atKmLL764L3/5y61evbqf/Mmf7K1vfWt33XVXH/3oR7/n+T/+8Y93yy23dN111/XlL3+5K6+8stHR0SecZePGjV1yySXdfvvtnXzyyQec+6UvfWkbNmzob/7mb1qxYkVr1qzp0Ucf7Ywzzuhtb3tbZ599dnfddVd//ud//j3P+6d/+qfdfPPNffKTn+zzn/983/nOd3rve997wH3uvPPOPvvZz3bDDTd0zTXXdO+99z7l5w4AAODpEM4AAAAm6d+uOvvSl77USSed1OLFi/cfm5iY6E/+5E9697vf3fz58zvyyCN729vedsD2joPBoLe//e3NmTOnV7/61R1++OFt2bLlSc/3vve9r5e//OWtWrWqY489tne9611VnXvuuR155JHNnTu3X/iFX+iee+7Zf3VW1Wtf+9qWL1/e7Nmzmzdv3lOu68Ybb2zNmjX98A//cLNmzerkk09uwYIFT3jfM888s9NOO625c+d26aWX9pWvfGX/1WmrVq1qwYIFDQaD3vKWt/TYY4993/X9exs3buyiiy7qxBNP7IgjjuiXf/mX+4u/+Iv27t27/z4///M/3+joaCeffHInn3xy99xzz9N6bgAAgKcyGPYAAAAA082qVau68MILu//++1u1atUBx7Zv397u3bs755xz9t82MTHRvn379n88f/78BoP//3LssMMO6zvf+c6Tnu8973lP55133gG3jY+P96EPfajPfvazbd++vdmzv/v/Re7YsaOjjjqqqiVLlkxqXQ8++GDPf/7zn9Z9jzvuuP1/PuKIIzrmmGPaunVrS5Ys6frrr++mm25q69atzZo1q0ceeaQdO3Y8refdunVrxx9//P6Pjz/++Pbu3du2bdv23/a85z1v/5+f6nMHAAAwGcIZAADAJB1//PGdcMIJffGLX+yKK6444NiCBQsaHR3tlltuOeBKtGfaxo0b+8IXvtDHP/7xTjjhhHbu3Nlpp53WxMTEkz5m1qxZ3/c5jzvuuP75n/+5F73oRU95/gcffHD/n3ft2tXDDz/cokWLuuOOO/r93//9PvGJT/QjP/IjzZ49+4C5nmqGRYsWHfB+af/yL//SYDBo4cKFB5wTAADg2WCrRgAAgCm44ooruuGGGzr88MMPuH327Nmdd955XXnllfuvknrooYf6q7/6q2f0/Lt27Wru3LktWLCg3bt39zu/8ztP+ZiFCxd2//33P+nx8847r6uvvrqvfe1rTUxMdM899zzplWJf/OIXu+OOO3rssce6+uqre9nLXtaSJUvatWtXIyMjjY2NtXfv3j784Q/3yCOPHDDDN77xjQOuwPv3VqxY0Q033NB9993Xrl27+tCHPtTZZ599wBV6AAAAzxbhDAAAYAqe//zn99KXvvQJj/3ar/1aL3jBC/rpn/7pTj311C666KKn/R5fT9fq1av7oR/6oV71qlf1+te/vlNOOeUpH3Puuef2j//4j7385S/vkksu+Z7jb37zmzv77LN7y1ve0qmnntqv//qv9+ijjz7hc61YsaJrrrmm008/vb/7u7/rAx/4QFWvfOUre9WrXtVZZ53Va17zmubNm3fAlpE/8RM/UdXpp5/eT/3UT33P877hDW9o5cqVXXjhhb32ta9t7ty5/cZv/MbT+pwAAAD8oGZNfL99PAAAAOA/WLt2bYsXL+7SSy8d9igAAADPKFecAQAAAAAAQMIZAAAAAAAAVLZqBAAAAAAAgMoVZwAAAAAAAFAJZwAAAAAAAFAJZwAAAAAAAFDVYNgDDNOOHbvat89bvAEAAAAAAMwUs2fPasGCI57w2IwOZ/v2TQhnAAAAAAAAVLZqBAAAAAAAgEo4AwAAAAAAgEo4AwAAAAAAgEo4AwAAAAAAgEo4AwAAAAAAgEo4AwAAAAAAgEo4AwAAAAAAgEo4AwAAAAAAgEo4AwAAAAAAgEo4AwAAAAAAgEo4AwAAAAAAgEo4AwAAAAAAgEo4AwAAAAAAgEo4AwAAAAAAgEo4AwAAAAAAgEo4AwAAAAAAgEo4AwAAAAAAgEo4AwAAAAAAgEo4AwAAAAAAgEo4AwAAAAAAgEo4AwAAAAAAgEo4AwAAAAAAgEo4AwAAAAAAgEo4AwAAAAAAgEo4AwAAAAAAgEo4AwAAAAAAgEo4AwAAAAAAgEo4AwAAAAAAgEo4AwAAAAAAgEo4AwAAAAAAgEo4AwAAAAAAgEo4AwAAAAAAgEo4AwAAAAAAgEo4AwAAAAAAgEo4AwAAAAAAgEo4AwAAAAAAgEo4AwAAAAAAgEo4AwAAAAAAgEo4AwAAAAAAgEo4AwAAAAAAgEo4AwAAAAAAgEo4AwAAAAAAgEo4AwAAAAAAgEo4AwAAAAAAgEo4AwAAAAAAgEo4AwAAAAAAgEo4AwAAAAAAgEo4AwAAAAAAgEo4AwAAAAAAgKoGwx4AAAAAAOAHccyC0eYO5gx7jCl5bO/jPbxjz7DHAOD/Ec4AAAAAgGlt7mBO77/1D4c9xpS864w3VsIZwHOFrRoBAAAAAAAg4QwAAAAAAAAq4QwAAAAAAAAq4QwAAAAAAAAq4QwAAAAAAAAq4QwAAAAAAAAq4QwAAAAAAACqGgx7AAAAAAAAntrR80ebN2fOsMeYtEcff7xvf2vPsMcAeFqEMwAAAACAaWDenDn9ymc+OewxJu23z/6vlXAGTA+2agQAAAAAAICEMwAAAAAAAKiEMwAAAAAAAKiEMwAAAAAAAKiEMwAAAAAAAKiEMwAAAAAAAKiEMwAAAAAAAKiEMwAAAAAAAKiEMwAAAAAAAKiEMwAAAAAAAKiEMwAAAAAAAKiEMwAAAAAAAKiEMwAAAAAAAKiEMwAAAAAAAKiEMwAAAAAAAKiEMwAAAAAAAKiEMwAAAAAAAKiEMwAAAAAAAKiEMwAAAAAAAKiEMwAAAAAAAKiEMwAAAAAAAKiEMwAAAAAAAKiEMwAAAAAAAKiEMwAAAAAAAKiEMwAAAAAAAKiEMwAAAAAAAKiEMwAAAAAAAKiEMwAAAAAAAKiEMwAAAAAAAKiEMwAAAAAAAKiEMwAAAAAAAKhqMOwBAAAAAIBnzzELDmvuYPr9GvCxvXt7eMfuYY8BwAwz/f6LCQAAAAA8bXMHg66/84+HPcakvXX5+cMeAYAZyFaNAAAAAAAAkHAGAAAAAAAAlXAGAAAAAAAAlXAGAAAAAAAAlXAGAAAAAAAAlXAGAAAAAAAAlXAGAAAAAAAAlXAGAAAAAAAAlXAGAAAAAAAAlXAGAAAAAAAAVQ2GPQAAAAAAAPybo+ePNm/OnGGPMWmPPv543/7WnmGPAfyAhDMAAAAAAJ4z5s2Z00Wf+tSwx5i0T7zpTZVwBtOdrRoBAAAAAAAg4QwAAAAAAAAq4QwAAAAAAAAq4QwAAAAAAAAq4QwAAAAAAAAq4QwAAAAAAAAq4QwAAAAAAAAq4QwAAAAAAAAq4QwAAAAAAAAq4QwAAAAAAAAq4QwAAAAAAAAq4QwAAAAAAAAq4QwAAAAAAAAq4QwAAAAAAAAq4QwAAAAAAAAq4QwAAAAAAAAq4QwAAAAAAAAq4QwAAAAAAAAq4QwAAAAAAAAq4QwAAAAAAAAq4QwAAAAAAAAq4QwAAAAAAAAq4QwAAAAAAAAq4QwAAAAAAAAq4QwAAAAAAAAq4QwAAAAAAAAq4QwAAAAAAAAq4QwAAAAAAAAq4QwAAAAAAAAq4QwAAAAAAAAq4QwAAAAAAACqGgx7AAAAAODQsGBstMHInGGPMWl7xx9vx/Y9wx4DAIDnAOEMAAAAeEYMRua0ZesfDnuMSftPi95YCWcAANiqEQAAAAAAACrhDAAAAAAAACrhDAAAAAAAACrhDAAAAAAAACrhDAAAAAAAACrhDAAAAAAAACrhDAAAAAAAAKqDGM7+8i//stWrV7dq1apWrlzZ5z73uaq2bNnS+eef31lnndX555/f1772tf2PmeoxAAAAAAAAmKyDEs4mJiZ6xzve0VVXXdWf/dmfddVVV/XOd76zffv2ddlll3XBBRe0efPmLrjggtatW7f/cVM9BgAAAAAAAJN10K44mz17djt37qxq586dLVq0qB07dnT33Xe3YsWKqlasWNHdd9/d9u3b27Zt25SOAQAAAAAAwFQMDsZJZs2a1e/+7u92ySWXdPjhh7dr166uu+66HnjggRYvXtzIyEhVIyMjLVq0qAceeKCJiYkpHRsbGzsYSwIAAAAAAOAQc1DC2d69e/vYxz7Wtdde2/Lly7vzzjv7pV/6pa666qqDcfontXDhkUM9PwAAAPDccOyxRw17BOAJzJTvzZmwzpmwxpo564RD2UEJZ1/96lfbunVry5cvr2r58uUddthhzZs3r4ceeqjx8fFGRkYaHx9v69atLVmypImJiSkdm4xt2x5p376JZ2PJAAAAMONM518WfvObO4c9AjxrZsL35nReY82MdU7m39mZsk5geGbPnvWkF1cdlPc4O+6443rwwQf7p3/6p6ruvffetm3b1gte8IKWLl3apk2bqtq0aVNLly5tbGyshQsXTukYAAAAAAAATMVBueLs2GOP7fLLL2/NmjXNmjWrqiuvvLL58+d3+eWXt3bt2q699tqOPvro1q9fv/9xUz0GAAAAAAAAk3VQwlnVypUrW7ly5ffcftJJJ3XjjTc+4WOmegwAAAAAAAAm66Bs1QgAAAAAAADPdcIZAAAAAAAAJJwBAAAAAABAJZwBAAAAAABAJZwBAAAAAABAJZwBAAAAAABAJZwBAAAAAABAVYNhDwAAAAAAADPNUccc1ujc6fcr+j2P7W3nw7uHPQY8a6bfdyUAAAAAAExzo3MHveGa/znsMSbt02//L+0c9hDwLLJVIwAAAAAAACScAQAAAAAAQCWcAQAAAAAAQCWcAQAAAAAAQCWcAQAAAAAAQCWcAQAAAAAAQCWcAQAAAAAAQCWcAQAAAAAAQCWcAQAAAAAAQCWcAQAAAAAAQCWcAQAAAAAAQFWDYQ8AAAAAAAAceo465rBG506/DLHnsb3tfHj3sMdgSKbf31gAAAAAAOA5b3TuoP/8vpuGPcak/a/3nNvOYQ/B0NiqEQAAAAAAABLOAAAAAAAAoBLOAAAAAAAAoBLOAAAAAAAAoBLOAAAAAAAAoBLOAAAAAAAAoBLOAAAAAAAAoBLOAAAAAAAAoBLOAAAAAAAAoBLOAAAAAAAAoBLOAAAAAAAAoBLOAAAAAAAAoBLOAAAAAAAAoBLOAAAAAAAAoBLOAAAAAAAAoBLOAAAAAAAAoBLOAAAAAAAAoBLOAAAAAAAAoBLOAAAAAAAAoBLOAAAAAAAAoBLOAAAAAAAAoBLOAAAAAAAAoBLOAAAAAAAAoBLOAAAAAAAAoBLOAAAAAAAAoBLOAAAAAAAAoBLOAAAAAAAAoBLOAAAAAAAAoBLOAAAAAAAAoBLOAAAAAAAAoBLOAAAAAAAAoBLOAAAAAAAAoBLOAAAAAAAAoBLOAAAAAAAAoBLOAAAAAAAAoKrBsAcAAAAAAADgue2oo0cbnTdn2GNM2p5HH2/nt/c87fsLZwAAAAAAAHxfo/PmdOF//8Swx5i0//GRi9rZ0w9ntmoEAAAAAACAhDMAAAAAAACohDMAAAAAAACohDMAAAAAAACohDMAAAAAAACohDMAAAAAAACohDMAAAAAAACohDMAAAAAAACohDMAAAAAAACohDMAAAAAAACohDMAAAAAAACohDMAAAAAAACohDMAAAAAAACohDMAAAAAAACohDMAAAAAAACohDMAAAAAAACohDMAAAAAAACohDMAAAAAAACohDMAAAAAAACohDMAAAAAAACohDMAAAAAAACohDMAAAAAAACohDMAAAAAAACohDMAAAAAAACohDMAAAAAAACohDMAAAAAAACohDMAAAAAAACohDMAAAAAAACohDMAAAAAAACohDMAAAAAAACohDMAAAAAAACohDMAAAAAAACohDMAAAAAAACohDMAAAAAAACohDMAAAAAAACohDMAAAAAAACohDMAAAAAAACohDMAAAAAAACohDMAAAAAAACohDMAAAAAAACoajDsAQAAAAAAAKaro44ebXTenGGPMWl7Hn28nd/eM+wxnnOEMwAAAAAAgCkanTen1e/8o2GPMWkb1v9MOxPO/iNbNQIAAAAAAEDCGQAAAAAAAFTCGQAAAAAAAFTCGQAAAAAAAFTCGQAAAAAAAFTCGQAAAAAAAFTCGQAAAAAAAFTCGQAAAAAAAFTCGQAAAAAAAFTCGQAAAAAAAFQ1GPYAAAAAADAM8xcc1pzB9Pv12ON79/atHbuHPQYAHJKm308GAAAAAPAMmDMYtOHum4Y9xqStfsm5wx4BAA5ZtmoEAAAAAACAhDMAAAAAAACohDMAAAAAAACohDMAAAAAAACohDMAAAAAAACohDMAAAAAAACohDMAAAAAAACohDMAAAAAAACohDMAAAAAAACohDMAAAAAAACohDMAAAAAAACohDMAAAAAAACohDMAAAAAAACohDMAAAAAAACohDMAAAAAAACohDMAAAAAAACohDMAAAAAAACohDMAAAAAAACohDMAAAAAAACohDMAAAAAAACohDMAAAAAAACoajDsAQAAAOBQNzZ2WCMj0+8l+Pj43rZv3z3sMQAA4KCZfj+1AwAAwDQzMjLogR0bhj3GpC1ZsHrYIwAAwEFlq0YAAAAAAABIOAMAAAAAAIDKVo0AAHBI8T5KAAAAMHXT7xU1AADwpEZGBu2874+HPcakHXXi+cMeAQAAAGzVCAAAAAAAACWcAQAAAAAAQCWcAQAAAAAAQCWcAQAAAAAAQCWcAQAAAAAAQCWcAQAAAAAAQCWcAQAAAAAAQCWcAQAAAAAAQCWcAQAAAAAAQFWDYQ8AAADAExsbO6yRken3sm18fG/bt+8e9hgAAACTNv1egQEAAMwQIyOD9uy5bdhjTNro6CuGPQIAAMCU2KoRAAAAAAAAEs4AAAAAAACgEs4AAAAAAACgEs4AAAAAAACgEs4AAAAAAACgEs4AAAAAAACgEs4AAAAAAACgEs4AAAAAAACgEs4AAAAAAACgEs4AAAAAAACgEs4AAAAAAACgEs4AAAAAAACgEs4AAAAAAACgEs4AAAAAAACgEs4AAAAAAACgEs4AAAAAAACgEs4AAAAAAACgEs4AAAAAAACgEs4AAAAAAACgEs4AAAAAAACgEs4AAAAAAACgEs4AAAAAAACgEs4AAAAAAACgqsGwBwAAAACYThaMjTYYmTPsMSZt7/jj7di+Z9hjAAA8pwlnAAAAAJMwGJnTXff90bDHmLRlJ/5MJZwBAHw/tmoEAAAAAACAhDMAAAAAAACohDMAAAAAAACohDMAAAAAAACohDMAAAAAAACohDMAAAAAAACohDMAAAAAAACohDMAAAAAAACohDMAAAAAAACohDMAAAAAAACohDMAAAAAAACoajDsAQAAAJi5xsYOa2Rker40HR/f2/btu4c9BgAA8Ayanq9OAAAAOCSMjAz61s7PD3uMKZl/1OuGPQIAAPAMs1UjAAAAAAAAJJwBAAAAAABAJZwBAAAAAABAJZwBAAAAAABAJZwBAAAAAABAJZwBAAAAAABAJZwBAAAAAABAJZwBAAAAAABAJZwBAAAAAABAJZwBAAAAAABAJZwBAAAAAABAJZwBAAAAAABAJZwBAAAAAABAJZwBAAAAAABAJZwBAAAAAABAJZwBAAAAAABAJZwBAAAAAABAJZwBAAAAAABAJZwBAAAAAABAJZwBAAAAAABAJZwBAAAAAABAJZwBAAAAAABAJZwBAAAAAABAJZwBAAAAAABAJZwBAAAAAABAJZwBAAAAAABAJZwBAAAAAABAJZwBAAAAAABAJZwBAAAAAABAJZwBAAAAAABAJZwBAAAAAABAJZwBAAAAAABAJZwBAAAAAABAJZwBAAAAAABAJZwBAAAAAABAVYNhDwAAwPCNLRhtZDBn2GNM2vjex9u+Y8+wxwAAAAAOEQctnD366KNdeeWV3Xbbbc2bN69TTjml3/qt32rLli2tXbu2b33rW82fP7/169f3whe+sGrKxwAAmJyRwZy2/+/fHvYYkzZ22q9UwhkAAADwzDhoWzV+4AMfaN68eW3evLmNGze2Zs2aqi677LIuuOCCNm/e3AUXXNC6dev2P2aqxwAAAAAAAGCyDko427VrVxs2bGjNmjXNmjWrquc973lt27atu+++uxUrVlS1YsWK7r777rZv3z7lYwAAAAAAADAVB2Wrxvvuu6/58+f34Q9/uNtvv70jjjiiNWvWNDo62uLFixsZGalqZGSkRYsW9cADDzQxMTGlY2NjYwdjSQAAAAAAABxiDko4Gx8f77777uslL3lJ73znO/vbv/3bLr744q6++uqDcfontXDhkUM9PwAAP7hjjz1q2CPwDPG1PLTMlK/nTFjnTFhjWSfTz0z5WlrnoWMmrLGs81AyE9ZY1vlEDko4W7JkSYPBYP/Wii972ctasGBBo6OjPfTQQ42PjzcyMtL4+Hhbt25tyZIlTUxMTOnYZGzb9kj79k08G0sGAJhWpvMPyt/85s5hj/Cc4mt5aJkJX8/pvMaaGeuczPemdT73+bf2QDPlazkT1jmd11gzY53+zn6vmbDOmbDGss7p4D+uc/bsWU96cdVBeY+zsbGxTj/99L70pS9VtWXLlrZt29YLX/jCli5d2qZNm6ratGlTS5cubWxsrIULF07pGAAAAAAAAEzFQbnirOo3f/M3e/e739369esbDAZdddVVHX300V1++eWtXbu2a6+9tqOPPrr169fvf8xUjwEAAAAAAMBkHbRwduKJJ/apT33qe24/6aSTuvHGG5/wMVM9BgAAAAAAAJN1ULZqBAAAAAAAgOc64QwAAAAAAAASzgAAAAAAAKASzgAAAAAAAKASzgAAAAAAAKASzgAAAAAAAKASzgAAAAAAAKASzgAAAAAAAKASzgAAAAAAAKASzgAAAAAAAKASzgAAAAAAAKASzgAAAAAAAKASzgAAAAAAAKASzgAAAAAAAKASzgAAAAAAAKASzgAAAAAAAKASzgAAAAAAAKASzgAAAAAAAKASzgAAAAAAAKASzgAAAAAAAKASzgAAAAAAAKCqwbAHAACAg2FswWgjgznDHmNKxvc+3vYde4Y9BgAAABzyhDMAAGaEkcGcHv4/1w17jCk55kX/rRLOAAAA4Nlmq0YAAAAAAABIOAMAAAAAAIBKOAMAAAAAAIBKOAMAAAAAAIBKOAMAAAAAAIBKOAMAAAAAAIBKOAMAAAAAAIBKOAMAAAAAAIBKOAMAAAAAAIBKOAMAAAAAAIBKOAMAAAAAAIBKOAMAAAAAAIBKOAMAAAAAAIBKOAMAAP4ve/cbYvddL3j8PZPpjLG93jRtbJNUMFgRLiGEOiiCKColfWIWFt0Ni7JuGv9Bngi2ipFGaqs0CUqxoRUsZmFZu/tgZUmRBjWwa6WCZQ2SXqkii6xNRM0k15ZNJ22m+2izG1tvz0wy52RyXq9HPb/vCefzIYf8e/f8DgAAAFAJZwAAAAAAAFAJZwAAAAAAAFAJZwAAAAAAAFAJZwAAAAAAAFAJZwAAAAAAAFAJZwAAAAAAAFAJZwAAAAAAAFAJZwAAAAAAAFAJZwAAAAAAAFAJZwAAAAAAAFAJZwAAAAAAAFAJZwAAAAAAAFAJZwAAAAAAAFAJZwAAAAAAAFAJZwAAAAAAAFAJZwAAAAAAAFAJZwAAAAAAAFAJZwAAAAAAAFAJZwAAAAAAAFAJZwAAAAAAAFAJZwAAAAAAAFAJZwAAAH5de6AAACAASURBVAAAAFAJZwAAAAAAAFAJZwAAAAAAAFDV1KgHAAAAAODKcv31q5uaWnn/bPTyyy93+vTZUY8BAKxgK+9PQAAAAAAsq6mpqf7bb//zqMdYtPe/7V+NegQAYIVzq0YAAAAAAABIOAMAAAAAAIBKOAMAAAAAAIBKOAMAAAAAAIBKOAMAAAAAAIBKOAMAAAAAAIBKOAMAAAAAAIBKOAMAAAAAAIBKOAMAAAAAAIBKOAMAAAAAAIBKOAMAAAAAAIBKOAMAAAAAAIBKOAMAAAAAAIBKOAMAAAAAAIBKOAMAAAAAAIBKOAMAAAAAAIBKOAMAAAAAAIBKOAMAAAAAAIBKOAMAAAAAAIBKOAMAAAAAAIBKOAMAAAAAAIBKOAMAAAAAAIBKOAMAAAAAAIBKOAMAAAAAAIBKOAMAAAAAAIBKOAMAAAAAAIBKOAMAAAAAAIBKOAMAAAAAAIBKOAMAAAAAAIBKOAMAAAAAAIBKOAMAAAAAAIBKOAMAAAAAAIBKOAMAAAAAAIBKOAMAAAAAAIBKOAMAAAAAAIBKOAMAAAAAAIBKOAMAAAAAAIBKOAMAAAAAAIBKOAMAAAAAAIBKOAMAAAAAAIBKOAMAAAAAAIBKOAMAAAAAAIBKOAMAAAAAAIBKOAMAAAAAAIBKOAMAAAAAAIBKOAMAAAAAAIBKOAMAAAAAAIBKOAMAAAAAAIBKOAMAAAAAAIBKOAMAAAAAAICqpkY9AABcjdb+/UyrpqdHPcainT93rrl/mh/1GAAAAAAwEsIZACyDVdPTnXx096jHWLT1dz5UCWcAAAAAjCe3agQAAAAAAICEMwAAAAAAAKiEMwAAAAAAAKiEMwAAAAAAAKiEMwAAAAAAAKiEMwAAAAAAAKiEMwAAAAAAAKiEMwAAAAAAAKiEMwAAAAAAAKiEMwAAAAAAAKiEMwAAAAAAAKiEMwAAAAAAAKiEMwAAAAAAAKiEMwAAAAAAAKiEMwAAAAAAAKiEMwAAAAAAAKiEMwAAAAAAAKiEMwAAAAAAAKiEMwAAAAAAAKiEMwAAAAAAAKiEMwAAAAAAAKiEMwAAAAAAAKiEMwAAAAAAAKgWEc4effTR17z+3e9+97INAwAAAAAAAKMycDg7ePDga15/+OGHL9swAAAAAAAAMCpTr/eEp556qqqFhYV+9rOf9corr1w4+/3vf9+11167fNMBAAAAAADAkLxuONuzZ09V8/PzfelLX7pwfWJionXr1vXlL395+aYDAAAAAACAIXndcHb06NGq7r777vbt27fsAwEAAAAAAMAovG44+7/+/2i2sLBw0dnk5MBflQYAAAAAAABXpIHD2TPPPNO9997bs88+2/z8fFWvvPJKExMT/epXv1q2AQEAAAAAAGAYBg5nX/ziF/vABz7Q1772td7whjcs50wAAAAAAAAwdAOHs+eee67Pfe5zTUxMLOc8AAAAAAAAMBIDfznZ7bff3pNPPrmcswAAAAAAAMDIDPyJs/n5+Xbv3t073/nObrzxxovO9u3bd9kHAwAAAAAAgGEaOJzdeuut3Xrrrcs5CwAAAAAAAIzMwOFs9+7dyzkHAAAAAAAAjNTA4eypp576m2fvec97LsswAAAAAAAAMCoDh7M9e/Zc9Pj06dO99NJL3XTTTf34xz++7IMBAAAAAADAMA0czo4ePXrR4/Pnz/fwww937bXXXvahAAAAAAAAYNgml/oDV61a1Wc+85m+853vXM55AAAAAAAAYCSWHM6qfvrTnzYxMXG5ZgEAAAAAAICRGfhWje9///svimRnz57t3Llz7d27d1kGAwAAAAAAgGEaOJzt37//oserV69u06ZNXXfddZd9KAAAAAAAABi2gcPZu971rqoWFhb685//3I033tjk5CXd6REAAAAAAACuGAOXrxdeeKG77767LVu29L73va8tW7b0hS98oeeff3455wMAAAAAAIChGPgTZ/fdd19nz57t8OHDbdy4seeee65vfvOb3XfffT3wwAPLOSMAcAVau2amVddMj3qMRTv/0rnmzsyPegwAAAAArkADh7Of/OQn/ehHP2r16tVVbdq0qa9//evdfvvtyzYcAHDlWnXNdH/8L3eNeoxFe/O/3F8JZwAAAAC82sC3apyZmWlubu6ia6dPn256euX9n+YAAAAAAADw1wb+xNlHPvKRdu7c2Sc+8Yk2bNjQiRMnOnToUB/96EeXcz4AAAAAAAAYioHD2Wc/+9luuummDh8+3B//+Mfe/OY3t2vXLuEMAAAAAACAq8LAt2q8//7727RpU4cOHeoHP/hBhw4d6m1ve1v333//cs4HAAAAAAAAQzFwOHv88cfbvHnzRdc2b97c448/ftmHAgAAAAAAgGEbOJxNTEy0sLBw0bXz58+/6hoAAAAAAACsRAOHs9nZ2R588MELoWxhYaFvfetbzc7OLttwAAAAAAAAMCxTgz5xz549ffrTn+69731vGzZs6OTJk61bt65HHnlkOecDAAAAAACAoRg4nN188819//vf75e//GUnT55s/fr1bdmypcnJgT+0BgAAAAAAAFesgcNZ1eTkZFu3bm3r1q3LNQ8AAAAAAACMhI+LAQAAAAAAQMIZAAAAAAAAVMIZAAAAAAAAVMIZAAAAAAAAVMIZAAAAAAAAVMIZAAAAAAAAVMIZAAAAAAAAVMIZAAAAAAAAVMIZAAAAAAAAVMIZAAAAAAAAVMIZAAAAAAAAVMIZAAAAAAAAVMIZAAAAAAAAVMIZAAAAAAAAVMIZAAAAAAAAVMIZAAAAAAAAVMIZAAAAAAAAVMIZAAAAAAAAVMIZAAAAAAAAVMIZAAAAAAAAVMIZAAAAAAAAVMIZAAAAAAAAVMIZAAAAAAAAVMIZAAAAAAAAVMIZAAAAAAAAVMIZAAAAAAAAVMIZAAAAAAAAVMIZAAAAAAAAVMIZAAAAAAAAVDU16gEAAAAWa+3a1a1atfL+OnP+/MvNzZ0d9RgAAAD8DSvvb5oAAMDYW7Vqqv89d2TUYyzaG9duG/UIAAAA/DPcqhEAAAAAAAASzgAAAAAAAKASzgAAAAAAAKASzgAAAAAAAKASzgAAAAAAAKASzgAAAAAAAKASzgAAAAAAAKCqqVEPAMB4Wfv3062anhn1GIt2/tx8c/90btRjAAAAAADLSDgDYKhWTc/0v/bdOeoxFu0tdz9aCWcAAAAAcDVzq0YAAAAAAABIOAMAAAAAAIBKOAMAAAAAAIBKOAMAAAAAAIBKOAMAAAAAAIBKOAMAAAAAAIBKOAMAAAAAAIBKOAMAAAAAAIBKOAMAAAAAAIBKOAMAAAAAAIBKOAMAAAAAAIBKOAMAAAAAAIBKOAMAAAAAAIBqBOHsoYce6h3veEe//vWvqzp27Fjbt29v27Zt7dy5s1OnTl147lLPAAAAAAAAYLGGGs6eeeaZjh071saNG6taWFjorrvu6p577unIkSPNzs524MCBSzoDAAAAAACApRhaODt37lz33ntvX/nKVy5cO378eDMzM83Ozla1Y8eOnnjiiUs6AwAAAAAAgKWYGtYLPfjgg23fvr1bbrnlwrWTJ0+2YcOGC4/Xrl3bwsJCZ86cWfLZmjVrBp7phhuuu8StABgn69b93ahHGIpx2HMcdhwn4/LzOQ57jsOOZc+rzTjsOQ47lj2vJuOwY9nzajMOe47DjmXPq8k47Fj2fC1DCWe/+MUvOn78eJ///OeH8XIDO3XqhRYWXhn1GABjZSX/ZvynPz0/8HPHYc9x2HGcjMPP50rescZjT7/Ovto47LmSd6zx2NN79tXGYc9x2LHsuRKMw3u2xmNP79lXG4c9x2HHsudK8Nd7Tk5O/M0PVw0lnP385z/vt7/9bR/60Ieq+sMf/tCdd97Zxz/+8U6cOHHheXNzc01OTrZmzZrWr1+/pDMAAAAAAABYiqF8x9mnPvWpnnzyyY4ePdrRo0e7+eabe/TRR9u1a1cvvvhiTz/9dFWPPfZYd9xxR1WbN29e0hkAAAAAAAAsxdC+4+y1TE5Otm/fvvbu3dv8/HwbN25s//79l3QGAAAAAAAASzGScHb06NEL/33bbbd1+PDh13zeUs8AAAAAAABgsUb6iTMA/p/r3zTd1MzMqMdYtJfn5zv9l3OjHgMAAAAA4JIJZwBXiKmZmf7nl/7NqMdYtE1f+4+VcAYAAAAArHyTox4AAAAAAAAArgTCGQAAAAAAACScAQAAAAAAQCWcAQAAAAAAQCWcAQAAAAAAQCWcAQAAAAAAQCWcAQAAAAAAQCWcAQAAAAAAQCWcAQAAAAAAQCWcAQAAAAAAQCWcAQAAAAAAQCWcAQAAAAAAQCWcAQAAAAAAQCWcAQAAAAAAQCWcAQAAAAAAQCWcAQAAAAAAQCWcAQAAAAAAQCWcAQAAAAAAQCWcAQAAAAAAQCWcAQAAAAAAQCWcAQAAAAAAQCWcAQAAAAAAQCWcAQAAAAAAQCWcAQAAAAAAQCWcAQAAAAAAQCWcAQAAAAAAQCWcAQAAAAAAQCWcAQAAAAAAQCWcAQAAAAAAQCWcAQAAAAAAQCWcAQAAAAAAQCWcAQAAAAAAQCWcAQAAAAAAQCWcAQAAAAAAQCWcAQAAAAAAQCWcAQAAAAAAQCWcAQAAAAAAQCWcAQAAAAAAQCWcAQAAAAAAQCWcAQAAAAAAQCWcAQAAAAAAQCWcAQAAAAAAQCWcAQAAAAAAQCWcAQAAAAAAQCWcAQAAAAAAQCWcAQAAAAAAQCWcAQAAAAAAQCWcAQAAAAAAQCWcAQAAAAAAQCWcAQAAAAAAQCWcAQAAAAAAQCWcAQAAAAAAQCWcAQAAAAAAQCWcAQAAAAAAQCWcAQAAAAAAQCWcAQAAAAAAQCWcAQAAAAAAQCWcAQAAAAAAQCWcAQAAAAAAQCWcAQAAAAAAQCWcAQAAAAAAQCWcAQAAAAAAQCWcAQAAAAAAQCWcAQAAAAAAQCWcAQAAAAAAQCWcAQAAAAAAQCWcAQAAAAAAQCWcAQAAAAAAQCWcAQAAAAAAQCWcAQAAAAAAQCWcAQAAAAAAQCWcAQAAAAAAQCWcAQAAAAAAQCWcAQAAAAAAQCWcAQAAAAAAQCWcAQAAAAAAQCWcAQAAAAAAQCWcAQAAAAAAQCWcAQAAAAAAQCWcAQAAAAAAQCWcAQAAAAAAQCWcAQAAAAAAQCWcAQAAAAAAQCWcAQAAAAAAQCWcAQAAAAAAQCWcAQAAAAAAQCWcAQAAAAAAQCWcAQAAAAAAQCWcAQAAAAAAQCWcAQAAAAAAQCWcAQAAAAAAQCWcAQAAAAAAQCWcAQAAAAAAQCWcAQAAAAAAQCWcAQAAAAAAQCWcAQAAAAAAQCWcAQAAAAAAQCWcAQAAAAAAQCWcAQAAAAAAQCWcAQAAAAAAQCWcAQAAAAAAQCWcAQAAAAAAQCWcAQAAAAAAQFVTox4A4PVc/6bppmZmRj3Gkrw8P9/pv5wb9RgAAAAAAAxAOAOueFMzM/3j7o+Neowl+YeH/kMlnAEAAAAArARu1QgAAAAAAAAJZwAAAAAAAFAJZwAAAAAAAFAJZwAAAAAAAFAJZwAAAAAAAFAJZwAAAAAAAFAJZwAAAAAAAFAJZwAAAAAAAFAJZwAAAAAAAFAJZwAAAAAAAFAJZwAAAAAAAFAJZwAAAAAAAFAJZwAAAAAAAFAJZwAAAAAAAFAJZwAAAAAAAFAJZwAAAAAAAFAJZwAAAAAAAFAJZwAAAAAAAFAJZwAAAAAAAFAJZwAAAAAAAFAJZwAAAAAAAFAJZwAAAAAAAFAJZwAAAAAAAFAJZwAAAAAAAFAJZwAAAAAAAFAJZwAAAAAAAFAJZwAAAAAAAFAJZwAAAAAAAFAJZwAAAAAAAFAJZwAAAAAAAFAJZwAAAAAAAFAJZwAAAAAAAFAJZwAAAAAAAFAJZwAAAAAAAFAJZwAAAAAAAFAJZwAAAAAAAFAJZwAAAAAAAFAJZwAAAAAAAFAJZwAAAAAAAFAJZwAAAAAAAFAJZwAAAAAAAFAJZwAAAAAAAFAJZwAAAAAAAFAJZwAAAAAAAFAJZwAAAAAAAFAJZwAAAAAAAFAJZwAAAAAAAFAJZwAAAAAAAFAJZwAAAAAAAFDV1KgHAAC4kq1dM9Oqa6ZHPcainX/pXHNn5kc9BgAAAMCKIpwBAPwzVl0z3amj9456jEW74YP3VMIZAAAAwGK4VSMAAAAAAAAknAEAAAAAAEAlnAEAAAAAAEAlnAEAAAAAAEAlnAEAAAAAAEAlnAEAAAAAAEAlnAEAAAAAAEAlnAEAAAAAAEAlnAEAAAAAAEAlnAEAAAAAAEAlnAEAAAAAAEAlnAEAAAAAAEAlnAEAAAAAAEAlnAEAAAAAAEAlnAEAAAAAAEAlnAEAAAAAAEAlnAEAAAAAAEAlnAEAAAAAAEAlnAEAAAAAAEAlnAEAAAAAAEAlnAEAAAAAAEAlnAEAAAAAAEAlnAEAAAAAAEAlnAEAAAAAAEAlnAEAAAAAAEAlnAEAAAAAAEAlnAEAAAAAAEAlnAEAAAAAAEAlnAEAAAAAAEAlnAEAAAAAAEAlnAEAAAAAAEAlnAEAAAAAAEAlnAEAAAAAAEAlnAEAAAAAAEAlnAEAAAAAAEAlnAEAAAAAAEAlnAEAAAAAAEAlnAEAAAAAAEAlnAEAAAAAAEAlnAEAAAAAAEAlnAEAAAAAAEAlnAEAAAAAAEAlnAEAAAAAAEAlnAEAAAAAAEAlnAEAAAAAAEAlnAEAAAAAAEAlnAEAAAAAAEAlnAEAAAAAAEAlnAEAAAAAAEAlnAEAAAAAAEAlnAEAAAAAAEAlnAEAAAAAAEAlnAEAAAAAAEAlnAEAAAAAAEAlnAEAAAAAAEAlnAEAAAAAAEAlnAEAAAAAAEAlnAEAAAAAAEAlnAEAAAAAAEAlnAEAAAAAAEAlnAEAAAAAAEAlnAEAAAAAAEAlnAEAAAAAAEAlnAEAAAAAAEAlnAEAAAAAAEAlnAEAAAAAAEA1pHB2+vTpPvnJT7Zt27Y+/OEPt3v37ubm5qo6duxY27dvb9u2be3cubNTp05d+HFLPQMAAAAAAIDFGko4m5iYaNeuXR05cqTDhw/3lre8pQMHDrSwsNBdd93VPffc05EjR5qdne3AgQNVSz4DAAAAAACApRhKOFuzZk3vfve7LzzeunVrJ06c6Pjx483MzDQ7O1vVjh07euKJJ6qWfAYAAAAAAABLMfTvOFtYWOh73/teH/zgBzt58mQbNmy4cLZ27doWFhY6c+bMks8AAAAAAABgKaaG/YJf/epXe+Mb39jHPvaxfvjDHw775S9yww3XjfT1gfGwbt3fjXqEZTcOO5Y9rybjsGPZ82ozDnuOw45lz6vNOOw5DjuWPa8m47Bj2fNqMw57jsOOZc+ryTjsWPZ8LUMNZw888EC/+93veuSRR5qcnGz9+vWdOHHiwvnc3FyTk5OtWbNmyWeLcerUCy0svHLpiwHLaqX/4v2nPz0/0PNW8p6D7lj2XAm8Zy9mzyvfOLxnazz29J59tXHYcyXvWOOxp/fsq43DnuOwY9lzJRiH92yNx57es682DnuOw45lz5Xgr/ecnJz4mx+uGtqtGr/xjW90/PjxDh482PT0dFWbN2/uxRdf7Omnn67qscce64477rikMwAAAAAAAFiKoXzi7De/+U3f/va3e+tb39qOHTuquuWWWzp48GD79u1r7969zc/Pt3Hjxvbv31/V5OTkks4AAAAAAABgKYYSzt7+9rf37LPPvubZbbfd1uHDhy/rGQAAAAAAACzW0G7VCAAAAAAAAFcy4QwAAAAAAAASzgAAAAAAAKASzgAAAAAAAKASzgAAAAAAAKASzgAAAAAAAKASzgAAAAAAAKCqqVEPwPCtuW66a1bPjHqMRXvp7HxnXjg36jEAAAAAAICrlHA2hq5ZPdN/fd+/HvUYi/Yv/vt/KuEMAAAAAABYJm7VCAAAAAAAAAlnAAAAAAAAUAlnAAAAAAAAUAlnAAAAAAAAUAlnAAAAAAAAUAlnAAAAAAAAUAlnAAAAAAAAUAlnAAAAAAAAUAlnAAAAAAAAUAlnAAAAAAAAUAlnAAAAAAAAUAlnAAAAAAAAUAlnAAAAAAAAUAlnAAAAAAAAUAlnAAAAAAAAUAlnAAAAAAAAUAlnAAAAAAAAUAlnAAAAAAAAUAlnAAAAAAAAUNXUqAcALs31b5puamZm1GMs2svz853+y7lRjwEAAAAAABcIZ7DCTc3M9D/+3b8d9RiLdtt3/30lnAEAAAAAcOVwq0YAAAAAAABIOAMAAAAAAIBKOAMAAAAAAIBKOAMAAAAAAIBKOAMAAAAAAIBKOAMAAAAAAIBKOAMAAAAAAIBKOAMAAAAAAIBKOAMAAAAAAIBKOAMAAAAAAIBKOAMAAAAAAIBKOAMAAAAAAIBKOAMAAAAAAIBKOAMAAAAAAIBKOAMAAAAAAIBKOAMAAAAAAIBKOAMAAAAAAIBKOAMAAAAAAIBKOAMAAAAAAIBKOAMAAAAAAIBKOAMAAAAAAIBKOAMAAAAAAIBKOAMAAAAAAIBKOAMAAAAAAIBKOAMAAAAAAIBKOAMAAAAAAIBKOAMAAAAAAIBKOAMAAAAAAIBKOAMAAAAAAIBKOAMAAAAAAIBKOAMAAAAAAIBKOAMAAAAAAIBKOAMAAAAAAIBKOAMAAAAAAIBKOPs/7d19kJVl4T7wCxZBUXlZEKTU0hIHQdMkyUFF0AlMBLVpcBj9NVnmxCioOQmioaiT5ozVDFpajjPfxslpfBvFl6zEN0rS0STC0lQaGvGFRVIwINjn94fDDgp72D2c3fPi5/MXu8/umfvacz/3cz/nYs8CAAAAAABAEsUZAAAAAAAAJFGcAQAAAAAAQBLFGQAAAAAAACRRnAEAAAAAAEASxRkAAAAAAAAkUZwBAAAAAABAEsUZAAAAAAAAJFGcAQAAAAAAQBLFGQAAAAAAACRRnAEAAAAAAEASxRkAAAAAAAAkUZwBAAAAAABAEsUZAAAAAAAAJFGcAQAAAAAAQJKkV7UHAF1l4N6902v3PtUeRqdt3rAx776/qdrDAAAAAACATxzFGQ2r1+598uTp/6/aw+i04+/9v0RxBgAAAAAA3c5bNQIAAAAAAEAUZwAAAAAAAJBEcQYAAAAAAABJFGcAAAAAAACQRHEGAAAAAAAASRRnAAAAAAAAkERxBgAAAAAAAEkUZwAAAAAAAJBEcQYAAAAAAABJFGcAAAAAAACQRHEGAAAAAAAASRRnAAAAAAAAkERxBgAAAAAAAEkUZwAAAAAAAJBEcQYAAAAAAABJFGcAAAAAAACQRHEGAAAAAAAASRRnAAAAAAAAkERxBgAAAAAAAEkUZwAAAAAAAJBEcQYAAAAAAABJFGcAAAAAAACQRHEGAAAAAAAASRRnAAAAAAAAkERxBgAAAAAAAEkUZwAAAAAAAJBEcQYAAAAAAABJFGcAAAAAAACQRHEGAAAAAAAASRRnAAAAAAAAkERxBgAAAAAAAEkUZwAAAAAAAJBEcQYAAAAAAABJFGcAAAAAAACQRHEGAAAAAAAASRRnAAAAAAAAkERxBgAAAAAAAEkUZwAAAAAAAJBEcQYAAAAAAABJFGcAAAAAAACQRHEGAAAAAAAASRRnAAAAAAAAkERxBgAAAAAAAEkUZwAAAAAAAJBEcQYAAAAAAABJFGcAAAAAAACQRHEGAAAAAAAASRRnAAAAAAAAkERxBgAAAAAAAEkUZwAAAAAAAJBEcQYAAAAAAABJFGcAAAAAAACQRHEGAAAAAAAASRRnAAAAAAAAkERxBgAAAAAAAEkUZwAAAAAAAJBEcQYAAAAAAABJFGcAAAAAAACQRHEGAAAAAAAASRRnAAAAAAAAkERxBgAAAAAAAEkUZwAAAAAAAJBEcQYAAAAAAABJFGcAAAAAAACQRHEGAAAAAAAASRRnAAAAAAAAkERxBgAAAAAAAEkUZwAAAAAAAJBEcQYAAAAAAABJFGcAAAAAAACQRHEGAAAAAAAASRRnAAAAAAAAkERxBgAAAAAAAEkUZwAAAAAAAJBEcQYAAAAAAABJFGcAAAAAAACQRHEGAAAAAAAASRRnAAAAAAAAkERxBgAAAAAAAEkUZwAAAAAAAJBEcQYAAAAAAABJFGcAAAAAAACQRHEGAAAAAAAASRRnAAAAAAAAkERxBgAAAAAAAEkUZwAAAAAAAJBEcQYAAAAAAABJFGcAAAAAAACQRHEGAAAAAAAASRRnAAAAAAAAkERxBgAAAAAAAEkUZwAAAAAAAJBEcQYAAAAAAABJFGcAAAAAAACQRHEGAAAAAAAASRRnAAAAAAAAkERxBgAAAAAAAEkUZwAAAAAAAJBEcQYAAAAAAABJFGcAAAAAAACQRHEGAAAAAAAASRRnAAAAAAAAkERxBgAAAAAAAEkUZwAAAAAAAJAk6VXtAdSS/nv1Tu89+lR7GGXZ9N+N+c+6TdUeBgAAAAAAQN1SnG2j9x59ctuIKdUeRlm+9dL9ieIMAAAAAACgbN6qEQAAAAAAAKI4AwAAAAAAgCSKMwAAAAAAAEiiOAMAAAAAAIAkijMAAAAAAABIojgDAAAAAACAJIozAAAAAAAASKI4AwAAAAAAgCSKMwAAAAAAAEiiOAMAAAAAAIAkijMAAAAAAABIojgDAAAAAACAJIozAAAAAAAASKI4AwAAAAAAgCSKMwAAAAAAAEiiOAMAAAAAAIAkijMAAAAAAABIojgDAAAAAACAJIozAAAAAAAASKI4AwAAAAAAgCSKMwAAAAAAAEiiOAMAAAAAAIAkijMAAAAAAABIojgDAAAAAACAJIozAAAAAAAASKI4AwAAAAAAgCSKMwAAAAAAAEiiOAMAAAAAAIAkijMAAAAAAABIojgDAAAAAACAJIozAAAAAAAASKI4AwAAAAAAgCSKMwAAAAAAAEiiOAMAAAAAAIAkijMAAAAAAABIojgDAAAAgYo3jgAAFJ5JREFUAACAJIozAAAAAAAASKI4AwAAAAAAgCR1Xpy9/vrrmTZtWiZOnJhp06ZlxYoV1R4SAAAAAAAAdaqui7N58+Zl+vTp+e1vf5vp06fnBz/4QbWHBAAAAAAAQJ2q2+KspaUly5cvz+TJk5MkkydPzvLly7NmzZoqjwwAAAAAAIB61KvaAyjXqlWrMnTo0DQ1NSVJmpqaMmTIkKxatSrNzc0deoyePXts97m9PjWkouPsTjvK05499t2nC0fSdTqTMUn67DO4i0bStTqbs/egxs+5W3N9Zkw6l7PXgPrM2dk529RvUBeNpGt1OudeHbse1ZrO5OzZd2AXjqTrdPa57Ll7/y4aSdfqdM7e/bpoJF2rMzl79NqrC0fStTqVs6lvF46k63R2zvbouXsXjaRrdTpnjz5dNJKu1anrSY/6fC6TzuVs6vnJODd79dyzi0bStTp9H9bU+Dn79PpkzNm+u30ycu7Vu/Fz9u9Tn+dl0rmcA/eoz5ydnbOD9/xk5Nxn78bPObR/468/STJkYOM/l0kyuLk+76s/nrNU7h5FURRdPaCusGzZslx66aV58MEH2z731a9+NTfccENGjhxZxZEBAAAAAABQj+r2rRqHDRuWt956K1u2bEmSbNmyJW+//XaGDRtW5ZEBAAAAAABQj+q2OBs0aFBGjBiRhQsXJkkWLlyYESNGdPhtGgEAAAAAAGBbdftWjUny6quvZvbs2XnvvffSr1+/XH/99TnooIOqPSwAAAAAAADqUF0XZwAAAAAAAFApdftWjQAAAAAAAFBJijMAAAAAAACI4gwAAAAAAACSKM4AAAAAAAAgieIMAAAAAAAAkijOynb99ddnwoQJOeSQQ/Lyyy+3fX7RokU57bTTMnXq1EyZMiWPPvpo27HHH388p59+ek499dScddZZWblyZduxjRs3Zt68efnKV76SU089NVdccUW35tmR9jKWyvH6669n2rRpmThxYqZNm5YVK1Z06Fg1VTrnVgsWLNjuMaup0jlrcc4mlc9Z6pyulnIytvc97777bs4999xMnDgxp556as4///ysWbOmW/O0p7M5d5blL3/5S6ZMmZKJEyfmnHPOSUtLS7dn2pFK59xqzpw5OeSQQ7J+/fpuy1JKpXPeddddOfXUUzN16tScccYZee6557o908eVc27OmDEjU6ZMyWmnnZbp06fnpZdeStJY52bSfs6ksa4nW+1oD1CLczYpL+eECRMyadKkTJ06NVOnTs1TTz2V5MPr6dlnn51JkyZl8uTJmTNnTjZs2NDtmT6ukhmTZO3atbn44oszceLEnHLKKVmwYEG35mlPOTlLnX+NtHfvyDpTS3v3Smesxf1s0vmc//73v9vOyalTp2bChAk5+uijkzTWdbNUzqSxrpul5mYtrkGVzrhVLa0/SeVzNsoaVOpYra5BlcyY1O76U+rnX+p1gHKPVUtX5NyqVl4/6IqMtXgfVm7O733vezn22GO3e65q9T6s0jmTbr4XKyjLs88+W7zxxhvF+PHji3/84x9FURRFa2trMXr06LaPX3rppeKII44otmzZUqxdu7Y4+uiji9dee60oiqK47777inPOOaft8a6++uri2muvLVpbW4uiKIp33nmnmxNtb0cZd5bj7LPPLu677762Y2effXaHjlVTpXMWRVEsW7as+Na3vvWRx6y2SuesxTlbFJXNWeqcrqZyMu7oe4qiKN59993imWeeafv4uuuuK+bMmdNNSUrrbM5SWbZs2VKcdNJJxbPPPlsURVHcdNNNxezZs7szTrsqmXOrP/zhD8WcOXOK4cOHF+vWreumJKVVMueaNWuKI488sm3d+f3vf1+cfPLJ3Rlnh8o5N9977722f//ud78rTjvttKIoGuvcLIr2cxZFY11PimLHe4BanbNFUV7O9vY3K1euLP72t78VRfHhujtr1qxiwYIF3ZCitEpmLIqiOO+884rbb7+97eO333676wbfCeXkLHX+NdLefWfrTK3t3SuZsVb3s0VR/jq71TXXXFNcddVVRVE03nVzW9vmLIrGuW7ubG7W4hpU6YxFUXvrT1FUNmcjrUG7eo9WDZXMWBS1u/609/Mv9TpAuceqqdI5t6ql1w8qnbFW78PKyVkURfHHP/6xWL169XbPVa3eh1U6Z1F0772Y3zgr0+jRozNs2LDtPt+zZ8+8//77SZL3338/Q4YMSc+ePfOvf/0rgwcPzoEHHpgkGTduXJ5++umsWbMm69evz3333ZdZs2alR48eSZLBgwd3X5h27ChjqRwtLS1Zvnx5Jk+enCSZPHlyli9fvtNj1VbJnEmyadOmzJ8/P1deeWW35tiZSuas1TmbVP75bO+crqbOZmzve5JkwIABGTNmTNvHRxxxRN54440uHH3HdTZnqSzLli1Lnz59Mnr06CTJmWeemUceeaSbkpRWyZzJh/+jZ8GCBZkzZ073BOigSuYsiiJFUbT9z6P3338/++67bzclaV855+bee+/d9rXr1q1rW1Mb6dxM2s/ZSNeTpP09QK3O2aS8nO3Zb7/9cuihhyb58Pp5+OGH18S8rWTGFStW5OWXX843vvGNts/ts88+lR90GTqbs9T510h7952tM7W4d690xlrczya7dm5u2rQpDzzwQL72ta8labzr5lYfz9lo18325matrkGVzJjU5vqTVD5no6xBu3KPVi2VzFjL6097P/9SrwOUe6yaKp0zqb3XDyqdsVbvw8rJmSTHHHNMBg0atN3j1ep9WKVzdve9WK8ue+RPoB49euQnP/lJZsyYkb59+2b9+vW59dZbkyQHHnhgVq9enaVLl+bwww/PAw88kCRZtWpVmpqaMmDAgCxYsCBLlizJnnvumVmzZrVNnlpSKkdRFBk6dGiampqSJE1NTRkyZMhOjzU3N1ctT3vKzdnc3Jyf/vSnmTJlSvbbb79qRuiQcnPW05xNdu35bO+crjWlMnb0HGttbc2vf/3rTJgwoSuHuks6mvPjWVatWpVPfepTbcebm5vT2tqatWvXZsCAAd0bogPKzZkk8+fPz8yZMz9SVNSqcnM2Nzdn/vz5Of3009OvX7+0trbmV7/6VVUy7ExHMs6dOzeLFy9OURT55S9/ud1jNMq5uaOcK1eubJjrSak9QD3N2aRjz+cll1ySoihy1FFH5eKLL06/fv0+8hgbNmzI3XffnYsvvrjbx98R5Wb85z//maFDh2bu3Ll56aWXMnjw4Hz/+9/PwQcfXM047Sr3HmTVqlUNs3ff2b61Xvbu5WYsdY9aizq6N3jssccydOjQjBw5crvHaJTrZrJ9zka7brY3N+tpDSo3Y1I/609Sfs5GWoN25R6tlpSbsV5eB9r251/qdYByj9XK6weVyDlgwICafv2gEhnr4T6sozk7Ovdq9T6sEjm7+16s+v/Fo4Fs3rw5t9xyS26++eYsWrQoP/vZz3LhhRdm/fr12XvvvfPjH/84P/zhD3PGGWekpaUl/fr1S1NTU7Zs2ZKVK1fm0EMPzT333JNLLrkkF1xwQdatW1ftSNsplaORlJvzhRdeyLJlyzJ9+vRuGumuKTdnPc3ZpPycpc7pWlOJc/Pqq69O3759c9ZZZ3XhSHdNR3PWQ5ZSys350EMPZbfddssJJ5xQhVF3Xrk5161blzvuuCN33XVXHn/88cyePTvnn39+iqKoRoySOpLx2muvzeOPP56LLrooP/rRj7Z7jHqYz+XmbKTrSak9QD3N2WTnz+cdd9yR+++/P3fffXeKosj8+fM/8v2bN2/ORRddlC9/+cs58cQTqxFhp8rN2NramhdffDFnnHFG7r333nz961/Pd7/73WpGKalR7kF2ptyc9bR3LzdjPe1nk47vDe6+++6238L6uEa5bibb56y387ZUznqbm+0pN2M9rT9J+Tnr7XkulbNR7kXLzVgv60+t//wrpRI5a/31g0pkrIf7sErO2Vq+D6tEzm6/F+uyN4H8hNj2fYKXLl263fukTpo0qXjxxRe3+7533nmnGDVqVLF+/fqipaWlOPTQQ9veI7goiuLkk08uli5d2rWD76BS77W9bY7Vq1cXRx11VLF58+aiKIpi8+bNxVFHHVW0tLSUPFYrKpHzlltuKcaOHVuMHz++GD9+fDFixIji2GOPLZ566qnujFJSJXLW+pwtisrk7Mw5XQ0dzdiR77nuuuuKb37zm8XGjRu7ZKy7orM5d5TlxRdfLE455ZS2j1taWoojjjii6wZdhkrknDdvXnHccce1rUHDhw8vTjjhhOKVV17p8vF3VCVyPvzww8W3v/3tj3zv4YcfXjPXlHLOza0OO+ywYs2aNW0fN9K5ua2tORvpelJqD1Drc7Yoyn8+//73vxfjx49v+3jz5s3FrFmziksvvfQjz2stqETGpUuXFhMmTPjI8Xp9Lkudf420dy+Vs9b37pXIWOv72aLo/Ln55ptvFl/4whc+cr3cqpGumzvK2UjXzVJzs9bXoEpkrPX1pygqk7MR16BSx2p1DapExnpYfz7+8y/1OkC5x2pBpXLW8usHlcpY6/dhncm5rR397a9avg+rVM7uvhfzG2cVtO++++bNN9/Ma6+9liR59dVX09LSkgMOOCBJ8s477yT5sB298cYbc+aZZ6Zv375pbm7OmDFjsnjx4iTJ66+/npaWlnzmM5+pTpCdaC/HoEGDMmLEiCxcuDBJsnDhwowYMSLNzc0lj9WqcnJ+5zvfydNPP53HHnssjz32WPbdd9/cdtttOfbYY6sZpaRyctbbnE3Ky7mzc7rWtJdxZ2688cYsW7YsN910U3r37t3Vw9xlpXK2l2XUqFHZsGFDnnvuuSTJnXfemUmTJnX/4DuhnJxXXnllnnzyybY1KPlwTn/+85/v/gAdVE7O/fbbL8uXL09LS0uS5Jlnnslee+2VgQMHdn+ADmgv4/r167Nq1aq2r3vsscfSv3//trcmaJRzs1TORrqelNoD1NucTdrP+cEHH7T9nZKiKPLQQw9lxIgRbV87e/bsNDU15dprr237+xe1qpyMo0aNSt++ffPKK68kSZ599tn079+/Lp/LUudfI+3dS+Wst717ORnrbT+b7HxPe++992bcuHHbnXeNct3cakc5G+m6WWpu1tsaVE7Gelt/kvJyNtoaVM69Sy0qJ2Otrz87+vmXeh2g3GPVVsmctfr6QSUz1vJ9WGdzllLL92GVzNnd92I9iqKGfjexjlxzzTV59NFHs3r16gwcODADBgzIgw8+mPvvvz+/+MUv2ibozJkzc9JJJyX58G97PP/88/nf//6XsWPH5rLLLkufPn2SfPhe5ZdddlnWrl2bXr165cILL8y4ceOqli9pP2OpHK+++mpmz56d9957L/369cv111+fgw46aKfHqqnSObc1YcKE/PznP8/w4cO7O9Z2Kp2zFudsUvmcpc7paiknY3vf88orr2Ty5Mn57Gc/m9133z3JhxuLm266qZoRk3Q+586yPP/885k3b142btyYT3/607nhhhtq4o8ZVzrntg455JA8//zz2XPPPbs71nYqnfP222/Pb37zm+y2227p3bt3Zs+eXfX31+9sxtWrV2fGjBn573//m549e6Z///659NJLM3LkyIY6N0vlTBrrerKtj+8BanHOJp3PuXLlylxwwQXZsmVLWltb87nPfS6XX355hgwZkscffzznnXdehg8fnp49P/z/eV/84hczb968hsmYJH/9619z1VVXZdOmTdljjz0yd+7cHH744VXNmJQ3Z0udf420d+/oOlMre/dKZ6zF/WxS/jo7ceLEzJ07N8cff3zb5xrpurnVjnImjXXdLDU3a3ENqnTGbdXK+pNUPmcjrUGVuEfrTpXMmNTu+lPq51/qdYByj1VLV+TcVi28ftAVGWvxPqzcnOeff36WLl2at956K0OGDMnw4cNz22231ex9WKVzJt17L6Y4AwAAAAAAgCTeqhEAAAAAAACiOAMAAAAAAIAkijMAAAAAAABIojgDAAAAAACAJIozAAAAAAAASKI4AwAAAAAAgCSKMwAAgLp3ySWXZM6cOR/53J///OeMGTMmb7/9dpVGBQAAUH8UZwAAAHVu7ty5efLJJ7N48eIkycaNG3PFFVfk0ksvzZAhQ3b58Tdv3rzLjwEAAFAPFGcAAAB1buDAgbn88stzxRVX5IMPPsiCBQuy//7756CDDsqZZ56Z0aNHZ8qUKVmyZEnb99x99905+eSTc+SRR+bEE0/MnXfe2XZsyZIlOf7443Prrbdm7Nix2/02GwAAQKPqVe0BAAAAsOtOPvnkPPTQQ7n44ovzwgsv5J577skZZ5yRH/3oRznuuOPypz/9KTNnzszDDz+c5ubmDBo0KLfcckv233//PPvsszn33HNz2GGHZeTIkUmS1atX5z//+U8WLVqU1tbWKqcDAADoHn7jDAAAoEHMmzcvS5YsyYwZM/Lggw/m+OOPz7hx49KzZ8+MHTs2o0aNyhNPPJEkOeGEE3LAAQekR48eOfroozN27Ng899xzbY/Vs2fPzJw5M717987uu+9erUgAAADdym+cAQAANIjBgwdn4MCBOfjgg/Poo4/mkUceyaJFi9qOb968OWPGjEmSPPHEE7npppuyYsWKtLa2ZsOGDRk+fHjb1w4cODB9+vTp9gwAAADVpDgDAABoQMOGDcvUqVNzzTXXbHds06ZNmTlzZq6//vqceOKJ2W233TJjxowURdH2NT169OjO4QIAANQEb9UIAADQgKZMmZJFixblqaeeypYtW7Jx48YsWbIkb775ZjZt2pRNmzalubk5vXr1yhNPPJHFixdXe8gAAABVpzgDAABoQMOGDcvNN9+cW265Jcccc0zGjRuX2267La2trdlrr71y+eWX58ILL8yXvvSlLFy4MBMmTKj2kAEAAKquR7Hte3EAAAAAAADAJ5TfOAMAAAAAAIAozgAAAAAAACCJ4gwAAAAAAACSKM4AAAAAAAAgieIMAAAAAAAAkijOAAAAAAAAIIniDAAAAAAAAJIozgAAAAAAACCJ4gwAAAAAAACSJP8fy978ZD8wpDYAAAAASUVORK5CYII=\n"
          },
          "metadata": {}
        }
      ]
    },
    {
      "cell_type": "code",
      "source": [
        "part = summerMenOlympics.groupby('Year')['Sex'].value_counts()\n",
        "plt.figure(figsize=(20,10))\n",
        "part.loc[:,'M'].plot()\n",
        "plt.title('Plot of Female Athletes over time')"
      ],
      "metadata": {
        "id": "gqBM6LAkVKi4",
        "colab": {
          "base_uri": "https://localhost:8080/",
          "height": 640
        },
        "outputId": "30c763f1-fb30-43f8-d28f-b0a73846a721"
      },
      "id": "gqBM6LAkVKi4",
      "execution_count": null,
      "outputs": [
        {
          "output_type": "execute_result",
          "data": {
            "text/plain": [
              "Text(0.5, 1.0, 'Plot of Female Athletes over time')"
            ]
          },
          "metadata": {},
          "execution_count": 46
        },
        {
          "output_type": "display_data",
          "data": {
            "text/plain": [
              "<Figure size 1440x720 with 1 Axes>"
            ],
            "image/png": "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\n"
          },
          "metadata": {}
        }
      ]
    },
    {
      "cell_type": "code",
      "source": [
        "goldMedals = athlete_merged[(athlete_merged.Medal == 'Gold')]\n",
        "goldMedals"
      ],
      "metadata": {
        "id": "ZGg7Z88oVMvX",
        "colab": {
          "base_uri": "https://localhost:8080/",
          "height": 869
        },
        "outputId": "fb8c1125-80d5-431c-b20d-1ccc5e0302d8"
      },
      "id": "ZGg7Z88oVMvX",
      "execution_count": null,
      "outputs": [
        {
          "output_type": "execute_result",
          "data": {
            "text/plain": [
              "            ID                                 Name Sex   Age  Height  Weight  \\\n",
              "3            4                 Edgar Lindenau Aabye   M  34.0   175.0    70.0   \n",
              "42          17              Paavo Johannes Aaltonen   M  28.0   175.0    64.0   \n",
              "44          17              Paavo Johannes Aaltonen   M  28.0   175.0    64.0   \n",
              "48          17              Paavo Johannes Aaltonen   M  28.0   175.0    64.0   \n",
              "60          20                   Kjetil Andr Aamodt   M  20.0   176.0    85.0   \n",
              "...        ...                                  ...  ..   ...     ...     ...   \n",
              "270981  135503                      Zurab Zviadauri   M  23.0   182.0    90.0   \n",
              "271009  135520                          Julia Zwehl   F  28.0   167.0    60.0   \n",
              "271016  135523       Ronald Ferdinand \"Ron\" Zwerver   M  29.0   200.0    93.0   \n",
              "271049  135545                      Henk Jan Zwolle   M  31.0   197.0    93.0   \n",
              "271076  135553  Galina Ivanovna Zybina (-Fyodorova)   F  21.0   168.0    80.0   \n",
              "\n",
              "                  Team  NOC        Games  Year  Season         City  \\\n",
              "3       Denmark/Sweden  DEN  1900 Summer  1900  Summer        Paris   \n",
              "42             Finland  FIN  1948 Summer  1948  Summer       London   \n",
              "44             Finland  FIN  1948 Summer  1948  Summer       London   \n",
              "48             Finland  FIN  1948 Summer  1948  Summer       London   \n",
              "60              Norway  NOR  1992 Winter  1992  Winter  Albertville   \n",
              "...                ...  ...          ...   ...     ...          ...   \n",
              "270981         Georgia  GEO  2004 Summer  2004  Summer       Athina   \n",
              "271009         Germany  GER  2004 Summer  2004  Summer       Athina   \n",
              "271016     Netherlands  NED  1996 Summer  1996  Summer      Atlanta   \n",
              "271049     Netherlands  NED  1996 Summer  1996  Summer      Atlanta   \n",
              "271076    Soviet Union  URS  1952 Summer  1952  Summer     Helsinki   \n",
              "\n",
              "                Sport                             Event Medal       Region  \\\n",
              "3          Tug-Of-War       Tug-Of-War Men's Tug-Of-War  Gold      Denmark   \n",
              "42         Gymnastics  Gymnastics Men's Team All-Around  Gold      Finland   \n",
              "44         Gymnastics      Gymnastics Men's Horse Vault  Gold      Finland   \n",
              "48         Gymnastics  Gymnastics Men's Pommelled Horse  Gold      Finland   \n",
              "60      Alpine Skiing       Alpine Skiing Men's Super G  Gold       Norway   \n",
              "...               ...                               ...   ...          ...   \n",
              "270981           Judo           Judo Men's Middleweight  Gold      Georgia   \n",
              "271009         Hockey             Hockey Women's Hockey  Gold      Germany   \n",
              "271016     Volleyball       Volleyball Men's Volleyball  Gold  Netherlands   \n",
              "271049         Rowing         Rowing Men's Coxed Eights  Gold  Netherlands   \n",
              "271076      Athletics        Athletics Women's Shot Put  Gold       Russia   \n",
              "\n",
              "       Notes  \n",
              "3        NaN  \n",
              "42       NaN  \n",
              "44       NaN  \n",
              "48       NaN  \n",
              "60       NaN  \n",
              "...      ...  \n",
              "270981   NaN  \n",
              "271009   NaN  \n",
              "271016   NaN  \n",
              "271049   NaN  \n",
              "271076   NaN  \n",
              "\n",
              "[13372 rows x 17 columns]"
            ],
            "text/html": [
              "\n",
              "  <div id=\"df-fb73b4de-bf0b-48df-9833-adbcdd2de38f\">\n",
              "    <div class=\"colab-df-container\">\n",
              "      <div>\n",
              "<style scoped>\n",
              "    .dataframe tbody tr th:only-of-type {\n",
              "        vertical-align: middle;\n",
              "    }\n",
              "\n",
              "    .dataframe tbody tr th {\n",
              "        vertical-align: top;\n",
              "    }\n",
              "\n",
              "    .dataframe thead th {\n",
              "        text-align: right;\n",
              "    }\n",
              "</style>\n",
              "<table border=\"1\" class=\"dataframe\">\n",
              "  <thead>\n",
              "    <tr style=\"text-align: right;\">\n",
              "      <th></th>\n",
              "      <th>ID</th>\n",
              "      <th>Name</th>\n",
              "      <th>Sex</th>\n",
              "      <th>Age</th>\n",
              "      <th>Height</th>\n",
              "      <th>Weight</th>\n",
              "      <th>Team</th>\n",
              "      <th>NOC</th>\n",
              "      <th>Games</th>\n",
              "      <th>Year</th>\n",
              "      <th>Season</th>\n",
              "      <th>City</th>\n",
              "      <th>Sport</th>\n",
              "      <th>Event</th>\n",
              "      <th>Medal</th>\n",
              "      <th>Region</th>\n",
              "      <th>Notes</th>\n",
              "    </tr>\n",
              "  </thead>\n",
              "  <tbody>\n",
              "    <tr>\n",
              "      <th>3</th>\n",
              "      <td>4</td>\n",
              "      <td>Edgar Lindenau Aabye</td>\n",
              "      <td>M</td>\n",
              "      <td>34.0</td>\n",
              "      <td>175.0</td>\n",
              "      <td>70.0</td>\n",
              "      <td>Denmark/Sweden</td>\n",
              "      <td>DEN</td>\n",
              "      <td>1900 Summer</td>\n",
              "      <td>1900</td>\n",
              "      <td>Summer</td>\n",
              "      <td>Paris</td>\n",
              "      <td>Tug-Of-War</td>\n",
              "      <td>Tug-Of-War Men's Tug-Of-War</td>\n",
              "      <td>Gold</td>\n",
              "      <td>Denmark</td>\n",
              "      <td>NaN</td>\n",
              "    </tr>\n",
              "    <tr>\n",
              "      <th>42</th>\n",
              "      <td>17</td>\n",
              "      <td>Paavo Johannes Aaltonen</td>\n",
              "      <td>M</td>\n",
              "      <td>28.0</td>\n",
              "      <td>175.0</td>\n",
              "      <td>64.0</td>\n",
              "      <td>Finland</td>\n",
              "      <td>FIN</td>\n",
              "      <td>1948 Summer</td>\n",
              "      <td>1948</td>\n",
              "      <td>Summer</td>\n",
              "      <td>London</td>\n",
              "      <td>Gymnastics</td>\n",
              "      <td>Gymnastics Men's Team All-Around</td>\n",
              "      <td>Gold</td>\n",
              "      <td>Finland</td>\n",
              "      <td>NaN</td>\n",
              "    </tr>\n",
              "    <tr>\n",
              "      <th>44</th>\n",
              "      <td>17</td>\n",
              "      <td>Paavo Johannes Aaltonen</td>\n",
              "      <td>M</td>\n",
              "      <td>28.0</td>\n",
              "      <td>175.0</td>\n",
              "      <td>64.0</td>\n",
              "      <td>Finland</td>\n",
              "      <td>FIN</td>\n",
              "      <td>1948 Summer</td>\n",
              "      <td>1948</td>\n",
              "      <td>Summer</td>\n",
              "      <td>London</td>\n",
              "      <td>Gymnastics</td>\n",
              "      <td>Gymnastics Men's Horse Vault</td>\n",
              "      <td>Gold</td>\n",
              "      <td>Finland</td>\n",
              "      <td>NaN</td>\n",
              "    </tr>\n",
              "    <tr>\n",
              "      <th>48</th>\n",
              "      <td>17</td>\n",
              "      <td>Paavo Johannes Aaltonen</td>\n",
              "      <td>M</td>\n",
              "      <td>28.0</td>\n",
              "      <td>175.0</td>\n",
              "      <td>64.0</td>\n",
              "      <td>Finland</td>\n",
              "      <td>FIN</td>\n",
              "      <td>1948 Summer</td>\n",
              "      <td>1948</td>\n",
              "      <td>Summer</td>\n",
              "      <td>London</td>\n",
              "      <td>Gymnastics</td>\n",
              "      <td>Gymnastics Men's Pommelled Horse</td>\n",
              "      <td>Gold</td>\n",
              "      <td>Finland</td>\n",
              "      <td>NaN</td>\n",
              "    </tr>\n",
              "    <tr>\n",
              "      <th>60</th>\n",
              "      <td>20</td>\n",
              "      <td>Kjetil Andr Aamodt</td>\n",
              "      <td>M</td>\n",
              "      <td>20.0</td>\n",
              "      <td>176.0</td>\n",
              "      <td>85.0</td>\n",
              "      <td>Norway</td>\n",
              "      <td>NOR</td>\n",
              "      <td>1992 Winter</td>\n",
              "      <td>1992</td>\n",
              "      <td>Winter</td>\n",
              "      <td>Albertville</td>\n",
              "      <td>Alpine Skiing</td>\n",
              "      <td>Alpine Skiing Men's Super G</td>\n",
              "      <td>Gold</td>\n",
              "      <td>Norway</td>\n",
              "      <td>NaN</td>\n",
              "    </tr>\n",
              "    <tr>\n",
              "      <th>...</th>\n",
              "      <td>...</td>\n",
              "      <td>...</td>\n",
              "      <td>...</td>\n",
              "      <td>...</td>\n",
              "      <td>...</td>\n",
              "      <td>...</td>\n",
              "      <td>...</td>\n",
              "      <td>...</td>\n",
              "      <td>...</td>\n",
              "      <td>...</td>\n",
              "      <td>...</td>\n",
              "      <td>...</td>\n",
              "      <td>...</td>\n",
              "      <td>...</td>\n",
              "      <td>...</td>\n",
              "      <td>...</td>\n",
              "      <td>...</td>\n",
              "    </tr>\n",
              "    <tr>\n",
              "      <th>270981</th>\n",
              "      <td>135503</td>\n",
              "      <td>Zurab Zviadauri</td>\n",
              "      <td>M</td>\n",
              "      <td>23.0</td>\n",
              "      <td>182.0</td>\n",
              "      <td>90.0</td>\n",
              "      <td>Georgia</td>\n",
              "      <td>GEO</td>\n",
              "      <td>2004 Summer</td>\n",
              "      <td>2004</td>\n",
              "      <td>Summer</td>\n",
              "      <td>Athina</td>\n",
              "      <td>Judo</td>\n",
              "      <td>Judo Men's Middleweight</td>\n",
              "      <td>Gold</td>\n",
              "      <td>Georgia</td>\n",
              "      <td>NaN</td>\n",
              "    </tr>\n",
              "    <tr>\n",
              "      <th>271009</th>\n",
              "      <td>135520</td>\n",
              "      <td>Julia Zwehl</td>\n",
              "      <td>F</td>\n",
              "      <td>28.0</td>\n",
              "      <td>167.0</td>\n",
              "      <td>60.0</td>\n",
              "      <td>Germany</td>\n",
              "      <td>GER</td>\n",
              "      <td>2004 Summer</td>\n",
              "      <td>2004</td>\n",
              "      <td>Summer</td>\n",
              "      <td>Athina</td>\n",
              "      <td>Hockey</td>\n",
              "      <td>Hockey Women's Hockey</td>\n",
              "      <td>Gold</td>\n",
              "      <td>Germany</td>\n",
              "      <td>NaN</td>\n",
              "    </tr>\n",
              "    <tr>\n",
              "      <th>271016</th>\n",
              "      <td>135523</td>\n",
              "      <td>Ronald Ferdinand \"Ron\" Zwerver</td>\n",
              "      <td>M</td>\n",
              "      <td>29.0</td>\n",
              "      <td>200.0</td>\n",
              "      <td>93.0</td>\n",
              "      <td>Netherlands</td>\n",
              "      <td>NED</td>\n",
              "      <td>1996 Summer</td>\n",
              "      <td>1996</td>\n",
              "      <td>Summer</td>\n",
              "      <td>Atlanta</td>\n",
              "      <td>Volleyball</td>\n",
              "      <td>Volleyball Men's Volleyball</td>\n",
              "      <td>Gold</td>\n",
              "      <td>Netherlands</td>\n",
              "      <td>NaN</td>\n",
              "    </tr>\n",
              "    <tr>\n",
              "      <th>271049</th>\n",
              "      <td>135545</td>\n",
              "      <td>Henk Jan Zwolle</td>\n",
              "      <td>M</td>\n",
              "      <td>31.0</td>\n",
              "      <td>197.0</td>\n",
              "      <td>93.0</td>\n",
              "      <td>Netherlands</td>\n",
              "      <td>NED</td>\n",
              "      <td>1996 Summer</td>\n",
              "      <td>1996</td>\n",
              "      <td>Summer</td>\n",
              "      <td>Atlanta</td>\n",
              "      <td>Rowing</td>\n",
              "      <td>Rowing Men's Coxed Eights</td>\n",
              "      <td>Gold</td>\n",
              "      <td>Netherlands</td>\n",
              "      <td>NaN</td>\n",
              "    </tr>\n",
              "    <tr>\n",
              "      <th>271076</th>\n",
              "      <td>135553</td>\n",
              "      <td>Galina Ivanovna Zybina (-Fyodorova)</td>\n",
              "      <td>F</td>\n",
              "      <td>21.0</td>\n",
              "      <td>168.0</td>\n",
              "      <td>80.0</td>\n",
              "      <td>Soviet Union</td>\n",
              "      <td>URS</td>\n",
              "      <td>1952 Summer</td>\n",
              "      <td>1952</td>\n",
              "      <td>Summer</td>\n",
              "      <td>Helsinki</td>\n",
              "      <td>Athletics</td>\n",
              "      <td>Athletics Women's Shot Put</td>\n",
              "      <td>Gold</td>\n",
              "      <td>Russia</td>\n",
              "      <td>NaN</td>\n",
              "    </tr>\n",
              "  </tbody>\n",
              "</table>\n",
              "<p>13372 rows × 17 columns</p>\n",
              "</div>\n",
              "      <button class=\"colab-df-convert\" onclick=\"convertToInteractive('df-fb73b4de-bf0b-48df-9833-adbcdd2de38f')\"\n",
              "              title=\"Convert this dataframe to an interactive table.\"\n",
              "              style=\"display:none;\">\n",
              "        \n",
              "  <svg xmlns=\"http://www.w3.org/2000/svg\" height=\"24px\"viewBox=\"0 0 24 24\"\n",
              "       width=\"24px\">\n",
              "    <path d=\"M0 0h24v24H0V0z\" fill=\"none\"/>\n",
              "    <path d=\"M18.56 5.44l.94 2.06.94-2.06 2.06-.94-2.06-.94-.94-2.06-.94 2.06-2.06.94zm-11 1L8.5 8.5l.94-2.06 2.06-.94-2.06-.94L8.5 2.5l-.94 2.06-2.06.94zm10 10l.94 2.06.94-2.06 2.06-.94-2.06-.94-.94-2.06-.94 2.06-2.06.94z\"/><path d=\"M17.41 7.96l-1.37-1.37c-.4-.4-.92-.59-1.43-.59-.52 0-1.04.2-1.43.59L10.3 9.45l-7.72 7.72c-.78.78-.78 2.05 0 2.83L4 21.41c.39.39.9.59 1.41.59.51 0 1.02-.2 1.41-.59l7.78-7.78 2.81-2.81c.8-.78.8-2.07 0-2.86zM5.41 20L4 18.59l7.72-7.72 1.47 1.35L5.41 20z\"/>\n",
              "  </svg>\n",
              "      </button>\n",
              "      \n",
              "  <style>\n",
              "    .colab-df-container {\n",
              "      display:flex;\n",
              "      flex-wrap:wrap;\n",
              "      gap: 12px;\n",
              "    }\n",
              "\n",
              "    .colab-df-convert {\n",
              "      background-color: #E8F0FE;\n",
              "      border: none;\n",
              "      border-radius: 50%;\n",
              "      cursor: pointer;\n",
              "      display: none;\n",
              "      fill: #1967D2;\n",
              "      height: 32px;\n",
              "      padding: 0 0 0 0;\n",
              "      width: 32px;\n",
              "    }\n",
              "\n",
              "    .colab-df-convert:hover {\n",
              "      background-color: #E2EBFA;\n",
              "      box-shadow: 0px 1px 2px rgba(60, 64, 67, 0.3), 0px 1px 3px 1px rgba(60, 64, 67, 0.15);\n",
              "      fill: #174EA6;\n",
              "    }\n",
              "\n",
              "    [theme=dark] .colab-df-convert {\n",
              "      background-color: #3B4455;\n",
              "      fill: #D2E3FC;\n",
              "    }\n",
              "\n",
              "    [theme=dark] .colab-df-convert:hover {\n",
              "      background-color: #434B5C;\n",
              "      box-shadow: 0px 1px 3px 1px rgba(0, 0, 0, 0.15);\n",
              "      filter: drop-shadow(0px 1px 2px rgba(0, 0, 0, 0.3));\n",
              "      fill: #FFFFFF;\n",
              "    }\n",
              "  </style>\n",
              "\n",
              "      <script>\n",
              "        const buttonEl =\n",
              "          document.querySelector('#df-fb73b4de-bf0b-48df-9833-adbcdd2de38f button.colab-df-convert');\n",
              "        buttonEl.style.display =\n",
              "          google.colab.kernel.accessAllowed ? 'block' : 'none';\n",
              "\n",
              "        async function convertToInteractive(key) {\n",
              "          const element = document.querySelector('#df-fb73b4de-bf0b-48df-9833-adbcdd2de38f');\n",
              "          const dataTable =\n",
              "            await google.colab.kernel.invokeFunction('convertToInteractive',\n",
              "                                                     [key], {});\n",
              "          if (!dataTable) return;\n",
              "\n",
              "          const docLinkHtml = 'Like what you see? Visit the ' +\n",
              "            '<a target=\"_blank\" href=https://colab.research.google.com/notebooks/data_table.ipynb>data table notebook</a>'\n",
              "            + ' to learn more about interactive tables.';\n",
              "          element.innerHTML = '';\n",
              "          dataTable['output_type'] = 'display_data';\n",
              "          await google.colab.output.renderOutput(dataTable, element);\n",
              "          const docLink = document.createElement('div');\n",
              "          docLink.innerHTML = docLinkHtml;\n",
              "          element.appendChild(docLink);\n",
              "        }\n",
              "      </script>\n",
              "    </div>\n",
              "  </div>\n",
              "  "
            ]
          },
          "metadata": {},
          "execution_count": 47
        }
      ]
    },
    {
      "cell_type": "code",
      "source": [
        "#Top 5 Countries with highest gold medals\n",
        "totalGoldMedals = goldMedals.Region.value_counts().reset_index(name='Medal').head(6)\n",
        "plot = sns.catplot(x=\"index\", y = \"Medal\", data = totalGoldMedals, height =5, kind='bar', palette=\"Set3\")\n",
        "plot.despine(left = True)\n",
        "plot.set_xlabels(\"Top 5 Countries\")\n",
        "plot.set_ylabels(\"Number of Medals\")\n",
        "plt.title('Gold Medals per Country')"
      ],
      "metadata": {
        "id": "DFyf7Ix7VO6p",
        "colab": {
          "base_uri": "https://localhost:8080/",
          "height": 398
        },
        "outputId": "92efddfd-1b46-4ccb-ded3-0ac7d4bbd35d"
      },
      "id": "DFyf7Ix7VO6p",
      "execution_count": null,
      "outputs": [
        {
          "output_type": "execute_result",
          "data": {
            "text/plain": [
              "Text(0.5, 1.0, 'Gold Medals per Country')"
            ]
          },
          "metadata": {},
          "execution_count": 48
        },
        {
          "output_type": "display_data",
          "data": {
            "text/plain": [
              "<Figure size 360x360 with 1 Axes>"
            ],
            "image/png": "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\n"
          },
          "metadata": {}
        }
      ]
    },
    {
      "cell_type": "code",
      "source": [
        "athlete_merged.head()"
      ],
      "metadata": {
        "id": "HNXXNI0NVQru",
        "colab": {
          "base_uri": "https://localhost:8080/",
          "height": 424
        },
        "outputId": "abeab7af-eca5-44ff-f8eb-a2dad554a281"
      },
      "id": "HNXXNI0NVQru",
      "execution_count": null,
      "outputs": [
        {
          "output_type": "execute_result",
          "data": {
            "text/plain": [
              "   ID                      Name Sex   Age  Height  Weight            Team  \\\n",
              "0   1                 A Dijiang   M  24.0   180.0    80.0           China   \n",
              "1   2                  A Lamusi   M  23.0   170.0    60.0           China   \n",
              "2   3       Gunnar Nielsen Aaby   M  24.0   175.0    70.0         Denmark   \n",
              "3   4      Edgar Lindenau Aabye   M  34.0   175.0    70.0  Denmark/Sweden   \n",
              "4   5  Christine Jacoba Aaftink   F  21.0   185.0    82.0     Netherlands   \n",
              "\n",
              "   NOC        Games  Year  Season       City          Sport  \\\n",
              "0  CHN  1992 Summer  1992  Summer  Barcelona     Basketball   \n",
              "1  CHN  2012 Summer  2012  Summer     London           Judo   \n",
              "2  DEN  1920 Summer  1920  Summer  Antwerpen       Football   \n",
              "3  DEN  1900 Summer  1900  Summer      Paris     Tug-Of-War   \n",
              "4  NED  1988 Winter  1988  Winter    Calgary  Speed Skating   \n",
              "\n",
              "                              Event Medal       Region Notes  \n",
              "0       Basketball Men's Basketball   NaN        China   NaN  \n",
              "1      Judo Men's Extra-Lightweight   NaN        China   NaN  \n",
              "2           Football Men's Football   NaN      Denmark   NaN  \n",
              "3       Tug-Of-War Men's Tug-Of-War  Gold      Denmark   NaN  \n",
              "4  Speed Skating Women's 500 metres   NaN  Netherlands   NaN  "
            ],
            "text/html": [
              "\n",
              "  <div id=\"df-979edd8b-79cc-4e38-891f-cf60bdd82165\">\n",
              "    <div class=\"colab-df-container\">\n",
              "      <div>\n",
              "<style scoped>\n",
              "    .dataframe tbody tr th:only-of-type {\n",
              "        vertical-align: middle;\n",
              "    }\n",
              "\n",
              "    .dataframe tbody tr th {\n",
              "        vertical-align: top;\n",
              "    }\n",
              "\n",
              "    .dataframe thead th {\n",
              "        text-align: right;\n",
              "    }\n",
              "</style>\n",
              "<table border=\"1\" class=\"dataframe\">\n",
              "  <thead>\n",
              "    <tr style=\"text-align: right;\">\n",
              "      <th></th>\n",
              "      <th>ID</th>\n",
              "      <th>Name</th>\n",
              "      <th>Sex</th>\n",
              "      <th>Age</th>\n",
              "      <th>Height</th>\n",
              "      <th>Weight</th>\n",
              "      <th>Team</th>\n",
              "      <th>NOC</th>\n",
              "      <th>Games</th>\n",
              "      <th>Year</th>\n",
              "      <th>Season</th>\n",
              "      <th>City</th>\n",
              "      <th>Sport</th>\n",
              "      <th>Event</th>\n",
              "      <th>Medal</th>\n",
              "      <th>Region</th>\n",
              "      <th>Notes</th>\n",
              "    </tr>\n",
              "  </thead>\n",
              "  <tbody>\n",
              "    <tr>\n",
              "      <th>0</th>\n",
              "      <td>1</td>\n",
              "      <td>A Dijiang</td>\n",
              "      <td>M</td>\n",
              "      <td>24.0</td>\n",
              "      <td>180.0</td>\n",
              "      <td>80.0</td>\n",
              "      <td>China</td>\n",
              "      <td>CHN</td>\n",
              "      <td>1992 Summer</td>\n",
              "      <td>1992</td>\n",
              "      <td>Summer</td>\n",
              "      <td>Barcelona</td>\n",
              "      <td>Basketball</td>\n",
              "      <td>Basketball Men's Basketball</td>\n",
              "      <td>NaN</td>\n",
              "      <td>China</td>\n",
              "      <td>NaN</td>\n",
              "    </tr>\n",
              "    <tr>\n",
              "      <th>1</th>\n",
              "      <td>2</td>\n",
              "      <td>A Lamusi</td>\n",
              "      <td>M</td>\n",
              "      <td>23.0</td>\n",
              "      <td>170.0</td>\n",
              "      <td>60.0</td>\n",
              "      <td>China</td>\n",
              "      <td>CHN</td>\n",
              "      <td>2012 Summer</td>\n",
              "      <td>2012</td>\n",
              "      <td>Summer</td>\n",
              "      <td>London</td>\n",
              "      <td>Judo</td>\n",
              "      <td>Judo Men's Extra-Lightweight</td>\n",
              "      <td>NaN</td>\n",
              "      <td>China</td>\n",
              "      <td>NaN</td>\n",
              "    </tr>\n",
              "    <tr>\n",
              "      <th>2</th>\n",
              "      <td>3</td>\n",
              "      <td>Gunnar Nielsen Aaby</td>\n",
              "      <td>M</td>\n",
              "      <td>24.0</td>\n",
              "      <td>175.0</td>\n",
              "      <td>70.0</td>\n",
              "      <td>Denmark</td>\n",
              "      <td>DEN</td>\n",
              "      <td>1920 Summer</td>\n",
              "      <td>1920</td>\n",
              "      <td>Summer</td>\n",
              "      <td>Antwerpen</td>\n",
              "      <td>Football</td>\n",
              "      <td>Football Men's Football</td>\n",
              "      <td>NaN</td>\n",
              "      <td>Denmark</td>\n",
              "      <td>NaN</td>\n",
              "    </tr>\n",
              "    <tr>\n",
              "      <th>3</th>\n",
              "      <td>4</td>\n",
              "      <td>Edgar Lindenau Aabye</td>\n",
              "      <td>M</td>\n",
              "      <td>34.0</td>\n",
              "      <td>175.0</td>\n",
              "      <td>70.0</td>\n",
              "      <td>Denmark/Sweden</td>\n",
              "      <td>DEN</td>\n",
              "      <td>1900 Summer</td>\n",
              "      <td>1900</td>\n",
              "      <td>Summer</td>\n",
              "      <td>Paris</td>\n",
              "      <td>Tug-Of-War</td>\n",
              "      <td>Tug-Of-War Men's Tug-Of-War</td>\n",
              "      <td>Gold</td>\n",
              "      <td>Denmark</td>\n",
              "      <td>NaN</td>\n",
              "    </tr>\n",
              "    <tr>\n",
              "      <th>4</th>\n",
              "      <td>5</td>\n",
              "      <td>Christine Jacoba Aaftink</td>\n",
              "      <td>F</td>\n",
              "      <td>21.0</td>\n",
              "      <td>185.0</td>\n",
              "      <td>82.0</td>\n",
              "      <td>Netherlands</td>\n",
              "      <td>NED</td>\n",
              "      <td>1988 Winter</td>\n",
              "      <td>1988</td>\n",
              "      <td>Winter</td>\n",
              "      <td>Calgary</td>\n",
              "      <td>Speed Skating</td>\n",
              "      <td>Speed Skating Women's 500 metres</td>\n",
              "      <td>NaN</td>\n",
              "      <td>Netherlands</td>\n",
              "      <td>NaN</td>\n",
              "    </tr>\n",
              "  </tbody>\n",
              "</table>\n",
              "</div>\n",
              "      <button class=\"colab-df-convert\" onclick=\"convertToInteractive('df-979edd8b-79cc-4e38-891f-cf60bdd82165')\"\n",
              "              title=\"Convert this dataframe to an interactive table.\"\n",
              "              style=\"display:none;\">\n",
              "        \n",
              "  <svg xmlns=\"http://www.w3.org/2000/svg\" height=\"24px\"viewBox=\"0 0 24 24\"\n",
              "       width=\"24px\">\n",
              "    <path d=\"M0 0h24v24H0V0z\" fill=\"none\"/>\n",
              "    <path d=\"M18.56 5.44l.94 2.06.94-2.06 2.06-.94-2.06-.94-.94-2.06-.94 2.06-2.06.94zm-11 1L8.5 8.5l.94-2.06 2.06-.94-2.06-.94L8.5 2.5l-.94 2.06-2.06.94zm10 10l.94 2.06.94-2.06 2.06-.94-2.06-.94-.94-2.06-.94 2.06-2.06.94z\"/><path d=\"M17.41 7.96l-1.37-1.37c-.4-.4-.92-.59-1.43-.59-.52 0-1.04.2-1.43.59L10.3 9.45l-7.72 7.72c-.78.78-.78 2.05 0 2.83L4 21.41c.39.39.9.59 1.41.59.51 0 1.02-.2 1.41-.59l7.78-7.78 2.81-2.81c.8-.78.8-2.07 0-2.86zM5.41 20L4 18.59l7.72-7.72 1.47 1.35L5.41 20z\"/>\n",
              "  </svg>\n",
              "      </button>\n",
              "      \n",
              "  <style>\n",
              "    .colab-df-container {\n",
              "      display:flex;\n",
              "      flex-wrap:wrap;\n",
              "      gap: 12px;\n",
              "    }\n",
              "\n",
              "    .colab-df-convert {\n",
              "      background-color: #E8F0FE;\n",
              "      border: none;\n",
              "      border-radius: 50%;\n",
              "      cursor: pointer;\n",
              "      display: none;\n",
              "      fill: #1967D2;\n",
              "      height: 32px;\n",
              "      padding: 0 0 0 0;\n",
              "      width: 32px;\n",
              "    }\n",
              "\n",
              "    .colab-df-convert:hover {\n",
              "      background-color: #E2EBFA;\n",
              "      box-shadow: 0px 1px 2px rgba(60, 64, 67, 0.3), 0px 1px 3px 1px rgba(60, 64, 67, 0.15);\n",
              "      fill: #174EA6;\n",
              "    }\n",
              "\n",
              "    [theme=dark] .colab-df-convert {\n",
              "      background-color: #3B4455;\n",
              "      fill: #D2E3FC;\n",
              "    }\n",
              "\n",
              "    [theme=dark] .colab-df-convert:hover {\n",
              "      background-color: #434B5C;\n",
              "      box-shadow: 0px 1px 3px 1px rgba(0, 0, 0, 0.15);\n",
              "      filter: drop-shadow(0px 1px 2px rgba(0, 0, 0, 0.3));\n",
              "      fill: #FFFFFF;\n",
              "    }\n",
              "  </style>\n",
              "\n",
              "      <script>\n",
              "        const buttonEl =\n",
              "          document.querySelector('#df-979edd8b-79cc-4e38-891f-cf60bdd82165 button.colab-df-convert');\n",
              "        buttonEl.style.display =\n",
              "          google.colab.kernel.accessAllowed ? 'block' : 'none';\n",
              "\n",
              "        async function convertToInteractive(key) {\n",
              "          const element = document.querySelector('#df-979edd8b-79cc-4e38-891f-cf60bdd82165');\n",
              "          const dataTable =\n",
              "            await google.colab.kernel.invokeFunction('convertToInteractive',\n",
              "                                                     [key], {});\n",
              "          if (!dataTable) return;\n",
              "\n",
              "          const docLinkHtml = 'Like what you see? Visit the ' +\n",
              "            '<a target=\"_blank\" href=https://colab.research.google.com/notebooks/data_table.ipynb>data table notebook</a>'\n",
              "            + ' to learn more about interactive tables.';\n",
              "          element.innerHTML = '';\n",
              "          dataTable['output_type'] = 'display_data';\n",
              "          await google.colab.output.renderOutput(dataTable, element);\n",
              "          const docLink = document.createElement('div');\n",
              "          docLink.innerHTML = docLinkHtml;\n",
              "          element.appendChild(docLink);\n",
              "        }\n",
              "      </script>\n",
              "    </div>\n",
              "  </div>\n",
              "  "
            ]
          },
          "metadata": {},
          "execution_count": 49
        }
      ]
    },
    {
      "cell_type": "code",
      "source": [
        "#As there are 98% of null values we can drop this column\n",
        "del athlete_merged['Notes']"
      ],
      "metadata": {
        "id": "0f1sqIFfnerX"
      },
      "id": "0f1sqIFfnerX",
      "execution_count": null,
      "outputs": []
    },
    {
      "cell_type": "code",
      "source": [
        "athlete_merged['Region'].isna().value_counts()"
      ],
      "metadata": {
        "id": "SxbaSN-pnk1X",
        "colab": {
          "base_uri": "https://localhost:8080/"
        },
        "outputId": "a97d68a7-d758-4844-a648-eb017c22af0e"
      },
      "id": "SxbaSN-pnk1X",
      "execution_count": null,
      "outputs": [
        {
          "output_type": "execute_result",
          "data": {
            "text/plain": [
              "False    270746\n",
              "True        370\n",
              "Name: Region, dtype: int64"
            ]
          },
          "metadata": {},
          "execution_count": 51
        }
      ]
    },
    {
      "cell_type": "code",
      "source": [
        "#ID and Name are the attributes which doesn't contribute a lot for prediction so dropped those columns\n",
        "#Data present Game,Sport and Region and found in other columns so we can drop them.\n",
        "athlete_merged.drop([\"ID\",\"Name\",\"Games\",\"Sport\",\"Region\"],axis=1,inplace=True)\n",
        "athlete_merged.head()\n"
      ],
      "metadata": {
        "id": "5YIQcNpWnsYl",
        "colab": {
          "base_uri": "https://localhost:8080/",
          "height": 206
        },
        "outputId": "bab22cd5-3f02-4ff4-bc3c-f1ce085f2155"
      },
      "id": "5YIQcNpWnsYl",
      "execution_count": null,
      "outputs": [
        {
          "output_type": "execute_result",
          "data": {
            "text/plain": [
              "  Sex   Age  Height  Weight            Team  NOC  Year  Season       City  \\\n",
              "0   M  24.0   180.0    80.0           China  CHN  1992  Summer  Barcelona   \n",
              "1   M  23.0   170.0    60.0           China  CHN  2012  Summer     London   \n",
              "2   M  24.0   175.0    70.0         Denmark  DEN  1920  Summer  Antwerpen   \n",
              "3   M  34.0   175.0    70.0  Denmark/Sweden  DEN  1900  Summer      Paris   \n",
              "4   F  21.0   185.0    82.0     Netherlands  NED  1988  Winter    Calgary   \n",
              "\n",
              "                              Event Medal  \n",
              "0       Basketball Men's Basketball   NaN  \n",
              "1      Judo Men's Extra-Lightweight   NaN  \n",
              "2           Football Men's Football   NaN  \n",
              "3       Tug-Of-War Men's Tug-Of-War  Gold  \n",
              "4  Speed Skating Women's 500 metres   NaN  "
            ],
            "text/html": [
              "\n",
              "  <div id=\"df-42d33a8d-f6cc-4fe6-a98d-10b692a708ac\">\n",
              "    <div class=\"colab-df-container\">\n",
              "      <div>\n",
              "<style scoped>\n",
              "    .dataframe tbody tr th:only-of-type {\n",
              "        vertical-align: middle;\n",
              "    }\n",
              "\n",
              "    .dataframe tbody tr th {\n",
              "        vertical-align: top;\n",
              "    }\n",
              "\n",
              "    .dataframe thead th {\n",
              "        text-align: right;\n",
              "    }\n",
              "</style>\n",
              "<table border=\"1\" class=\"dataframe\">\n",
              "  <thead>\n",
              "    <tr style=\"text-align: right;\">\n",
              "      <th></th>\n",
              "      <th>Sex</th>\n",
              "      <th>Age</th>\n",
              "      <th>Height</th>\n",
              "      <th>Weight</th>\n",
              "      <th>Team</th>\n",
              "      <th>NOC</th>\n",
              "      <th>Year</th>\n",
              "      <th>Season</th>\n",
              "      <th>City</th>\n",
              "      <th>Event</th>\n",
              "      <th>Medal</th>\n",
              "    </tr>\n",
              "  </thead>\n",
              "  <tbody>\n",
              "    <tr>\n",
              "      <th>0</th>\n",
              "      <td>M</td>\n",
              "      <td>24.0</td>\n",
              "      <td>180.0</td>\n",
              "      <td>80.0</td>\n",
              "      <td>China</td>\n",
              "      <td>CHN</td>\n",
              "      <td>1992</td>\n",
              "      <td>Summer</td>\n",
              "      <td>Barcelona</td>\n",
              "      <td>Basketball Men's Basketball</td>\n",
              "      <td>NaN</td>\n",
              "    </tr>\n",
              "    <tr>\n",
              "      <th>1</th>\n",
              "      <td>M</td>\n",
              "      <td>23.0</td>\n",
              "      <td>170.0</td>\n",
              "      <td>60.0</td>\n",
              "      <td>China</td>\n",
              "      <td>CHN</td>\n",
              "      <td>2012</td>\n",
              "      <td>Summer</td>\n",
              "      <td>London</td>\n",
              "      <td>Judo Men's Extra-Lightweight</td>\n",
              "      <td>NaN</td>\n",
              "    </tr>\n",
              "    <tr>\n",
              "      <th>2</th>\n",
              "      <td>M</td>\n",
              "      <td>24.0</td>\n",
              "      <td>175.0</td>\n",
              "      <td>70.0</td>\n",
              "      <td>Denmark</td>\n",
              "      <td>DEN</td>\n",
              "      <td>1920</td>\n",
              "      <td>Summer</td>\n",
              "      <td>Antwerpen</td>\n",
              "      <td>Football Men's Football</td>\n",
              "      <td>NaN</td>\n",
              "    </tr>\n",
              "    <tr>\n",
              "      <th>3</th>\n",
              "      <td>M</td>\n",
              "      <td>34.0</td>\n",
              "      <td>175.0</td>\n",
              "      <td>70.0</td>\n",
              "      <td>Denmark/Sweden</td>\n",
              "      <td>DEN</td>\n",
              "      <td>1900</td>\n",
              "      <td>Summer</td>\n",
              "      <td>Paris</td>\n",
              "      <td>Tug-Of-War Men's Tug-Of-War</td>\n",
              "      <td>Gold</td>\n",
              "    </tr>\n",
              "    <tr>\n",
              "      <th>4</th>\n",
              "      <td>F</td>\n",
              "      <td>21.0</td>\n",
              "      <td>185.0</td>\n",
              "      <td>82.0</td>\n",
              "      <td>Netherlands</td>\n",
              "      <td>NED</td>\n",
              "      <td>1988</td>\n",
              "      <td>Winter</td>\n",
              "      <td>Calgary</td>\n",
              "      <td>Speed Skating Women's 500 metres</td>\n",
              "      <td>NaN</td>\n",
              "    </tr>\n",
              "  </tbody>\n",
              "</table>\n",
              "</div>\n",
              "      <button class=\"colab-df-convert\" onclick=\"convertToInteractive('df-42d33a8d-f6cc-4fe6-a98d-10b692a708ac')\"\n",
              "              title=\"Convert this dataframe to an interactive table.\"\n",
              "              style=\"display:none;\">\n",
              "        \n",
              "  <svg xmlns=\"http://www.w3.org/2000/svg\" height=\"24px\"viewBox=\"0 0 24 24\"\n",
              "       width=\"24px\">\n",
              "    <path d=\"M0 0h24v24H0V0z\" fill=\"none\"/>\n",
              "    <path d=\"M18.56 5.44l.94 2.06.94-2.06 2.06-.94-2.06-.94-.94-2.06-.94 2.06-2.06.94zm-11 1L8.5 8.5l.94-2.06 2.06-.94-2.06-.94L8.5 2.5l-.94 2.06-2.06.94zm10 10l.94 2.06.94-2.06 2.06-.94-2.06-.94-.94-2.06-.94 2.06-2.06.94z\"/><path d=\"M17.41 7.96l-1.37-1.37c-.4-.4-.92-.59-1.43-.59-.52 0-1.04.2-1.43.59L10.3 9.45l-7.72 7.72c-.78.78-.78 2.05 0 2.83L4 21.41c.39.39.9.59 1.41.59.51 0 1.02-.2 1.41-.59l7.78-7.78 2.81-2.81c.8-.78.8-2.07 0-2.86zM5.41 20L4 18.59l7.72-7.72 1.47 1.35L5.41 20z\"/>\n",
              "  </svg>\n",
              "      </button>\n",
              "      \n",
              "  <style>\n",
              "    .colab-df-container {\n",
              "      display:flex;\n",
              "      flex-wrap:wrap;\n",
              "      gap: 12px;\n",
              "    }\n",
              "\n",
              "    .colab-df-convert {\n",
              "      background-color: #E8F0FE;\n",
              "      border: none;\n",
              "      border-radius: 50%;\n",
              "      cursor: pointer;\n",
              "      display: none;\n",
              "      fill: #1967D2;\n",
              "      height: 32px;\n",
              "      padding: 0 0 0 0;\n",
              "      width: 32px;\n",
              "    }\n",
              "\n",
              "    .colab-df-convert:hover {\n",
              "      background-color: #E2EBFA;\n",
              "      box-shadow: 0px 1px 2px rgba(60, 64, 67, 0.3), 0px 1px 3px 1px rgba(60, 64, 67, 0.15);\n",
              "      fill: #174EA6;\n",
              "    }\n",
              "\n",
              "    [theme=dark] .colab-df-convert {\n",
              "      background-color: #3B4455;\n",
              "      fill: #D2E3FC;\n",
              "    }\n",
              "\n",
              "    [theme=dark] .colab-df-convert:hover {\n",
              "      background-color: #434B5C;\n",
              "      box-shadow: 0px 1px 3px 1px rgba(0, 0, 0, 0.15);\n",
              "      filter: drop-shadow(0px 1px 2px rgba(0, 0, 0, 0.3));\n",
              "      fill: #FFFFFF;\n",
              "    }\n",
              "  </style>\n",
              "\n",
              "      <script>\n",
              "        const buttonEl =\n",
              "          document.querySelector('#df-42d33a8d-f6cc-4fe6-a98d-10b692a708ac button.colab-df-convert');\n",
              "        buttonEl.style.display =\n",
              "          google.colab.kernel.accessAllowed ? 'block' : 'none';\n",
              "\n",
              "        async function convertToInteractive(key) {\n",
              "          const element = document.querySelector('#df-42d33a8d-f6cc-4fe6-a98d-10b692a708ac');\n",
              "          const dataTable =\n",
              "            await google.colab.kernel.invokeFunction('convertToInteractive',\n",
              "                                                     [key], {});\n",
              "          if (!dataTable) return;\n",
              "\n",
              "          const docLinkHtml = 'Like what you see? Visit the ' +\n",
              "            '<a target=\"_blank\" href=https://colab.research.google.com/notebooks/data_table.ipynb>data table notebook</a>'\n",
              "            + ' to learn more about interactive tables.';\n",
              "          element.innerHTML = '';\n",
              "          dataTable['output_type'] = 'display_data';\n",
              "          await google.colab.output.renderOutput(dataTable, element);\n",
              "          const docLink = document.createElement('div');\n",
              "          docLink.innerHTML = docLinkHtml;\n",
              "          element.appendChild(docLink);\n",
              "        }\n",
              "      </script>\n",
              "    </div>\n",
              "  </div>\n",
              "  "
            ]
          },
          "metadata": {},
          "execution_count": 52
        }
      ]
    },
    {
      "cell_type": "code",
      "source": [
        "# Filling Nuls with NO as they represent no medal \n",
        "athlete_merged['Medal'].fillna(\"No\",inplace=True)"
      ],
      "metadata": {
        "id": "eipLd3pstrdw"
      },
      "id": "eipLd3pstrdw",
      "execution_count": null,
      "outputs": []
    },
    {
      "cell_type": "code",
      "source": [
        "from sklearn.ensemble import RandomForestRegressor\n",
        "from sklearn.model_selection import train_test_split\n",
        "from sklearn.feature_selection import RFECV\n",
        "import matplotlib.pyplot as plt"
      ],
      "metadata": {
        "id": "UHJcvdqboDOq"
      },
      "id": "UHJcvdqboDOq",
      "execution_count": null,
      "outputs": []
    },
    {
      "cell_type": "code",
      "source": [
        "athlete_merged['Medal'].value_counts()"
      ],
      "metadata": {
        "id": "qUXYk3WUp4ld",
        "colab": {
          "base_uri": "https://localhost:8080/"
        },
        "outputId": "ae439d0c-8629-4a0a-91d0-9ea14b5d7379"
      },
      "id": "qUXYk3WUp4ld",
      "execution_count": null,
      "outputs": [
        {
          "output_type": "execute_result",
          "data": {
            "text/plain": [
              "No        231333\n",
              "Gold       13372\n",
              "Bronze     13295\n",
              "Silver     13116\n",
              "Name: Medal, dtype: int64"
            ]
          },
          "metadata": {},
          "execution_count": 55
        }
      ]
    },
    {
      "cell_type": "code",
      "source": [
        "medal_types=['No','Bronze','Silver','Gold']"
      ],
      "metadata": {
        "id": "X0TnmTIQuTnh"
      },
      "id": "X0TnmTIQuTnh",
      "execution_count": null,
      "outputs": []
    },
    {
      "cell_type": "code",
      "source": [
        "from sklearn.preprocessing import OrdinalEncoder\n",
        "ordi=OrdinalEncoder(categories=[medal_types])\n",
        "ordi.fit(athlete_merged[['Medal']])\n",
        "athlete_merged['Medal']=pd.DataFrame(ordi.transform(athlete_merged[['Medal']]))"
      ],
      "metadata": {
        "id": "U8dSeXXcytMs"
      },
      "id": "U8dSeXXcytMs",
      "execution_count": null,
      "outputs": []
    },
    {
      "cell_type": "code",
      "source": [
        "athlete_merged['Medal'].value_counts()"
      ],
      "metadata": {
        "id": "-l8NLs-Wz0PD",
        "colab": {
          "base_uri": "https://localhost:8080/"
        },
        "outputId": "dc184f00-4924-441e-c7e4-dd728b896e93"
      },
      "id": "-l8NLs-Wz0PD",
      "execution_count": null,
      "outputs": [
        {
          "output_type": "execute_result",
          "data": {
            "text/plain": [
              "0.0    231333\n",
              "3.0     13372\n",
              "1.0     13295\n",
              "2.0     13116\n",
              "Name: Medal, dtype: int64"
            ]
          },
          "metadata": {},
          "execution_count": 58
        }
      ]
    },
    {
      "cell_type": "code",
      "source": [
        "athlete_merged.head()"
      ],
      "metadata": {
        "id": "c5T3mruT0KlX",
        "colab": {
          "base_uri": "https://localhost:8080/",
          "height": 206
        },
        "outputId": "e9c65216-58ec-441b-8635-ecae6c7fc068"
      },
      "id": "c5T3mruT0KlX",
      "execution_count": null,
      "outputs": [
        {
          "output_type": "execute_result",
          "data": {
            "text/plain": [
              "  Sex   Age  Height  Weight            Team  NOC  Year  Season       City  \\\n",
              "0   M  24.0   180.0    80.0           China  CHN  1992  Summer  Barcelona   \n",
              "1   M  23.0   170.0    60.0           China  CHN  2012  Summer     London   \n",
              "2   M  24.0   175.0    70.0         Denmark  DEN  1920  Summer  Antwerpen   \n",
              "3   M  34.0   175.0    70.0  Denmark/Sweden  DEN  1900  Summer      Paris   \n",
              "4   F  21.0   185.0    82.0     Netherlands  NED  1988  Winter    Calgary   \n",
              "\n",
              "                              Event  Medal  \n",
              "0       Basketball Men's Basketball    0.0  \n",
              "1      Judo Men's Extra-Lightweight    0.0  \n",
              "2           Football Men's Football    0.0  \n",
              "3       Tug-Of-War Men's Tug-Of-War    3.0  \n",
              "4  Speed Skating Women's 500 metres    0.0  "
            ],
            "text/html": [
              "\n",
              "  <div id=\"df-7042e8a1-01a4-4066-bee2-714da5ae25ee\">\n",
              "    <div class=\"colab-df-container\">\n",
              "      <div>\n",
              "<style scoped>\n",
              "    .dataframe tbody tr th:only-of-type {\n",
              "        vertical-align: middle;\n",
              "    }\n",
              "\n",
              "    .dataframe tbody tr th {\n",
              "        vertical-align: top;\n",
              "    }\n",
              "\n",
              "    .dataframe thead th {\n",
              "        text-align: right;\n",
              "    }\n",
              "</style>\n",
              "<table border=\"1\" class=\"dataframe\">\n",
              "  <thead>\n",
              "    <tr style=\"text-align: right;\">\n",
              "      <th></th>\n",
              "      <th>Sex</th>\n",
              "      <th>Age</th>\n",
              "      <th>Height</th>\n",
              "      <th>Weight</th>\n",
              "      <th>Team</th>\n",
              "      <th>NOC</th>\n",
              "      <th>Year</th>\n",
              "      <th>Season</th>\n",
              "      <th>City</th>\n",
              "      <th>Event</th>\n",
              "      <th>Medal</th>\n",
              "    </tr>\n",
              "  </thead>\n",
              "  <tbody>\n",
              "    <tr>\n",
              "      <th>0</th>\n",
              "      <td>M</td>\n",
              "      <td>24.0</td>\n",
              "      <td>180.0</td>\n",
              "      <td>80.0</td>\n",
              "      <td>China</td>\n",
              "      <td>CHN</td>\n",
              "      <td>1992</td>\n",
              "      <td>Summer</td>\n",
              "      <td>Barcelona</td>\n",
              "      <td>Basketball Men's Basketball</td>\n",
              "      <td>0.0</td>\n",
              "    </tr>\n",
              "    <tr>\n",
              "      <th>1</th>\n",
              "      <td>M</td>\n",
              "      <td>23.0</td>\n",
              "      <td>170.0</td>\n",
              "      <td>60.0</td>\n",
              "      <td>China</td>\n",
              "      <td>CHN</td>\n",
              "      <td>2012</td>\n",
              "      <td>Summer</td>\n",
              "      <td>London</td>\n",
              "      <td>Judo Men's Extra-Lightweight</td>\n",
              "      <td>0.0</td>\n",
              "    </tr>\n",
              "    <tr>\n",
              "      <th>2</th>\n",
              "      <td>M</td>\n",
              "      <td>24.0</td>\n",
              "      <td>175.0</td>\n",
              "      <td>70.0</td>\n",
              "      <td>Denmark</td>\n",
              "      <td>DEN</td>\n",
              "      <td>1920</td>\n",
              "      <td>Summer</td>\n",
              "      <td>Antwerpen</td>\n",
              "      <td>Football Men's Football</td>\n",
              "      <td>0.0</td>\n",
              "    </tr>\n",
              "    <tr>\n",
              "      <th>3</th>\n",
              "      <td>M</td>\n",
              "      <td>34.0</td>\n",
              "      <td>175.0</td>\n",
              "      <td>70.0</td>\n",
              "      <td>Denmark/Sweden</td>\n",
              "      <td>DEN</td>\n",
              "      <td>1900</td>\n",
              "      <td>Summer</td>\n",
              "      <td>Paris</td>\n",
              "      <td>Tug-Of-War Men's Tug-Of-War</td>\n",
              "      <td>3.0</td>\n",
              "    </tr>\n",
              "    <tr>\n",
              "      <th>4</th>\n",
              "      <td>F</td>\n",
              "      <td>21.0</td>\n",
              "      <td>185.0</td>\n",
              "      <td>82.0</td>\n",
              "      <td>Netherlands</td>\n",
              "      <td>NED</td>\n",
              "      <td>1988</td>\n",
              "      <td>Winter</td>\n",
              "      <td>Calgary</td>\n",
              "      <td>Speed Skating Women's 500 metres</td>\n",
              "      <td>0.0</td>\n",
              "    </tr>\n",
              "  </tbody>\n",
              "</table>\n",
              "</div>\n",
              "      <button class=\"colab-df-convert\" onclick=\"convertToInteractive('df-7042e8a1-01a4-4066-bee2-714da5ae25ee')\"\n",
              "              title=\"Convert this dataframe to an interactive table.\"\n",
              "              style=\"display:none;\">\n",
              "        \n",
              "  <svg xmlns=\"http://www.w3.org/2000/svg\" height=\"24px\"viewBox=\"0 0 24 24\"\n",
              "       width=\"24px\">\n",
              "    <path d=\"M0 0h24v24H0V0z\" fill=\"none\"/>\n",
              "    <path d=\"M18.56 5.44l.94 2.06.94-2.06 2.06-.94-2.06-.94-.94-2.06-.94 2.06-2.06.94zm-11 1L8.5 8.5l.94-2.06 2.06-.94-2.06-.94L8.5 2.5l-.94 2.06-2.06.94zm10 10l.94 2.06.94-2.06 2.06-.94-2.06-.94-.94-2.06-.94 2.06-2.06.94z\"/><path d=\"M17.41 7.96l-1.37-1.37c-.4-.4-.92-.59-1.43-.59-.52 0-1.04.2-1.43.59L10.3 9.45l-7.72 7.72c-.78.78-.78 2.05 0 2.83L4 21.41c.39.39.9.59 1.41.59.51 0 1.02-.2 1.41-.59l7.78-7.78 2.81-2.81c.8-.78.8-2.07 0-2.86zM5.41 20L4 18.59l7.72-7.72 1.47 1.35L5.41 20z\"/>\n",
              "  </svg>\n",
              "      </button>\n",
              "      \n",
              "  <style>\n",
              "    .colab-df-container {\n",
              "      display:flex;\n",
              "      flex-wrap:wrap;\n",
              "      gap: 12px;\n",
              "    }\n",
              "\n",
              "    .colab-df-convert {\n",
              "      background-color: #E8F0FE;\n",
              "      border: none;\n",
              "      border-radius: 50%;\n",
              "      cursor: pointer;\n",
              "      display: none;\n",
              "      fill: #1967D2;\n",
              "      height: 32px;\n",
              "      padding: 0 0 0 0;\n",
              "      width: 32px;\n",
              "    }\n",
              "\n",
              "    .colab-df-convert:hover {\n",
              "      background-color: #E2EBFA;\n",
              "      box-shadow: 0px 1px 2px rgba(60, 64, 67, 0.3), 0px 1px 3px 1px rgba(60, 64, 67, 0.15);\n",
              "      fill: #174EA6;\n",
              "    }\n",
              "\n",
              "    [theme=dark] .colab-df-convert {\n",
              "      background-color: #3B4455;\n",
              "      fill: #D2E3FC;\n",
              "    }\n",
              "\n",
              "    [theme=dark] .colab-df-convert:hover {\n",
              "      background-color: #434B5C;\n",
              "      box-shadow: 0px 1px 3px 1px rgba(0, 0, 0, 0.15);\n",
              "      filter: drop-shadow(0px 1px 2px rgba(0, 0, 0, 0.3));\n",
              "      fill: #FFFFFF;\n",
              "    }\n",
              "  </style>\n",
              "\n",
              "      <script>\n",
              "        const buttonEl =\n",
              "          document.querySelector('#df-7042e8a1-01a4-4066-bee2-714da5ae25ee button.colab-df-convert');\n",
              "        buttonEl.style.display =\n",
              "          google.colab.kernel.accessAllowed ? 'block' : 'none';\n",
              "\n",
              "        async function convertToInteractive(key) {\n",
              "          const element = document.querySelector('#df-7042e8a1-01a4-4066-bee2-714da5ae25ee');\n",
              "          const dataTable =\n",
              "            await google.colab.kernel.invokeFunction('convertToInteractive',\n",
              "                                                     [key], {});\n",
              "          if (!dataTable) return;\n",
              "\n",
              "          const docLinkHtml = 'Like what you see? Visit the ' +\n",
              "            '<a target=\"_blank\" href=https://colab.research.google.com/notebooks/data_table.ipynb>data table notebook</a>'\n",
              "            + ' to learn more about interactive tables.';\n",
              "          element.innerHTML = '';\n",
              "          dataTable['output_type'] = 'display_data';\n",
              "          await google.colab.output.renderOutput(dataTable, element);\n",
              "          const docLink = document.createElement('div');\n",
              "          docLink.innerHTML = docLinkHtml;\n",
              "          element.appendChild(docLink);\n",
              "        }\n",
              "      </script>\n",
              "    </div>\n",
              "  </div>\n",
              "  "
            ]
          },
          "metadata": {},
          "execution_count": 59
        }
      ]
    },
    {
      "cell_type": "code",
      "source": [
        "from sklearn.preprocessing import OneHotEncoder\n",
        "encoder = OneHotEncoder(handle_unknown='ignore')\n",
        "encoded_df=pd.DataFrame(encoder.fit_transform(athlete_merged[['Sex']]).toarray())\n",
        "athlete_merged=athlete_merged.join(encoded_df)\n",
        "athlete_merged=athlete_merged.rename(columns={0:'E_female',1:'E_male'})\n",
        "athlete_merged.drop(['Sex'],axis=1,inplace=True)"
      ],
      "metadata": {
        "id": "l7JOp1HhB56w"
      },
      "id": "l7JOp1HhB56w",
      "execution_count": null,
      "outputs": []
    },
    {
      "cell_type": "code",
      "source": [
        "encoded_season=pd.DataFrame(encoder.fit_transform(athlete_merged[['Season']]).toarray())\n",
        "athlete_merged=athlete_merged.join(encoded_season)\n",
        "athlete_merged=athlete_merged.rename(columns={0:'E_summer',1:'E_winter'})\n",
        "athlete_merged.drop(['Season'],axis=1,inplace=True)\n",
        "athlete_merged.head()"
      ],
      "metadata": {
        "id": "a9PDpzF4DClS",
        "colab": {
          "base_uri": "https://localhost:8080/",
          "height": 206
        },
        "outputId": "19234862-e827-474a-a943-825ef2a6131a"
      },
      "id": "a9PDpzF4DClS",
      "execution_count": null,
      "outputs": [
        {
          "output_type": "execute_result",
          "data": {
            "text/plain": [
              "    Age  Height  Weight            Team  NOC  Year       City  \\\n",
              "0  24.0   180.0    80.0           China  CHN  1992  Barcelona   \n",
              "1  23.0   170.0    60.0           China  CHN  2012     London   \n",
              "2  24.0   175.0    70.0         Denmark  DEN  1920  Antwerpen   \n",
              "3  34.0   175.0    70.0  Denmark/Sweden  DEN  1900      Paris   \n",
              "4  21.0   185.0    82.0     Netherlands  NED  1988    Calgary   \n",
              "\n",
              "                              Event  Medal  E_female  E_male  E_summer  \\\n",
              "0       Basketball Men's Basketball    0.0       0.0     1.0       1.0   \n",
              "1      Judo Men's Extra-Lightweight    0.0       0.0     1.0       1.0   \n",
              "2           Football Men's Football    0.0       0.0     1.0       1.0   \n",
              "3       Tug-Of-War Men's Tug-Of-War    3.0       0.0     1.0       1.0   \n",
              "4  Speed Skating Women's 500 metres    0.0       1.0     0.0       0.0   \n",
              "\n",
              "   E_winter  \n",
              "0       0.0  \n",
              "1       0.0  \n",
              "2       0.0  \n",
              "3       0.0  \n",
              "4       1.0  "
            ],
            "text/html": [
              "\n",
              "  <div id=\"df-785c8c0f-8201-4b2d-aed3-e048e507ddd8\">\n",
              "    <div class=\"colab-df-container\">\n",
              "      <div>\n",
              "<style scoped>\n",
              "    .dataframe tbody tr th:only-of-type {\n",
              "        vertical-align: middle;\n",
              "    }\n",
              "\n",
              "    .dataframe tbody tr th {\n",
              "        vertical-align: top;\n",
              "    }\n",
              "\n",
              "    .dataframe thead th {\n",
              "        text-align: right;\n",
              "    }\n",
              "</style>\n",
              "<table border=\"1\" class=\"dataframe\">\n",
              "  <thead>\n",
              "    <tr style=\"text-align: right;\">\n",
              "      <th></th>\n",
              "      <th>Age</th>\n",
              "      <th>Height</th>\n",
              "      <th>Weight</th>\n",
              "      <th>Team</th>\n",
              "      <th>NOC</th>\n",
              "      <th>Year</th>\n",
              "      <th>City</th>\n",
              "      <th>Event</th>\n",
              "      <th>Medal</th>\n",
              "      <th>E_female</th>\n",
              "      <th>E_male</th>\n",
              "      <th>E_summer</th>\n",
              "      <th>E_winter</th>\n",
              "    </tr>\n",
              "  </thead>\n",
              "  <tbody>\n",
              "    <tr>\n",
              "      <th>0</th>\n",
              "      <td>24.0</td>\n",
              "      <td>180.0</td>\n",
              "      <td>80.0</td>\n",
              "      <td>China</td>\n",
              "      <td>CHN</td>\n",
              "      <td>1992</td>\n",
              "      <td>Barcelona</td>\n",
              "      <td>Basketball Men's Basketball</td>\n",
              "      <td>0.0</td>\n",
              "      <td>0.0</td>\n",
              "      <td>1.0</td>\n",
              "      <td>1.0</td>\n",
              "      <td>0.0</td>\n",
              "    </tr>\n",
              "    <tr>\n",
              "      <th>1</th>\n",
              "      <td>23.0</td>\n",
              "      <td>170.0</td>\n",
              "      <td>60.0</td>\n",
              "      <td>China</td>\n",
              "      <td>CHN</td>\n",
              "      <td>2012</td>\n",
              "      <td>London</td>\n",
              "      <td>Judo Men's Extra-Lightweight</td>\n",
              "      <td>0.0</td>\n",
              "      <td>0.0</td>\n",
              "      <td>1.0</td>\n",
              "      <td>1.0</td>\n",
              "      <td>0.0</td>\n",
              "    </tr>\n",
              "    <tr>\n",
              "      <th>2</th>\n",
              "      <td>24.0</td>\n",
              "      <td>175.0</td>\n",
              "      <td>70.0</td>\n",
              "      <td>Denmark</td>\n",
              "      <td>DEN</td>\n",
              "      <td>1920</td>\n",
              "      <td>Antwerpen</td>\n",
              "      <td>Football Men's Football</td>\n",
              "      <td>0.0</td>\n",
              "      <td>0.0</td>\n",
              "      <td>1.0</td>\n",
              "      <td>1.0</td>\n",
              "      <td>0.0</td>\n",
              "    </tr>\n",
              "    <tr>\n",
              "      <th>3</th>\n",
              "      <td>34.0</td>\n",
              "      <td>175.0</td>\n",
              "      <td>70.0</td>\n",
              "      <td>Denmark/Sweden</td>\n",
              "      <td>DEN</td>\n",
              "      <td>1900</td>\n",
              "      <td>Paris</td>\n",
              "      <td>Tug-Of-War Men's Tug-Of-War</td>\n",
              "      <td>3.0</td>\n",
              "      <td>0.0</td>\n",
              "      <td>1.0</td>\n",
              "      <td>1.0</td>\n",
              "      <td>0.0</td>\n",
              "    </tr>\n",
              "    <tr>\n",
              "      <th>4</th>\n",
              "      <td>21.0</td>\n",
              "      <td>185.0</td>\n",
              "      <td>82.0</td>\n",
              "      <td>Netherlands</td>\n",
              "      <td>NED</td>\n",
              "      <td>1988</td>\n",
              "      <td>Calgary</td>\n",
              "      <td>Speed Skating Women's 500 metres</td>\n",
              "      <td>0.0</td>\n",
              "      <td>1.0</td>\n",
              "      <td>0.0</td>\n",
              "      <td>0.0</td>\n",
              "      <td>1.0</td>\n",
              "    </tr>\n",
              "  </tbody>\n",
              "</table>\n",
              "</div>\n",
              "      <button class=\"colab-df-convert\" onclick=\"convertToInteractive('df-785c8c0f-8201-4b2d-aed3-e048e507ddd8')\"\n",
              "              title=\"Convert this dataframe to an interactive table.\"\n",
              "              style=\"display:none;\">\n",
              "        \n",
              "  <svg xmlns=\"http://www.w3.org/2000/svg\" height=\"24px\"viewBox=\"0 0 24 24\"\n",
              "       width=\"24px\">\n",
              "    <path d=\"M0 0h24v24H0V0z\" fill=\"none\"/>\n",
              "    <path d=\"M18.56 5.44l.94 2.06.94-2.06 2.06-.94-2.06-.94-.94-2.06-.94 2.06-2.06.94zm-11 1L8.5 8.5l.94-2.06 2.06-.94-2.06-.94L8.5 2.5l-.94 2.06-2.06.94zm10 10l.94 2.06.94-2.06 2.06-.94-2.06-.94-.94-2.06-.94 2.06-2.06.94z\"/><path d=\"M17.41 7.96l-1.37-1.37c-.4-.4-.92-.59-1.43-.59-.52 0-1.04.2-1.43.59L10.3 9.45l-7.72 7.72c-.78.78-.78 2.05 0 2.83L4 21.41c.39.39.9.59 1.41.59.51 0 1.02-.2 1.41-.59l7.78-7.78 2.81-2.81c.8-.78.8-2.07 0-2.86zM5.41 20L4 18.59l7.72-7.72 1.47 1.35L5.41 20z\"/>\n",
              "  </svg>\n",
              "      </button>\n",
              "      \n",
              "  <style>\n",
              "    .colab-df-container {\n",
              "      display:flex;\n",
              "      flex-wrap:wrap;\n",
              "      gap: 12px;\n",
              "    }\n",
              "\n",
              "    .colab-df-convert {\n",
              "      background-color: #E8F0FE;\n",
              "      border: none;\n",
              "      border-radius: 50%;\n",
              "      cursor: pointer;\n",
              "      display: none;\n",
              "      fill: #1967D2;\n",
              "      height: 32px;\n",
              "      padding: 0 0 0 0;\n",
              "      width: 32px;\n",
              "    }\n",
              "\n",
              "    .colab-df-convert:hover {\n",
              "      background-color: #E2EBFA;\n",
              "      box-shadow: 0px 1px 2px rgba(60, 64, 67, 0.3), 0px 1px 3px 1px rgba(60, 64, 67, 0.15);\n",
              "      fill: #174EA6;\n",
              "    }\n",
              "\n",
              "    [theme=dark] .colab-df-convert {\n",
              "      background-color: #3B4455;\n",
              "      fill: #D2E3FC;\n",
              "    }\n",
              "\n",
              "    [theme=dark] .colab-df-convert:hover {\n",
              "      background-color: #434B5C;\n",
              "      box-shadow: 0px 1px 3px 1px rgba(0, 0, 0, 0.15);\n",
              "      filter: drop-shadow(0px 1px 2px rgba(0, 0, 0, 0.3));\n",
              "      fill: #FFFFFF;\n",
              "    }\n",
              "  </style>\n",
              "\n",
              "      <script>\n",
              "        const buttonEl =\n",
              "          document.querySelector('#df-785c8c0f-8201-4b2d-aed3-e048e507ddd8 button.colab-df-convert');\n",
              "        buttonEl.style.display =\n",
              "          google.colab.kernel.accessAllowed ? 'block' : 'none';\n",
              "\n",
              "        async function convertToInteractive(key) {\n",
              "          const element = document.querySelector('#df-785c8c0f-8201-4b2d-aed3-e048e507ddd8');\n",
              "          const dataTable =\n",
              "            await google.colab.kernel.invokeFunction('convertToInteractive',\n",
              "                                                     [key], {});\n",
              "          if (!dataTable) return;\n",
              "\n",
              "          const docLinkHtml = 'Like what you see? Visit the ' +\n",
              "            '<a target=\"_blank\" href=https://colab.research.google.com/notebooks/data_table.ipynb>data table notebook</a>'\n",
              "            + ' to learn more about interactive tables.';\n",
              "          element.innerHTML = '';\n",
              "          dataTable['output_type'] = 'display_data';\n",
              "          await google.colab.output.renderOutput(dataTable, element);\n",
              "          const docLink = document.createElement('div');\n",
              "          docLink.innerHTML = docLinkHtml;\n",
              "          element.appendChild(docLink);\n",
              "        }\n",
              "      </script>\n",
              "    </div>\n",
              "  </div>\n",
              "  "
            ]
          },
          "metadata": {},
          "execution_count": 61
        }
      ]
    },
    {
      "cell_type": "code",
      "source": [
        "team_frequency_map=athlete_merged['Team'].value_counts().to_dict()\n",
        "athlete_merged['Team']=athlete_merged['Team'].map(team_frequency_map)"
      ],
      "metadata": {
        "id": "DDkFbU2DPzwy"
      },
      "id": "DDkFbU2DPzwy",
      "execution_count": null,
      "outputs": []
    },
    {
      "cell_type": "code",
      "source": [
        "NOC_frequency_map=athlete_merged['NOC'].value_counts().to_dict()\n",
        "athlete_merged['NOC']=athlete_merged['NOC'].map(NOC_frequency_map)"
      ],
      "metadata": {
        "id": "ePeLXWxSPz1j"
      },
      "id": "ePeLXWxSPz1j",
      "execution_count": null,
      "outputs": []
    },
    {
      "cell_type": "code",
      "source": [
        "City_frequency_map=athlete_merged['City'].value_counts().to_dict()\n",
        "athlete_merged['City']=athlete_merged['City'].map(City_frequency_map)"
      ],
      "metadata": {
        "id": "hLNxeOhdeFX3"
      },
      "id": "hLNxeOhdeFX3",
      "execution_count": null,
      "outputs": []
    },
    {
      "cell_type": "code",
      "source": [
        "City_frequency_map=athlete_merged['City'].value_counts().to_dict()\n",
        "athlete_merged['City']=athlete_merged['City'].map(City_frequency_map)"
      ],
      "metadata": {
        "id": "cM3zmWAEf73K"
      },
      "id": "cM3zmWAEf73K",
      "execution_count": null,
      "outputs": []
    },
    {
      "cell_type": "code",
      "source": [
        "event_frequency_map=athlete_merged['Event'].value_counts().to_dict()\n",
        "athlete_merged['Event']=athlete_merged['Event'].map(event_frequency_map)"
      ],
      "metadata": {
        "id": "UCFoJzbMf7_e"
      },
      "id": "UCFoJzbMf7_e",
      "execution_count": null,
      "outputs": []
    },
    {
      "cell_type": "code",
      "source": [
        "athlete_merged.head()"
      ],
      "metadata": {
        "colab": {
          "base_uri": "https://localhost:8080/",
          "height": 206
        },
        "id": "XUj7AV3rf8Gm",
        "outputId": "0f8514f9-5a8c-4bfb-e44e-cc7e9540bb14"
      },
      "id": "XUj7AV3rf8Gm",
      "execution_count": null,
      "outputs": [
        {
          "output_type": "execute_result",
          "data": {
            "text/plain": [
              "    Age  Height  Weight  Team   NOC  Year   City  Event  Medal  E_female  \\\n",
              "0  24.0   180.0    80.0  4975  5141  1992  12977   3280    0.0       0.0   \n",
              "1  23.0   170.0    60.0  4975  5141  2012  22426    341    0.0       0.0   \n",
              "2  24.0   175.0    70.0  3424  3570  1920   4292   5733    0.0       0.0   \n",
              "3  34.0   175.0    70.0     6  3570  1900   7169    170    3.0       0.0   \n",
              "4  21.0   185.0    82.0  5718  5839  1988   2639    467    0.0       1.0   \n",
              "\n",
              "   E_male  E_summer  E_winter  \n",
              "0     1.0       1.0       0.0  \n",
              "1     1.0       1.0       0.0  \n",
              "2     1.0       1.0       0.0  \n",
              "3     1.0       1.0       0.0  \n",
              "4     0.0       0.0       1.0  "
            ],
            "text/html": [
              "\n",
              "  <div id=\"df-6ad3e0f3-0ef8-44a4-ac29-a9650a1acd84\">\n",
              "    <div class=\"colab-df-container\">\n",
              "      <div>\n",
              "<style scoped>\n",
              "    .dataframe tbody tr th:only-of-type {\n",
              "        vertical-align: middle;\n",
              "    }\n",
              "\n",
              "    .dataframe tbody tr th {\n",
              "        vertical-align: top;\n",
              "    }\n",
              "\n",
              "    .dataframe thead th {\n",
              "        text-align: right;\n",
              "    }\n",
              "</style>\n",
              "<table border=\"1\" class=\"dataframe\">\n",
              "  <thead>\n",
              "    <tr style=\"text-align: right;\">\n",
              "      <th></th>\n",
              "      <th>Age</th>\n",
              "      <th>Height</th>\n",
              "      <th>Weight</th>\n",
              "      <th>Team</th>\n",
              "      <th>NOC</th>\n",
              "      <th>Year</th>\n",
              "      <th>City</th>\n",
              "      <th>Event</th>\n",
              "      <th>Medal</th>\n",
              "      <th>E_female</th>\n",
              "      <th>E_male</th>\n",
              "      <th>E_summer</th>\n",
              "      <th>E_winter</th>\n",
              "    </tr>\n",
              "  </thead>\n",
              "  <tbody>\n",
              "    <tr>\n",
              "      <th>0</th>\n",
              "      <td>24.0</td>\n",
              "      <td>180.0</td>\n",
              "      <td>80.0</td>\n",
              "      <td>4975</td>\n",
              "      <td>5141</td>\n",
              "      <td>1992</td>\n",
              "      <td>12977</td>\n",
              "      <td>3280</td>\n",
              "      <td>0.0</td>\n",
              "      <td>0.0</td>\n",
              "      <td>1.0</td>\n",
              "      <td>1.0</td>\n",
              "      <td>0.0</td>\n",
              "    </tr>\n",
              "    <tr>\n",
              "      <th>1</th>\n",
              "      <td>23.0</td>\n",
              "      <td>170.0</td>\n",
              "      <td>60.0</td>\n",
              "      <td>4975</td>\n",
              "      <td>5141</td>\n",
              "      <td>2012</td>\n",
              "      <td>22426</td>\n",
              "      <td>341</td>\n",
              "      <td>0.0</td>\n",
              "      <td>0.0</td>\n",
              "      <td>1.0</td>\n",
              "      <td>1.0</td>\n",
              "      <td>0.0</td>\n",
              "    </tr>\n",
              "    <tr>\n",
              "      <th>2</th>\n",
              "      <td>24.0</td>\n",
              "      <td>175.0</td>\n",
              "      <td>70.0</td>\n",
              "      <td>3424</td>\n",
              "      <td>3570</td>\n",
              "      <td>1920</td>\n",
              "      <td>4292</td>\n",
              "      <td>5733</td>\n",
              "      <td>0.0</td>\n",
              "      <td>0.0</td>\n",
              "      <td>1.0</td>\n",
              "      <td>1.0</td>\n",
              "      <td>0.0</td>\n",
              "    </tr>\n",
              "    <tr>\n",
              "      <th>3</th>\n",
              "      <td>34.0</td>\n",
              "      <td>175.0</td>\n",
              "      <td>70.0</td>\n",
              "      <td>6</td>\n",
              "      <td>3570</td>\n",
              "      <td>1900</td>\n",
              "      <td>7169</td>\n",
              "      <td>170</td>\n",
              "      <td>3.0</td>\n",
              "      <td>0.0</td>\n",
              "      <td>1.0</td>\n",
              "      <td>1.0</td>\n",
              "      <td>0.0</td>\n",
              "    </tr>\n",
              "    <tr>\n",
              "      <th>4</th>\n",
              "      <td>21.0</td>\n",
              "      <td>185.0</td>\n",
              "      <td>82.0</td>\n",
              "      <td>5718</td>\n",
              "      <td>5839</td>\n",
              "      <td>1988</td>\n",
              "      <td>2639</td>\n",
              "      <td>467</td>\n",
              "      <td>0.0</td>\n",
              "      <td>1.0</td>\n",
              "      <td>0.0</td>\n",
              "      <td>0.0</td>\n",
              "      <td>1.0</td>\n",
              "    </tr>\n",
              "  </tbody>\n",
              "</table>\n",
              "</div>\n",
              "      <button class=\"colab-df-convert\" onclick=\"convertToInteractive('df-6ad3e0f3-0ef8-44a4-ac29-a9650a1acd84')\"\n",
              "              title=\"Convert this dataframe to an interactive table.\"\n",
              "              style=\"display:none;\">\n",
              "        \n",
              "  <svg xmlns=\"http://www.w3.org/2000/svg\" height=\"24px\"viewBox=\"0 0 24 24\"\n",
              "       width=\"24px\">\n",
              "    <path d=\"M0 0h24v24H0V0z\" fill=\"none\"/>\n",
              "    <path d=\"M18.56 5.44l.94 2.06.94-2.06 2.06-.94-2.06-.94-.94-2.06-.94 2.06-2.06.94zm-11 1L8.5 8.5l.94-2.06 2.06-.94-2.06-.94L8.5 2.5l-.94 2.06-2.06.94zm10 10l.94 2.06.94-2.06 2.06-.94-2.06-.94-.94-2.06-.94 2.06-2.06.94z\"/><path d=\"M17.41 7.96l-1.37-1.37c-.4-.4-.92-.59-1.43-.59-.52 0-1.04.2-1.43.59L10.3 9.45l-7.72 7.72c-.78.78-.78 2.05 0 2.83L4 21.41c.39.39.9.59 1.41.59.51 0 1.02-.2 1.41-.59l7.78-7.78 2.81-2.81c.8-.78.8-2.07 0-2.86zM5.41 20L4 18.59l7.72-7.72 1.47 1.35L5.41 20z\"/>\n",
              "  </svg>\n",
              "      </button>\n",
              "      \n",
              "  <style>\n",
              "    .colab-df-container {\n",
              "      display:flex;\n",
              "      flex-wrap:wrap;\n",
              "      gap: 12px;\n",
              "    }\n",
              "\n",
              "    .colab-df-convert {\n",
              "      background-color: #E8F0FE;\n",
              "      border: none;\n",
              "      border-radius: 50%;\n",
              "      cursor: pointer;\n",
              "      display: none;\n",
              "      fill: #1967D2;\n",
              "      height: 32px;\n",
              "      padding: 0 0 0 0;\n",
              "      width: 32px;\n",
              "    }\n",
              "\n",
              "    .colab-df-convert:hover {\n",
              "      background-color: #E2EBFA;\n",
              "      box-shadow: 0px 1px 2px rgba(60, 64, 67, 0.3), 0px 1px 3px 1px rgba(60, 64, 67, 0.15);\n",
              "      fill: #174EA6;\n",
              "    }\n",
              "\n",
              "    [theme=dark] .colab-df-convert {\n",
              "      background-color: #3B4455;\n",
              "      fill: #D2E3FC;\n",
              "    }\n",
              "\n",
              "    [theme=dark] .colab-df-convert:hover {\n",
              "      background-color: #434B5C;\n",
              "      box-shadow: 0px 1px 3px 1px rgba(0, 0, 0, 0.15);\n",
              "      filter: drop-shadow(0px 1px 2px rgba(0, 0, 0, 0.3));\n",
              "      fill: #FFFFFF;\n",
              "    }\n",
              "  </style>\n",
              "\n",
              "      <script>\n",
              "        const buttonEl =\n",
              "          document.querySelector('#df-6ad3e0f3-0ef8-44a4-ac29-a9650a1acd84 button.colab-df-convert');\n",
              "        buttonEl.style.display =\n",
              "          google.colab.kernel.accessAllowed ? 'block' : 'none';\n",
              "\n",
              "        async function convertToInteractive(key) {\n",
              "          const element = document.querySelector('#df-6ad3e0f3-0ef8-44a4-ac29-a9650a1acd84');\n",
              "          const dataTable =\n",
              "            await google.colab.kernel.invokeFunction('convertToInteractive',\n",
              "                                                     [key], {});\n",
              "          if (!dataTable) return;\n",
              "\n",
              "          const docLinkHtml = 'Like what you see? Visit the ' +\n",
              "            '<a target=\"_blank\" href=https://colab.research.google.com/notebooks/data_table.ipynb>data table notebook</a>'\n",
              "            + ' to learn more about interactive tables.';\n",
              "          element.innerHTML = '';\n",
              "          dataTable['output_type'] = 'display_data';\n",
              "          await google.colab.output.renderOutput(dataTable, element);\n",
              "          const docLink = document.createElement('div');\n",
              "          docLink.innerHTML = docLinkHtml;\n",
              "          element.appendChild(docLink);\n",
              "        }\n",
              "      </script>\n",
              "    </div>\n",
              "  </div>\n",
              "  "
            ]
          },
          "metadata": {},
          "execution_count": 67
        }
      ]
    },
    {
      "cell_type": "code",
      "source": [
        "athlete_merged.drop(['E_female',\"E_summer\"],axis=1,inplace=True)\n"
      ],
      "metadata": {
        "id": "v49rwVb-f8NP"
      },
      "id": "v49rwVb-f8NP",
      "execution_count": null,
      "outputs": []
    },
    {
      "cell_type": "code",
      "source": [
        "X=athlete_merged[[\"Age\",\"Height\",\"Weight\",\"Team\",\"NOC\",\"Year\",\"City\",\"Event\",\"E_male\",\"E_winter\"]]\n",
        "Y=athlete_merged[['Medal']]"
      ],
      "metadata": {
        "id": "1_lDt_Qd11X0"
      },
      "id": "1_lDt_Qd11X0",
      "execution_count": null,
      "outputs": []
    },
    {
      "cell_type": "code",
      "source": [
        "Y.head()"
      ],
      "metadata": {
        "colab": {
          "base_uri": "https://localhost:8080/",
          "height": 206
        },
        "id": "zoCVlMRI2hQK",
        "outputId": "9534c2b0-c9f9-48c0-ada4-5eeb03c37360"
      },
      "id": "zoCVlMRI2hQK",
      "execution_count": null,
      "outputs": [
        {
          "output_type": "execute_result",
          "data": {
            "text/plain": [
              "   Medal\n",
              "0    0.0\n",
              "1    0.0\n",
              "2    0.0\n",
              "3    3.0\n",
              "4    0.0"
            ],
            "text/html": [
              "\n",
              "  <div id=\"df-c2f6ee3b-8303-4366-9d31-0e72c025f6c9\">\n",
              "    <div class=\"colab-df-container\">\n",
              "      <div>\n",
              "<style scoped>\n",
              "    .dataframe tbody tr th:only-of-type {\n",
              "        vertical-align: middle;\n",
              "    }\n",
              "\n",
              "    .dataframe tbody tr th {\n",
              "        vertical-align: top;\n",
              "    }\n",
              "\n",
              "    .dataframe thead th {\n",
              "        text-align: right;\n",
              "    }\n",
              "</style>\n",
              "<table border=\"1\" class=\"dataframe\">\n",
              "  <thead>\n",
              "    <tr style=\"text-align: right;\">\n",
              "      <th></th>\n",
              "      <th>Medal</th>\n",
              "    </tr>\n",
              "  </thead>\n",
              "  <tbody>\n",
              "    <tr>\n",
              "      <th>0</th>\n",
              "      <td>0.0</td>\n",
              "    </tr>\n",
              "    <tr>\n",
              "      <th>1</th>\n",
              "      <td>0.0</td>\n",
              "    </tr>\n",
              "    <tr>\n",
              "      <th>2</th>\n",
              "      <td>0.0</td>\n",
              "    </tr>\n",
              "    <tr>\n",
              "      <th>3</th>\n",
              "      <td>3.0</td>\n",
              "    </tr>\n",
              "    <tr>\n",
              "      <th>4</th>\n",
              "      <td>0.0</td>\n",
              "    </tr>\n",
              "  </tbody>\n",
              "</table>\n",
              "</div>\n",
              "      <button class=\"colab-df-convert\" onclick=\"convertToInteractive('df-c2f6ee3b-8303-4366-9d31-0e72c025f6c9')\"\n",
              "              title=\"Convert this dataframe to an interactive table.\"\n",
              "              style=\"display:none;\">\n",
              "        \n",
              "  <svg xmlns=\"http://www.w3.org/2000/svg\" height=\"24px\"viewBox=\"0 0 24 24\"\n",
              "       width=\"24px\">\n",
              "    <path d=\"M0 0h24v24H0V0z\" fill=\"none\"/>\n",
              "    <path d=\"M18.56 5.44l.94 2.06.94-2.06 2.06-.94-2.06-.94-.94-2.06-.94 2.06-2.06.94zm-11 1L8.5 8.5l.94-2.06 2.06-.94-2.06-.94L8.5 2.5l-.94 2.06-2.06.94zm10 10l.94 2.06.94-2.06 2.06-.94-2.06-.94-.94-2.06-.94 2.06-2.06.94z\"/><path d=\"M17.41 7.96l-1.37-1.37c-.4-.4-.92-.59-1.43-.59-.52 0-1.04.2-1.43.59L10.3 9.45l-7.72 7.72c-.78.78-.78 2.05 0 2.83L4 21.41c.39.39.9.59 1.41.59.51 0 1.02-.2 1.41-.59l7.78-7.78 2.81-2.81c.8-.78.8-2.07 0-2.86zM5.41 20L4 18.59l7.72-7.72 1.47 1.35L5.41 20z\"/>\n",
              "  </svg>\n",
              "      </button>\n",
              "      \n",
              "  <style>\n",
              "    .colab-df-container {\n",
              "      display:flex;\n",
              "      flex-wrap:wrap;\n",
              "      gap: 12px;\n",
              "    }\n",
              "\n",
              "    .colab-df-convert {\n",
              "      background-color: #E8F0FE;\n",
              "      border: none;\n",
              "      border-radius: 50%;\n",
              "      cursor: pointer;\n",
              "      display: none;\n",
              "      fill: #1967D2;\n",
              "      height: 32px;\n",
              "      padding: 0 0 0 0;\n",
              "      width: 32px;\n",
              "    }\n",
              "\n",
              "    .colab-df-convert:hover {\n",
              "      background-color: #E2EBFA;\n",
              "      box-shadow: 0px 1px 2px rgba(60, 64, 67, 0.3), 0px 1px 3px 1px rgba(60, 64, 67, 0.15);\n",
              "      fill: #174EA6;\n",
              "    }\n",
              "\n",
              "    [theme=dark] .colab-df-convert {\n",
              "      background-color: #3B4455;\n",
              "      fill: #D2E3FC;\n",
              "    }\n",
              "\n",
              "    [theme=dark] .colab-df-convert:hover {\n",
              "      background-color: #434B5C;\n",
              "      box-shadow: 0px 1px 3px 1px rgba(0, 0, 0, 0.15);\n",
              "      filter: drop-shadow(0px 1px 2px rgba(0, 0, 0, 0.3));\n",
              "      fill: #FFFFFF;\n",
              "    }\n",
              "  </style>\n",
              "\n",
              "      <script>\n",
              "        const buttonEl =\n",
              "          document.querySelector('#df-c2f6ee3b-8303-4366-9d31-0e72c025f6c9 button.colab-df-convert');\n",
              "        buttonEl.style.display =\n",
              "          google.colab.kernel.accessAllowed ? 'block' : 'none';\n",
              "\n",
              "        async function convertToInteractive(key) {\n",
              "          const element = document.querySelector('#df-c2f6ee3b-8303-4366-9d31-0e72c025f6c9');\n",
              "          const dataTable =\n",
              "            await google.colab.kernel.invokeFunction('convertToInteractive',\n",
              "                                                     [key], {});\n",
              "          if (!dataTable) return;\n",
              "\n",
              "          const docLinkHtml = 'Like what you see? Visit the ' +\n",
              "            '<a target=\"_blank\" href=https://colab.research.google.com/notebooks/data_table.ipynb>data table notebook</a>'\n",
              "            + ' to learn more about interactive tables.';\n",
              "          element.innerHTML = '';\n",
              "          dataTable['output_type'] = 'display_data';\n",
              "          await google.colab.output.renderOutput(dataTable, element);\n",
              "          const docLink = document.createElement('div');\n",
              "          docLink.innerHTML = docLinkHtml;\n",
              "          element.appendChild(docLink);\n",
              "        }\n",
              "      </script>\n",
              "    </div>\n",
              "  </div>\n",
              "  "
            ]
          },
          "metadata": {},
          "execution_count": 70
        }
      ]
    },
    {
      "cell_type": "code",
      "source": [
        "#X_train,X_test,Y_train,Y_Test=train_test_split(X,Y,test_size=0.33,random_state=30)\n",
        "X_train, X_test, Y_train, Y_test = train_test_split(X, Y, test_size=0.33, random_state=50)"
      ],
      "metadata": {
        "id": "wjkhccM52sgX"
      },
      "id": "wjkhccM52sgX",
      "execution_count": null,
      "outputs": []
    },
    {
      "cell_type": "code",
      "source": [
        "X_train.shape"
      ],
      "metadata": {
        "colab": {
          "base_uri": "https://localhost:8080/"
        },
        "id": "wYn4zH78h2Q4",
        "outputId": "a14d10ec-c44b-43ec-fa09-621907b650fd"
      },
      "id": "wYn4zH78h2Q4",
      "execution_count": null,
      "outputs": [
        {
          "output_type": "execute_result",
          "data": {
            "text/plain": [
              "(181647, 10)"
            ]
          },
          "metadata": {},
          "execution_count": 72
        }
      ]
    },
    {
      "cell_type": "code",
      "source": [
        "Y_train.shape"
      ],
      "metadata": {
        "colab": {
          "base_uri": "https://localhost:8080/"
        },
        "id": "2VZEz1ECh73M",
        "outputId": "41aa0299-9655-4a49-b810-be78e173cd3e"
      },
      "id": "2VZEz1ECh73M",
      "execution_count": null,
      "outputs": [
        {
          "output_type": "execute_result",
          "data": {
            "text/plain": [
              "(181647, 1)"
            ]
          },
          "metadata": {},
          "execution_count": 73
        }
      ]
    },
    {
      "cell_type": "code",
      "source": [
        "X_test.shape"
      ],
      "metadata": {
        "colab": {
          "base_uri": "https://localhost:8080/"
        },
        "id": "HMptKJ7Dh2c1",
        "outputId": "3c253b05-1133-4816-a904-89196ef8dad1"
      },
      "id": "HMptKJ7Dh2c1",
      "execution_count": null,
      "outputs": [
        {
          "output_type": "execute_result",
          "data": {
            "text/plain": [
              "(89469, 10)"
            ]
          },
          "metadata": {},
          "execution_count": 74
        }
      ]
    },
    {
      "cell_type": "code",
      "source": [
        "Y_test.shape"
      ],
      "metadata": {
        "colab": {
          "base_uri": "https://localhost:8080/"
        },
        "id": "w4OZvyDRiBmD",
        "outputId": "3b6378c6-4ae2-40bf-aaf3-5d9c2a109e35"
      },
      "id": "w4OZvyDRiBmD",
      "execution_count": null,
      "outputs": [
        {
          "output_type": "execute_result",
          "data": {
            "text/plain": [
              "(89469, 1)"
            ]
          },
          "metadata": {},
          "execution_count": 75
        }
      ]
    },
    {
      "cell_type": "code",
      "source": [
        "from sklearn.ensemble import RandomForestRegressor\n",
        "from sklearn.model_selection import train_test_split\n",
        "from sklearn.feature_selection import RFECV\n",
        "import matplotlib.pyplot as plt\n"
      ],
      "metadata": {
        "id": "cER9zfOJ31os"
      },
      "id": "cER9zfOJ31os",
      "execution_count": null,
      "outputs": []
    },
    {
      "cell_type": "code",
      "source": [
        "from sklearn.preprocessing import StandardScaler\n",
        "sc = StandardScaler()\n",
        "X_train= pd.DataFrame(sc.fit_transform(X_train))\n",
        "X_test=pd.DataFrame(sc.fit_transform(X_test))"
      ],
      "metadata": {
        "id": "Yyglq1Fb8mqb"
      },
      "id": "Yyglq1Fb8mqb",
      "execution_count": null,
      "outputs": []
    },
    {
      "cell_type": "code",
      "source": [
        "X_train.columns=[\"Age\",\"Height\",\"Weight\",\"Team\",\"NOC\",\"Year\",\"City\",\"Event\",\"E_male\",\"E_winter\"]\n",
        "X_test.columns=[\"Age\",\"Height\",\"Weight\",\"Team\",\"NOC\",\"Year\",\"City\",\"Event\",\"E_male\",\"E_winter\"]\n",
        "\n"
      ],
      "metadata": {
        "id": "gvOc1u_v8zBj"
      },
      "id": "gvOc1u_v8zBj",
      "execution_count": null,
      "outputs": []
    },
    {
      "cell_type": "code",
      "source": [
        "X_train.head()"
      ],
      "metadata": {
        "colab": {
          "base_uri": "https://localhost:8080/",
          "height": 206
        },
        "id": "kWfqGt3VZYTf",
        "outputId": "1bc59bf2-1c89-4985-eb7d-f82d0f283401"
      },
      "id": "kWfqGt3VZYTf",
      "execution_count": null,
      "outputs": [
        {
          "output_type": "execute_result",
          "data": {
            "text/plain": [
              "        Age    Height    Weight      Team       NOC      Year      City  \\\n",
              "0 -0.077696  2.124084  2.260934  2.532436  2.494498  0.455158  0.480180   \n",
              "1  0.719057 -0.026959 -0.041106 -0.905009 -0.957924 -1.020487  2.205914   \n",
              "2  2.790614 -0.026959 -0.438010 -0.583965 -0.638502  0.991757  0.594328   \n",
              "3  2.471913 -0.672272 -0.993675  2.532436  2.494498 -0.349739 -0.321412   \n",
              "4 -0.077696  1.586324  1.705269  0.709571  0.657718  0.857607  0.951200   \n",
              "\n",
              "      Event    E_male  E_winter  \n",
              "0  0.576975  0.616801  -0.46606  \n",
              "1 -0.072865  0.616801  -0.46606  \n",
              "2 -0.944204  0.616801  -0.46606  \n",
              "3 -0.502932 -1.621269  -0.46606  \n",
              "4  1.061339  0.616801  -0.46606  "
            ],
            "text/html": [
              "\n",
              "  <div id=\"df-3a404a1f-fda3-41a1-b105-0c1014c4a9e4\">\n",
              "    <div class=\"colab-df-container\">\n",
              "      <div>\n",
              "<style scoped>\n",
              "    .dataframe tbody tr th:only-of-type {\n",
              "        vertical-align: middle;\n",
              "    }\n",
              "\n",
              "    .dataframe tbody tr th {\n",
              "        vertical-align: top;\n",
              "    }\n",
              "\n",
              "    .dataframe thead th {\n",
              "        text-align: right;\n",
              "    }\n",
              "</style>\n",
              "<table border=\"1\" class=\"dataframe\">\n",
              "  <thead>\n",
              "    <tr style=\"text-align: right;\">\n",
              "      <th></th>\n",
              "      <th>Age</th>\n",
              "      <th>Height</th>\n",
              "      <th>Weight</th>\n",
              "      <th>Team</th>\n",
              "      <th>NOC</th>\n",
              "      <th>Year</th>\n",
              "      <th>City</th>\n",
              "      <th>Event</th>\n",
              "      <th>E_male</th>\n",
              "      <th>E_winter</th>\n",
              "    </tr>\n",
              "  </thead>\n",
              "  <tbody>\n",
              "    <tr>\n",
              "      <th>0</th>\n",
              "      <td>-0.077696</td>\n",
              "      <td>2.124084</td>\n",
              "      <td>2.260934</td>\n",
              "      <td>2.532436</td>\n",
              "      <td>2.494498</td>\n",
              "      <td>0.455158</td>\n",
              "      <td>0.480180</td>\n",
              "      <td>0.576975</td>\n",
              "      <td>0.616801</td>\n",
              "      <td>-0.46606</td>\n",
              "    </tr>\n",
              "    <tr>\n",
              "      <th>1</th>\n",
              "      <td>0.719057</td>\n",
              "      <td>-0.026959</td>\n",
              "      <td>-0.041106</td>\n",
              "      <td>-0.905009</td>\n",
              "      <td>-0.957924</td>\n",
              "      <td>-1.020487</td>\n",
              "      <td>2.205914</td>\n",
              "      <td>-0.072865</td>\n",
              "      <td>0.616801</td>\n",
              "      <td>-0.46606</td>\n",
              "    </tr>\n",
              "    <tr>\n",
              "      <th>2</th>\n",
              "      <td>2.790614</td>\n",
              "      <td>-0.026959</td>\n",
              "      <td>-0.438010</td>\n",
              "      <td>-0.583965</td>\n",
              "      <td>-0.638502</td>\n",
              "      <td>0.991757</td>\n",
              "      <td>0.594328</td>\n",
              "      <td>-0.944204</td>\n",
              "      <td>0.616801</td>\n",
              "      <td>-0.46606</td>\n",
              "    </tr>\n",
              "    <tr>\n",
              "      <th>3</th>\n",
              "      <td>2.471913</td>\n",
              "      <td>-0.672272</td>\n",
              "      <td>-0.993675</td>\n",
              "      <td>2.532436</td>\n",
              "      <td>2.494498</td>\n",
              "      <td>-0.349739</td>\n",
              "      <td>-0.321412</td>\n",
              "      <td>-0.502932</td>\n",
              "      <td>-1.621269</td>\n",
              "      <td>-0.46606</td>\n",
              "    </tr>\n",
              "    <tr>\n",
              "      <th>4</th>\n",
              "      <td>-0.077696</td>\n",
              "      <td>1.586324</td>\n",
              "      <td>1.705269</td>\n",
              "      <td>0.709571</td>\n",
              "      <td>0.657718</td>\n",
              "      <td>0.857607</td>\n",
              "      <td>0.951200</td>\n",
              "      <td>1.061339</td>\n",
              "      <td>0.616801</td>\n",
              "      <td>-0.46606</td>\n",
              "    </tr>\n",
              "  </tbody>\n",
              "</table>\n",
              "</div>\n",
              "      <button class=\"colab-df-convert\" onclick=\"convertToInteractive('df-3a404a1f-fda3-41a1-b105-0c1014c4a9e4')\"\n",
              "              title=\"Convert this dataframe to an interactive table.\"\n",
              "              style=\"display:none;\">\n",
              "        \n",
              "  <svg xmlns=\"http://www.w3.org/2000/svg\" height=\"24px\"viewBox=\"0 0 24 24\"\n",
              "       width=\"24px\">\n",
              "    <path d=\"M0 0h24v24H0V0z\" fill=\"none\"/>\n",
              "    <path d=\"M18.56 5.44l.94 2.06.94-2.06 2.06-.94-2.06-.94-.94-2.06-.94 2.06-2.06.94zm-11 1L8.5 8.5l.94-2.06 2.06-.94-2.06-.94L8.5 2.5l-.94 2.06-2.06.94zm10 10l.94 2.06.94-2.06 2.06-.94-2.06-.94-.94-2.06-.94 2.06-2.06.94z\"/><path d=\"M17.41 7.96l-1.37-1.37c-.4-.4-.92-.59-1.43-.59-.52 0-1.04.2-1.43.59L10.3 9.45l-7.72 7.72c-.78.78-.78 2.05 0 2.83L4 21.41c.39.39.9.59 1.41.59.51 0 1.02-.2 1.41-.59l7.78-7.78 2.81-2.81c.8-.78.8-2.07 0-2.86zM5.41 20L4 18.59l7.72-7.72 1.47 1.35L5.41 20z\"/>\n",
              "  </svg>\n",
              "      </button>\n",
              "      \n",
              "  <style>\n",
              "    .colab-df-container {\n",
              "      display:flex;\n",
              "      flex-wrap:wrap;\n",
              "      gap: 12px;\n",
              "    }\n",
              "\n",
              "    .colab-df-convert {\n",
              "      background-color: #E8F0FE;\n",
              "      border: none;\n",
              "      border-radius: 50%;\n",
              "      cursor: pointer;\n",
              "      display: none;\n",
              "      fill: #1967D2;\n",
              "      height: 32px;\n",
              "      padding: 0 0 0 0;\n",
              "      width: 32px;\n",
              "    }\n",
              "\n",
              "    .colab-df-convert:hover {\n",
              "      background-color: #E2EBFA;\n",
              "      box-shadow: 0px 1px 2px rgba(60, 64, 67, 0.3), 0px 1px 3px 1px rgba(60, 64, 67, 0.15);\n",
              "      fill: #174EA6;\n",
              "    }\n",
              "\n",
              "    [theme=dark] .colab-df-convert {\n",
              "      background-color: #3B4455;\n",
              "      fill: #D2E3FC;\n",
              "    }\n",
              "\n",
              "    [theme=dark] .colab-df-convert:hover {\n",
              "      background-color: #434B5C;\n",
              "      box-shadow: 0px 1px 3px 1px rgba(0, 0, 0, 0.15);\n",
              "      filter: drop-shadow(0px 1px 2px rgba(0, 0, 0, 0.3));\n",
              "      fill: #FFFFFF;\n",
              "    }\n",
              "  </style>\n",
              "\n",
              "      <script>\n",
              "        const buttonEl =\n",
              "          document.querySelector('#df-3a404a1f-fda3-41a1-b105-0c1014c4a9e4 button.colab-df-convert');\n",
              "        buttonEl.style.display =\n",
              "          google.colab.kernel.accessAllowed ? 'block' : 'none';\n",
              "\n",
              "        async function convertToInteractive(key) {\n",
              "          const element = document.querySelector('#df-3a404a1f-fda3-41a1-b105-0c1014c4a9e4');\n",
              "          const dataTable =\n",
              "            await google.colab.kernel.invokeFunction('convertToInteractive',\n",
              "                                                     [key], {});\n",
              "          if (!dataTable) return;\n",
              "\n",
              "          const docLinkHtml = 'Like what you see? Visit the ' +\n",
              "            '<a target=\"_blank\" href=https://colab.research.google.com/notebooks/data_table.ipynb>data table notebook</a>'\n",
              "            + ' to learn more about interactive tables.';\n",
              "          element.innerHTML = '';\n",
              "          dataTable['output_type'] = 'display_data';\n",
              "          await google.colab.output.renderOutput(dataTable, element);\n",
              "          const docLink = document.createElement('div');\n",
              "          docLink.innerHTML = docLinkHtml;\n",
              "          element.appendChild(docLink);\n",
              "        }\n",
              "      </script>\n",
              "    </div>\n",
              "  </div>\n",
              "  "
            ]
          },
          "metadata": {},
          "execution_count": 79
        }
      ]
    },
    {
      "cell_type": "code",
      "source": [
        "X_test.head()"
      ],
      "metadata": {
        "colab": {
          "base_uri": "https://localhost:8080/",
          "height": 206
        },
        "id": "EmeMnQUrcpjQ",
        "outputId": "2ac83a4f-7663-4719-a12f-a5568238a624"
      },
      "id": "EmeMnQUrcpjQ",
      "execution_count": null,
      "outputs": [
        {
          "output_type": "execute_result",
          "data": {
            "text/plain": [
              "        Age    Height    Weight      Team       NOC      Year      City  \\\n",
              "0 -0.084417  0.185010  0.272479  1.276721  1.257944  0.990791  0.594364   \n",
              "1 -0.242863 -0.464264 -0.285795 -0.088597 -0.159451  0.190764 -1.491146   \n",
              "2  0.074030 -0.897113 -0.923822  2.516360  2.479354  0.524109 -1.304563   \n",
              "3 -0.559755 -0.680688 -1.402342 -1.031815 -1.078865  0.590778  0.626734   \n",
              "4  0.074030  1.050709  1.149766  0.040043 -0.054845  0.324102 -1.399309   \n",
              "\n",
              "      Event    E_male  E_winter  \n",
              "0  0.179601 -1.630220 -0.469312  \n",
              "1 -0.067102  0.613414  2.130779  \n",
              "2 -0.035298  0.613414  2.130779  \n",
              "3 -0.765092 -1.630220 -0.469312  \n",
              "4  3.068692  0.613414  2.130779  "
            ],
            "text/html": [
              "\n",
              "  <div id=\"df-5e66d9cf-d886-4dec-bb5c-fafe2bdafdf5\">\n",
              "    <div class=\"colab-df-container\">\n",
              "      <div>\n",
              "<style scoped>\n",
              "    .dataframe tbody tr th:only-of-type {\n",
              "        vertical-align: middle;\n",
              "    }\n",
              "\n",
              "    .dataframe tbody tr th {\n",
              "        vertical-align: top;\n",
              "    }\n",
              "\n",
              "    .dataframe thead th {\n",
              "        text-align: right;\n",
              "    }\n",
              "</style>\n",
              "<table border=\"1\" class=\"dataframe\">\n",
              "  <thead>\n",
              "    <tr style=\"text-align: right;\">\n",
              "      <th></th>\n",
              "      <th>Age</th>\n",
              "      <th>Height</th>\n",
              "      <th>Weight</th>\n",
              "      <th>Team</th>\n",
              "      <th>NOC</th>\n",
              "      <th>Year</th>\n",
              "      <th>City</th>\n",
              "      <th>Event</th>\n",
              "      <th>E_male</th>\n",
              "      <th>E_winter</th>\n",
              "    </tr>\n",
              "  </thead>\n",
              "  <tbody>\n",
              "    <tr>\n",
              "      <th>0</th>\n",
              "      <td>-0.084417</td>\n",
              "      <td>0.185010</td>\n",
              "      <td>0.272479</td>\n",
              "      <td>1.276721</td>\n",
              "      <td>1.257944</td>\n",
              "      <td>0.990791</td>\n",
              "      <td>0.594364</td>\n",
              "      <td>0.179601</td>\n",
              "      <td>-1.630220</td>\n",
              "      <td>-0.469312</td>\n",
              "    </tr>\n",
              "    <tr>\n",
              "      <th>1</th>\n",
              "      <td>-0.242863</td>\n",
              "      <td>-0.464264</td>\n",
              "      <td>-0.285795</td>\n",
              "      <td>-0.088597</td>\n",
              "      <td>-0.159451</td>\n",
              "      <td>0.190764</td>\n",
              "      <td>-1.491146</td>\n",
              "      <td>-0.067102</td>\n",
              "      <td>0.613414</td>\n",
              "      <td>2.130779</td>\n",
              "    </tr>\n",
              "    <tr>\n",
              "      <th>2</th>\n",
              "      <td>0.074030</td>\n",
              "      <td>-0.897113</td>\n",
              "      <td>-0.923822</td>\n",
              "      <td>2.516360</td>\n",
              "      <td>2.479354</td>\n",
              "      <td>0.524109</td>\n",
              "      <td>-1.304563</td>\n",
              "      <td>-0.035298</td>\n",
              "      <td>0.613414</td>\n",
              "      <td>2.130779</td>\n",
              "    </tr>\n",
              "    <tr>\n",
              "      <th>3</th>\n",
              "      <td>-0.559755</td>\n",
              "      <td>-0.680688</td>\n",
              "      <td>-1.402342</td>\n",
              "      <td>-1.031815</td>\n",
              "      <td>-1.078865</td>\n",
              "      <td>0.590778</td>\n",
              "      <td>0.626734</td>\n",
              "      <td>-0.765092</td>\n",
              "      <td>-1.630220</td>\n",
              "      <td>-0.469312</td>\n",
              "    </tr>\n",
              "    <tr>\n",
              "      <th>4</th>\n",
              "      <td>0.074030</td>\n",
              "      <td>1.050709</td>\n",
              "      <td>1.149766</td>\n",
              "      <td>0.040043</td>\n",
              "      <td>-0.054845</td>\n",
              "      <td>0.324102</td>\n",
              "      <td>-1.399309</td>\n",
              "      <td>3.068692</td>\n",
              "      <td>0.613414</td>\n",
              "      <td>2.130779</td>\n",
              "    </tr>\n",
              "  </tbody>\n",
              "</table>\n",
              "</div>\n",
              "      <button class=\"colab-df-convert\" onclick=\"convertToInteractive('df-5e66d9cf-d886-4dec-bb5c-fafe2bdafdf5')\"\n",
              "              title=\"Convert this dataframe to an interactive table.\"\n",
              "              style=\"display:none;\">\n",
              "        \n",
              "  <svg xmlns=\"http://www.w3.org/2000/svg\" height=\"24px\"viewBox=\"0 0 24 24\"\n",
              "       width=\"24px\">\n",
              "    <path d=\"M0 0h24v24H0V0z\" fill=\"none\"/>\n",
              "    <path d=\"M18.56 5.44l.94 2.06.94-2.06 2.06-.94-2.06-.94-.94-2.06-.94 2.06-2.06.94zm-11 1L8.5 8.5l.94-2.06 2.06-.94-2.06-.94L8.5 2.5l-.94 2.06-2.06.94zm10 10l.94 2.06.94-2.06 2.06-.94-2.06-.94-.94-2.06-.94 2.06-2.06.94z\"/><path d=\"M17.41 7.96l-1.37-1.37c-.4-.4-.92-.59-1.43-.59-.52 0-1.04.2-1.43.59L10.3 9.45l-7.72 7.72c-.78.78-.78 2.05 0 2.83L4 21.41c.39.39.9.59 1.41.59.51 0 1.02-.2 1.41-.59l7.78-7.78 2.81-2.81c.8-.78.8-2.07 0-2.86zM5.41 20L4 18.59l7.72-7.72 1.47 1.35L5.41 20z\"/>\n",
              "  </svg>\n",
              "      </button>\n",
              "      \n",
              "  <style>\n",
              "    .colab-df-container {\n",
              "      display:flex;\n",
              "      flex-wrap:wrap;\n",
              "      gap: 12px;\n",
              "    }\n",
              "\n",
              "    .colab-df-convert {\n",
              "      background-color: #E8F0FE;\n",
              "      border: none;\n",
              "      border-radius: 50%;\n",
              "      cursor: pointer;\n",
              "      display: none;\n",
              "      fill: #1967D2;\n",
              "      height: 32px;\n",
              "      padding: 0 0 0 0;\n",
              "      width: 32px;\n",
              "    }\n",
              "\n",
              "    .colab-df-convert:hover {\n",
              "      background-color: #E2EBFA;\n",
              "      box-shadow: 0px 1px 2px rgba(60, 64, 67, 0.3), 0px 1px 3px 1px rgba(60, 64, 67, 0.15);\n",
              "      fill: #174EA6;\n",
              "    }\n",
              "\n",
              "    [theme=dark] .colab-df-convert {\n",
              "      background-color: #3B4455;\n",
              "      fill: #D2E3FC;\n",
              "    }\n",
              "\n",
              "    [theme=dark] .colab-df-convert:hover {\n",
              "      background-color: #434B5C;\n",
              "      box-shadow: 0px 1px 3px 1px rgba(0, 0, 0, 0.15);\n",
              "      filter: drop-shadow(0px 1px 2px rgba(0, 0, 0, 0.3));\n",
              "      fill: #FFFFFF;\n",
              "    }\n",
              "  </style>\n",
              "\n",
              "      <script>\n",
              "        const buttonEl =\n",
              "          document.querySelector('#df-5e66d9cf-d886-4dec-bb5c-fafe2bdafdf5 button.colab-df-convert');\n",
              "        buttonEl.style.display =\n",
              "          google.colab.kernel.accessAllowed ? 'block' : 'none';\n",
              "\n",
              "        async function convertToInteractive(key) {\n",
              "          const element = document.querySelector('#df-5e66d9cf-d886-4dec-bb5c-fafe2bdafdf5');\n",
              "          const dataTable =\n",
              "            await google.colab.kernel.invokeFunction('convertToInteractive',\n",
              "                                                     [key], {});\n",
              "          if (!dataTable) return;\n",
              "\n",
              "          const docLinkHtml = 'Like what you see? Visit the ' +\n",
              "            '<a target=\"_blank\" href=https://colab.research.google.com/notebooks/data_table.ipynb>data table notebook</a>'\n",
              "            + ' to learn more about interactive tables.';\n",
              "          element.innerHTML = '';\n",
              "          dataTable['output_type'] = 'display_data';\n",
              "          await google.colab.output.renderOutput(dataTable, element);\n",
              "          const docLink = document.createElement('div');\n",
              "          docLink.innerHTML = docLinkHtml;\n",
              "          element.appendChild(docLink);\n",
              "        }\n",
              "      </script>\n",
              "    </div>\n",
              "  </div>\n",
              "  "
            ]
          },
          "metadata": {},
          "execution_count": 80
        }
      ]
    },
    {
      "cell_type": "code",
      "source": [
        "Y_train.head()"
      ],
      "metadata": {
        "colab": {
          "base_uri": "https://localhost:8080/",
          "height": 206
        },
        "id": "l5ufXBr-cp19",
        "outputId": "7bc84bb0-54a2-4204-a776-1cf701c28f6a"
      },
      "id": "l5ufXBr-cp19",
      "execution_count": null,
      "outputs": [
        {
          "output_type": "execute_result",
          "data": {
            "text/plain": [
              "        Medal\n",
              "209272    1.0\n",
              "117879    0.0\n",
              "47393     3.0\n",
              "266068    0.0\n",
              "138942    0.0"
            ],
            "text/html": [
              "\n",
              "  <div id=\"df-48dc9f7a-cdd4-40e4-977d-4780dedbb008\">\n",
              "    <div class=\"colab-df-container\">\n",
              "      <div>\n",
              "<style scoped>\n",
              "    .dataframe tbody tr th:only-of-type {\n",
              "        vertical-align: middle;\n",
              "    }\n",
              "\n",
              "    .dataframe tbody tr th {\n",
              "        vertical-align: top;\n",
              "    }\n",
              "\n",
              "    .dataframe thead th {\n",
              "        text-align: right;\n",
              "    }\n",
              "</style>\n",
              "<table border=\"1\" class=\"dataframe\">\n",
              "  <thead>\n",
              "    <tr style=\"text-align: right;\">\n",
              "      <th></th>\n",
              "      <th>Medal</th>\n",
              "    </tr>\n",
              "  </thead>\n",
              "  <tbody>\n",
              "    <tr>\n",
              "      <th>209272</th>\n",
              "      <td>1.0</td>\n",
              "    </tr>\n",
              "    <tr>\n",
              "      <th>117879</th>\n",
              "      <td>0.0</td>\n",
              "    </tr>\n",
              "    <tr>\n",
              "      <th>47393</th>\n",
              "      <td>3.0</td>\n",
              "    </tr>\n",
              "    <tr>\n",
              "      <th>266068</th>\n",
              "      <td>0.0</td>\n",
              "    </tr>\n",
              "    <tr>\n",
              "      <th>138942</th>\n",
              "      <td>0.0</td>\n",
              "    </tr>\n",
              "  </tbody>\n",
              "</table>\n",
              "</div>\n",
              "      <button class=\"colab-df-convert\" onclick=\"convertToInteractive('df-48dc9f7a-cdd4-40e4-977d-4780dedbb008')\"\n",
              "              title=\"Convert this dataframe to an interactive table.\"\n",
              "              style=\"display:none;\">\n",
              "        \n",
              "  <svg xmlns=\"http://www.w3.org/2000/svg\" height=\"24px\"viewBox=\"0 0 24 24\"\n",
              "       width=\"24px\">\n",
              "    <path d=\"M0 0h24v24H0V0z\" fill=\"none\"/>\n",
              "    <path d=\"M18.56 5.44l.94 2.06.94-2.06 2.06-.94-2.06-.94-.94-2.06-.94 2.06-2.06.94zm-11 1L8.5 8.5l.94-2.06 2.06-.94-2.06-.94L8.5 2.5l-.94 2.06-2.06.94zm10 10l.94 2.06.94-2.06 2.06-.94-2.06-.94-.94-2.06-.94 2.06-2.06.94z\"/><path d=\"M17.41 7.96l-1.37-1.37c-.4-.4-.92-.59-1.43-.59-.52 0-1.04.2-1.43.59L10.3 9.45l-7.72 7.72c-.78.78-.78 2.05 0 2.83L4 21.41c.39.39.9.59 1.41.59.51 0 1.02-.2 1.41-.59l7.78-7.78 2.81-2.81c.8-.78.8-2.07 0-2.86zM5.41 20L4 18.59l7.72-7.72 1.47 1.35L5.41 20z\"/>\n",
              "  </svg>\n",
              "      </button>\n",
              "      \n",
              "  <style>\n",
              "    .colab-df-container {\n",
              "      display:flex;\n",
              "      flex-wrap:wrap;\n",
              "      gap: 12px;\n",
              "    }\n",
              "\n",
              "    .colab-df-convert {\n",
              "      background-color: #E8F0FE;\n",
              "      border: none;\n",
              "      border-radius: 50%;\n",
              "      cursor: pointer;\n",
              "      display: none;\n",
              "      fill: #1967D2;\n",
              "      height: 32px;\n",
              "      padding: 0 0 0 0;\n",
              "      width: 32px;\n",
              "    }\n",
              "\n",
              "    .colab-df-convert:hover {\n",
              "      background-color: #E2EBFA;\n",
              "      box-shadow: 0px 1px 2px rgba(60, 64, 67, 0.3), 0px 1px 3px 1px rgba(60, 64, 67, 0.15);\n",
              "      fill: #174EA6;\n",
              "    }\n",
              "\n",
              "    [theme=dark] .colab-df-convert {\n",
              "      background-color: #3B4455;\n",
              "      fill: #D2E3FC;\n",
              "    }\n",
              "\n",
              "    [theme=dark] .colab-df-convert:hover {\n",
              "      background-color: #434B5C;\n",
              "      box-shadow: 0px 1px 3px 1px rgba(0, 0, 0, 0.15);\n",
              "      filter: drop-shadow(0px 1px 2px rgba(0, 0, 0, 0.3));\n",
              "      fill: #FFFFFF;\n",
              "    }\n",
              "  </style>\n",
              "\n",
              "      <script>\n",
              "        const buttonEl =\n",
              "          document.querySelector('#df-48dc9f7a-cdd4-40e4-977d-4780dedbb008 button.colab-df-convert');\n",
              "        buttonEl.style.display =\n",
              "          google.colab.kernel.accessAllowed ? 'block' : 'none';\n",
              "\n",
              "        async function convertToInteractive(key) {\n",
              "          const element = document.querySelector('#df-48dc9f7a-cdd4-40e4-977d-4780dedbb008');\n",
              "          const dataTable =\n",
              "            await google.colab.kernel.invokeFunction('convertToInteractive',\n",
              "                                                     [key], {});\n",
              "          if (!dataTable) return;\n",
              "\n",
              "          const docLinkHtml = 'Like what you see? Visit the ' +\n",
              "            '<a target=\"_blank\" href=https://colab.research.google.com/notebooks/data_table.ipynb>data table notebook</a>'\n",
              "            + ' to learn more about interactive tables.';\n",
              "          element.innerHTML = '';\n",
              "          dataTable['output_type'] = 'display_data';\n",
              "          await google.colab.output.renderOutput(dataTable, element);\n",
              "          const docLink = document.createElement('div');\n",
              "          docLink.innerHTML = docLinkHtml;\n",
              "          element.appendChild(docLink);\n",
              "        }\n",
              "      </script>\n",
              "    </div>\n",
              "  </div>\n",
              "  "
            ]
          },
          "metadata": {},
          "execution_count": 81
        }
      ]
    },
    {
      "cell_type": "code",
      "source": [
        "Y_train=Y_train.astype(int)\n",
        "Y_test=Y_test.astype(int)"
      ],
      "metadata": {
        "id": "V3f9J1xMcqFW"
      },
      "id": "V3f9J1xMcqFW",
      "execution_count": null,
      "outputs": []
    },
    {
      "cell_type": "code",
      "source": [
        "#Training random forrest model\n",
        "rf = RandomForestClassifier()\n",
        "rf.fit(X_train,Y_train)\n",
        "\n",
        "\n"
      ],
      "metadata": {
        "id": "Vx9OltuN-btg",
        "colab": {
          "base_uri": "https://localhost:8080/"
        },
        "outputId": "25f4714a-203a-4480-8bfc-f58220bc7b15"
      },
      "id": "Vx9OltuN-btg",
      "execution_count": null,
      "outputs": [
        {
          "output_type": "stream",
          "name": "stderr",
          "text": [
            "/usr/local/lib/python3.7/dist-packages/ipykernel_launcher.py:3: DataConversionWarning: A column-vector y was passed when a 1d array was expected. Please change the shape of y to (n_samples,), for example using ravel().\n",
            "  This is separate from the ipykernel package so we can avoid doing imports until\n"
          ]
        },
        {
          "output_type": "execute_result",
          "data": {
            "text/plain": [
              "RandomForestClassifier()"
            ]
          },
          "metadata": {},
          "execution_count": 83
        }
      ]
    },
    {
      "cell_type": "code",
      "source": [
        "X_test.shape"
      ],
      "metadata": {
        "colab": {
          "base_uri": "https://localhost:8080/"
        },
        "id": "ij600TYbhX5n",
        "outputId": "af47ff67-d3e1-4fcf-9e76-872fafcd3db5"
      },
      "id": "ij600TYbhX5n",
      "execution_count": null,
      "outputs": [
        {
          "output_type": "execute_result",
          "data": {
            "text/plain": [
              "(89469, 10)"
            ]
          },
          "metadata": {},
          "execution_count": 84
        }
      ]
    },
    {
      "cell_type": "code",
      "source": [
        "y_pred = rf.predict(X_test)"
      ],
      "metadata": {
        "id": "3vaFbE_uw14W"
      },
      "id": "3vaFbE_uw14W",
      "execution_count": null,
      "outputs": []
    },
    {
      "cell_type": "code",
      "source": [
        "from sklearn.metrics import classification_report\n",
        "print(\"Classification Report:\\n\\n\", classification_report(Y_test, y_pred))"
      ],
      "metadata": {
        "colab": {
          "base_uri": "https://localhost:8080/"
        },
        "id": "uSbp7oCCzZQC",
        "outputId": "a1776020-e1df-46ab-c335-75f8ad0c177d"
      },
      "id": "uSbp7oCCzZQC",
      "execution_count": null,
      "outputs": [
        {
          "output_type": "stream",
          "name": "stdout",
          "text": [
            "Classification Report:\n",
            "\n",
            "               precision    recall  f1-score   support\n",
            "\n",
            "           0       0.89      0.99      0.94     76429\n",
            "           1       0.70      0.21      0.33      4387\n",
            "           2       0.67      0.25      0.36      4237\n",
            "           3       0.70      0.34      0.46      4416\n",
            "\n",
            "    accuracy                           0.88     89469\n",
            "   macro avg       0.74      0.45      0.52     89469\n",
            "weighted avg       0.86      0.88      0.86     89469\n",
            "\n"
          ]
        }
      ]
    },
    {
      "cell_type": "code",
      "source": [
        ""
      ],
      "metadata": {
        "id": "71v8v0Fd0Bwa"
      },
      "id": "71v8v0Fd0Bwa",
      "execution_count": null,
      "outputs": []
    },
    {
      "cell_type": "code",
      "source": [
        ""
      ],
      "metadata": {
        "id": "r529ZLSvfaFd"
      },
      "id": "r529ZLSvfaFd",
      "execution_count": null,
      "outputs": []
    },
    {
      "cell_type": "code",
      "source": [
        ""
      ],
      "metadata": {
        "id": "Gq3FTx3whNTA"
      },
      "id": "Gq3FTx3whNTA",
      "execution_count": null,
      "outputs": []
    }
  ],
  "metadata": {
    "kernelspec": {
      "display_name": "Python 3 (ipykernel)",
      "language": "python",
      "name": "python3"
    },
    "language_info": {
      "codemirror_mode": {
        "name": "ipython",
        "version": 3
      },
      "file_extension": ".py",
      "mimetype": "text/x-python",
      "name": "python",
      "nbconvert_exporter": "python",
      "pygments_lexer": "ipython3",
      "version": "3.9.7"
    },
    "colab": {
      "name": "Code_for_medal_prediction.ipynb",
      "provenance": [],
      "collapsed_sections": []
    }
  },
  "nbformat": 4,
  "nbformat_minor": 5
}

{"cells":[{"cell_type":"code","source":["import pandas as pd\n","import numpy as np\n","import matplotlib as mp"],"metadata":{"id":"NNUhgV1lQFIa","executionInfo":{"status":"ok","timestamp":1651905692570,"user_tz":420,"elapsed":352,"user":{"displayName":"ramisetty teja","userId":"16193363273133164312"}}},"id":"NNUhgV1lQFIa","execution_count":1,"outputs":[]},{"cell_type":"code","source":["## Importing data from csv files\n","athlete = pd.read_csv(\"athlete_events.csv\" , on_bad_lines='skip')\n","region = pd.read_csv(\"noc_regions.csv\")\n","athlete"],"metadata":{"colab":{"base_uri":"https://localhost:8080/","height":869},"id":"S7NqTOu3QHLf","executionInfo":{"status":"ok","timestamp":1651905730409,"user_tz":420,"elapsed":471,"user":{"displayName":"ramisetty teja","userId":"16193363273133164312"}},"outputId":"12b2d5ac-5f89-4a9c-ecd1-a74603c73885"},"id":"S7NqTOu3QHLf","execution_count":2,"outputs":[{"output_type":"execute_result","data":{"text/plain":["          ID                      Name Sex   Age Height  Weight  \\\n","0          1                 A Dijiang   M  24.0    180    80.0   \n","1          2                  A Lamusi   M  23.0    170    60.0   \n","2          3       Gunnar Nielsen Aaby   M  24.0    NaN     NaN   \n","3          4      Edgar Lindenau Aabye   M  34.0    NaN     NaN   \n","4          5  Christine Jacoba Aaftink   F  21.0    185    82.0   \n","...      ...                       ...  ..   ...    ...     ...   \n","41313  21308  Per Mikael Christiansson   M  23.0    186    70.0   \n","41314  21309        Stphane Christidis   M  23.0    192    81.0   \n","41315  21309        Stphane Christidis   M  31.0    192    81.0   \n","41316  21310      Alan Thomas Christie   M  18.0    NaN     NaN   \n","41317  21310      Alan Thomas Christie   M  18.0      N     NaN   \n","\n","                 Team  NOC        Games    Year  Season         City  \\\n","0               China  CHN  1992 Summer  1992.0  Summer    Barcelona   \n","1               China  CHN  2012 Summer  2012.0  Summer       London   \n","2             Denmark  DEN  1920 Summer  1920.0  Summer    Antwerpen   \n","3      Denmark/Sweden  DEN  1900 Summer  1900.0  Summer        Paris   \n","4         Netherlands  NED  1988 Winter  1988.0  Winter      Calgary   \n","...               ...  ...          ...     ...     ...          ...   \n","41313          Sweden  SWE  1984 Summer  1984.0  Summer  Los Angeles   \n","41314          France  FRA  2004 Summer  2004.0  Summer       Athina   \n","41315          France  FRA  2012 Summer  2012.0  Summer       London   \n","41316          Canada  CAN  1924 Summer  1924.0  Summer        Paris   \n","41317             NaN  NaN          NaN     NaN     NaN          NaN   \n","\n","               Sport                                         Event Medal  \n","0         Basketball                   Basketball Men's Basketball   NaN  \n","1               Judo                  Judo Men's Extra-Lightweight   NaN  \n","2           Football                       Football Men's Football   NaN  \n","3         Tug-Of-War                   Tug-Of-War Men's Tug-Of-War  Gold  \n","4      Speed Skating              Speed Skating Women's 500 metres   NaN  \n","...              ...                                           ...   ...  \n","41313        Cycling  Cycling Men's 100 kilometres Team Time Trial   NaN  \n","41314        Sailing                           Sailing Mixed Skiff   NaN  \n","41315        Sailing                           Sailing Men's Skiff   NaN  \n","41316      Athletics                    Athletics Men's 400 metres   NaN  \n","41317            NaN                                           NaN   NaN  \n","\n","[41318 rows x 15 columns]"],"text/html":["\n","  <div id=\"df-33847f1a-abb6-4d0e-ae37-61b6569260d5\">\n","    <div class=\"colab-df-container\">\n","      <div>\n","<style scoped>\n","    .dataframe tbody tr th:only-of-type {\n","        vertical-align: middle;\n","    }\n","\n","    .dataframe tbody tr th {\n","        vertical-align: top;\n","    }\n","\n","    .dataframe thead th {\n","        text-align: right;\n","    }\n","</style>\n","<table border=\"1\" class=\"dataframe\">\n","  <thead>\n","    <tr style=\"text-align: right;\">\n","      <th></th>\n","      <th>ID</th>\n","      <th>Name</th>\n","      <th>Sex</th>\n","      <th>Age</th>\n","      <th>Height</th>\n","      <th>Weight</th>\n","      <th>Team</th>\n","      <th>NOC</th>\n","      <th>Games</th>\n","      <th>Year</th>\n","      <th>Season</th>\n","      <th>City</th>\n","      <th>Sport</th>\n","      <th>Event</th>\n","      <th>Medal</th>\n","    </tr>\n","  </thead>\n","  <tbody>\n","    <tr>\n","      <th>0</th>\n","      <td>1</td>\n","      <td>A Dijiang</td>\n","      <td>M</td>\n","      <td>24.0</td>\n","      <td>180</td>\n","      <td>80.0</td>\n","      <td>China</td>\n","      <td>CHN</td>\n","      <td>1992 Summer</td>\n","      <td>1992.0</td>\n","      <td>Summer</td>\n","      <td>Barcelona</td>\n","      <td>Basketball</td>\n","      <td>Basketball Men's Basketball</td>\n","      <td>NaN</td>\n","    </tr>\n","    <tr>\n","      <th>1</th>\n","      <td>2</td>\n","      <td>A Lamusi</td>\n","      <td>M</td>\n","      <td>23.0</td>\n","      <td>170</td>\n","      <td>60.0</td>\n","      <td>China</td>\n","      <td>CHN</td>\n","      <td>2012 Summer</td>\n","      <td>2012.0</td>\n","      <td>Summer</td>\n","      <td>London</td>\n","      <td>Judo</td>\n","      <td>Judo Men's Extra-Lightweight</td>\n","      <td>NaN</td>\n","    </tr>\n","    <tr>\n","      <th>2</th>\n","      <td>3</td>\n","      <td>Gunnar Nielsen Aaby</td>\n","      <td>M</td>\n","      <td>24.0</td>\n","      <td>NaN</td>\n","      <td>NaN</td>\n","      <td>Denmark</td>\n","      <td>DEN</td>\n","      <td>1920 Summer</td>\n","      <td>1920.0</td>\n","      <td>Summer</td>\n","      <td>Antwerpen</td>\n","      <td>Football</td>\n","      <td>Football Men's Football</td>\n","      <td>NaN</td>\n","    </tr>\n","    <tr>\n","      <th>3</th>\n","      <td>4</td>\n","      <td>Edgar Lindenau Aabye</td>\n","      <td>M</td>\n","      <td>34.0</td>\n","      <td>NaN</td>\n","      <td>NaN</td>\n","      <td>Denmark/Sweden</td>\n","      <td>DEN</td>\n","      <td>1900 Summer</td>\n","      <td>1900.0</td>\n","      <td>Summer</td>\n","      <td>Paris</td>\n","      <td>Tug-Of-War</td>\n","      <td>Tug-Of-War Men's Tug-Of-War</td>\n","      <td>Gold</td>\n","    </tr>\n","    <tr>\n","      <th>4</th>\n","      <td>5</td>\n","      <td>Christine Jacoba Aaftink</td>\n","      <td>F</td>\n","      <td>21.0</td>\n","      <td>185</td>\n","      <td>82.0</td>\n","      <td>Netherlands</td>\n","      <td>NED</td>\n","      <td>1988 Winter</td>\n","      <td>1988.0</td>\n","      <td>Winter</td>\n","      <td>Calgary</td>\n","      <td>Speed Skating</td>\n","      <td>Speed Skating Women's 500 metres</td>\n","      <td>NaN</td>\n","    </tr>\n","    <tr>\n","      <th>...</th>\n","      <td>...</td>\n","      <td>...</td>\n","      <td>...</td>\n","      <td>...</td>\n","      <td>...</td>\n","      <td>...</td>\n","      <td>...</td>\n","      <td>...</td>\n","      <td>...</td>\n","      <td>...</td>\n","      <td>...</td>\n","      <td>...</td>\n","      <td>...</td>\n","      <td>...</td>\n","      <td>...</td>\n","    </tr>\n","    <tr>\n","      <th>41313</th>\n","      <td>21308</td>\n","      <td>Per Mikael Christiansson</td>\n","      <td>M</td>\n","      <td>23.0</td>\n","      <td>186</td>\n","      <td>70.0</td>\n","      <td>Sweden</td>\n","      <td>SWE</td>\n","      <td>1984 Summer</td>\n","      <td>1984.0</td>\n","      <td>Summer</td>\n","      <td>Los Angeles</td>\n","      <td>Cycling</td>\n","      <td>Cycling Men's 100 kilometres Team Time Trial</td>\n","      <td>NaN</td>\n","    </tr>\n","    <tr>\n","      <th>41314</th>\n","      <td>21309</td>\n","      <td>Stphane Christidis</td>\n","      <td>M</td>\n","      <td>23.0</td>\n","      <td>192</td>\n","      <td>81.0</td>\n","      <td>France</td>\n","      <td>FRA</td>\n","      <td>2004 Summer</td>\n","      <td>2004.0</td>\n","      <td>Summer</td>\n","      <td>Athina</td>\n","      <td>Sailing</td>\n","      <td>Sailing Mixed Skiff</td>\n","      <td>NaN</td>\n","    </tr>\n","    <tr>\n","      <th>41315</th>\n","      <td>21309</td>\n","      <td>Stphane Christidis</td>\n","      <td>M</td>\n","      <td>31.0</td>\n","      <td>192</td>\n","      <td>81.0</td>\n","      <td>France</td>\n","      <td>FRA</td>\n","      <td>2012 Summer</td>\n","      <td>2012.0</td>\n","      <td>Summer</td>\n","      <td>London</td>\n","      <td>Sailing</td>\n","      <td>Sailing Men's Skiff</td>\n","      <td>NaN</td>\n","    </tr>\n","    <tr>\n","      <th>41316</th>\n","      <td>21310</td>\n","      <td>Alan Thomas Christie</td>\n","      <td>M</td>\n","      <td>18.0</td>\n","      <td>NaN</td>\n","      <td>NaN</td>\n","      <td>Canada</td>\n","      <td>CAN</td>\n","      <td>1924 Summer</td>\n","      <td>1924.0</td>\n","      <td>Summer</td>\n","      <td>Paris</td>\n","      <td>Athletics</td>\n","      <td>Athletics Men's 400 metres</td>\n","      <td>NaN</td>\n","    </tr>\n","    <tr>\n","      <th>41317</th>\n","      <td>21310</td>\n","      <td>Alan Thomas Christie</td>\n","      <td>M</td>\n","      <td>18.0</td>\n","      <td>N</td>\n","      <td>NaN</td>\n","      <td>NaN</td>\n","      <td>NaN</td>\n","      <td>NaN</td>\n","      <td>NaN</td>\n","      <td>NaN</td>\n","      <td>NaN</td>\n","      <td>NaN</td>\n","      <td>NaN</td>\n","      <td>NaN</td>\n","    </tr>\n","  </tbody>\n","</table>\n","<p>41318 rows × 15 columns</p>\n","</div>\n","      <button class=\"colab-df-convert\" onclick=\"convertToInteractive('df-33847f1a-abb6-4d0e-ae37-61b6569260d5')\"\n","              title=\"Convert this dataframe to an interactive table.\"\n","              style=\"display:none;\">\n","        \n","  <svg xmlns=\"http://www.w3.org/2000/svg\" height=\"24px\"viewBox=\"0 0 24 24\"\n","       width=\"24px\">\n","    <path d=\"M0 0h24v24H0V0z\" fill=\"none\"/>\n","    <path d=\"M18.56 5.44l.94 2.06.94-2.06 2.06-.94-2.06-.94-.94-2.06-.94 2.06-2.06.94zm-11 1L8.5 8.5l.94-2.06 2.06-.94-2.06-.94L8.5 2.5l-.94 2.06-2.06.94zm10 10l.94 2.06.94-2.06 2.06-.94-2.06-.94-.94-2.06-.94 2.06-2.06.94z\"/><path d=\"M17.41 7.96l-1.37-1.37c-.4-.4-.92-.59-1.43-.59-.52 0-1.04.2-1.43.59L10.3 9.45l-7.72 7.72c-.78.78-.78 2.05 0 2.83L4 21.41c.39.39.9.59 1.41.59.51 0 1.02-.2 1.41-.59l7.78-7.78 2.81-2.81c.8-.78.8-2.07 0-2.86zM5.41 20L4 18.59l7.72-7.72 1.47 1.35L5.41 20z\"/>\n","  </svg>\n","      </button>\n","      \n","  <style>\n","    .colab-df-container {\n","      display:flex;\n","      flex-wrap:wrap;\n","      gap: 12px;\n","    }\n","\n","    .colab-df-convert {\n","      background-color: #E8F0FE;\n","      border: none;\n","      border-radius: 50%;\n","      cursor: pointer;\n","      display: none;\n","      fill: #1967D2;\n","      height: 32px;\n","      padding: 0 0 0 0;\n","      width: 32px;\n","    }\n","\n","    .colab-df-convert:hover {\n","      background-color: #E2EBFA;\n","      box-shadow: 0px 1px 2px rgba(60, 64, 67, 0.3), 0px 1px 3px 1px rgba(60, 64, 67, 0.15);\n","      fill: #174EA6;\n","    }\n","\n","    [theme=dark] .colab-df-convert {\n","      background-color: #3B4455;\n","      fill: #D2E3FC;\n","    }\n","\n","    [theme=dark] .colab-df-convert:hover {\n","      background-color: #434B5C;\n","      box-shadow: 0px 1px 3px 1px rgba(0, 0, 0, 0.15);\n","      filter: drop-shadow(0px 1px 2px rgba(0, 0, 0, 0.3));\n","      fill: #FFFFFF;\n","    }\n","  </style>\n","\n","      <script>\n","        const buttonEl =\n","          document.querySelector('#df-33847f1a-abb6-4d0e-ae37-61b6569260d5 button.colab-df-convert');\n","        buttonEl.style.display =\n","          google.colab.kernel.accessAllowed ? 'block' : 'none';\n","\n","        async function convertToInteractive(key) {\n","          const element = document.querySelector('#df-33847f1a-abb6-4d0e-ae37-61b6569260d5');\n","          const dataTable =\n","            await google.colab.kernel.invokeFunction('convertToInteractive',\n","                                                     [key], {});\n","          if (!dataTable) return;\n","\n","          const docLinkHtml = 'Like what you see? Visit the ' +\n","            '<a target=\"_blank\" href=https://colab.research.google.com/notebooks/data_table.ipynb>data table notebook</a>'\n","            + ' to learn more about interactive tables.';\n","          element.innerHTML = '';\n","          dataTable['output_type'] = 'display_data';\n","          await google.colab.output.renderOutput(dataTable, element);\n","          const docLink = document.createElement('div');\n","          docLink.innerHTML = docLinkHtml;\n","          element.appendChild(docLink);\n","        }\n","      </script>\n","    </div>\n","  </div>\n","  "]},"metadata":{},"execution_count":2}]},{"cell_type":"code","source":["#Displaying the columns in the dataset\n","athlete.columns"],"metadata":{"colab":{"base_uri":"https://localhost:8080/"},"id":"1y-u6p6PQRQm","executionInfo":{"status":"ok","timestamp":1651905739597,"user_tz":420,"elapsed":175,"user":{"displayName":"ramisetty teja","userId":"16193363273133164312"}},"outputId":"192198ba-9895-4d6a-e74c-51226ffad976"},"id":"1y-u6p6PQRQm","execution_count":3,"outputs":[{"output_type":"execute_result","data":{"text/plain":["Index(['ID', 'Name', 'Sex', 'Age', 'Height', 'Weight', 'Team', 'NOC', 'Games',\n","       'Year', 'Season', 'City', 'Sport', 'Event', 'Medal'],\n","      dtype='object')"]},"metadata":{},"execution_count":3}]},{"cell_type":"code","source":["#The first step is to check the null values in each individual column\n","\n","print(athlete[\"ID\"].isnull().value_counts())\n","print(\"There are no null values in the ID column\")"],"metadata":{"colab":{"base_uri":"https://localhost:8080/"},"id":"Dgu6arzKQTk0","executionInfo":{"status":"ok","timestamp":1651905752198,"user_tz":420,"elapsed":152,"user":{"displayName":"ramisetty teja","userId":"16193363273133164312"}},"outputId":"377be9d6-bf4d-4218-f5f9-524d0fa3cda7"},"id":"Dgu6arzKQTk0","execution_count":4,"outputs":[{"output_type":"stream","name":"stdout","text":["False    41318\n","Name: ID, dtype: int64\n","There are no null values in the ID column\n"]}]},{"cell_type":"code","source":["# Checking null values in the name column\n","print(athlete['Name'].isnull().value_counts())\n","print(\"There are no null values in the Name column\")"],"metadata":{"colab":{"base_uri":"https://localhost:8080/"},"id":"ZOHk7RntQWqR","executionInfo":{"status":"ok","timestamp":1651905763287,"user_tz":420,"elapsed":163,"user":{"displayName":"ramisetty teja","userId":"16193363273133164312"}},"outputId":"886d7a3b-d363-4303-c697-da2905db17f9"},"id":"ZOHk7RntQWqR","execution_count":5,"outputs":[{"output_type":"stream","name":"stdout","text":["False    41318\n","Name: Name, dtype: int64\n","There are no null values in the Name column\n"]}]},{"cell_type":"code","source":["#Checking null values in the Sex column\n","\n","print(athlete['Sex'].isnull().value_counts(),\"\\n\") \n","print(\"Data in the column \\n\",athlete['Sex'].value_counts())"],"metadata":{"colab":{"base_uri":"https://localhost:8080/"},"id":"_sHj7VOVQZWu","executionInfo":{"status":"ok","timestamp":1651905771193,"user_tz":420,"elapsed":178,"user":{"displayName":"ramisetty teja","userId":"16193363273133164312"}},"outputId":"20b8e2c1-669a-4719-8c4d-5c3dd554b585"},"id":"_sHj7VOVQZWu","execution_count":6,"outputs":[{"output_type":"stream","name":"stdout","text":["False    41318\n","Name: Sex, dtype: int64 \n","\n","Data in the column \n"," M    30706\n","F    10612\n","Name: Sex, dtype: int64\n"]}]},{"cell_type":"code","source":["athlete['Sex'].value_counts()"],"metadata":{"colab":{"base_uri":"https://localhost:8080/"},"id":"YOLDPOVvQbR6","executionInfo":{"status":"ok","timestamp":1651905778140,"user_tz":420,"elapsed":166,"user":{"displayName":"ramisetty teja","userId":"16193363273133164312"}},"outputId":"825a3717-39a3-43bb-c95f-f77f6e73472a"},"id":"YOLDPOVvQbR6","execution_count":7,"outputs":[{"output_type":"execute_result","data":{"text/plain":["M    30706\n","F    10612\n","Name: Sex, dtype: int64"]},"metadata":{},"execution_count":7}]},{"cell_type":"code","source":["#Checking null values in the Age colum\n","#athlete['Age'] = pd.to_numeric(athlete['Age'], errors='coerce')\n","print(\"Checking for null values \\n\",athlete['Age'].isnull().value_counts(),\"\\n\") #There are 9474 null values\n","print(\"Finding invalid age\\n\", athlete[\"Age\"][(athlete['Age']>100) | (athlete['Age']<0)])"],"metadata":{"colab":{"base_uri":"https://localhost:8080/"},"id":"JNkfL4vsQc_j","executionInfo":{"status":"ok","timestamp":1651905787377,"user_tz":420,"elapsed":171,"user":{"displayName":"ramisetty teja","userId":"16193363273133164312"}},"outputId":"63176d3f-ca5f-4b31-fa05-9c8d9b685d22"},"id":"JNkfL4vsQc_j","execution_count":8,"outputs":[{"output_type":"stream","name":"stdout","text":["Checking for null values \n"," False    39816\n","True      1502\n","Name: Age, dtype: int64 \n","\n","Finding invalid age\n"," Series([], Name: Age, dtype: float64)\n"]}]},{"cell_type":"code","source":["#Replacing null values with median\n","mean_val = athlete['Age'].median()\n","athlete['Age'].fillna(value=mean_val, inplace=True)\n","\n","print(athlete['Age'].isnull().value_counts(),\"\\n\") "],"metadata":{"colab":{"base_uri":"https://localhost:8080/"},"id":"aW-B3JP6QfPy","executionInfo":{"status":"ok","timestamp":1651905794711,"user_tz":420,"elapsed":174,"user":{"displayName":"ramisetty teja","userId":"16193363273133164312"}},"outputId":"c076f396-34c9-4772-dc8c-78ad775d496b"},"id":"aW-B3JP6QfPy","execution_count":9,"outputs":[{"output_type":"stream","name":"stdout","text":["False    41318\n","Name: Age, dtype: int64 \n","\n"]}]},{"cell_type":"code","source":["#Checking null values in the Height column\n","print(athlete['Height'].isnull().value_counts(),\"\\n\") "],"metadata":{"colab":{"base_uri":"https://localhost:8080/"},"id":"pyon4L3HQhCt","executionInfo":{"status":"ok","timestamp":1651905802427,"user_tz":420,"elapsed":150,"user":{"displayName":"ramisetty teja","userId":"16193363273133164312"}},"outputId":"6dc993bf-b022-4930-9e11-751c8b98b918"},"id":"pyon4L3HQhCt","execution_count":10,"outputs":[{"output_type":"stream","name":"stdout","text":["False    31987\n","True      9331\n","Name: Height, dtype: int64 \n","\n"]}]},{"cell_type":"code","source":["#Replacing null values with median\n","athlete['Height'] = pd.to_numeric(athlete['Height'], errors='coerce')\n","mean_val = athlete['Height'].median()\n","athlete['Height'].fillna(value=mean_val, inplace=True)\n","print(athlete['Height'].isnull().value_counts(),\"\\n\") "],"metadata":{"colab":{"base_uri":"https://localhost:8080/"},"id":"xiaZqb2PQi7T","executionInfo":{"status":"ok","timestamp":1651905810597,"user_tz":420,"elapsed":170,"user":{"displayName":"ramisetty teja","userId":"16193363273133164312"}},"outputId":"ba468cb1-7bce-4301-90e0-f02a62bf2d16"},"id":"xiaZqb2PQi7T","execution_count":11,"outputs":[{"output_type":"stream","name":"stdout","text":["False    41318\n","Name: Height, dtype: int64 \n","\n"]}]},{"cell_type":"code","source":["#Checking null values in the weight column\n","athlete['Weight'] = pd.to_numeric(athlete['Weight'], errors='coerce')\n","print(athlete['Weight'].isnull().value_counts(),\"\\n\") #There are 62875 null values\n","print(\"Chcking for invalid data \\n\",athlete[\"Weight\"][athlete[\"Weight\"]<=0])"],"metadata":{"colab":{"base_uri":"https://localhost:8080/"},"id":"ZgC2TI-MQk6l","executionInfo":{"status":"ok","timestamp":1651905818168,"user_tz":420,"elapsed":144,"user":{"displayName":"ramisetty teja","userId":"16193363273133164312"}},"outputId":"df95989c-7f42-49ef-e4b9-ad527a8b66d1"},"id":"ZgC2TI-MQk6l","execution_count":12,"outputs":[{"output_type":"stream","name":"stdout","text":["False    31515\n","True      9803\n","Name: Weight, dtype: int64 \n","\n","Chcking for invalid data \n"," Series([], Name: Weight, dtype: float64)\n"]}]},{"cell_type":"code","source":["#Replacing null values with median\n","med_val = athlete['Weight'].median()\n","athlete['Weight'].fillna(value=med_val, inplace=True)\n","print(athlete['Weight'].isnull().value_counts(),\"\\n\") "],"metadata":{"colab":{"base_uri":"https://localhost:8080/"},"id":"GWN7CiN3QmxP","executionInfo":{"status":"ok","timestamp":1651905825284,"user_tz":420,"elapsed":160,"user":{"displayName":"ramisetty teja","userId":"16193363273133164312"}},"outputId":"5e19f41b-39f3-4fc0-b28c-68570aa5913a"},"id":"GWN7CiN3QmxP","execution_count":13,"outputs":[{"output_type":"stream","name":"stdout","text":["False    41318\n","Name: Weight, dtype: int64 \n","\n"]}]},{"cell_type":"code","source":["#Checking null values in the Team column\n","print(athlete['Team'].isnull().value_counts(),\"\\n\") \n","print(\"Data \\n\",athlete['Team'].value_counts())"],"metadata":{"colab":{"base_uri":"https://localhost:8080/"},"id":"VXEY3ot5QogU","executionInfo":{"status":"ok","timestamp":1651905832852,"user_tz":420,"elapsed":166,"user":{"displayName":"ramisetty teja","userId":"16193363273133164312"}},"outputId":"fbf6f01a-4514-498d-84af-c7570a5b40e6"},"id":"VXEY3ot5QogU","execution_count":14,"outputs":[{"output_type":"stream","name":"stdout","text":["False    41317\n","True         1\n","Name: Team, dtype: int64 \n","\n","Data \n"," United States                  2654\n","France                         2485\n","Italy                          2353\n","Great Britain                  1826\n","Canada                         1459\n","                               ... \n","Socit Nautique de Bayonne-1       1\n","Anitra                            1\n","White Lady                        1\n","Web III                           1\n","KNS                               1\n","Name: Team, Length: 629, dtype: int64\n"]}]},{"cell_type":"code","source":["#Checking null values in the NOC column\n","print(athlete['NOC'].isnull().value_counts(),\"\\n\") \n"],"metadata":{"colab":{"base_uri":"https://localhost:8080/"},"id":"KL95viMZQqWq","executionInfo":{"status":"ok","timestamp":1651905840814,"user_tz":420,"elapsed":182,"user":{"displayName":"ramisetty teja","userId":"16193363273133164312"}},"outputId":"47f1a5d7-b85e-4873-edfd-ffdcc4413a05"},"id":"KL95viMZQqWq","execution_count":15,"outputs":[{"output_type":"stream","name":"stdout","text":["False    41317\n","True         1\n","Name: NOC, dtype: int64 \n","\n"]}]},{"cell_type":"code","source":["#Checking null values in the games column\n","print(athlete['Games'].isnull().value_counts(),\"\\n\") "],"metadata":{"colab":{"base_uri":"https://localhost:8080/"},"id":"cdEcSgjLQsTx","executionInfo":{"status":"ok","timestamp":1651905848266,"user_tz":420,"elapsed":156,"user":{"displayName":"ramisetty teja","userId":"16193363273133164312"}},"outputId":"ee024a8e-6918-48b2-814f-a6f1f0a06f0d"},"id":"cdEcSgjLQsTx","execution_count":16,"outputs":[{"output_type":"stream","name":"stdout","text":["False    41317\n","True         1\n","Name: Games, dtype: int64 \n","\n"]}]},{"cell_type":"code","source":["#Checking null values for season column\n","print(athlete['Season'].isnull().value_counts(),\"\\n\") "],"metadata":{"colab":{"base_uri":"https://localhost:8080/"},"id":"7pJU42lJQuHT","executionInfo":{"status":"ok","timestamp":1651905854647,"user_tz":420,"elapsed":156,"user":{"displayName":"ramisetty teja","userId":"16193363273133164312"}},"outputId":"899f7146-4a0b-4c98-b02f-95cd08c1cdf8"},"id":"7pJU42lJQuHT","execution_count":17,"outputs":[{"output_type":"stream","name":"stdout","text":["False    41317\n","True         1\n","Name: Season, dtype: int64 \n","\n"]}]},{"cell_type":"code","source":["#Checking null values for city column \n","print(athlete['City'].isnull().value_counts(),\"\\n\") "],"metadata":{"colab":{"base_uri":"https://localhost:8080/"},"id":"W-sAAbrLQvrG","executionInfo":{"status":"ok","timestamp":1651905861686,"user_tz":420,"elapsed":140,"user":{"displayName":"ramisetty teja","userId":"16193363273133164312"}},"outputId":"86f54ddd-1a55-4bef-cd41-a1d839b93200"},"id":"W-sAAbrLQvrG","execution_count":18,"outputs":[{"output_type":"stream","name":"stdout","text":["False    41317\n","True         1\n","Name: City, dtype: int64 \n","\n"]}]},{"cell_type":"code","source":["#Checking null values in Sport \n","print(athlete['Sport'].isnull().value_counts(),\"\\n\") #There are no null values\n"],"metadata":{"colab":{"base_uri":"https://localhost:8080/"},"id":"KCIgKGseQxZR","executionInfo":{"status":"ok","timestamp":1651905868169,"user_tz":420,"elapsed":158,"user":{"displayName":"ramisetty teja","userId":"16193363273133164312"}},"outputId":"0457b6c2-e449-48ac-bc32-188fd36d9fe4"},"id":"KCIgKGseQxZR","execution_count":19,"outputs":[{"output_type":"stream","name":"stdout","text":["False    41317\n","True         1\n","Name: Sport, dtype: int64 \n","\n"]}]},{"cell_type":"code","source":["# Checking null values Event \n","print(\"Checking for null values \\n\",athlete['Event'].isnull().value_counts(),\"\\n\") \n"],"metadata":{"colab":{"base_uri":"https://localhost:8080/"},"id":"glDiP98lQy-1","executionInfo":{"status":"ok","timestamp":1651905874318,"user_tz":420,"elapsed":138,"user":{"displayName":"ramisetty teja","userId":"16193363273133164312"}},"outputId":"926c40d6-74d7-4b41-8b91-071713855cf0"},"id":"glDiP98lQy-1","execution_count":20,"outputs":[{"output_type":"stream","name":"stdout","text":["Checking for null values \n"," False    41317\n","True         1\n","Name: Event, dtype: int64 \n","\n"]}]},{"cell_type":"code","source":["#The null values in Medal column are not actually null. They indicate that there has been no medal acheivement.\n","print(\"Checking for null values \\n\",athlete['Medal'].isnull().value_counts(),\"\\n\") #There are 231333 entries without the medal \n","print(\"Insights on the column \\n\",athlete['Medal'].describe(),\"\\n\")\n","print(\"Data \\n\",athlete['Medal'].value_counts())"],"metadata":{"colab":{"base_uri":"https://localhost:8080/"},"id":"OxwhmMxOQ0fG","executionInfo":{"status":"ok","timestamp":1651905882280,"user_tz":420,"elapsed":167,"user":{"displayName":"ramisetty teja","userId":"16193363273133164312"}},"outputId":"adb9cd59-bb49-4e74-fd8d-3c0505fe0d35"},"id":"OxwhmMxOQ0fG","execution_count":21,"outputs":[{"output_type":"stream","name":"stdout","text":["Checking for null values \n"," True     35720\n","False     5598\n","Name: Medal, dtype: int64 \n","\n","Insights on the column \n"," count     5598\n","unique       3\n","top       Gold\n","freq      1908\n","Name: Medal, dtype: object \n","\n","Data \n"," Gold      1908\n","Silver    1876\n","Bronze    1814\n","Name: Medal, dtype: int64\n"]}]},{"cell_type":"code","source":["import seaborn as sns\n","%matplotlib inline\n","import matplotlib.pyplot as plt"],"metadata":{"id":"_f_GHcP4Q2aq","executionInfo":{"status":"ok","timestamp":1651905890997,"user_tz":420,"elapsed":584,"user":{"displayName":"ramisetty teja","userId":"16193363273133164312"}}},"id":"_f_GHcP4Q2aq","execution_count":22,"outputs":[]},{"cell_type":"code","source":["#Merge both the dataframes\n","athlete_merged = athlete.merge(region, how = 'left', on = 'NOC')\n","athlete_merged.head()"],"metadata":{"colab":{"base_uri":"https://localhost:8080/","height":496},"id":"Tu6_V2zEQ4ci","executionInfo":{"status":"ok","timestamp":1651905896762,"user_tz":420,"elapsed":150,"user":{"displayName":"ramisetty teja","userId":"16193363273133164312"}},"outputId":"15a6ae3a-02de-4786-dbbc-e6be5ba9ec66"},"id":"Tu6_V2zEQ4ci","execution_count":23,"outputs":[{"output_type":"execute_result","data":{"text/plain":["   ID                      Name Sex   Age  Height  Weight            Team  \\\n","0   1                 A Dijiang   M  24.0   180.0    80.0           China   \n","1   2                  A Lamusi   M  23.0   170.0    60.0           China   \n","2   3       Gunnar Nielsen Aaby   M  24.0   175.0    70.0         Denmark   \n","3   4      Edgar Lindenau Aabye   M  34.0   175.0    70.0  Denmark/Sweden   \n","4   5  Christine Jacoba Aaftink   F  21.0   185.0    82.0     Netherlands   \n","\n","   NOC        Games    Year  Season       City          Sport  \\\n","0  CHN  1992 Summer  1992.0  Summer  Barcelona     Basketball   \n","1  CHN  2012 Summer  2012.0  Summer     London           Judo   \n","2  DEN  1920 Summer  1920.0  Summer  Antwerpen       Football   \n","3  DEN  1900 Summer  1900.0  Summer      Paris     Tug-Of-War   \n","4  NED  1988 Winter  1988.0  Winter    Calgary  Speed Skating   \n","\n","                              Event Medal       region notes  \n","0       Basketball Men's Basketball   NaN        China   NaN  \n","1      Judo Men's Extra-Lightweight   NaN        China   NaN  \n","2           Football Men's Football   NaN      Denmark   NaN  \n","3       Tug-Of-War Men's Tug-Of-War  Gold      Denmark   NaN  \n","4  Speed Skating Women's 500 metres   NaN  Netherlands   NaN  "],"text/html":["\n","  <div id=\"df-ccec6a2c-22cb-4a42-a895-531c48c80508\">\n","    <div class=\"colab-df-container\">\n","      <div>\n","<style scoped>\n","    .dataframe tbody tr th:only-of-type {\n","        vertical-align: middle;\n","    }\n","\n","    .dataframe tbody tr th {\n","        vertical-align: top;\n","    }\n","\n","    .dataframe thead th {\n","        text-align: right;\n","    }\n","</style>\n","<table border=\"1\" class=\"dataframe\">\n","  <thead>\n","    <tr style=\"text-align: right;\">\n","      <th></th>\n","      <th>ID</th>\n","      <th>Name</th>\n","      <th>Sex</th>\n","      <th>Age</th>\n","      <th>Height</th>\n","      <th>Weight</th>\n","      <th>Team</th>\n","      <th>NOC</th>\n","      <th>Games</th>\n","      <th>Year</th>\n","      <th>Season</th>\n","      <th>City</th>\n","      <th>Sport</th>\n","      <th>Event</th>\n","      <th>Medal</th>\n","      <th>region</th>\n","      <th>notes</th>\n","    </tr>\n","  </thead>\n","  <tbody>\n","    <tr>\n","      <th>0</th>\n","      <td>1</td>\n","      <td>A Dijiang</td>\n","      <td>M</td>\n","      <td>24.0</td>\n","      <td>180.0</td>\n","      <td>80.0</td>\n","      <td>China</td>\n","      <td>CHN</td>\n","      <td>1992 Summer</td>\n","      <td>1992.0</td>\n","      <td>Summer</td>\n","      <td>Barcelona</td>\n","      <td>Basketball</td>\n","      <td>Basketball Men's Basketball</td>\n","      <td>NaN</td>\n","      <td>China</td>\n","      <td>NaN</td>\n","    </tr>\n","    <tr>\n","      <th>1</th>\n","      <td>2</td>\n","      <td>A Lamusi</td>\n","      <td>M</td>\n","      <td>23.0</td>\n","      <td>170.0</td>\n","      <td>60.0</td>\n","      <td>China</td>\n","      <td>CHN</td>\n","      <td>2012 Summer</td>\n","      <td>2012.0</td>\n","      <td>Summer</td>\n","      <td>London</td>\n","      <td>Judo</td>\n","      <td>Judo Men's Extra-Lightweight</td>\n","      <td>NaN</td>\n","      <td>China</td>\n","      <td>NaN</td>\n","    </tr>\n","    <tr>\n","      <th>2</th>\n","      <td>3</td>\n","      <td>Gunnar Nielsen Aaby</td>\n","      <td>M</td>\n","      <td>24.0</td>\n","      <td>175.0</td>\n","      <td>70.0</td>\n","      <td>Denmark</td>\n","      <td>DEN</td>\n","      <td>1920 Summer</td>\n","      <td>1920.0</td>\n","      <td>Summer</td>\n","      <td>Antwerpen</td>\n","      <td>Football</td>\n","      <td>Football Men's Football</td>\n","      <td>NaN</td>\n","      <td>Denmark</td>\n","      <td>NaN</td>\n","    </tr>\n","    <tr>\n","      <th>3</th>\n","      <td>4</td>\n","      <td>Edgar Lindenau Aabye</td>\n","      <td>M</td>\n","      <td>34.0</td>\n","      <td>175.0</td>\n","      <td>70.0</td>\n","      <td>Denmark/Sweden</td>\n","      <td>DEN</td>\n","      <td>1900 Summer</td>\n","      <td>1900.0</td>\n","      <td>Summer</td>\n","      <td>Paris</td>\n","      <td>Tug-Of-War</td>\n","      <td>Tug-Of-War Men's Tug-Of-War</td>\n","      <td>Gold</td>\n","      <td>Denmark</td>\n","      <td>NaN</td>\n","    </tr>\n","    <tr>\n","      <th>4</th>\n","      <td>5</td>\n","      <td>Christine Jacoba Aaftink</td>\n","      <td>F</td>\n","      <td>21.0</td>\n","      <td>185.0</td>\n","      <td>82.0</td>\n","      <td>Netherlands</td>\n","      <td>NED</td>\n","      <td>1988 Winter</td>\n","      <td>1988.0</td>\n","      <td>Winter</td>\n","      <td>Calgary</td>\n","      <td>Speed Skating</td>\n","      <td>Speed Skating Women's 500 metres</td>\n","      <td>NaN</td>\n","      <td>Netherlands</td>\n","      <td>NaN</td>\n","    </tr>\n","  </tbody>\n","</table>\n","</div>\n","      <button class=\"colab-df-convert\" onclick=\"convertToInteractive('df-ccec6a2c-22cb-4a42-a895-531c48c80508')\"\n","              title=\"Convert this dataframe to an interactive table.\"\n","              style=\"display:none;\">\n","        \n","  <svg xmlns=\"http://www.w3.org/2000/svg\" height=\"24px\"viewBox=\"0 0 24 24\"\n","       width=\"24px\">\n","    <path d=\"M0 0h24v24H0V0z\" fill=\"none\"/>\n","    <path d=\"M18.56 5.44l.94 2.06.94-2.06 2.06-.94-2.06-.94-.94-2.06-.94 2.06-2.06.94zm-11 1L8.5 8.5l.94-2.06 2.06-.94-2.06-.94L8.5 2.5l-.94 2.06-2.06.94zm10 10l.94 2.06.94-2.06 2.06-.94-2.06-.94-.94-2.06-.94 2.06-2.06.94z\"/><path d=\"M17.41 7.96l-1.37-1.37c-.4-.4-.92-.59-1.43-.59-.52 0-1.04.2-1.43.59L10.3 9.45l-7.72 7.72c-.78.78-.78 2.05 0 2.83L4 21.41c.39.39.9.59 1.41.59.51 0 1.02-.2 1.41-.59l7.78-7.78 2.81-2.81c.8-.78.8-2.07 0-2.86zM5.41 20L4 18.59l7.72-7.72 1.47 1.35L5.41 20z\"/>\n","  </svg>\n","      </button>\n","      \n","  <style>\n","    .colab-df-container {\n","      display:flex;\n","      flex-wrap:wrap;\n","      gap: 12px;\n","    }\n","\n","    .colab-df-convert {\n","      background-color: #E8F0FE;\n","      border: none;\n","      border-radius: 50%;\n","      cursor: pointer;\n","      display: none;\n","      fill: #1967D2;\n","      height: 32px;\n","      padding: 0 0 0 0;\n","      width: 32px;\n","    }\n","\n","    .colab-df-convert:hover {\n","      background-color: #E2EBFA;\n","      box-shadow: 0px 1px 2px rgba(60, 64, 67, 0.3), 0px 1px 3px 1px rgba(60, 64, 67, 0.15);\n","      fill: #174EA6;\n","    }\n","\n","    [theme=dark] .colab-df-convert {\n","      background-color: #3B4455;\n","      fill: #D2E3FC;\n","    }\n","\n","    [theme=dark] .colab-df-convert:hover {\n","      background-color: #434B5C;\n","      box-shadow: 0px 1px 3px 1px rgba(0, 0, 0, 0.15);\n","      filter: drop-shadow(0px 1px 2px rgba(0, 0, 0, 0.3));\n","      fill: #FFFFFF;\n","    }\n","  </style>\n","\n","      <script>\n","        const buttonEl =\n","          document.querySelector('#df-ccec6a2c-22cb-4a42-a895-531c48c80508 button.colab-df-convert');\n","        buttonEl.style.display =\n","          google.colab.kernel.accessAllowed ? 'block' : 'none';\n","\n","        async function convertToInteractive(key) {\n","          const element = document.querySelector('#df-ccec6a2c-22cb-4a42-a895-531c48c80508');\n","          const dataTable =\n","            await google.colab.kernel.invokeFunction('convertToInteractive',\n","                                                     [key], {});\n","          if (!dataTable) return;\n","\n","          const docLinkHtml = 'Like what you see? Visit the ' +\n","            '<a target=\"_blank\" href=https://colab.research.google.com/notebooks/data_table.ipynb>data table notebook</a>'\n","            + ' to learn more about interactive tables.';\n","          element.innerHTML = '';\n","          dataTable['output_type'] = 'display_data';\n","          await google.colab.output.renderOutput(dataTable, element);\n","          const docLink = document.createElement('div');\n","          docLink.innerHTML = docLinkHtml;\n","          element.appendChild(docLink);\n","        }\n","      </script>\n","    </div>\n","  </div>\n","  "]},"metadata":{},"execution_count":23}]},{"cell_type":"code","source":["athlete_merged.shape"],"metadata":{"colab":{"base_uri":"https://localhost:8080/"},"id":"twFbpMADQ59k","executionInfo":{"status":"ok","timestamp":1651906860822,"user_tz":420,"elapsed":176,"user":{"displayName":"ramisetty teja","userId":"16193363273133164312"}},"outputId":"0e498cc6-12c7-4f6e-985e-dc32551835b3"},"id":"twFbpMADQ59k","execution_count":24,"outputs":[{"output_type":"execute_result","data":{"text/plain":["(41318, 17)"]},"metadata":{},"execution_count":24}]},{"cell_type":"code","source":["athlete_merged.rename(columns={'region': 'Region', 'notes': 'Notes'}, inplace= True)"],"metadata":{"id":"1_ElI-qGUlTx","executionInfo":{"status":"ok","timestamp":1651906871691,"user_tz":420,"elapsed":168,"user":{"displayName":"ramisetty teja","userId":"16193363273133164312"}}},"id":"1_ElI-qGUlTx","execution_count":25,"outputs":[]},{"cell_type":"code","source":["athlete_merged.info()"],"metadata":{"colab":{"base_uri":"https://localhost:8080/"},"id":"ohc2npBKUn-E","executionInfo":{"status":"ok","timestamp":1651906880254,"user_tz":420,"elapsed":169,"user":{"displayName":"ramisetty teja","userId":"16193363273133164312"}},"outputId":"dcbc1d02-b974-45c9-ad39-758e90d9fc4e"},"id":"ohc2npBKUn-E","execution_count":26,"outputs":[{"output_type":"stream","name":"stdout","text":["<class 'pandas.core.frame.DataFrame'>\n","Int64Index: 41318 entries, 0 to 41317\n","Data columns (total 17 columns):\n"," #   Column  Non-Null Count  Dtype  \n","---  ------  --------------  -----  \n"," 0   ID      41318 non-null  int64  \n"," 1   Name    41318 non-null  object \n"," 2   Sex     41318 non-null  object \n"," 3   Age     41318 non-null  float64\n"," 4   Height  41318 non-null  float64\n"," 5   Weight  41318 non-null  float64\n"," 6   Team    41317 non-null  object \n"," 7   NOC     41317 non-null  object \n"," 8   Games   41317 non-null  object \n"," 9   Year    41317 non-null  float64\n"," 10  Season  41317 non-null  object \n"," 11  City    41317 non-null  object \n"," 12  Sport   41317 non-null  object \n"," 13  Event   41317 non-null  object \n"," 14  Medal   5598 non-null   object \n"," 15  Region  41273 non-null  object \n"," 16  Notes   772 non-null    object \n","dtypes: float64(4), int64(1), object(12)\n","memory usage: 5.7+ MB\n"]}]},{"cell_type":"code","source":["athlete_merged.describe()\n","print(type(athlete_merged))"],"metadata":{"colab":{"base_uri":"https://localhost:8080/"},"id":"qIMx-GALUqD6","executionInfo":{"status":"ok","timestamp":1651906888406,"user_tz":420,"elapsed":154,"user":{"displayName":"ramisetty teja","userId":"16193363273133164312"}},"outputId":"67c8988d-e4d9-4c2d-fb3c-224763a36555"},"id":"qIMx-GALUqD6","execution_count":27,"outputs":[{"output_type":"stream","name":"stdout","text":["<class 'pandas.core.frame.DataFrame'>\n"]}]},{"cell_type":"code","source":["athlete_merged.isnull().sum()\n","#There are no columns with null values except the medal column "],"metadata":{"colab":{"base_uri":"https://localhost:8080/"},"id":"0YqNobUXUsDp","executionInfo":{"status":"ok","timestamp":1651906895629,"user_tz":420,"elapsed":163,"user":{"displayName":"ramisetty teja","userId":"16193363273133164312"}},"outputId":"a69650d3-edda-44d8-f64f-4650b64ad1ee"},"id":"0YqNobUXUsDp","execution_count":28,"outputs":[{"output_type":"execute_result","data":{"text/plain":["ID            0\n","Name          0\n","Sex           0\n","Age           0\n","Height        0\n","Weight        0\n","Team          1\n","NOC           1\n","Games         1\n","Year          1\n","Season        1\n","City          1\n","Sport         1\n","Event         1\n","Medal     35720\n","Region       45\n","Notes     40546\n","dtype: int64"]},"metadata":{},"execution_count":28}]},{"cell_type":"code","source":["# Athlete details for the country India\n","\n","athlete_merged.query('Team == \"India\"').head()"],"metadata":{"colab":{"base_uri":"https://localhost:8080/","height":583},"id":"X5Crz243Ut0s","executionInfo":{"status":"ok","timestamp":1651906904199,"user_tz":420,"elapsed":192,"user":{"displayName":"ramisetty teja","userId":"16193363273133164312"}},"outputId":"91aeeae7-9bfb-496b-bc2b-689c46b4458f"},"id":"X5Crz243Ut0s","execution_count":29,"outputs":[{"output_type":"execute_result","data":{"text/plain":["      ID                             Name Sex   Age  Height  Weight   Team  \\\n","505  281                   S. Abdul Hamid   M  24.0   175.0    70.0  India   \n","506  281                   S. Abdul Hamid   M  24.0   175.0    70.0  India   \n","895  512  Shiny Kurisingal Abraham-Wilson   F  19.0   167.0    53.0  India   \n","896  512  Shiny Kurisingal Abraham-Wilson   F  19.0   167.0    53.0  India   \n","897  512  Shiny Kurisingal Abraham-Wilson   F  23.0   167.0    53.0  India   \n","\n","     NOC        Games    Year  Season         City      Sport  \\\n","505  IND  1928 Summer  1928.0  Summer    Amsterdam  Athletics   \n","506  IND  1928 Summer  1928.0  Summer    Amsterdam  Athletics   \n","895  IND  1984 Summer  1984.0  Summer  Los Angeles  Athletics   \n","896  IND  1984 Summer  1984.0  Summer  Los Angeles  Athletics   \n","897  IND  1988 Summer  1988.0  Summer        Seoul  Athletics   \n","\n","                                      Event Medal Region Notes  \n","505      Athletics Men's 110 metres Hurdles   NaN  India   NaN  \n","506      Athletics Men's 400 metres Hurdles   NaN  India   NaN  \n","895            Athletics Women's 800 metres   NaN  India   NaN  \n","896  Athletics Women's 4 x 400 metres Relay   NaN  India   NaN  \n","897            Athletics Women's 800 metres   NaN  India   NaN  "],"text/html":["\n","  <div id=\"df-e1f2a14b-d2f5-4cfb-8209-f0e47f0a5c58\">\n","    <div class=\"colab-df-container\">\n","      <div>\n","<style scoped>\n","    .dataframe tbody tr th:only-of-type {\n","        vertical-align: middle;\n","    }\n","\n","    .dataframe tbody tr th {\n","        vertical-align: top;\n","    }\n","\n","    .dataframe thead th {\n","        text-align: right;\n","    }\n","</style>\n","<table border=\"1\" class=\"dataframe\">\n","  <thead>\n","    <tr style=\"text-align: right;\">\n","      <th></th>\n","      <th>ID</th>\n","      <th>Name</th>\n","      <th>Sex</th>\n","      <th>Age</th>\n","      <th>Height</th>\n","      <th>Weight</th>\n","      <th>Team</th>\n","      <th>NOC</th>\n","      <th>Games</th>\n","      <th>Year</th>\n","      <th>Season</th>\n","      <th>City</th>\n","      <th>Sport</th>\n","      <th>Event</th>\n","      <th>Medal</th>\n","      <th>Region</th>\n","      <th>Notes</th>\n","    </tr>\n","  </thead>\n","  <tbody>\n","    <tr>\n","      <th>505</th>\n","      <td>281</td>\n","      <td>S. Abdul Hamid</td>\n","      <td>M</td>\n","      <td>24.0</td>\n","      <td>175.0</td>\n","      <td>70.0</td>\n","      <td>India</td>\n","      <td>IND</td>\n","      <td>1928 Summer</td>\n","      <td>1928.0</td>\n","      <td>Summer</td>\n","      <td>Amsterdam</td>\n","      <td>Athletics</td>\n","      <td>Athletics Men's 110 metres Hurdles</td>\n","      <td>NaN</td>\n","      <td>India</td>\n","      <td>NaN</td>\n","    </tr>\n","    <tr>\n","      <th>506</th>\n","      <td>281</td>\n","      <td>S. Abdul Hamid</td>\n","      <td>M</td>\n","      <td>24.0</td>\n","      <td>175.0</td>\n","      <td>70.0</td>\n","      <td>India</td>\n","      <td>IND</td>\n","      <td>1928 Summer</td>\n","      <td>1928.0</td>\n","      <td>Summer</td>\n","      <td>Amsterdam</td>\n","      <td>Athletics</td>\n","      <td>Athletics Men's 400 metres Hurdles</td>\n","      <td>NaN</td>\n","      <td>India</td>\n","      <td>NaN</td>\n","    </tr>\n","    <tr>\n","      <th>895</th>\n","      <td>512</td>\n","      <td>Shiny Kurisingal Abraham-Wilson</td>\n","      <td>F</td>\n","      <td>19.0</td>\n","      <td>167.0</td>\n","      <td>53.0</td>\n","      <td>India</td>\n","      <td>IND</td>\n","      <td>1984 Summer</td>\n","      <td>1984.0</td>\n","      <td>Summer</td>\n","      <td>Los Angeles</td>\n","      <td>Athletics</td>\n","      <td>Athletics Women's 800 metres</td>\n","      <td>NaN</td>\n","      <td>India</td>\n","      <td>NaN</td>\n","    </tr>\n","    <tr>\n","      <th>896</th>\n","      <td>512</td>\n","      <td>Shiny Kurisingal Abraham-Wilson</td>\n","      <td>F</td>\n","      <td>19.0</td>\n","      <td>167.0</td>\n","      <td>53.0</td>\n","      <td>India</td>\n","      <td>IND</td>\n","      <td>1984 Summer</td>\n","      <td>1984.0</td>\n","      <td>Summer</td>\n","      <td>Los Angeles</td>\n","      <td>Athletics</td>\n","      <td>Athletics Women's 4 x 400 metres Relay</td>\n","      <td>NaN</td>\n","      <td>India</td>\n","      <td>NaN</td>\n","    </tr>\n","    <tr>\n","      <th>897</th>\n","      <td>512</td>\n","      <td>Shiny Kurisingal Abraham-Wilson</td>\n","      <td>F</td>\n","      <td>23.0</td>\n","      <td>167.0</td>\n","      <td>53.0</td>\n","      <td>India</td>\n","      <td>IND</td>\n","      <td>1988 Summer</td>\n","      <td>1988.0</td>\n","      <td>Summer</td>\n","      <td>Seoul</td>\n","      <td>Athletics</td>\n","      <td>Athletics Women's 800 metres</td>\n","      <td>NaN</td>\n","      <td>India</td>\n","      <td>NaN</td>\n","    </tr>\n","  </tbody>\n","</table>\n","</div>\n","      <button class=\"colab-df-convert\" onclick=\"convertToInteractive('df-e1f2a14b-d2f5-4cfb-8209-f0e47f0a5c58')\"\n","              title=\"Convert this dataframe to an interactive table.\"\n","              style=\"display:none;\">\n","        \n","  <svg xmlns=\"http://www.w3.org/2000/svg\" height=\"24px\"viewBox=\"0 0 24 24\"\n","       width=\"24px\">\n","    <path d=\"M0 0h24v24H0V0z\" fill=\"none\"/>\n","    <path d=\"M18.56 5.44l.94 2.06.94-2.06 2.06-.94-2.06-.94-.94-2.06-.94 2.06-2.06.94zm-11 1L8.5 8.5l.94-2.06 2.06-.94-2.06-.94L8.5 2.5l-.94 2.06-2.06.94zm10 10l.94 2.06.94-2.06 2.06-.94-2.06-.94-.94-2.06-.94 2.06-2.06.94z\"/><path d=\"M17.41 7.96l-1.37-1.37c-.4-.4-.92-.59-1.43-.59-.52 0-1.04.2-1.43.59L10.3 9.45l-7.72 7.72c-.78.78-.78 2.05 0 2.83L4 21.41c.39.39.9.59 1.41.59.51 0 1.02-.2 1.41-.59l7.78-7.78 2.81-2.81c.8-.78.8-2.07 0-2.86zM5.41 20L4 18.59l7.72-7.72 1.47 1.35L5.41 20z\"/>\n","  </svg>\n","      </button>\n","      \n","  <style>\n","    .colab-df-container {\n","      display:flex;\n","      flex-wrap:wrap;\n","      gap: 12px;\n","    }\n","\n","    .colab-df-convert {\n","      background-color: #E8F0FE;\n","      border: none;\n","      border-radius: 50%;\n","      cursor: pointer;\n","      display: none;\n","      fill: #1967D2;\n","      height: 32px;\n","      padding: 0 0 0 0;\n","      width: 32px;\n","    }\n","\n","    .colab-df-convert:hover {\n","      background-color: #E2EBFA;\n","      box-shadow: 0px 1px 2px rgba(60, 64, 67, 0.3), 0px 1px 3px 1px rgba(60, 64, 67, 0.15);\n","      fill: #174EA6;\n","    }\n","\n","    [theme=dark] .colab-df-convert {\n","      background-color: #3B4455;\n","      fill: #D2E3FC;\n","    }\n","\n","    [theme=dark] .colab-df-convert:hover {\n","      background-color: #434B5C;\n","      box-shadow: 0px 1px 3px 1px rgba(0, 0, 0, 0.15);\n","      filter: drop-shadow(0px 1px 2px rgba(0, 0, 0, 0.3));\n","      fill: #FFFFFF;\n","    }\n","  </style>\n","\n","      <script>\n","        const buttonEl =\n","          document.querySelector('#df-e1f2a14b-d2f5-4cfb-8209-f0e47f0a5c58 button.colab-df-convert');\n","        buttonEl.style.display =\n","          google.colab.kernel.accessAllowed ? 'block' : 'none';\n","\n","        async function convertToInteractive(key) {\n","          const element = document.querySelector('#df-e1f2a14b-d2f5-4cfb-8209-f0e47f0a5c58');\n","          const dataTable =\n","            await google.colab.kernel.invokeFunction('convertToInteractive',\n","                                                     [key], {});\n","          if (!dataTable) return;\n","\n","          const docLinkHtml = 'Like what you see? Visit the ' +\n","            '<a target=\"_blank\" href=https://colab.research.google.com/notebooks/data_table.ipynb>data table notebook</a>'\n","            + ' to learn more about interactive tables.';\n","          element.innerHTML = '';\n","          dataTable['output_type'] = 'display_data';\n","          await google.colab.output.renderOutput(dataTable, element);\n","          const docLink = document.createElement('div');\n","          docLink.innerHTML = docLinkHtml;\n","          element.appendChild(docLink);\n","        }\n","      </script>\n","    </div>\n","  </div>\n","  "]},"metadata":{},"execution_count":29}]},{"cell_type":"code","source":["# Top participating countries in Olympics\n","top_10_countries = athlete_merged.Team.value_counts().sort_values(ascending=False).head(10)\n","top_10_countries"],"metadata":{"colab":{"base_uri":"https://localhost:8080/"},"id":"JDOk4PTMUv5X","executionInfo":{"status":"ok","timestamp":1651906911411,"user_tz":420,"elapsed":143,"user":{"displayName":"ramisetty teja","userId":"16193363273133164312"}},"outputId":"f3cb1870-a21a-46e0-9b4f-0af9fd71ee7c"},"id":"JDOk4PTMUv5X","execution_count":30,"outputs":[{"output_type":"execute_result","data":{"text/plain":["United States    2654\n","France           2485\n","Italy            2353\n","Great Britain    1826\n","Canada           1459\n","Sweden           1347\n","Australia        1254\n","Germany          1198\n","Spain            1059\n","Switzerland       970\n","Name: Team, dtype: int64"]},"metadata":{},"execution_count":30}]},{"cell_type":"code","source":["#Plot for the top 10 countries\n","\n","plt.figure(figsize=(12,6))\n","#plt.xticks(rotation=20)\n","plt.title('Overall Participation by Country')\n","sns.barplot(x=top_10_countries.index, y=top_10_countries);"],"metadata":{"colab":{"base_uri":"https://localhost:8080/","height":390},"id":"7yS7QHqIUxrO","executionInfo":{"status":"ok","timestamp":1651906919440,"user_tz":420,"elapsed":621,"user":{"displayName":"ramisetty teja","userId":"16193363273133164312"}},"outputId":"85094e55-e755-438e-899b-672147decdd3"},"id":"7yS7QHqIUxrO","execution_count":31,"outputs":[{"output_type":"display_data","data":{"text/plain":["<Figure size 864x432 with 1 Axes>"],"image/png":"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\n"},"metadata":{"needs_background":"light"}}]},{"cell_type":"code","source":["#Participations according to the age\n","plt.figure(figsize=(12,6))\n","plt.title(\"Age distribution of the athletes\")\n","plt.xlabel('Age')\n","plt.ylabel('Number of Participants')\n","plt.hist(athlete_merged.Age, bins = np.arange(10,60,2), color='red', edgecolor = 'white');"],"metadata":{"colab":{"base_uri":"https://localhost:8080/","height":404},"id":"rxK3UydxUzhk","executionInfo":{"status":"ok","timestamp":1651906927917,"user_tz":420,"elapsed":669,"user":{"displayName":"ramisetty teja","userId":"16193363273133164312"}},"outputId":"aa40214d-3bea-475b-bde0-44f8cba6ee72"},"id":"rxK3UydxUzhk","execution_count":32,"outputs":[{"output_type":"display_data","data":{"text/plain":["<Figure size 864x432 with 1 Axes>"],"image/png":"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\n"},"metadata":{"needs_background":"light"}}]},{"cell_type":"code","source":["winter_games = athlete_merged[athlete_merged.Season == 'Winter'].Sport.unique()\n","winter_games"],"metadata":{"colab":{"base_uri":"https://localhost:8080/"},"id":"mBwcIRFIU1lC","executionInfo":{"status":"ok","timestamp":1651906935722,"user_tz":420,"elapsed":155,"user":{"displayName":"ramisetty teja","userId":"16193363273133164312"}},"outputId":"7f1cb616-70bb-4898-e574-340fee2fa554"},"id":"mBwcIRFIU1lC","execution_count":33,"outputs":[{"output_type":"execute_result","data":{"text/plain":["array(['Speed Skating', 'Cross Country Skiing', 'Ice Hockey', 'Biathlon',\n","       'Alpine Skiing', 'Luge', 'Bobsleigh', 'Figure Skating',\n","       'Nordic Combined', 'Freestyle Skiing', 'Ski Jumping', 'Curling',\n","       'Snowboarding', 'Short Track Speed Skating', 'Skeleton',\n","       'Military Ski Patrol', 'Alpinism'], dtype=object)"]},"metadata":{},"execution_count":33}]},{"cell_type":"code","source":["summer_games = athlete_merged[athlete_merged.Season == 'Summer'].Sport.unique()\n","summer_games"],"metadata":{"colab":{"base_uri":"https://localhost:8080/"},"id":"Q4MuXHrCU3mi","executionInfo":{"status":"ok","timestamp":1651906941618,"user_tz":420,"elapsed":158,"user":{"displayName":"ramisetty teja","userId":"16193363273133164312"}},"outputId":"3f8588b8-eb78-428f-c2d4-26703fa58278"},"id":"Q4MuXHrCU3mi","execution_count":34,"outputs":[{"output_type":"execute_result","data":{"text/plain":["array(['Basketball', 'Judo', 'Football', 'Tug-Of-War', 'Athletics',\n","       'Swimming', 'Badminton', 'Sailing', 'Gymnastics',\n","       'Art Competitions', 'Handball', 'Weightlifting', 'Wrestling',\n","       'Water Polo', 'Hockey', 'Rowing', 'Fencing', 'Equestrianism',\n","       'Shooting', 'Boxing', 'Taekwondo', 'Cycling', 'Diving', 'Canoeing',\n","       'Tennis', 'Modern Pentathlon', 'Golf', 'Softball', 'Archery',\n","       'Volleyball', 'Synchronized Swimming', 'Table Tennis', 'Baseball',\n","       'Rhythmic Gymnastics', 'Rugby Sevens', 'Trampolining',\n","       'Beach Volleyball', 'Triathlon', 'Rugby', 'Lacrosse', 'Polo',\n","       'Cricket', 'Ice Hockey', 'Racquets', 'Motorboating', 'Croquet',\n","       'Figure Skating', 'Jeu De Paume', 'Roque'], dtype=object)"]},"metadata":{},"execution_count":34}]},{"cell_type":"code","source":["#Participations according to the Gender\n","gender_count = athlete_merged[\"Sex\"].value_counts()\n","gender_count.to_frame()"],"metadata":{"colab":{"base_uri":"https://localhost:8080/","height":112},"id":"crGpXUlNU5DD","executionInfo":{"status":"ok","timestamp":1651906949862,"user_tz":420,"elapsed":194,"user":{"displayName":"ramisetty teja","userId":"16193363273133164312"}},"outputId":"554d1fbd-1955-402d-d677-6ea18671f243"},"id":"crGpXUlNU5DD","execution_count":35,"outputs":[{"output_type":"execute_result","data":{"text/plain":["     Sex\n","M  30706\n","F  10612"],"text/html":["\n","  <div id=\"df-29a8413a-5655-485b-9696-348711295d0d\">\n","    <div class=\"colab-df-container\">\n","      <div>\n","<style scoped>\n","    .dataframe tbody tr th:only-of-type {\n","        vertical-align: middle;\n","    }\n","\n","    .dataframe tbody tr th {\n","        vertical-align: top;\n","    }\n","\n","    .dataframe thead th {\n","        text-align: right;\n","    }\n","</style>\n","<table border=\"1\" class=\"dataframe\">\n","  <thead>\n","    <tr style=\"text-align: right;\">\n","      <th></th>\n","      <th>Sex</th>\n","    </tr>\n","  </thead>\n","  <tbody>\n","    <tr>\n","      <th>M</th>\n","      <td>30706</td>\n","    </tr>\n","    <tr>\n","      <th>F</th>\n","      <td>10612</td>\n","    </tr>\n","  </tbody>\n","</table>\n","</div>\n","      <button class=\"colab-df-convert\" onclick=\"convertToInteractive('df-29a8413a-5655-485b-9696-348711295d0d')\"\n","              title=\"Convert this dataframe to an interactive table.\"\n","              style=\"display:none;\">\n","        \n","  <svg xmlns=\"http://www.w3.org/2000/svg\" height=\"24px\"viewBox=\"0 0 24 24\"\n","       width=\"24px\">\n","    <path d=\"M0 0h24v24H0V0z\" fill=\"none\"/>\n","    <path d=\"M18.56 5.44l.94 2.06.94-2.06 2.06-.94-2.06-.94-.94-2.06-.94 2.06-2.06.94zm-11 1L8.5 8.5l.94-2.06 2.06-.94-2.06-.94L8.5 2.5l-.94 2.06-2.06.94zm10 10l.94 2.06.94-2.06 2.06-.94-2.06-.94-.94-2.06-.94 2.06-2.06.94z\"/><path d=\"M17.41 7.96l-1.37-1.37c-.4-.4-.92-.59-1.43-.59-.52 0-1.04.2-1.43.59L10.3 9.45l-7.72 7.72c-.78.78-.78 2.05 0 2.83L4 21.41c.39.39.9.59 1.41.59.51 0 1.02-.2 1.41-.59l7.78-7.78 2.81-2.81c.8-.78.8-2.07 0-2.86zM5.41 20L4 18.59l7.72-7.72 1.47 1.35L5.41 20z\"/>\n","  </svg>\n","      </button>\n","      \n","  <style>\n","    .colab-df-container {\n","      display:flex;\n","      flex-wrap:wrap;\n","      gap: 12px;\n","    }\n","\n","    .colab-df-convert {\n","      background-color: #E8F0FE;\n","      border: none;\n","      border-radius: 50%;\n","      cursor: pointer;\n","      display: none;\n","      fill: #1967D2;\n","      height: 32px;\n","      padding: 0 0 0 0;\n","      width: 32px;\n","    }\n","\n","    .colab-df-convert:hover {\n","      background-color: #E2EBFA;\n","      box-shadow: 0px 1px 2px rgba(60, 64, 67, 0.3), 0px 1px 3px 1px rgba(60, 64, 67, 0.15);\n","      fill: #174EA6;\n","    }\n","\n","    [theme=dark] .colab-df-convert {\n","      background-color: #3B4455;\n","      fill: #D2E3FC;\n","    }\n","\n","    [theme=dark] .colab-df-convert:hover {\n","      background-color: #434B5C;\n","      box-shadow: 0px 1px 3px 1px rgba(0, 0, 0, 0.15);\n","      filter: drop-shadow(0px 1px 2px rgba(0, 0, 0, 0.3));\n","      fill: #FFFFFF;\n","    }\n","  </style>\n","\n","      <script>\n","        const buttonEl =\n","          document.querySelector('#df-29a8413a-5655-485b-9696-348711295d0d button.colab-df-convert');\n","        buttonEl.style.display =\n","          google.colab.kernel.accessAllowed ? 'block' : 'none';\n","\n","        async function convertToInteractive(key) {\n","          const element = document.querySelector('#df-29a8413a-5655-485b-9696-348711295d0d');\n","          const dataTable =\n","            await google.colab.kernel.invokeFunction('convertToInteractive',\n","                                                     [key], {});\n","          if (!dataTable) return;\n","\n","          const docLinkHtml = 'Like what you see? Visit the ' +\n","            '<a target=\"_blank\" href=https://colab.research.google.com/notebooks/data_table.ipynb>data table notebook</a>'\n","            + ' to learn more about interactive tables.';\n","          element.innerHTML = '';\n","          dataTable['output_type'] = 'display_data';\n","          await google.colab.output.renderOutput(dataTable, element);\n","          const docLink = document.createElement('div');\n","          docLink.innerHTML = docLinkHtml;\n","          element.appendChild(docLink);\n","        }\n","      </script>\n","    </div>\n","  </div>\n","  "]},"metadata":{},"execution_count":35}]},{"cell_type":"code","source":["plt.figure(figsize=(12,6))\n","plt.title('Gender Distribution')\n","plt.pie(gender_count, labels= gender_count, autopct = \"%1.1f%%\", startangle=180, shadow= True);"],"metadata":{"colab":{"base_uri":"https://localhost:8080/","height":373},"id":"vH887wfXU7Df","executionInfo":{"status":"ok","timestamp":1651906956933,"user_tz":420,"elapsed":213,"user":{"displayName":"ramisetty teja","userId":"16193363273133164312"}},"outputId":"e2f849a4-6da5-4aac-d2de-71569de87fac"},"id":"vH887wfXU7Df","execution_count":36,"outputs":[{"output_type":"display_data","data":{"text/plain":["<Figure size 864x432 with 1 Axes>"],"image/png":"iVBORw0KGgoAAAANSUhEUgAAAVQAAAFkCAYAAAB/6MMYAAAABHNCSVQICAgIfAhkiAAAAAlwSFlzAAALEgAACxIB0t1+/AAAADh0RVh0U29mdHdhcmUAbWF0cGxvdGxpYiB2ZXJzaW9uMy4yLjIsIGh0dHA6Ly9tYXRwbG90bGliLm9yZy+WH4yJAAAgAElEQVR4nO3deXxcVf3/8ddn1uzpvlHaoW1IW8pWlrLKorIF44IbbgiuKLgvUUSrfsXoD/XrhqKI8HVDVAQ0oLLJ3lAoBboAKSVd6J62SWbJZGbu+f1xb0JauiW9yb135vN8PObRZObOnc+kk3fOPffcc8QYg1JKqYMX8roApZQqFhqoSinlEg1UpZRyiQaqUkq5RANVKaVcooGqlFIu0UBVgyIiHxSRR0b4Nb8qIje4uL+kiMxwvr5JRP7HxX3/UkSudmt/Klg0UIuAiLxbRFpFJCUiW5yvPyEi4nVt+yMi/xWRHhHpFpEuEXlKRJpEJN63jTHmGmPMhw9wX/vdzhhTZYxZ7ULtr/njYoz5uDHm2we7bxVMGqgBJyKfB34M/D9gEjAR+DhwKhDzsLTXEJHwXh66whhTDUwGPg+8G7jL7T8IIhJxc39K7U4DNcBEpBb4FvAJY8xfjTHdxva0Mea9xpiss11cRK4VkbUistk5LC13HjtTRNaLyOed1u1GEbl0wGuMFZE7ndbjE8DM3WqYLSL3iMh2EXlBRN454LGbROQXInKXiKSAs/b1fowxKWPMf4FG4GSgwdnPQhH5vfN1mYj8XkQ6RGSniCwWkYki8h3gdOBnziH9z5ztjYh8UkTagLYB980a8NLjnPfQLSIPish0Z7uEs21/EPe1gkVkDvBL4GTn9XYOeM//M2D7j4jIKufnc6eITBnwmBGRj4tIm/Nefh6Eowq1dxqowXYyEAfu2M92zcDhwDHALOAQ4OsDHp8E1Dr3fwj4uYiMdh77OdCD3Xq8zLkBICKVwD3AH4EJ2C3L60Rk7oB9vwf4DlANHFDfqzFmLfAkdkDu7hKn1kOBsdit8Ywx5irgYezWbpUx5ooBz3kLsACYu/vOHO8Fvg2MA5YCfziAGlc6r/2483qjdt9GRM4Gvgu8E/vntwa4ZbfNLgROAI5ytjt3f6+t/EsDNdjGAduMMfm+O0TkMae1kxGR1zktno8CnzXGbDfGdAPXYIdfnxzwLWNMzhhzF5AE6p1D9IuArzutx2XAzQOedyHQboz5rTEmb4x5Gvgb8I4B29xhjHnUGGMZY3oG8d42AGP2cH8OO0hnGWMKxpinjDFd+9nXd533ntnL4y3GmIecFv1V2K3OQwdR6968F7jRGLPE2fdXnH0nBmzTbIzZ6fwReQD7j54KKO1TCrYO7MPVSF+oGmNOARCR9dh/MMcDFcBTA44mBRjYn9kxMJSBNFDlPDcCrBvw2JoBX08HFvQd7joiwO8GfD/wuYNxCPDYHu7/HXbr9BYRGQX8HrjKGJPbx772V0P/48aYpIhsB6YAmwdX8mtMAZbstu8O7PfW7ty9acD2fT93FVDaQg22x4Es8OZ9bLMNyABHGGNGObdaY8yB/OJuBfLYAdZn2oCv1wEPDtjvKOfw9/IB2wx6OjOndXgc9iH8LpxW9DeNMXOBU7BbyR/Yz2vtr4b+9yciVdgt4w1Ayrm7YsC2kwax3w3Yf3T69l2J3bp+ZT/PUwGlgRpgxpidwDex+y3fLiLVIhISkWOASmcbC/g18CMRmQAgIoeIyH776owxBeA2YKGIVDh9o5cM2OSfwOEi8n4RiTq3E5wTNoPmvMYZ2H3CTwB37WGbs0TkSKc7ogu7C8ByHt4MzBjCS18gIqeJSAy7L3WRMWadMWYrdvi9T0TCInIZu56U2wxMdZ63J38CLhWRY8QeBnYN0GqMaR9CjSoANFADzhjzfeBzwJewf8E3A9cDX+bVQ+YvA6uARSLSBdwL1B/gS1yBfRi6CbgJ+O2A1+4GzsHuj93gbPM97BNlg/EzEel2av9f7H7Y85w/BrubBPwVO0xXAg/yahfDj4G3i8gOEfnJIF7/j8A3gO3YLeP3DXjsI8AXsbtXjmDXboj7geXAJhHZtvtOjTH3Alc772cjdhi/e/ftVPEQnWBaKaXcoS1UpZRyiQaqUkq5RANVKaVcooGqlFIu0UBVSimXaKAqpZRLNFCVUsolGqhKKeUSDVSllHKJBqpSSrlEA1UppVyigaqUUi7RQFVKKZdooCqllEs0UJVSyiUaqEop5RINVKWUcokGqlJKuUQDVSmlXKKBqpRSLtFAVUopl2igKqWUSzRQlVLKJRqoSinlEg1UpZRyiQaqUkq5RANVKaVcooGqlFIu0UBVSimXaKAqpZRLNFCVUsolGqhKKeUSDVSllHKJBqpSSrlEA1UppVyigaqUUi7RQFVKKZdEvC5AlZiFtdVA7X5uNbt9XwH0AtkB/2a7TPm2o7K/CQOdQJdz2wlsANYBa9ubG3pG7L2pkifGGK9rUMVmYa0A04E5e7iNcetlekz0pdnZm2fuZ7OtwNrdbuuAF4EV7c0NObfqUUoDVQ3dwtoYUMdrQ7MeKB/ul9+aL199Qv43Mw5iF73AMuDpAbdn2psbUm7Up0qPBqo6cHaAngy8wbkdj4fdRs90j+p4c/S6sS7v1gLasMP1SeB+YGl7c4P+oqj90kBVe2cfuh/FqwF6OlDpaU0DPJUc98pFkZ8cMgIvtRU7WO8B7mlvblg7Aq+pAkgDVe1qYe004I3YAXo2MMHbgvbu4e4p698fvXaqBy/9InAvdsA+0N7c0OlBDcqHNFBLnd0KPRV4N3AuMMvbgg7cf7oSaz8au2aax2XksIP1T8Dt7c0NSY/rUR7SYVOlamHtHOB9wHuAhLfFDE3KxP3QGogCFzi3TKKp5Z/Y4XpXe3ND1tPK1IjTQC0lC2vHY4fo+4FjPa7moPkkUAcqB97h3DoTTS1/xw7X+9qbGwqeVqZGhAZqsbMP6V8PfNQY82YRiXldkltSlHldwr7UAh90bpsSTS2/An7R3tywycui1PDSPtRitbB2EnCpMebDInIwYzV964c7zmj/SfnHEl7XMQi9wK3Aj9ubG570uhjlPm2hFpuFtTOBq4wx7xeRiIh4XdGwSVEetDcXw+5yeV+iqWUR8GPgr+3NDXlvy1Ju0UAtFgtrZxljvga8t9iDtE8AA3Wgk5zbtYmmll8A17c3N2zzuCZ1kPSQP+jsIL0aO0jDXpczkq7Y+Z71/yy70ItxqMMhCfwvcK2Oaw0uDdSgWlh7uGXM1QIXl1qQ9rl054c3PFB29hSv63DZDuD7wE/amxvSXhejBkcDNWgW1tZbxnxd4F2lGqR93tn56c1PxBdM9LqOYbIJuAa7K6DX62LUgdFADQo7SL/hBKlODA40dH1l2/LYkeO8rmOYrQW+BdykY1n9T38x/W5hbYX1jZrvG2OWhUQu1jB9VUoqSuGk6jTgBmB5oqnljV4Xo/ZNW6g+1nt1zfnAr2NhGYkZlQLnxOQPklsik6u8rmOE/Rn4jF4g4E8aqH60sHZCd9b8ujoujV6X4mfzUr/IJsO1ca/r8EAn8DXguvbmBsvrYtSrNFD9ZGGtJHvNx+Nhvh8NS6m1vAZtRuZmy5JoKXeBPAl8rL25YYnXhSibBqpP5L9eU5/N84fKmBzndS1BkLcozOr9Y0mPcnAUgJ8DV7c3N3R5XUypK+W/7v6wsDbW9ZWa7wks0zA9cL1WSBfXs4WBTwErE00t53ldTKnzfaCKyI0iskVElg24b4yI3CMibc6/owc8dqaILBWR5SLy4L7249z//0TkeRF5VkT+LiKjRuadQeaqmjMzOdNWE5cvhUNSCmesXZM1Ib3+fVdTgLsSTS0/STS1+HoarmLm+0AFbgJ2/8vbBNxnjKkD7nO+xwnD64BGY8wR2PNS7ms/YM+2Ps8YcxT20hZfcbP4PVpYK9u+VP3DeIT7y6Pi9YzzgZS1wtpCfS0BrgSeSjS1HO11MaXI94FqjHkI2L7b3W8Gbna+vhl4i/P1e4DbjDFrnedu2c9+MMb8xxjT19pZBAzrteGPXlY5eUvKenJcReizoVKYwWSYZK2wDnLfu7nAE4mmlk95XUip8X2g7sVEY8xG5+tNQN/lh4cDo0XkvyLylIh8YJD7vQy4260id/fQpZXnz5sQXjGhMjR/uF6jVGRMRAN132LAjxNNLbclmlpG73dr5YqgBmo/Yw9T6BuqEAGOAxqwF5y7WkQOP5D9iMhVQB74g9s1NtZHZcnHqr598tTwP2rLRq6PtphlrKgG6oF5K/B0oqnlJK8LKQVBDdTNIjIZwPm379B+PfBvY0zKGLMNeAjYb1+SiHwQuBB4r3F5HNktb6+o/OG58XvnTw5/LRou7clM3JQxUR3QfuCmAw8mmlou8bqQYhfUQL0T6PtwXALc4Xx9B3CaM8FyBbAAWLmvHYnIecCXsE9kuTpd2n/eX3nk2YeFn581Jny2m/tVkDYxDdTBiQE3JZpavptoatG++2Hi+0AVkT8BjwP1IrJeRD4ENANvFJE24A3O9xhjVgL/Ap4FngBuMMYs28d+AH4GVAP3OMOtfulG3Y9/qPKDp00Lt06oDBXLBMi+kvbfiqdB0QT8NdHUUuF1IcVIr5RyWWN9NHTN6+M3zB0f+qCexR8+f9o5b81Xyr463es6AmwJ0Nje3PCK14UUE9+3UIPkC6fEq394bvyxeRPCl2qYDq8UZdoSODjzsYdW6YgTF2mguuRLp8ZnXn587KlZY8ILvK6lFKQo97qEYjAFeDjR1PJWrwspFhqoLvjq6fGTPnlC7OGZY0J1XtdSKlKU6RGAOyqAvyWaWj7qdSHFQAP1IH3zzPh5n1oQ++f0UaHJXtdSSpIm0EtI+40Av0w0tVzhdSFBp4E6RI31UfnO2WXvvOLE2J8nVYXGel1PqUlJhX523SXATxNNLZ/zupAg0w/lEDTWR+X4KaFLP3FC7IaxFaEar+spRSk0UIfJDxJNLU1eFxFU+qEcpMb6aOjYSaFPXnli/Mejy6Xa63pKVVJbqMPpu4mmlm94XUQQ6YdyEBrro+FjJoU+/dmT498dXa5LlHgpTUmseOqlhYmmlv/xuoig0UA9QI310fCxk0Kf+dzJ8W+NKtMw9VpKKnRehOF3VaKp5XteFxEkGqgHoLE+Gp4xWj7xmZPiCzVM/SEtldpCHRlfSjS1fMHrIoJCA3U/Guuj4eoYH/rCKfGr9TDfP9Kih/wj6PuJppaLvS4iCDRQ96GxPhoS+EDTafGmqTWh8V7Xo16VDlXEvK6hhAj2TFVneV2I32mg7tsFVy6IffbIieHDvC5EvcoymFworn2oIysG/D3R1HKk14X4mQbqXjTWR094+9xI0xtmRPQD5DO9lvR6XUOJqsVeWVWnpNwLDdQ9aKyPzjptWnjhe4+M6rIRPpS1dAlpD00F7k40tdR6XYgfaaDuprE+OmH2uNA3PrUgdnY4pEuW+FHWCmugemsecHuiqUX7sXejgTpAY320akKlNH3ltPiFZREp87oetWdZo4HqA2cC13pdhN9ooDoa66PReJjLr35d/OLR5boyqZ/1WLqEtE9cmWhqeafXRfiJBir2ZCfAxV89Pf6x6aNCk7yuR+1bxmig+sgNiaaWA1qqvRRooNrO+cDR0U8eOzk80+tC1P5lLF3x1EeqsSeo1kX/0EClsT56bP3Y0MffMjuia+sEhC4h7TvzgOu8LsIPSjpQG+ujh0ZCXPGFU2InRUKilzIGRNrEdIE+/7kk0dTyYa+L8FrJBmpjfTQOfPyKE2PzJlZpv2mQpExcW6j+9NNEU8sxXhfhpZINVKDx+Cmho85MhI/3uhA1OCl0RJtPlQG3lnJ/akkGamN9tL48QuOnFsRPDomU5M8gyDRQfa0OKNmJqUsuTBrro5XAR79wSnzeqDLRxfUCKIWueOpzn040tZTkZdslFajOeNN3nn1YeO7xU0Il3dcTZBqovhcCfpNoaol7XchIK6lABY4eXSbnfmR+7FQR/Z0MqqTRQA2AucDXvS5ipJVMoDbWR0cBH2k6LXZ0ZUxXKw2ylK54GhRfSjS1HOt1ESOpJD6YzqH+B942J1I/Z3x4ttf1qIOTQhfoC4gIcGOiqaVkxniXRKACp1TFOOldR+j8psUgFdIWaoAcA3zZ6yJGStF/MBvroxOASy4/PjatPCqVXtejDl4KXfE0YK5ONLWUxDwZRR2ozqH+JVNrpOzkQ8Mnel2PckdKVzwNmjjQ7HURI6GoAxU4Epj3yRNi8yIhiXpdjHJHJqSBGkBvTzS1nOJ1EcOtaAO1sT4aAd5z7KSQzBmvY06LSUoq9I9jMP3A6wKGW9EGKnAyMOlD82OnhHTQadEwBnqkTAM1mE4q9hn+izJQG+ujFcC7zpsVKZ9WGyqJzvBS0WtJTqdfCLTvFvPifsX6yXx9SKh81xGRM7wuRLmr14RyXtegDsoM4AqvixguYkxxzdXbWB8dA3zvkqOjky6aG73Q63qGYl2nxQduz7A5aRCBj86P8umT4iz8bw+/XpJjfIXdg3HN6+NcULfr0e8L2wq866+Z/u9X77D41llxPnNSnC/f08Pdq/IcMynM/721HIDfP9vLtrThMycF47Lrbb3RruOtm2u8rkMdlB3AzPbmhh1eF+K2Yjxb2lgRJXzerOC2TiMh+ME5ZcyfHKY7azjuVyneONP+r/rsSTG+cMrew69+XJilH68CoGAZDvlhkrfOjtLZY1iyqcCzl1fx4TszPLe5wKwxIX67NMe/3huc6Suzli4hXQRGA1cBX/C6ELcV1SF/Y330UODMjx8fSwT5ev3J1SHmT7avrqyOC3PGh3ila/BHEve9XGDmmBDTR4UICeQKYIwhnTNEw3DtY71ceWKMaDg45+x6TEQDtTh8PNHUMsbrItxWNIHqDOJ/x7gKsU45NHyq1/W4pX2nxdMbCyyYagfsz57o5ahfJLnsjgw7MvsO2VuW5bh4nt0lUB0XLqiLcOz1KSZXhaiNC62vFHjL7GCdMM9YEV3+pDhUAp/0ugi3FU0famN9dC7w5c+dHJt6ZiJyttf1uCHZazjjphRXnR7nbXOibE5ajKsQRODq+7NsTBpufHP5Hp/bWzBM+UGS5Z+oZGLVa/9ufvjODJ84IcaSjQX+81KeoyaG+drr/N+Pujg5/pV3RH58iNd1KFdsBaa3Nzdk9rtlQBRFC7WxPhoG3hMP03XiIcVxiWmuYLjo1jTvPTLK2+bYrciJVSHCISEkwkeOi/HEK4W9Pv/utjzzJ4f2GKZPbyxgDNSPDfGXFTlufUcFL+2waOvY+/78Im3pAn1FZDxwqddFuKkoAhU4Aph68ZHRqRVRqfK6mINljOFDd/YwZ1yYz538aqtxY/erWfL3lTnmTdj7f9+fBhzu7+7qB7J8++w4OQsKzi5DQDoAA5J0Cemi8/lEU0vRTMcY+LP8Tt9pI9B1xvTweV7X44ZH1xX43bM5jpwQ4phfJgF7iNSfluVZuqmAAIlRIa6/0F6sbkO3xYfv7OEu52x9qtdwz+oC11/42u6A25/PcfyUEFOq7TA+ZlKYI3+R5KiJIY6e5P/PdYq4BmpxmQG8Hfiz14W4IfB9qI310cOAr58/KxK6/ITYB7yuRw2vm3ce2/6Nsi8mvK5DuWpJe3PDcV4X4YZiOOQ/B8ieXxc52etC1PBL6xLSxWh+oqnlDV4X4YZAB2pjfXQ8sKB+bCg7rVZmeV2PGn5JUxacQbNqMD7rdQFuCHSgAmcA5qK5kfk6o1RpSLHnYWIq8M5LNLUc6nURByuwgdpYHy0D3hALs/XoieGSWlmxlCV1xdNiFQIu87qIgxXkD+fRQPyiOdGZulZU6UihgVrELk00tQT6/zeQxTtDpS4AOs9IhI/3uh41clJSHsjPrDog04E3el3EwQjqh3MaMH3ehFBoSnUo4XUxauSkqPT/YFl1MAI99DGogfo6IHfOzMhcrwtRIysl5YG/GEXt01sSTS2BvdoxcIHaWB+txA7UzXPHh2Z7XY8aWSmp0BZqcasALvK6iKEKXKBiX7cfToyS8vEVorMOlZi0VAZrvkE1FO/3uoChCmKgngSkz50Zqdehp6UnLRV6yF/8zko0tUzwuoihCFSgNtZHy4EjgR1HTQzr4X4JyoTKtYVa/ELA+V4XMRSBClSgDgiPLZfIlGo5zOti1MjqtcgjAVqvRR2MQC6wGbRAPQ7oPW9WpC4c0sXZS02vpUtIl5BzEk0tgTsaCUwoNdZHI8CJQMf8yXp2vxRpoJaUGuB0r4sYrMAEKvZEtLGyCNb0UaE6r4tRI6/HCvt/jRblpsAd9gcpUI8GrHNmRg6LhSXmdTFq5OkS0iWnwesCBisQgdpYHw0BpwLbTzxEz+6Xqh4roi3U0nJ4oqklUEejgQhUYCpQI5CZNSZU73UxyhsZE9VALT2BOuwPSqAeAZgTDglPLIZVTdXQ6IqnJelcrwsYDN8HqjNV32nAziMnhKZ4XY/yTsbErP1vpYrMgkRTS2DGHvs+UIFxwGSg+7DRGqilLGV0CekSNAoIzHmTIARq/zozk6t0MpRSpoFashZ4XcCBCkKgHgZYZRHCY8olkBMmKHekdAnpUnWS1wUcqCAE6myg+4Qp4YnhkOhcmCUsZXTF0xKlgeoG53LTBNA9d7z2n5a6FOWBOTmhXDUv0dQSiIU4fR2owATsGq3EKA3UUqeBWrLCQCAW4/R7oB4CCMDk6pCekCpxSV3xtJQF4sSU3z+gM4B8VYzIqDLGe12M8laKCr9/XtXw0UB1wRzsE1KTQ7reSclLiS4hXcICMRbVt4HaWB+NYl/Dn5o7Pqz9p0pXPC1tMxNNLb7Nqz5+LnCS8681fZRooCpSukBfKYtjN7B8zc+BOgWnvrHlMs7jWpQP6IqnJc/3U/n5OVDrgBxAZUyqPa5F+UBaKgK3xpBy1SyvC9gfPwfq4UB3SJCyCDplnyId0kAtcdpCPQjjgZ5Da6RSz/CrvEXBkqifP69q+GkLdSga66NxoAzIT60J6eG+0hVPFWgLdciqAAtgYpX2nyrImpAu0Kdm+H2yab8GajVgAMZVaKAqyFphbaGqMuwJ533Lz4EqAKPLNFAVZK2wLtCnAMZ4XcC++DlQQwC1GqgKyBhdQloBMNrrAvbFr4E6BqcPtVrHoCogY+kS0grQFuqQjAeyAFUxNFAVGRPVFU8VaAt1SMYBvQAVUW2hKkjrEtLKpi3UIRgLZKMhQmURArH0gRpeaV3xVNk0UAejsT4q2M363nEVUqYXSSmAlIl7XYLyBz3kH6Q4EAUKsbAv61MeSFGmLVQF2kIdtGqcM/zRsPixPuWBFLqEtAKg1usC9sWPgdU/o1A0hM7QrgBIUaZ9PwqcC378yo+B2l9TVA/5lSNpdAlpBTiXpPuVHwOrv6ZIyJf1KQ+kRFc8VYDPA9WPS0r0/+LsNNU8nyrb6GUxyjupHNUmFOmNhELZtaFDYl7Xo3xBA3WQ+gN1KXVyXvhrk70sRnlIe9DVa2mgDlIob0KVFoy3cj2jvC5GKeUrGqiDscKaVlEjqboQJpTvDelobqXUQBqog7GBcekNZtxSYH00Mm30aJjrdU1KKd/wdaD68cxp/w/MWHmdEEMpNZAG6iD1h6iV6cp4WYhSynfSXhewL34M1P6/QFZPstcYS1upSqk+27wuYF/8GKi7LMZm8jltpSql+migDtIuAWoKOV838ZVSI0oDdZAyDKjL5Hu1haqU6tPhdQH74sdA7cHuRxUAk+/VFqpSqo+2UAcj3dZqgBTONH4mn9UWqlKqjwbqEHTjXHRgchqoSql+GqhD0IXTQrV6M3rIr5QCuytwu9dF7ItfA7WbvkDNdHd5XItSyh862psbCl4XsS9+DdSdOIf8+c7Nvv6LpJQaMau8LmB//BqoO3BaqLmOdb4eJqGUGjEveF3A/vg1UDtwhk1Zma4eHTqllAJe9LqA/fFzoL46SUpPSlupSiltoQ5RfwsVoNDTrYGqlNIW6hB1AgWcVYWs9E4NVKVKmwW0eV3E/vgyUJ2rpTYB5QD57g4NVKVK29r25oYer4vYH18GqmMdfYGqQ6eUKnW+P9wHfwfqGpxAzW1b06ETTStV0nx/Qgr8Haj91+yaXDZvZZKbvSxGKeWppV4XcCD8HKgdDFgOpdC9bb2HtSilvNXqdQEHws+BusX5VwByOzas87AWpZR3uoGVXhdxIHwbqOm21gywEagE6N3Upi1UpUrT4vbmhkCcQ/FtoDqeA2oAch3rdlj53pTH9SilRl4gDvfB/4G6CmfWKYBCcru2UpUqPY94XcCB8nugrmPAial852btR1WqtFjAo14XcaD8HqhbsRfts6fy27ZWW6hKlZZn25sbOr0u4kD5OlCdS1BfwOlHzW54foMO8FeqpDzsdQGD4etAdSzHOdNvejO5QnL7Go/rUUqNnPu8LmAwghCoaxjQj5rbtjYQl6AppQ5aD3CP10UMRhACdT12oIYAetY8E4hJEpRSB+2+9uaGQK3W4ftATbe19mBfJTEa7PGohZ7kVm+rUkqNgDu8LmCwfB+ojsdx+lEB8ttf0VaqUsXNAP/wuojBCkqg7hKg2Q3Paz+qUsVtcXtzwyavixisQARquq11G/Z1/VUAPWufXW/yvRlvq1JKDaM7vS5gKAIRqI7HcfpRMcbkOzf7fn0ZpdSQBa7/FIIVqMsGfpPd/JIe9itVnFa3Nzcs2/9m/hOkQF0HpIEYQGZV64umkPP9ol1KqUH7u9cFDFVgAjXd1loAFgNjwV4WJdexPpB/xZRS+3Sj1wUMVWAC1bEEp4UKkHl5SSDWmVFKHbBF7c0NK7wuYqiCFqgvACkgDpBdv/yVQk/3ln0/RSkVIL/xuoCDEahATbe15oAHgPF99/VuWqWtVKWKgDEmCdzidR0HI1CB6lgEhPu+Sb/42LM6pZ9SwScit7Y3NyS9ruNgBDFQNwDtwCiAQndHKt+5RS9FVSr4An24DwEMVGfS6XuA2r77suuWPe1dRUopFzzf3tzwmNdFHKzABarjGaCAc+ifXtW6ysplA32ooFSJC3zrFAIaqOm21hR2X+oEAKyCld3w/CJPi1JKDYkxJvdozesAABWRSURBVAPc7HUdbojsfxPfehg4te+b1PL7nyybesTpEo7EPaxJlaBcx3q23vm9/u/zOzcx6rT3UXPCmwHoeuI2djxwI1Ov/APhitpdnpvv3MLWv38HYywoFKg+7kKqj70Ak8+x5bZvU+jeRvWxDVTPbwCg418/peqY84lPmjVyb3CYicgN7c0NRTHHcZADtQ3Yhj0DVdLKdGd7N7/0ZHxK/an7eZ5SroqOncqUS38KgLEKrL/uEioOPxmAfNdWMi8/Tbhm/B6fG64azaT3XYtEoli9GTb85pOUz1pA76ZVxKfOpfbkd7Lp91+ken4DvVtWYyyrqMLUGJMTkWu9rsMtgTzkB0i3tVrA7TiXogIkl9+/yFhWwbuqVKnrWfMM0VGTidTavVE77vs1o8+6FJA9bi/hKBKJAmAKOTD28mkSCmNyWSgU+ldU2/nw7xl1+vuG/T2MsD+2Nzes9boItwQ2UB1PAkmgHKDQtTWZ61irA/2VZ1IrH6JizusASLctIlw9ltiEGft8Tr5rKxtuvIJXrruU2pMuIlI9lrLDjiXfuYWNv/s8Nce/iXRbK7GJM4lUj93nvoLEGGOJSLPXdbgp0IGabmvNYk9E2388lVrx4GPGGLP3Zyk1PEwhR2bVE1TOPg0r10Pn47ceUIsyUjOeKZf9jCkf/RXJZfdRSO1AQmHGN36RKZf+hIr60+h68g5qTngr2+/7NVv/fg3pttYReEfD7vb25obnvS7CTYEOVMdjQA5n0pTctjXb8zs3rvS2JFWKMqufIjZxJuHK0eR3biLfuZkNN17J+l9cRqF7Gxtv+gyF5I69Pj9SPZbouOn0rFu+y/3dT7dQNe9sshteIBSvZNybv0zX4sDOcNdPRL7rdQ1uC3ygOkOo7gYm9t/3wqOPeFeRKlWpFQ9S6Rzux8YnOPTKPzD18huZevmNhKvHMfmD/0u4avQuz8l3bcPKZQEo9CTJrl9BdOzU/scLPUkyqxZTOe9sTD4LIiBifx1gxph725sbnvS6DrcF+Sz/QA8CF2K/n3z2lZUb852bX4zUTjzc47pUibB6e+hpX8rY867Y77bZjW0kl97N2PM/Ra5jHTseeHVMe82JbyM2PtH/feejf6L2lHciEqL8sPl0L2lh42+uoOrY84fjbYwYEbnG6xqGgxRLd2NF3YL3AmcCrwDEJswYV3vaey4XCQW+Fa5UMTHG+s+a773pXK/rGA7FFDb3Yl+KGgLo3bJ6W27rmiXelqSUGsg+sx/6nNd1DJeiCdR0W+tm4CFgct993U/f9YApBLyzSaliYgq/aW9uWL7/DYOpaALV0beWdwygkOxI96xf/rCH9SilHMYqJCUUucrrOoZTUQVquq11O/Z63v2t1OTSuxdZvZlO76pSSjn+p1iu2d+bogpUx31AN1AJYPK9hcxLT97rbUlKlTZTyK+TUPhHXtcx3IouUNNtrRngj/RN7QekVjywrJDa+Yp3VSlV4kKhz7Y3N/R6XcZwK7pAdSwG1gBj+u5IrXjgX8UyREypIDGF3KI133vT37yuYyQUZaCm21oL2K3UWpxpfnrWPrc+t7W96K7MUMrPjLHyEo5+1Os6RkpRBqrjBWAJAy5J7Vp8+71Wrqfbu5KUKi0mn2tub254zus6RkrRBqqzmN+tQNS5YfV0Z9PPP9LiaWFKlQirt6ctFI1/0+s6RlLRBipAuq11I3AbcEj/fS8+9kJu+ytFO7BYKT8wllXAFN7V3tyQ97qWkVTUger4D/b1/f0z83Yt/vtdVr435V1JShU3qyf5o7U/emfJLe9e9IGabmvNYS9RW42z7HQhuT2dfv7hf3hamFJFyurNvBSuqPmK13V4oegDFSDd1roauIuBh/4vPPpCrmPds95VpVTxsQ/1rXeU2qF+n5IIVMedwFYGjE3tbP3b3VZvT5d3JSlVXEr1UL9PyQRquq21B7geqMGZWNvKdPV0L73rVl0pVamDV+hJPheuqGnyug4vlUygQv+h/x1A/xoT2XXLXsm8vOTf3lWlVPBZuZ5u05s5v725oaQbJyUVqI4W7MtS+6/1Ty69a3Fu+/qSGXyslJuMZVm5jnWXrL/ugyU/X0bJBWq6rbUX+Dn2e6/su3/no7f8o9CTLOqpxZQaDrmOtddtvOkzwV+G1QUlF6gA6bbWLcB12K3UCIDpTee6nvj7n00hX/Qz4ijllnznlsU7H/q/T3ldh1+UZKACpNtan8U+839o3325rS93pF545A7vqlIqOAo9yW29W1af71zmrSjhQHXcASwHpvTdkV750IrsplWt3pWklP+ZQi6X2/LyW7f87dsdXtfiJyUdqOm21jzwKyCDPdUfAJ2Lbv1PvmvrS54VppSPGWNM75b2pk1/bHrE61r8pqQDFSDd1roT+CkwGmdxPwp5a8dD/3drId250cvalPKj3o0v/mbjzZ/5odd1+FHJBypAuq11FfB77PGpIQCTTfXufOQPf7Cy6R2eFqeUj2Q3vnh/5+N/vtzrOvxKA/VV92Mv8De9745C97ZU56K//N7ke9PelaWUP/RuaV/W+dgtFzldZWoPNFAd6bZWC/gD8CQwre/+3LY127ue+scfjJXPeVacUh7L7di4pnvJP853usjUXmigDuD85f01sJoBZ/6z65dvSD53363GWJZnxSnlkXx3x5bkM/8+v3vpv9Z7XYvfaaDuxplE5SfAdgZcnppZ1boq07ZI51BVJaWQ6epMLrvvbZ2L/rLS61qCQAN1D9JtrV3AD4E89tl/AJLP3btUJ1JRpcLKplOp5Q98cOeDNz/qdS1BoYG6F87lqdcCZUBV3/3dS/65KL3qiRZj9OIQVbysbCrVvfTuK7bf+6vbva4lSDRQ9yHd1roW+F/s9agq+u5PPvOvJzNti+4wmqqqCBV6ksmuxXc0Zdcvv9nrWoJGNBP2r6JuwbHAp4BtQP/ifpVzz5pXMfvUt4qE9A+TKgqFnu7urkV/+3auY+0P022tJT236VBooB6giroFRwKfxT5Zley/f/bpcyrnnHGRhEJhz4pTygWF1M4dna1//VZ+x4af6VjTodFAHYSKugVzgM8DXc4NgPK6k+uq5r3+XRqqKqjy3du2dj5+68JC97brtWU6dBqog1RRt+Bw4AvYh/6dffeXzzh+RtXR57xbQpGoZ8UpNQS5nZs2dj72p69bme7fapgeHA3UIaioWzAD+CLQC/Rf6x+fMntS9fGNF4eiZTWeFafUIPRuXr2684m/XW16M7c4Vwuqg6CBOkQVdQumA18CCtj9qgCEa8ZXjTr14neHK0Yd4llxSu2HMcZkVi9+Orn0X98AWnSSaHfo2ekhSre1rgG+CxhgYt/9ha6tye33Xn9TbvsryzwrTql9MIV8b/fTLQ8kl/7rCwwxTEWkTESeEJFnRGS5iHzTuf8wEWkVkVUi8mcRiTn3/0hEljq3F0Vk54B9XSIibc7tkgH3x0TkV872z4vIRS68/WGlLdSDVFG3YBxwJfbUf+uxAxaAmhPf9rr41CPOEhGvylNqF1Y21dW56K/35Lat+W66rfWpoe5H7A91pTEmKSJR4BHg08DngNuMMbeIyC+BZ4wxv9jtuVcCxxpjLhORMdgTEh2P/bvzFHCcMWaHE9JhY8zXRCQEjDHGbBtqzSNBW6gHKd3Wug1oBpYACaD/TH/XE7c9lFr54F+MVdCZqpTn8p1bNmy//4Y/5rat+fzBhCnYXQbGmL7hg1HnZoCzgb86998MvGUPT78Y+JPz9bnAPcaY7caYHcA9wHnOY5dhHwVijLH8HqaggeqKdFtrBvgl9qJ/07EvV7UfW/nQiq4nbvutlevp9qo+pbIbX3xh+wM3XG+lO7/qdFcdNBEJi8hSYAt2EL4E7DTG9I1hXQ8csttzpgOHYc8/jPP4ugGbrAcOEZFRzvffFpElIvIXEZmIz2mgusQZbnIbry5P3b9GVfaVlRt33H/DL3M7N7/gVX2qNBmrkEutfGhR52O3XEsh/710W6trK1AYYwrGmGOwu7tOBGYfwNPeDfzVGLO/4VkRZ7+PGWPmA49jz63haxqoLkq3tZp0W+si4DvYH4j+6f8Kye3pHfddf0v6pcV3GaugV6GoYVdId27e8eDNLakV//0m8Jt0W2t2OF7HGLMTeAA4GRglIhHnoanAK7tt/m5ePdzHefzQAd/3PacDSGM3UgD+Asx3t3L3aaAOg3Rb60vAN7Gv/Z/GgJ9zcundizsf+/OvCpnuLV7Vp4qbMcb0rFu+pOPfP/9Hfvv6b6TbWv/l9rAoERnfd1guIuXAG4GV2MH6dmezS7CXau97zmzs6TAfH7CrfwPniMhoERkNnAP825l46B/Amc52rwdWuPkehoOe5R9GFXUL4sBF2B3vWxkwB4BEYuGak97xxvjEmQu8qk8VH6s309X99N2PZdcvexL4ZbqtdfcWoitE5Cjsk05h7AbDrcaYb4nIDOAWYAzwNPA+Y0zWec5CoMwY07Tbvi4Dvup8+x1jzG+d+6cDvwNGYf/+XGqMWTsc78ctGqgjoKJuwVHAx7DPhG4Y+Fh53Ul1lXPPfHMoEqv0pDhVNHId61/sfPzWp6xs8nbg9nRba6/XNZUaDdQRUlG3YDT2MJCjsPuI+j/s4epxlTUnvLUhOnryHK/qU8FlCvls6vlHFqWff+hZ7Fap7w+Ni5UG6giqqFsQxu4LuhjoZsAlq+C0VmeffkEoVj5qT89Xane5jnUruhbfvryQ2vEQ8H/O8j3KIxqoHnDmAfgEMB67tdo/hESiZZHq4970uvjk+lN0OkC1N1ZPclvyuXsf7Vn77FbsvsxH9Xp872mgeqSibkE59lUk52KfrNrlKpDohBnjqo85/4JI9djDvKhP+ZOx8rmetc892v30XeuwCquAX6fbWjd6XZeyaaB6rKJuQQJ7eMkMYCPQM/DxyiPOOrJ85onnhqJxPWlV4nI7Nj7f9eTtSwtdWzuxz6Q/ojPr+4sGqg84faunYw96DmOPBOj/jwmVV8erj73wjNjEGSdIKBzZy25UkbJ6Uh3JFf99pOflpzqBh4C/pdtad+7veWrkaaD6iDMS4O3AadgTV+/ySxOpnVhdddQbT4+OS8zX/tXiZ2XTOzIvL3k0teK/2zHWeuDmdFvri17XpfZOA9VnKuoWCFAPXIo9z+pGYJdLBiNjpo6qOvINZ0THHnq06NyARcfqzXT2rHnmoeSy+7ZgFSzgz8BD6bZWnbXM5zRQfaqibkEMOAv7xFUc2MSAsasA0fGJsVXzXn9mZPSUeZqrwWflerp71j73cPK5e9ZTyMexL9H8S7qtdfv+nqv8QQPV5yrqFlRiB+ubsCdc2QTs0lKJTaqbUHnEmWdFaifN1mANHiuXTWbXLXsk+ex/1ppCLo49t+7t6bZWX19mqV5LAzUgKuoW1ABvAM4HBDtYdznDGx03fUzl7NNPio6fdoyuvup/hXTXxuz65U+kVj642eR748CzwG3pttZ2j0tTQ6SBGjDOiatznJvB7mPdZW7JUEVtWeXcM4+LTz78hFCsvHYPu1EeMZZVyO/csCLz0uInetY+1wNUA8uwp6lbrYPzg00DNaCctawuAM7AbrFuZreTV4hIRd3JdWXTjz4hXD1ulnYHeMfK9XT3blr1ZGrlQ08XurdVATHgReBvQJsGaXHQQA04p8V6GnZXQDn2/ACvWW4lOvbQ0RWHnzI/Om7akdpqHRnGGFNIbl+TXbfsydQLj6zGKoxzHmrFXgLkJQ3S4qKBWiQq6haUYc9o3og93CqLvdaPtfu2ZdOOnBqfdtS86JipR4Si8aqRrbS4GWOwUjvW9m5ZvTz90uIVha6tMezD+iRwN/C4m8uQKH/RQC0yFXULQsAs7JEBJ2J3B3QAqddsLCJliWOnl009Yl50zCFzJBKrGNFii0ghtXN975bVyzMvPbk837kpg738TQxYBbQAy3QcafHTQC1iTnfAAuylfcdjt1a3AZnXbBwKh8pnHHdYfMqcIyK1E2eGYmU1I1pswBhjjJXu3NC7tX1FZvVTy/M7XkkBY7HHDOex16l/AFivh/WlQwO1BDhXX00FjsVeo2cU9siADnabjKVPdHxibPyQOYdFx0ydEaked5hEomV72q5UGGOwsskt+Z2bX85tbX+5Z91z7VamO48domXYP8/FwCLgheFaEE/5mwZqiXG6BKYDxwGvw+7fy7OPcEVE4lNmT4pNPnxGdPQhM8JVo6eVwiQtVja9I9+15eXctjWre9Ytay90d6SwJ68ZA1Rgh+hT2Fc0PZ9ua93zz0+VDA3UEubMcjUDOB67a6DvMD+DPTHLHvv8JBwNxybOHB8de+ikcM34SeGqMZPC5dUTJRzcVqyVy6asdOfGfLJjY37npo29m1/akN+xoRN7AbpqoBZ73K8FPAM8BqxMt7W+tvtElSwNVAX0dwtMAA4DjgGOxu4PBPsMdSe7XUCwu8iYqaNi46dPjIyaNClcNWZSqKx6bChaVivhSGw4ax8Mk+9NW9nU9kK6a0sh2bElv3PT1t5ta7YUurb2rUgrQBV2t0jf96uwW6KrgHW6+J3aGw1UtUdO63UK9oiB+cBs7HAJYXcRJLFHDuwzZMGezzVSO7E2XDW2JlwxqiZUXl0bKquqCcUrakLRshpCkZiEQlFC4SgSigzmAgRjjMEU8lhWzliFnMllu63edJeVTXdbPckuK9PdVUjt6CokO7rznZu7TL5393rj2C3Qcud7AdZhB+iLQLseyqsDpYGqDogz+9VkYBKQAOqAadh9in1Szq2XARNkD5ZEyyKhWHlUomVRiZZFQ9F4FMDK9+ZNLpsz+Wze5LJ5K5fJUci/ZpztXkSw+z0rsZfztrD/OHQBbcAL2BN7r023tSb3thOl9kUDVQ2Zc4JrHHbITsVuzR7Gq/2Nhl1btdkBtzx7uOhgiKLYLc049tjPmLPvvg93yHnNdcBqYC32RQ9bgG4d1qTcooGqXFdRtyCCfRhdgx2uNdjjYCc6/47DbilGeDV4+z6I+/tAyoB/+75OYV9yu5VXg7Jrt1uPBqcabhqoyjNOP20Eu4W5p1sYuyXbd8vt6et0W6tbLV2lDooGqlJKuSTkdQFKKVUsNFCVUsolGqhKKeUSDVSllHKJBqpSSrlEA1UppVyigaqUUi7RQFVKKZdooCqllEs0UJVSyiUaqEop5RINVKWUcokGqlJKuUQDVSmlXKKBqpRSLtFAVUopl2igKqWUSzRQlVLKJRqoSinlEg1UpZRyiQaqUkq5RANVKaVcooGqlFIu0UBVSimXaKAqpZRLNFCVUsolGqhKKeUSDVSllHKJBqpSSrlEA1UppVyigaqUUi7RQFVKKZdooCqllEs0UJVSyiUaqEop5ZL/D61uXPPz/T11AAAAAElFTkSuQmCC\n"},"metadata":{}}]},{"cell_type":"code","source":["#Different medals count values\n","athlete_merged.Medal.value_counts()"],"metadata":{"colab":{"base_uri":"https://localhost:8080/"},"id":"KS9Au5oeU8xm","executionInfo":{"status":"ok","timestamp":1651906964865,"user_tz":420,"elapsed":194,"user":{"displayName":"ramisetty teja","userId":"16193363273133164312"}},"outputId":"26ea73dc-4158-4856-ec13-7fd590f43802"},"id":"KS9Au5oeU8xm","execution_count":37,"outputs":[{"output_type":"execute_result","data":{"text/plain":["Gold      1908\n","Silver    1876\n","Bronze    1814\n","Name: Medal, dtype: int64"]},"metadata":{},"execution_count":37}]},{"cell_type":"code","source":["#Female Participations is Summer olympics\n","female_participants = athlete_merged[(athlete_merged.Sex=='F')& (athlete_merged.Season=='Summer')][['Sex', 'Year']]\n","female_participants = female_participants.groupby('Year').count().reset_index()\n","female_participants"],"metadata":{"colab":{"base_uri":"https://localhost:8080/","height":865},"id":"s_YpBOeWU-tI","executionInfo":{"status":"ok","timestamp":1651906972832,"user_tz":420,"elapsed":154,"user":{"displayName":"ramisetty teja","userId":"16193363273133164312"}},"outputId":"0d66b096-645e-46f0-c185-207895c9515d"},"id":"s_YpBOeWU-tI","execution_count":38,"outputs":[{"output_type":"execute_result","data":{"text/plain":["      Year  Sex\n","0   1900.0    3\n","1   1908.0    8\n","2   1912.0   24\n","3   1920.0   29\n","4   1924.0   48\n","5   1928.0   51\n","6   1932.0   44\n","7   1936.0   74\n","8   1948.0   95\n","9   1952.0  178\n","10  1956.0   83\n","11  1960.0  195\n","12  1964.0  192\n","13  1968.0  328\n","14  1972.0  358\n","15  1976.0  341\n","16  1980.0  264\n","17  1984.0  368\n","18  1988.0  519\n","19  1992.0  537\n","20  1996.0  684\n","21  2000.0  789\n","22  2004.0  765\n","23  2008.0  818\n","24  2012.0  876\n","25  2016.0  986"],"text/html":["\n","  <div id=\"df-e3f2032d-b475-4282-8471-ff04e9e33f21\">\n","    <div class=\"colab-df-container\">\n","      <div>\n","<style scoped>\n","    .dataframe tbody tr th:only-of-type {\n","        vertical-align: middle;\n","    }\n","\n","    .dataframe tbody tr th {\n","        vertical-align: top;\n","    }\n","\n","    .dataframe thead th {\n","        text-align: right;\n","    }\n","</style>\n","<table border=\"1\" class=\"dataframe\">\n","  <thead>\n","    <tr style=\"text-align: right;\">\n","      <th></th>\n","      <th>Year</th>\n","      <th>Sex</th>\n","    </tr>\n","  </thead>\n","  <tbody>\n","    <tr>\n","      <th>0</th>\n","      <td>1900.0</td>\n","      <td>3</td>\n","    </tr>\n","    <tr>\n","      <th>1</th>\n","      <td>1908.0</td>\n","      <td>8</td>\n","    </tr>\n","    <tr>\n","      <th>2</th>\n","      <td>1912.0</td>\n","      <td>24</td>\n","    </tr>\n","    <tr>\n","      <th>3</th>\n","      <td>1920.0</td>\n","      <td>29</td>\n","    </tr>\n","    <tr>\n","      <th>4</th>\n","      <td>1924.0</td>\n","      <td>48</td>\n","    </tr>\n","    <tr>\n","      <th>5</th>\n","      <td>1928.0</td>\n","      <td>51</td>\n","    </tr>\n","    <tr>\n","      <th>6</th>\n","      <td>1932.0</td>\n","      <td>44</td>\n","    </tr>\n","    <tr>\n","      <th>7</th>\n","      <td>1936.0</td>\n","      <td>74</td>\n","    </tr>\n","    <tr>\n","      <th>8</th>\n","      <td>1948.0</td>\n","      <td>95</td>\n","    </tr>\n","    <tr>\n","      <th>9</th>\n","      <td>1952.0</td>\n","      <td>178</td>\n","    </tr>\n","    <tr>\n","      <th>10</th>\n","      <td>1956.0</td>\n","      <td>83</td>\n","    </tr>\n","    <tr>\n","      <th>11</th>\n","      <td>1960.0</td>\n","      <td>195</td>\n","    </tr>\n","    <tr>\n","      <th>12</th>\n","      <td>1964.0</td>\n","      <td>192</td>\n","    </tr>\n","    <tr>\n","      <th>13</th>\n","      <td>1968.0</td>\n","      <td>328</td>\n","    </tr>\n","    <tr>\n","      <th>14</th>\n","      <td>1972.0</td>\n","      <td>358</td>\n","    </tr>\n","    <tr>\n","      <th>15</th>\n","      <td>1976.0</td>\n","      <td>341</td>\n","    </tr>\n","    <tr>\n","      <th>16</th>\n","      <td>1980.0</td>\n","      <td>264</td>\n","    </tr>\n","    <tr>\n","      <th>17</th>\n","      <td>1984.0</td>\n","      <td>368</td>\n","    </tr>\n","    <tr>\n","      <th>18</th>\n","      <td>1988.0</td>\n","      <td>519</td>\n","    </tr>\n","    <tr>\n","      <th>19</th>\n","      <td>1992.0</td>\n","      <td>537</td>\n","    </tr>\n","    <tr>\n","      <th>20</th>\n","      <td>1996.0</td>\n","      <td>684</td>\n","    </tr>\n","    <tr>\n","      <th>21</th>\n","      <td>2000.0</td>\n","      <td>789</td>\n","    </tr>\n","    <tr>\n","      <th>22</th>\n","      <td>2004.0</td>\n","      <td>765</td>\n","    </tr>\n","    <tr>\n","      <th>23</th>\n","      <td>2008.0</td>\n","      <td>818</td>\n","    </tr>\n","    <tr>\n","      <th>24</th>\n","      <td>2012.0</td>\n","      <td>876</td>\n","    </tr>\n","    <tr>\n","      <th>25</th>\n","      <td>2016.0</td>\n","      <td>986</td>\n","    </tr>\n","  </tbody>\n","</table>\n","</div>\n","      <button class=\"colab-df-convert\" onclick=\"convertToInteractive('df-e3f2032d-b475-4282-8471-ff04e9e33f21')\"\n","              title=\"Convert this dataframe to an interactive table.\"\n","              style=\"display:none;\">\n","        \n","  <svg xmlns=\"http://www.w3.org/2000/svg\" height=\"24px\"viewBox=\"0 0 24 24\"\n","       width=\"24px\">\n","    <path d=\"M0 0h24v24H0V0z\" fill=\"none\"/>\n","    <path d=\"M18.56 5.44l.94 2.06.94-2.06 2.06-.94-2.06-.94-.94-2.06-.94 2.06-2.06.94zm-11 1L8.5 8.5l.94-2.06 2.06-.94-2.06-.94L8.5 2.5l-.94 2.06-2.06.94zm10 10l.94 2.06.94-2.06 2.06-.94-2.06-.94-.94-2.06-.94 2.06-2.06.94z\"/><path d=\"M17.41 7.96l-1.37-1.37c-.4-.4-.92-.59-1.43-.59-.52 0-1.04.2-1.43.59L10.3 9.45l-7.72 7.72c-.78.78-.78 2.05 0 2.83L4 21.41c.39.39.9.59 1.41.59.51 0 1.02-.2 1.41-.59l7.78-7.78 2.81-2.81c.8-.78.8-2.07 0-2.86zM5.41 20L4 18.59l7.72-7.72 1.47 1.35L5.41 20z\"/>\n","  </svg>\n","      </button>\n","      \n","  <style>\n","    .colab-df-container {\n","      display:flex;\n","      flex-wrap:wrap;\n","      gap: 12px;\n","    }\n","\n","    .colab-df-convert {\n","      background-color: #E8F0FE;\n","      border: none;\n","      border-radius: 50%;\n","      cursor: pointer;\n","      display: none;\n","      fill: #1967D2;\n","      height: 32px;\n","      padding: 0 0 0 0;\n","      width: 32px;\n","    }\n","\n","    .colab-df-convert:hover {\n","      background-color: #E2EBFA;\n","      box-shadow: 0px 1px 2px rgba(60, 64, 67, 0.3), 0px 1px 3px 1px rgba(60, 64, 67, 0.15);\n","      fill: #174EA6;\n","    }\n","\n","    [theme=dark] .colab-df-convert {\n","      background-color: #3B4455;\n","      fill: #D2E3FC;\n","    }\n","\n","    [theme=dark] .colab-df-convert:hover {\n","      background-color: #434B5C;\n","      box-shadow: 0px 1px 3px 1px rgba(0, 0, 0, 0.15);\n","      filter: drop-shadow(0px 1px 2px rgba(0, 0, 0, 0.3));\n","      fill: #FFFFFF;\n","    }\n","  </style>\n","\n","      <script>\n","        const buttonEl =\n","          document.querySelector('#df-e3f2032d-b475-4282-8471-ff04e9e33f21 button.colab-df-convert');\n","        buttonEl.style.display =\n","          google.colab.kernel.accessAllowed ? 'block' : 'none';\n","\n","        async function convertToInteractive(key) {\n","          const element = document.querySelector('#df-e3f2032d-b475-4282-8471-ff04e9e33f21');\n","          const dataTable =\n","            await google.colab.kernel.invokeFunction('convertToInteractive',\n","                                                     [key], {});\n","          if (!dataTable) return;\n","\n","          const docLinkHtml = 'Like what you see? Visit the ' +\n","            '<a target=\"_blank\" href=https://colab.research.google.com/notebooks/data_table.ipynb>data table notebook</a>'\n","            + ' to learn more about interactive tables.';\n","          element.innerHTML = '';\n","          dataTable['output_type'] = 'display_data';\n","          await google.colab.output.renderOutput(dataTable, element);\n","          const docLink = document.createElement('div');\n","          docLink.innerHTML = docLinkHtml;\n","          element.appendChild(docLink);\n","        }\n","      </script>\n","    </div>\n","  </div>\n","  "]},"metadata":{},"execution_count":38}]},{"cell_type":"code","source":["summerWomenOlympics = athlete_merged[(athlete_merged.Sex == 'F') & (athlete_merged.Season == 'Summer')]"],"metadata":{"id":"AbnPWlGhVAqs","executionInfo":{"status":"ok","timestamp":1651906983211,"user_tz":420,"elapsed":162,"user":{"displayName":"ramisetty teja","userId":"16193363273133164312"}}},"id":"AbnPWlGhVAqs","execution_count":39,"outputs":[]},{"cell_type":"code","source":["#Women Participations in summer olympics\n","sns.set(style=\"darkgrid\")\n","plt.figure(figsize=(30,20))\n","sns.countplot(x='Year', data=summerWomenOlympics, palette=\"Spectral\")\n","plt.title('Women Participation')"],"metadata":{"colab":{"base_uri":"https://localhost:8080/","height":602},"id":"a-Wanp1PVDMj","executionInfo":{"status":"ok","timestamp":1651906991663,"user_tz":420,"elapsed":1361,"user":{"displayName":"ramisetty teja","userId":"16193363273133164312"}},"outputId":"2e0d839e-97a6-4e94-ae46-db62d2036f6d"},"id":"a-Wanp1PVDMj","execution_count":40,"outputs":[{"output_type":"execute_result","data":{"text/plain":["Text(0.5, 1.0, 'Women Participation')"]},"metadata":{},"execution_count":40},{"output_type":"display_data","data":{"text/plain":["<Figure size 2160x1440 with 1 Axes>"],"image/png":"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\n"},"metadata":{}}]},{"cell_type":"code","source":["part = summerWomenOlympics.groupby('Year')['Sex'].value_counts()\n","plt.figure(figsize=(20,10))\n","part.loc[:,'F'].plot()\n","plt.title('Plot of Female Athletes over time')"],"metadata":{"colab":{"base_uri":"https://localhost:8080/","height":482},"id":"53KAqs91VE9X","executionInfo":{"status":"ok","timestamp":1651906999464,"user_tz":420,"elapsed":1008,"user":{"displayName":"ramisetty teja","userId":"16193363273133164312"}},"outputId":"c732c618-ae22-4752-e4c4-7e1d8bb5b5f2"},"id":"53KAqs91VE9X","execution_count":41,"outputs":[{"output_type":"execute_result","data":{"text/plain":["Text(0.5, 1.0, 'Plot of Female Athletes over time')"]},"metadata":{},"execution_count":41},{"output_type":"display_data","data":{"text/plain":["<Figure size 1440x720 with 1 Axes>"],"image/png":"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\n"},"metadata":{}}]},{"cell_type":"code","source":["summerMenOlympics = athlete_merged[(athlete_merged.Sex == 'M') & (athlete_merged.Season == 'Summer')]"],"metadata":{"id":"_nTjp98sVG9I","executionInfo":{"status":"ok","timestamp":1651907006975,"user_tz":420,"elapsed":4,"user":{"displayName":"ramisetty teja","userId":"16193363273133164312"}}},"id":"_nTjp98sVG9I","execution_count":42,"outputs":[]},{"cell_type":"code","source":["#Men Participations in summer olympics\n","sns.set(style=\"darkgrid\")\n","plt.figure(figsize=(30,20))\n","sns.countplot(x='Year', data=summerMenOlympics, palette=\"Spectral\")\n","plt.title('Men Participation')"],"metadata":{"colab":{"base_uri":"https://localhost:8080/","height":602},"id":"ulKfgUoMVI_R","executionInfo":{"status":"ok","timestamp":1651907014452,"user_tz":420,"elapsed":1322,"user":{"displayName":"ramisetty teja","userId":"16193363273133164312"}},"outputId":"7f6eb91a-4db1-43c2-ff79-338c6e32badd"},"id":"ulKfgUoMVI_R","execution_count":43,"outputs":[{"output_type":"execute_result","data":{"text/plain":["Text(0.5, 1.0, 'Men Participation')"]},"metadata":{},"execution_count":43},{"output_type":"display_data","data":{"text/plain":["<Figure size 2160x1440 with 1 Axes>"],"image/png":"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\n"},"metadata":{}}]},{"cell_type":"code","source":["part = summerMenOlympics.groupby('Year')['Sex'].value_counts()\n","plt.figure(figsize=(20,10))\n","part.loc[:,'M'].plot()\n","plt.title('Plot of Female Athletes over time')"],"metadata":{"colab":{"base_uri":"https://localhost:8080/","height":482},"id":"gqBM6LAkVKi4","executionInfo":{"status":"ok","timestamp":1651907022985,"user_tz":420,"elapsed":890,"user":{"displayName":"ramisetty teja","userId":"16193363273133164312"}},"outputId":"c181da68-192a-480d-9082-8cd5869214f5"},"id":"gqBM6LAkVKi4","execution_count":44,"outputs":[{"output_type":"execute_result","data":{"text/plain":["Text(0.5, 1.0, 'Plot of Female Athletes over time')"]},"metadata":{},"execution_count":44},{"output_type":"display_data","data":{"text/plain":["<Figure size 1440x720 with 1 Axes>"],"image/png":"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\n"},"metadata":{}}]},{"cell_type":"code","source":["goldMedals = athlete_merged[(athlete_merged.Medal == 'Gold')]\n","goldMedals"],"metadata":{"colab":{"base_uri":"https://localhost:8080/","height":904},"id":"ZGg7Z88oVMvX","executionInfo":{"status":"ok","timestamp":1651907031246,"user_tz":420,"elapsed":189,"user":{"displayName":"ramisetty teja","userId":"16193363273133164312"}},"outputId":"99331567-029e-46e0-8db1-1864b655c8b0"},"id":"ZGg7Z88oVMvX","execution_count":45,"outputs":[{"output_type":"execute_result","data":{"text/plain":["          ID                            Name Sex   Age  Height  Weight  \\\n","3          4            Edgar Lindenau Aabye   M  34.0   175.0    70.0   \n","42        17         Paavo Johannes Aaltonen   M  28.0   175.0    64.0   \n","44        17         Paavo Johannes Aaltonen   M  28.0   175.0    64.0   \n","48        17         Paavo Johannes Aaltonen   M  28.0   175.0    64.0   \n","60        20              Kjetil Andr Aamodt   M  20.0   176.0    85.0   \n","...      ...                             ...  ..   ...     ...     ...   \n","41254  21275  David William \"Dave\" Christian   M  20.0   180.0    77.0   \n","41257  21277     Frederick William Christian   M  32.0   175.0    70.0   \n","41259  21279     Roger Allen \"Rog\" Christian   M  24.0   175.0    68.0   \n","41288  21296  Lauritz Christian Christiansen   M  52.0   175.0    70.0   \n","41295  21299               Mads Christiansen   M  30.0   197.0    93.0   \n","\n","                               Team  NOC        Games    Year  Season  \\\n","3                    Denmark/Sweden  DEN  1900 Summer  1900.0  Summer   \n","42                          Finland  FIN  1948 Summer  1948.0  Summer   \n","44                          Finland  FIN  1948 Summer  1948.0  Summer   \n","48                          Finland  FIN  1948 Summer  1948.0  Summer   \n","60                           Norway  NOR  1992 Winter  1992.0  Winter   \n","...                             ...  ...          ...     ...     ...   \n","41254                 United States  USA  1980 Winter  1980.0  Winter   \n","41257  Devon and Somerset Wanderers  GBR  1900 Summer  1900.0  Summer   \n","41259                 United States  USA  1960 Winter  1960.0  Winter   \n","41288                       Atlanta  NOR  1920 Summer  1920.0  Summer   \n","41295                       Denmark  DEN  2016 Summer  2016.0  Summer   \n","\n","                 City          Sport                             Event Medal  \\\n","3               Paris     Tug-Of-War       Tug-Of-War Men's Tug-Of-War  Gold   \n","42             London     Gymnastics  Gymnastics Men's Team All-Around  Gold   \n","44             London     Gymnastics      Gymnastics Men's Horse Vault  Gold   \n","48             London     Gymnastics  Gymnastics Men's Pommelled Horse  Gold   \n","60        Albertville  Alpine Skiing       Alpine Skiing Men's Super G  Gold   \n","...               ...            ...                               ...   ...   \n","41254     Lake Placid     Ice Hockey       Ice Hockey Men's Ice Hockey  Gold   \n","41257           Paris        Cricket             Cricket Men's Cricket  Gold   \n","41259    Squaw Valley     Ice Hockey       Ice Hockey Men's Ice Hockey  Gold   \n","41288       Antwerpen        Sailing           Sailing Mixed 12 metres  Gold   \n","41295  Rio de Janeiro       Handball           Handball Men's Handball  Gold   \n","\n","        Region Notes  \n","3      Denmark   NaN  \n","42     Finland   NaN  \n","44     Finland   NaN  \n","48     Finland   NaN  \n","60      Norway   NaN  \n","...        ...   ...  \n","41254      USA   NaN  \n","41257       UK   NaN  \n","41259      USA   NaN  \n","41288   Norway   NaN  \n","41295  Denmark   NaN  \n","\n","[1908 rows x 17 columns]"],"text/html":["\n","  <div id=\"df-d7e8dd9b-7f23-4d96-abb6-1aa579387d25\">\n","    <div class=\"colab-df-container\">\n","      <div>\n","<style scoped>\n","    .dataframe tbody tr th:only-of-type {\n","        vertical-align: middle;\n","    }\n","\n","    .dataframe tbody tr th {\n","        vertical-align: top;\n","    }\n","\n","    .dataframe thead th {\n","        text-align: right;\n","    }\n","</style>\n","<table border=\"1\" class=\"dataframe\">\n","  <thead>\n","    <tr style=\"text-align: right;\">\n","      <th></th>\n","      <th>ID</th>\n","      <th>Name</th>\n","      <th>Sex</th>\n","      <th>Age</th>\n","      <th>Height</th>\n","      <th>Weight</th>\n","      <th>Team</th>\n","      <th>NOC</th>\n","      <th>Games</th>\n","      <th>Year</th>\n","      <th>Season</th>\n","      <th>City</th>\n","      <th>Sport</th>\n","      <th>Event</th>\n","      <th>Medal</th>\n","      <th>Region</th>\n","      <th>Notes</th>\n","    </tr>\n","  </thead>\n","  <tbody>\n","    <tr>\n","      <th>3</th>\n","      <td>4</td>\n","      <td>Edgar Lindenau Aabye</td>\n","      <td>M</td>\n","      <td>34.0</td>\n","      <td>175.0</td>\n","      <td>70.0</td>\n","      <td>Denmark/Sweden</td>\n","      <td>DEN</td>\n","      <td>1900 Summer</td>\n","      <td>1900.0</td>\n","      <td>Summer</td>\n","      <td>Paris</td>\n","      <td>Tug-Of-War</td>\n","      <td>Tug-Of-War Men's Tug-Of-War</td>\n","      <td>Gold</td>\n","      <td>Denmark</td>\n","      <td>NaN</td>\n","    </tr>\n","    <tr>\n","      <th>42</th>\n","      <td>17</td>\n","      <td>Paavo Johannes Aaltonen</td>\n","      <td>M</td>\n","      <td>28.0</td>\n","      <td>175.0</td>\n","      <td>64.0</td>\n","      <td>Finland</td>\n","      <td>FIN</td>\n","      <td>1948 Summer</td>\n","      <td>1948.0</td>\n","      <td>Summer</td>\n","      <td>London</td>\n","      <td>Gymnastics</td>\n","      <td>Gymnastics Men's Team All-Around</td>\n","      <td>Gold</td>\n","      <td>Finland</td>\n","      <td>NaN</td>\n","    </tr>\n","    <tr>\n","      <th>44</th>\n","      <td>17</td>\n","      <td>Paavo Johannes Aaltonen</td>\n","      <td>M</td>\n","      <td>28.0</td>\n","      <td>175.0</td>\n","      <td>64.0</td>\n","      <td>Finland</td>\n","      <td>FIN</td>\n","      <td>1948 Summer</td>\n","      <td>1948.0</td>\n","      <td>Summer</td>\n","      <td>London</td>\n","      <td>Gymnastics</td>\n","      <td>Gymnastics Men's Horse Vault</td>\n","      <td>Gold</td>\n","      <td>Finland</td>\n","      <td>NaN</td>\n","    </tr>\n","    <tr>\n","      <th>48</th>\n","      <td>17</td>\n","      <td>Paavo Johannes Aaltonen</td>\n","      <td>M</td>\n","      <td>28.0</td>\n","      <td>175.0</td>\n","      <td>64.0</td>\n","      <td>Finland</td>\n","      <td>FIN</td>\n","      <td>1948 Summer</td>\n","      <td>1948.0</td>\n","      <td>Summer</td>\n","      <td>London</td>\n","      <td>Gymnastics</td>\n","      <td>Gymnastics Men's Pommelled Horse</td>\n","      <td>Gold</td>\n","      <td>Finland</td>\n","      <td>NaN</td>\n","    </tr>\n","    <tr>\n","      <th>60</th>\n","      <td>20</td>\n","      <td>Kjetil Andr Aamodt</td>\n","      <td>M</td>\n","      <td>20.0</td>\n","      <td>176.0</td>\n","      <td>85.0</td>\n","      <td>Norway</td>\n","      <td>NOR</td>\n","      <td>1992 Winter</td>\n","      <td>1992.0</td>\n","      <td>Winter</td>\n","      <td>Albertville</td>\n","      <td>Alpine Skiing</td>\n","      <td>Alpine Skiing Men's Super G</td>\n","      <td>Gold</td>\n","      <td>Norway</td>\n","      <td>NaN</td>\n","    </tr>\n","    <tr>\n","      <th>...</th>\n","      <td>...</td>\n","      <td>...</td>\n","      <td>...</td>\n","      <td>...</td>\n","      <td>...</td>\n","      <td>...</td>\n","      <td>...</td>\n","      <td>...</td>\n","      <td>...</td>\n","      <td>...</td>\n","      <td>...</td>\n","      <td>...</td>\n","      <td>...</td>\n","      <td>...</td>\n","      <td>...</td>\n","      <td>...</td>\n","      <td>...</td>\n","    </tr>\n","    <tr>\n","      <th>41254</th>\n","      <td>21275</td>\n","      <td>David William \"Dave\" Christian</td>\n","      <td>M</td>\n","      <td>20.0</td>\n","      <td>180.0</td>\n","      <td>77.0</td>\n","      <td>United States</td>\n","      <td>USA</td>\n","      <td>1980 Winter</td>\n","      <td>1980.0</td>\n","      <td>Winter</td>\n","      <td>Lake Placid</td>\n","      <td>Ice Hockey</td>\n","      <td>Ice Hockey Men's Ice Hockey</td>\n","      <td>Gold</td>\n","      <td>USA</td>\n","      <td>NaN</td>\n","    </tr>\n","    <tr>\n","      <th>41257</th>\n","      <td>21277</td>\n","      <td>Frederick William Christian</td>\n","      <td>M</td>\n","      <td>32.0</td>\n","      <td>175.0</td>\n","      <td>70.0</td>\n","      <td>Devon and Somerset Wanderers</td>\n","      <td>GBR</td>\n","      <td>1900 Summer</td>\n","      <td>1900.0</td>\n","      <td>Summer</td>\n","      <td>Paris</td>\n","      <td>Cricket</td>\n","      <td>Cricket Men's Cricket</td>\n","      <td>Gold</td>\n","      <td>UK</td>\n","      <td>NaN</td>\n","    </tr>\n","    <tr>\n","      <th>41259</th>\n","      <td>21279</td>\n","      <td>Roger Allen \"Rog\" Christian</td>\n","      <td>M</td>\n","      <td>24.0</td>\n","      <td>175.0</td>\n","      <td>68.0</td>\n","      <td>United States</td>\n","      <td>USA</td>\n","      <td>1960 Winter</td>\n","      <td>1960.0</td>\n","      <td>Winter</td>\n","      <td>Squaw Valley</td>\n","      <td>Ice Hockey</td>\n","      <td>Ice Hockey Men's Ice Hockey</td>\n","      <td>Gold</td>\n","      <td>USA</td>\n","      <td>NaN</td>\n","    </tr>\n","    <tr>\n","      <th>41288</th>\n","      <td>21296</td>\n","      <td>Lauritz Christian Christiansen</td>\n","      <td>M</td>\n","      <td>52.0</td>\n","      <td>175.0</td>\n","      <td>70.0</td>\n","      <td>Atlanta</td>\n","      <td>NOR</td>\n","      <td>1920 Summer</td>\n","      <td>1920.0</td>\n","      <td>Summer</td>\n","      <td>Antwerpen</td>\n","      <td>Sailing</td>\n","      <td>Sailing Mixed 12 metres</td>\n","      <td>Gold</td>\n","      <td>Norway</td>\n","      <td>NaN</td>\n","    </tr>\n","    <tr>\n","      <th>41295</th>\n","      <td>21299</td>\n","      <td>Mads Christiansen</td>\n","      <td>M</td>\n","      <td>30.0</td>\n","      <td>197.0</td>\n","      <td>93.0</td>\n","      <td>Denmark</td>\n","      <td>DEN</td>\n","      <td>2016 Summer</td>\n","      <td>2016.0</td>\n","      <td>Summer</td>\n","      <td>Rio de Janeiro</td>\n","      <td>Handball</td>\n","      <td>Handball Men's Handball</td>\n","      <td>Gold</td>\n","      <td>Denmark</td>\n","      <td>NaN</td>\n","    </tr>\n","  </tbody>\n","</table>\n","<p>1908 rows × 17 columns</p>\n","</div>\n","      <button class=\"colab-df-convert\" onclick=\"convertToInteractive('df-d7e8dd9b-7f23-4d96-abb6-1aa579387d25')\"\n","              title=\"Convert this dataframe to an interactive table.\"\n","              style=\"display:none;\">\n","        \n","  <svg xmlns=\"http://www.w3.org/2000/svg\" height=\"24px\"viewBox=\"0 0 24 24\"\n","       width=\"24px\">\n","    <path d=\"M0 0h24v24H0V0z\" fill=\"none\"/>\n","    <path d=\"M18.56 5.44l.94 2.06.94-2.06 2.06-.94-2.06-.94-.94-2.06-.94 2.06-2.06.94zm-11 1L8.5 8.5l.94-2.06 2.06-.94-2.06-.94L8.5 2.5l-.94 2.06-2.06.94zm10 10l.94 2.06.94-2.06 2.06-.94-2.06-.94-.94-2.06-.94 2.06-2.06.94z\"/><path d=\"M17.41 7.96l-1.37-1.37c-.4-.4-.92-.59-1.43-.59-.52 0-1.04.2-1.43.59L10.3 9.45l-7.72 7.72c-.78.78-.78 2.05 0 2.83L4 21.41c.39.39.9.59 1.41.59.51 0 1.02-.2 1.41-.59l7.78-7.78 2.81-2.81c.8-.78.8-2.07 0-2.86zM5.41 20L4 18.59l7.72-7.72 1.47 1.35L5.41 20z\"/>\n","  </svg>\n","      </button>\n","      \n","  <style>\n","    .colab-df-container {\n","      display:flex;\n","      flex-wrap:wrap;\n","      gap: 12px;\n","    }\n","\n","    .colab-df-convert {\n","      background-color: #E8F0FE;\n","      border: none;\n","      border-radius: 50%;\n","      cursor: pointer;\n","      display: none;\n","      fill: #1967D2;\n","      height: 32px;\n","      padding: 0 0 0 0;\n","      width: 32px;\n","    }\n","\n","    .colab-df-convert:hover {\n","      background-color: #E2EBFA;\n","      box-shadow: 0px 1px 2px rgba(60, 64, 67, 0.3), 0px 1px 3px 1px rgba(60, 64, 67, 0.15);\n","      fill: #174EA6;\n","    }\n","\n","    [theme=dark] .colab-df-convert {\n","      background-color: #3B4455;\n","      fill: #D2E3FC;\n","    }\n","\n","    [theme=dark] .colab-df-convert:hover {\n","      background-color: #434B5C;\n","      box-shadow: 0px 1px 3px 1px rgba(0, 0, 0, 0.15);\n","      filter: drop-shadow(0px 1px 2px rgba(0, 0, 0, 0.3));\n","      fill: #FFFFFF;\n","    }\n","  </style>\n","\n","      <script>\n","        const buttonEl =\n","          document.querySelector('#df-d7e8dd9b-7f23-4d96-abb6-1aa579387d25 button.colab-df-convert');\n","        buttonEl.style.display =\n","          google.colab.kernel.accessAllowed ? 'block' : 'none';\n","\n","        async function convertToInteractive(key) {\n","          const element = document.querySelector('#df-d7e8dd9b-7f23-4d96-abb6-1aa579387d25');\n","          const dataTable =\n","            await google.colab.kernel.invokeFunction('convertToInteractive',\n","                                                     [key], {});\n","          if (!dataTable) return;\n","\n","          const docLinkHtml = 'Like what you see? Visit the ' +\n","            '<a target=\"_blank\" href=https://colab.research.google.com/notebooks/data_table.ipynb>data table notebook</a>'\n","            + ' to learn more about interactive tables.';\n","          element.innerHTML = '';\n","          dataTable['output_type'] = 'display_data';\n","          await google.colab.output.renderOutput(dataTable, element);\n","          const docLink = document.createElement('div');\n","          docLink.innerHTML = docLinkHtml;\n","          element.appendChild(docLink);\n","        }\n","      </script>\n","    </div>\n","  </div>\n","  "]},"metadata":{},"execution_count":45}]},{"cell_type":"code","source":["#Top 5 Countries with highest gold medals\n","totalGoldMedals = goldMedals.Region.value_counts().reset_index(name='Medal').head(6)\n","plot = sns.catplot(x=\"index\", y = \"Medal\", data = totalGoldMedals, height =5, kind='bar', palette=\"Set3\")\n","plot.despine(left = True)\n","plot.set_xlabels(\"Top 5 Countries\")\n","plot.set_ylabels(\"Number of Medals\")\n","plt.title('Gold Medals per Country')"],"metadata":{"colab":{"base_uri":"https://localhost:8080/","height":398},"id":"DFyf7Ix7VO6p","executionInfo":{"status":"ok","timestamp":1651907039138,"user_tz":420,"elapsed":855,"user":{"displayName":"ramisetty teja","userId":"16193363273133164312"}},"outputId":"cb3ace67-6985-4a38-a437-1476483d270a"},"id":"DFyf7Ix7VO6p","execution_count":46,"outputs":[{"output_type":"execute_result","data":{"text/plain":["Text(0.5, 1.0, 'Gold Medals per Country')"]},"metadata":{},"execution_count":46},{"output_type":"display_data","data":{"text/plain":["<Figure size 360x360 with 1 Axes>"],"image/png":"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\n"},"metadata":{}}]},{"cell_type":"code","source":["athlete_merged.head()"],"metadata":{"colab":{"base_uri":"https://localhost:8080/","height":496},"id":"HNXXNI0NVQru","executionInfo":{"status":"ok","timestamp":1651907047643,"user_tz":420,"elapsed":148,"user":{"displayName":"ramisetty teja","userId":"16193363273133164312"}},"outputId":"497190a5-071f-4495-ff65-5f0021833483"},"id":"HNXXNI0NVQru","execution_count":47,"outputs":[{"output_type":"execute_result","data":{"text/plain":["   ID                      Name Sex   Age  Height  Weight            Team  \\\n","0   1                 A Dijiang   M  24.0   180.0    80.0           China   \n","1   2                  A Lamusi   M  23.0   170.0    60.0           China   \n","2   3       Gunnar Nielsen Aaby   M  24.0   175.0    70.0         Denmark   \n","3   4      Edgar Lindenau Aabye   M  34.0   175.0    70.0  Denmark/Sweden   \n","4   5  Christine Jacoba Aaftink   F  21.0   185.0    82.0     Netherlands   \n","\n","   NOC        Games    Year  Season       City          Sport  \\\n","0  CHN  1992 Summer  1992.0  Summer  Barcelona     Basketball   \n","1  CHN  2012 Summer  2012.0  Summer     London           Judo   \n","2  DEN  1920 Summer  1920.0  Summer  Antwerpen       Football   \n","3  DEN  1900 Summer  1900.0  Summer      Paris     Tug-Of-War   \n","4  NED  1988 Winter  1988.0  Winter    Calgary  Speed Skating   \n","\n","                              Event Medal       Region Notes  \n","0       Basketball Men's Basketball   NaN        China   NaN  \n","1      Judo Men's Extra-Lightweight   NaN        China   NaN  \n","2           Football Men's Football   NaN      Denmark   NaN  \n","3       Tug-Of-War Men's Tug-Of-War  Gold      Denmark   NaN  \n","4  Speed Skating Women's 500 metres   NaN  Netherlands   NaN  "],"text/html":["\n","  <div id=\"df-5f265261-0232-4369-9bd1-e9b7793b5b58\">\n","    <div class=\"colab-df-container\">\n","      <div>\n","<style scoped>\n","    .dataframe tbody tr th:only-of-type {\n","        vertical-align: middle;\n","    }\n","\n","    .dataframe tbody tr th {\n","        vertical-align: top;\n","    }\n","\n","    .dataframe thead th {\n","        text-align: right;\n","    }\n","</style>\n","<table border=\"1\" class=\"dataframe\">\n","  <thead>\n","    <tr style=\"text-align: right;\">\n","      <th></th>\n","      <th>ID</th>\n","      <th>Name</th>\n","      <th>Sex</th>\n","      <th>Age</th>\n","      <th>Height</th>\n","      <th>Weight</th>\n","      <th>Team</th>\n","      <th>NOC</th>\n","      <th>Games</th>\n","      <th>Year</th>\n","      <th>Season</th>\n","      <th>City</th>\n","      <th>Sport</th>\n","      <th>Event</th>\n","      <th>Medal</th>\n","      <th>Region</th>\n","      <th>Notes</th>\n","    </tr>\n","  </thead>\n","  <tbody>\n","    <tr>\n","      <th>0</th>\n","      <td>1</td>\n","      <td>A Dijiang</td>\n","      <td>M</td>\n","      <td>24.0</td>\n","      <td>180.0</td>\n","      <td>80.0</td>\n","      <td>China</td>\n","      <td>CHN</td>\n","      <td>1992 Summer</td>\n","      <td>1992.0</td>\n","      <td>Summer</td>\n","      <td>Barcelona</td>\n","      <td>Basketball</td>\n","      <td>Basketball Men's Basketball</td>\n","      <td>NaN</td>\n","      <td>China</td>\n","      <td>NaN</td>\n","    </tr>\n","    <tr>\n","      <th>1</th>\n","      <td>2</td>\n","      <td>A Lamusi</td>\n","      <td>M</td>\n","      <td>23.0</td>\n","      <td>170.0</td>\n","      <td>60.0</td>\n","      <td>China</td>\n","      <td>CHN</td>\n","      <td>2012 Summer</td>\n","      <td>2012.0</td>\n","      <td>Summer</td>\n","      <td>London</td>\n","      <td>Judo</td>\n","      <td>Judo Men's Extra-Lightweight</td>\n","      <td>NaN</td>\n","      <td>China</td>\n","      <td>NaN</td>\n","    </tr>\n","    <tr>\n","      <th>2</th>\n","      <td>3</td>\n","      <td>Gunnar Nielsen Aaby</td>\n","      <td>M</td>\n","      <td>24.0</td>\n","      <td>175.0</td>\n","      <td>70.0</td>\n","      <td>Denmark</td>\n","      <td>DEN</td>\n","      <td>1920 Summer</td>\n","      <td>1920.0</td>\n","      <td>Summer</td>\n","      <td>Antwerpen</td>\n","      <td>Football</td>\n","      <td>Football Men's Football</td>\n","      <td>NaN</td>\n","      <td>Denmark</td>\n","      <td>NaN</td>\n","    </tr>\n","    <tr>\n","      <th>3</th>\n","      <td>4</td>\n","      <td>Edgar Lindenau Aabye</td>\n","      <td>M</td>\n","      <td>34.0</td>\n","      <td>175.0</td>\n","      <td>70.0</td>\n","      <td>Denmark/Sweden</td>\n","      <td>DEN</td>\n","      <td>1900 Summer</td>\n","      <td>1900.0</td>\n","      <td>Summer</td>\n","      <td>Paris</td>\n","      <td>Tug-Of-War</td>\n","      <td>Tug-Of-War Men's Tug-Of-War</td>\n","      <td>Gold</td>\n","      <td>Denmark</td>\n","      <td>NaN</td>\n","    </tr>\n","    <tr>\n","      <th>4</th>\n","      <td>5</td>\n","      <td>Christine Jacoba Aaftink</td>\n","      <td>F</td>\n","      <td>21.0</td>\n","      <td>185.0</td>\n","      <td>82.0</td>\n","      <td>Netherlands</td>\n","      <td>NED</td>\n","      <td>1988 Winter</td>\n","      <td>1988.0</td>\n","      <td>Winter</td>\n","      <td>Calgary</td>\n","      <td>Speed Skating</td>\n","      <td>Speed Skating Women's 500 metres</td>\n","      <td>NaN</td>\n","      <td>Netherlands</td>\n","      <td>NaN</td>\n","    </tr>\n","  </tbody>\n","</table>\n","</div>\n","      <button class=\"colab-df-convert\" onclick=\"convertToInteractive('df-5f265261-0232-4369-9bd1-e9b7793b5b58')\"\n","              title=\"Convert this dataframe to an interactive table.\"\n","              style=\"display:none;\">\n","        \n","  <svg xmlns=\"http://www.w3.org/2000/svg\" height=\"24px\"viewBox=\"0 0 24 24\"\n","       width=\"24px\">\n","    <path d=\"M0 0h24v24H0V0z\" fill=\"none\"/>\n","    <path d=\"M18.56 5.44l.94 2.06.94-2.06 2.06-.94-2.06-.94-.94-2.06-.94 2.06-2.06.94zm-11 1L8.5 8.5l.94-2.06 2.06-.94-2.06-.94L8.5 2.5l-.94 2.06-2.06.94zm10 10l.94 2.06.94-2.06 2.06-.94-2.06-.94-.94-2.06-.94 2.06-2.06.94z\"/><path d=\"M17.41 7.96l-1.37-1.37c-.4-.4-.92-.59-1.43-.59-.52 0-1.04.2-1.43.59L10.3 9.45l-7.72 7.72c-.78.78-.78 2.05 0 2.83L4 21.41c.39.39.9.59 1.41.59.51 0 1.02-.2 1.41-.59l7.78-7.78 2.81-2.81c.8-.78.8-2.07 0-2.86zM5.41 20L4 18.59l7.72-7.72 1.47 1.35L5.41 20z\"/>\n","  </svg>\n","      </button>\n","      \n","  <style>\n","    .colab-df-container {\n","      display:flex;\n","      flex-wrap:wrap;\n","      gap: 12px;\n","    }\n","\n","    .colab-df-convert {\n","      background-color: #E8F0FE;\n","      border: none;\n","      border-radius: 50%;\n","      cursor: pointer;\n","      display: none;\n","      fill: #1967D2;\n","      height: 32px;\n","      padding: 0 0 0 0;\n","      width: 32px;\n","    }\n","\n","    .colab-df-convert:hover {\n","      background-color: #E2EBFA;\n","      box-shadow: 0px 1px 2px rgba(60, 64, 67, 0.3), 0px 1px 3px 1px rgba(60, 64, 67, 0.15);\n","      fill: #174EA6;\n","    }\n","\n","    [theme=dark] .colab-df-convert {\n","      background-color: #3B4455;\n","      fill: #D2E3FC;\n","    }\n","\n","    [theme=dark] .colab-df-convert:hover {\n","      background-color: #434B5C;\n","      box-shadow: 0px 1px 3px 1px rgba(0, 0, 0, 0.15);\n","      filter: drop-shadow(0px 1px 2px rgba(0, 0, 0, 0.3));\n","      fill: #FFFFFF;\n","    }\n","  </style>\n","\n","      <script>\n","        const buttonEl =\n","          document.querySelector('#df-5f265261-0232-4369-9bd1-e9b7793b5b58 button.colab-df-convert');\n","        buttonEl.style.display =\n","          google.colab.kernel.accessAllowed ? 'block' : 'none';\n","\n","        async function convertToInteractive(key) {\n","          const element = document.querySelector('#df-5f265261-0232-4369-9bd1-e9b7793b5b58');\n","          const dataTable =\n","            await google.colab.kernel.invokeFunction('convertToInteractive',\n","                                                     [key], {});\n","          if (!dataTable) return;\n","\n","          const docLinkHtml = 'Like what you see? Visit the ' +\n","            '<a target=\"_blank\" href=https://colab.research.google.com/notebooks/data_table.ipynb>data table notebook</a>'\n","            + ' to learn more about interactive tables.';\n","          element.innerHTML = '';\n","          dataTable['output_type'] = 'display_data';\n","          await google.colab.output.renderOutput(dataTable, element);\n","          const docLink = document.createElement('div');\n","          docLink.innerHTML = docLinkHtml;\n","          element.appendChild(docLink);\n","        }\n","      </script>\n","    </div>\n","  </div>\n","  "]},"metadata":{},"execution_count":47}]},{"cell_type":"code","source":[""],"metadata":{"id":"ktWYS42lVS7x"},"id":"ktWYS42lVS7x","execution_count":null,"outputs":[]}],"metadata":{"kernelspec":{"display_name":"Python 3 (ipykernel)","language":"python","name":"python3"},"language_info":{"codemirror_mode":{"name":"ipython","version":3},"file_extension":".py","mimetype":"text/x-python","name":"python","nbconvert_exporter":"python","pygments_lexer":"ipython3","version":"3.9.7"},"colab":{"name":"Code_for_medal_prediction.ipynb","provenance":[],"collapsed_sections":[]}},"nbformat":4,"nbformat_minor":5}

