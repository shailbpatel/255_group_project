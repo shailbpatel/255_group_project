{
 "cells": [
  {
   "cell_type": "code",
   "execution_count": 21,
   "id": "f48faf43",
   "metadata": {},
   "outputs": [],
   "source": [
    "# Identified basic essential libraries \n",
    "import pandas as pd\n",
    "import numpy as np\n",
    "import matplotlib as mp"
   ]
  },
  {
   "cell_type": "code",
   "execution_count": 22,
   "id": "1da9ea2e",
   "metadata": {},
   "outputs": [],
   "source": [
    "athlete_events=pd.read_csv(\"athlete_events.csv\")"
   ]
  },
  {
   "cell_type": "code",
   "execution_count": 23,
   "id": "20f2e32a",
   "metadata": {},
   "outputs": [
    {
     "data": {
      "text/plain": [
       "Index(['ID', 'Name', 'Sex', 'Age', 'Height', 'Weight', 'Team', 'NOC', 'Games',\n",
       "       'Year', 'Season', 'City', 'Sport', 'Event', 'Medal'],\n",
       "      dtype='object')"
      ]
     },
     "execution_count": 23,
     "metadata": {},
     "output_type": "execute_result"
    }
   ],
   "source": [
    "#There are 15 columns\n",
    "athlete_events.columns"
   ]
  },
  {
   "cell_type": "code",
   "execution_count": 24,
   "id": "bfe9dfe7",
   "metadata": {},
   "outputs": [
    {
     "data": {
      "text/plain": [
       "False    271116\n",
       "Name: ID, dtype: int64"
      ]
     },
     "execution_count": 24,
     "metadata": {},
     "output_type": "execute_result"
    }
   ],
   "source": [
    "#C1: ID, checking if there are any null values in the ID column\n",
    "athlete_events[\"ID\"].isnull().value_counts()"
   ]
  },
  {
   "cell_type": "code",
   "execution_count": 25,
   "id": "fcbd7e2f",
   "metadata": {},
   "outputs": [
    {
     "name": "stdout",
     "output_type": "stream",
     "text": [
      "False    271116\n",
      "Name: Name, dtype: int64\n"
     ]
    }
   ],
   "source": [
    "#C2: Name, there are no null values\n",
    "print(athlete_events['Name'].isnull().value_counts())"
   ]
  },
  {
   "cell_type": "code",
   "execution_count": 26,
   "id": "58f00ff6",
   "metadata": {},
   "outputs": [
    {
     "name": "stdout",
     "output_type": "stream",
     "text": [
      "Checking for null values \n",
      " False    271116\n",
      "Name: Sex, dtype: int64 \n",
      "\n",
      "Insights on the column \n",
      " count     271116\n",
      "unique         2\n",
      "top            M\n",
      "freq      196594\n",
      "Name: Sex, dtype: object \n",
      "\n",
      "Unique Values and their counts \n",
      " M    196594\n",
      "F     74522\n",
      "Name: Sex, dtype: int64\n"
     ]
    }
   ],
   "source": [
    "#C3: Sex\n",
    "\n",
    "print(\"Checking for null values \\n\",athlete_events['Sex'].isnull().value_counts(),\"\\n\") #There are no null values\n",
    "print(\"Insights on the column \\n\",athlete_events['Sex'].describe(),\"\\n\")\n",
    "print(\"Unique Values and their counts \\n\",athlete_events['Sex'].value_counts())"
   ]
  },
  {
   "cell_type": "code",
   "execution_count": 27,
   "id": "6fd90d28",
   "metadata": {},
   "outputs": [
    {
     "name": "stdout",
     "output_type": "stream",
     "text": [
      "Checking for null values \n",
      " False    261642\n",
      "True       9474\n",
      "Name: Age, dtype: int64 \n",
      "\n",
      "Finding invalid age\n",
      " Series([], Name: Age, dtype: float64)\n"
     ]
    }
   ],
   "source": [
    "#C4: Age \n",
    "print(\"Checking for null values \\n\",athlete_events['Age'].isnull().value_counts(),\"\\n\") #There are 9474 null values\n",
    "print(\"Finding invalid age\\n\",athlete_events[\"Age\"][(athlete_events['Age']>100) | (athlete_events['Age']<0)])"
   ]
  },
  {
   "cell_type": "code",
   "execution_count": 54,
   "id": "413cb374",
   "metadata": {},
   "outputs": [],
   "source": [
    "#Replacing Null age values with age's mode value\n",
    "\n",
    "athlete_events['Age'][athlete_events['Age'].isna()]=athlete_events['Age'].mode()\n"
   ]
  },
  {
   "cell_type": "code",
   "execution_count": 125,
   "id": "85034383",
   "metadata": {},
   "outputs": [
    {
     "name": "stdout",
     "output_type": "stream",
     "text": [
      "Checking for null values\n",
      " False    210945\n",
      "True      60171\n",
      "Name: Height, dtype: int64 \n",
      "\n",
      "Insights on the column data\n",
      " count    210945.000000\n",
      "mean        175.338970\n",
      "std          10.518462\n",
      "min         127.000000\n",
      "25%         168.000000\n",
      "50%         175.000000\n",
      "75%         183.000000\n",
      "max         226.000000\n",
      "Name: Height, dtype: float64 \n",
      "\n"
     ]
    }
   ],
   "source": [
    "#C5: Height\n",
    "print(\"Checking for null values\\n\",athlete_events['Height'].isnull().value_counts(),\"\\n\") #There are 60171 null values\n",
    "print(\"Insights on the column data\\n\",athlete_events['Height'].describe(),\"\\n\")"
   ]
  },
  {
   "cell_type": "code",
   "execution_count": 47,
   "id": "f9825312",
   "metadata": {},
   "outputs": [
    {
     "data": {
      "text/plain": [
       "Series([], Name: Height, dtype: float64)"
      ]
     },
     "execution_count": 47,
     "metadata": {},
     "output_type": "execute_result"
    }
   ],
   "source": [
    "#Filling null value with its mean value.\n",
    "athlete_events['Height'][athlete_events['Height'].isna()]=athlete_events['Height'].mean()\n"
   ]
  },
  {
   "cell_type": "code",
   "execution_count": 129,
   "id": "b5594b35",
   "metadata": {},
   "outputs": [
    {
     "name": "stdout",
     "output_type": "stream",
     "text": [
      "Checking for null values\n",
      " False    208241\n",
      "True      62875\n",
      "Name: Weight, dtype: int64 \n",
      "\n",
      "Insights on the column data\n",
      " count    208241.000000\n",
      "mean         70.702393\n",
      "std          14.348020\n",
      "min          25.000000\n",
      "25%          60.000000\n",
      "50%          70.000000\n",
      "75%          79.000000\n",
      "max         214.000000\n",
      "Name: Weight, dtype: float64 \n",
      "\n",
      "Chcking for invalid data \n",
      " Series([], Name: Weight, dtype: float64)\n"
     ]
    }
   ],
   "source": [
    "#C6: Weight\n",
    "print(\"Checking for null values\\n\",athlete_events['Weight'].isnull().value_counts(),\"\\n\") #There are 62875 null values\n",
    "print(\"Insights on the column data\\n\",athlete_events['Weight'].describe(),\"\\n\")\n",
    "print(\"Chcking for invalid data \\n\",athlete_events[\"Weight\"][athlete_events[\"Weight\"]<=0])"
   ]
  },
  {
   "cell_type": "code",
   "execution_count": 53,
   "id": "03144a62",
   "metadata": {},
   "outputs": [
    {
     "data": {
      "text/plain": [
       "Series([], Name: Weight, dtype: float64)"
      ]
     },
     "execution_count": 53,
     "metadata": {},
     "output_type": "execute_result"
    }
   ],
   "source": [
    "#As there is no significane diffrence between mean and mode values I am replacing null values with mean values.\n",
    "athlete_events['Weight'][athlete_events['Weight'].isna()]==athlete_events['Weight'].mean()"
   ]
  },
  {
   "cell_type": "code",
   "execution_count": 130,
   "id": "527174b8",
   "metadata": {},
   "outputs": [
    {
     "name": "stdout",
     "output_type": "stream",
     "text": [
      "Checking for null values \n",
      " False    271116\n",
      "Name: Team, dtype: int64 \n",
      "\n",
      "Insights on the column \n",
      " count            271116\n",
      "unique             1184\n",
      "top       United States\n",
      "freq              17847\n",
      "Name: Team, dtype: object \n",
      "\n",
      "Unique Values and their counts \n",
      " United States    17847\n",
      "France           11988\n",
      "Great Britain    11404\n",
      "Italy            10260\n",
      "Germany           9326\n",
      "                 ...  \n",
      "Briar                1\n",
      "Hannover             1\n",
      "Nan-2                1\n",
      "Brentina             1\n",
      "Digby                1\n",
      "Name: Team, Length: 1184, dtype: int64\n"
     ]
    }
   ],
   "source": [
    "#C7:Team \n",
    "print(\"Checking for null values \\n\",athlete_events['Team'].isnull().value_counts(),\"\\n\") #There are no null values\n",
    "print(\"Insights on the column \\n\",athlete_events['Team'].describe(),\"\\n\")\n",
    "print(\"Unique Values and their counts \\n\",athlete_events['Team'].value_counts())"
   ]
  },
  {
   "cell_type": "code",
   "execution_count": 132,
   "id": "08a3b166",
   "metadata": {},
   "outputs": [
    {
     "name": "stdout",
     "output_type": "stream",
     "text": [
      "Checking for null values \n",
      " False    271116\n",
      "Name: NOC, dtype: int64 \n",
      "\n",
      "Insights on the column \n",
      " count     271116\n",
      "unique       230\n",
      "top          USA\n",
      "freq       18853\n",
      "Name: NOC, dtype: object \n",
      "\n",
      "Unique Values and their counts \n",
      " USA    18853\n",
      "FRA    12758\n",
      "GBR    12256\n",
      "ITA    10715\n",
      "GER     9830\n",
      "       ...  \n",
      "YMD        5\n",
      "SSD        3\n",
      "UNK        2\n",
      "NBO        2\n",
      "NFL        1\n",
      "Name: NOC, Length: 230, dtype: int64\n"
     ]
    }
   ],
   "source": [
    "#C8:Noc \n",
    "print(\"Checking for null values \\n\",athlete_events['NOC'].isnull().value_counts(),\"\\n\") #There are no null values\n",
    "print(\"Insights on the column \\n\",athlete_events['NOC'].describe(),\"\\n\")\n",
    "print(\"Unique Values and their counts \\n\",athlete_events['NOC'].value_counts())"
   ]
  },
  {
   "cell_type": "code",
   "execution_count": 134,
   "id": "1072fa52",
   "metadata": {},
   "outputs": [
    {
     "name": "stdout",
     "output_type": "stream",
     "text": [
      "Checking for null values \n",
      " False    271116\n",
      "Name: Games, dtype: int64 \n",
      "\n",
      "Insights on the column \n",
      " count          271116\n",
      "unique             51\n",
      "top       2000 Summer\n",
      "freq            13821\n",
      "Name: Games, dtype: object \n",
      "\n",
      "Unique Values and their counts \n",
      " 2000 Summer    13821\n",
      "1996 Summer    13780\n",
      "2016 Summer    13688\n",
      "2008 Summer    13602\n",
      "2004 Summer    13443\n",
      "1992 Summer    12977\n",
      "2012 Summer    12920\n",
      "1988 Summer    12037\n",
      "1972 Summer    10304\n",
      "1984 Summer     9454\n",
      "1976 Summer     8641\n",
      "1968 Summer     8588\n",
      "1952 Summer     8270\n",
      "1960 Summer     8119\n",
      "1964 Summer     7702\n",
      "1980 Summer     7191\n",
      "1936 Summer     6506\n",
      "1948 Summer     6405\n",
      "1924 Summer     5233\n",
      "1956 Summer     5127\n",
      "1928 Summer     4992\n",
      "2014 Winter     4891\n",
      "2010 Winter     4402\n",
      "2006 Winter     4382\n",
      "1920 Summer     4292\n",
      "2002 Winter     4109\n",
      "1912 Summer     4040\n",
      "1998 Winter     3605\n",
      "1992 Winter     3436\n",
      "1994 Winter     3160\n",
      "1908 Summer     3101\n",
      "1932 Summer     2969\n",
      "1988 Winter     2639\n",
      "1984 Winter     2134\n",
      "1900 Summer     1936\n",
      "1968 Winter     1891\n",
      "1976 Winter     1861\n",
      "1964 Winter     1778\n",
      "1980 Winter     1746\n",
      "1906 Summer     1733\n",
      "1972 Winter     1655\n",
      "1956 Winter     1307\n",
      "1904 Summer     1301\n",
      "1960 Winter     1116\n",
      "1952 Winter     1088\n",
      "1948 Winter     1075\n",
      "1936 Winter      895\n",
      "1928 Winter      582\n",
      "1924 Winter      460\n",
      "1896 Summer      380\n",
      "1932 Winter      352\n",
      "Name: Games, dtype: int64\n"
     ]
    }
   ],
   "source": [
    "#C9:Games\n",
    "print(\"Checking for null values \\n\",athlete_events['Games'].isnull().value_counts(),\"\\n\") #There are no null values\n",
    "print(\"Insights on the column \\n\",athlete_events['Games'].describe(),\"\\n\")\n",
    "print(\"Unique Values and their counts \\n\",athlete_events['Games'].value_counts())"
   ]
  },
  {
   "cell_type": "code",
   "execution_count": 135,
   "id": "e59ed63a",
   "metadata": {},
   "outputs": [
    {
     "name": "stdout",
     "output_type": "stream",
     "text": [
      "Checking for null values \n",
      " False    271116\n",
      "Name: Year, dtype: int64 \n",
      "\n",
      "Insights on the column \n",
      " count    271116.000000\n",
      "mean       1978.378480\n",
      "std          29.877632\n",
      "min        1896.000000\n",
      "25%        1960.000000\n",
      "50%        1988.000000\n",
      "75%        2002.000000\n",
      "max        2016.000000\n",
      "Name: Year, dtype: float64 \n",
      "\n",
      "Unique Values and their counts \n",
      " 1992    16413\n",
      "1988    14676\n",
      "2000    13821\n",
      "1996    13780\n",
      "2016    13688\n",
      "2008    13602\n",
      "2004    13443\n",
      "2012    12920\n",
      "1972    11959\n",
      "1984    11588\n",
      "1976    10502\n",
      "1968    10479\n",
      "1964     9480\n",
      "1952     9358\n",
      "1960     9235\n",
      "1980     8937\n",
      "1948     7480\n",
      "1936     7401\n",
      "1956     6434\n",
      "1924     5693\n",
      "1928     5574\n",
      "2014     4891\n",
      "2010     4402\n",
      "2006     4382\n",
      "1920     4292\n",
      "2002     4109\n",
      "1912     4040\n",
      "1998     3605\n",
      "1932     3321\n",
      "1994     3160\n",
      "1908     3101\n",
      "1900     1936\n",
      "1906     1733\n",
      "1904     1301\n",
      "1896      380\n",
      "Name: Year, dtype: int64\n"
     ]
    }
   ],
   "source": [
    "#C10:Year \n",
    "print(\"Checking for null values \\n\",athlete_events['Year'].isnull().value_counts(),\"\\n\") #There are no null values\n",
    "print(\"Insights on the column \\n\",athlete_events['Year'].describe(),\"\\n\")\n",
    "print(\"Unique Values and their counts \\n\",athlete_events['Year'].value_counts())"
   ]
  },
  {
   "cell_type": "code",
   "execution_count": 136,
   "id": "8b6230d5",
   "metadata": {},
   "outputs": [
    {
     "name": "stdout",
     "output_type": "stream",
     "text": [
      "Checking for null values \n",
      " False    271116\n",
      "Name: Season, dtype: int64 \n",
      "\n",
      "Insights on the column \n",
      " count     271116\n",
      "unique         2\n",
      "top       Summer\n",
      "freq      222552\n",
      "Name: Season, dtype: object \n",
      "\n",
      "Unique Values and their counts \n",
      " Summer    222552\n",
      "Winter     48564\n",
      "Name: Season, dtype: int64\n"
     ]
    }
   ],
   "source": [
    "#C11:Season \n",
    "print(\"Checking for null values \\n\",athlete_events['Season'].isnull().value_counts(),\"\\n\") #There are no null values\n",
    "print(\"Insights on the column \\n\",athlete_events['Season'].describe(),\"\\n\")\n",
    "print(\"Unique Values and their counts \\n\",athlete_events['Season'].value_counts())"
   ]
  },
  {
   "cell_type": "code",
   "execution_count": 137,
   "id": "ebf2250f",
   "metadata": {},
   "outputs": [
    {
     "name": "stdout",
     "output_type": "stream",
     "text": [
      "Checking for null values \n",
      " False    271116\n",
      "Name: City, dtype: int64 \n",
      "\n",
      "Insights on the column \n",
      " count     271116\n",
      "unique        42\n",
      "top       London\n",
      "freq       22426\n",
      "Name: City, dtype: object \n",
      "\n",
      "Unique Values and their counts \n",
      " London                    22426\n",
      "Athina                    15556\n",
      "Sydney                    13821\n",
      "Atlanta                   13780\n",
      "Rio de Janeiro            13688\n",
      "Beijing                   13602\n",
      "Barcelona                 12977\n",
      "Los Angeles               12423\n",
      "Seoul                     12037\n",
      "Munich                    10304\n",
      "Montreal                   8641\n",
      "Mexico City                8588\n",
      "Helsinki                   8270\n",
      "Roma                       8119\n",
      "Tokyo                      7702\n",
      "Moskva                     7191\n",
      "Paris                      7169\n",
      "Berlin                     6506\n",
      "Amsterdam                  4992\n",
      "Sochi                      4891\n",
      "Melbourne                  4829\n",
      "Vancouver                  4402\n",
      "Torino                     4382\n",
      "Stockholm                  4338\n",
      "Antwerpen                  4292\n",
      "Salt Lake City             4109\n",
      "Innsbruck                  3639\n",
      "Nagano                     3605\n",
      "Albertville                3436\n",
      "Lillehammer                3160\n",
      "Calgary                    2639\n",
      "Sarajevo                   2134\n",
      "Lake Placid                2098\n",
      "Grenoble                   1891\n",
      "Sankt Moritz               1657\n",
      "Sapporo                    1655\n",
      "Cortina d'Ampezzo          1307\n",
      "St. Louis                  1301\n",
      "Squaw Valley               1116\n",
      "Oslo                       1088\n",
      "Garmisch-Partenkirchen      895\n",
      "Chamonix                    460\n",
      "Name: City, dtype: int64\n"
     ]
    }
   ],
   "source": [
    "#C12: City \n",
    "print(\"Checking for null values \\n\",athlete_events['City'].isnull().value_counts(),\"\\n\") #There are no null values\n",
    "print(\"Insights on the column \\n\",athlete_events['City'].describe(),\"\\n\")\n",
    "print(\"Unique Values and their counts \\n\",athlete_events['City'].value_counts())"
   ]
  },
  {
   "cell_type": "code",
   "execution_count": 138,
   "id": "0a64aee2",
   "metadata": {},
   "outputs": [
    {
     "name": "stdout",
     "output_type": "stream",
     "text": [
      "Checking for null values \n",
      " False    271116\n",
      "Name: Sport, dtype: int64 \n",
      "\n",
      "Insights on the column \n",
      " count        271116\n",
      "unique           66\n",
      "top       Athletics\n",
      "freq          38624\n",
      "Name: Sport, dtype: object \n",
      "\n",
      "Unique Values and their counts \n",
      " Athletics        38624\n",
      "Gymnastics       26707\n",
      "Swimming         23195\n",
      "Shooting         11448\n",
      "Cycling          10859\n",
      "                 ...  \n",
      "Racquets            12\n",
      "Jeu De Paume        11\n",
      "Roque                4\n",
      "Basque Pelota        2\n",
      "Aeronautics          1\n",
      "Name: Sport, Length: 66, dtype: int64\n"
     ]
    }
   ],
   "source": [
    "#C13: Sport \n",
    "print(\"Checking for null values \\n\",athlete_events['Sport'].isnull().value_counts(),\"\\n\") #There are no null values\n",
    "print(\"Insights on the column \\n\",athlete_events['Sport'].describe(),\"\\n\")\n",
    "print(\"Unique Values and their counts \\n\",athlete_events['Sport'].value_counts())"
   ]
  },
  {
   "cell_type": "code",
   "execution_count": 141,
   "id": "a8d0bd74",
   "metadata": {},
   "outputs": [
    {
     "name": "stdout",
     "output_type": "stream",
     "text": [
      "Checking for null values \n",
      " False    271116\n",
      "Name: Event, dtype: int64 \n",
      "\n",
      "Insights on the column \n",
      " count                      271116\n",
      "unique                        765\n",
      "top       Football Men's Football\n",
      "freq                         5733\n",
      "Name: Event, dtype: object \n",
      "\n",
      "Unique Values and their counts \n",
      " Football Men's Football                                5733\n",
      "Ice Hockey Men's Ice Hockey                            4762\n",
      "Hockey Men's Hockey                                    3958\n",
      "Water Polo Men's Water Polo                            3358\n",
      "Basketball Men's Basketball                            3280\n",
      "                                                       ... \n",
      "Croquet Mixed Doubles                                     2\n",
      "Archery Men's Target Archery, 50 metres, Individual       2\n",
      "Archery Men's Target Archery, 33 metres, Individual       2\n",
      "Archery Men's Target Archery, 28 metres, Individual       2\n",
      "Aeronautics Mixed Aeronautics                             1\n",
      "Name: Event, Length: 765, dtype: int64\n"
     ]
    }
   ],
   "source": [
    "#C14: Event \n",
    "print(\"Checking for null values \\n\",athlete_events['Event'].isnull().value_counts(),\"\\n\") #There are no null values\n",
    "print(\"Insights on the column \\n\",athlete_events['Event'].describe(),\"\\n\")\n",
    "print(\"Unique Values and their counts \\n\",athlete_events['Event'].value_counts())"
   ]
  },
  {
   "cell_type": "code",
   "execution_count": 143,
   "id": "2f50df2c",
   "metadata": {},
   "outputs": [
    {
     "name": "stdout",
     "output_type": "stream",
     "text": [
      "Checking for null values \n",
      " True     231333\n",
      "False     39783\n",
      "Name: Medal, dtype: int64 \n",
      "\n",
      "Insights on the column \n",
      " count     39783\n",
      "unique        3\n",
      "top        Gold\n",
      "freq      13372\n",
      "Name: Medal, dtype: object \n",
      "\n",
      "Unique Values and their counts \n",
      " Gold      13372\n",
      "Bronze    13295\n",
      "Silver    13116\n",
      "Name: Medal, dtype: int64\n"
     ]
    }
   ],
   "source": [
    "#C15: Medal\n",
    "print(\"Checking for null values \\n\",athlete_events['Medal'].isnull().value_counts(),\"\\n\") #There are 231333 null values\n",
    "print(\"Insights on the column \\n\",athlete_events['Medal'].describe(),\"\\n\")\n",
    "print(\"Unique Values and their counts \\n\",athlete_events['Medal'].value_counts())"
   ]
  },
  {
   "cell_type": "code",
   "execution_count": 144,
   "id": "883cd934",
   "metadata": {},
   "outputs": [],
   "source": [
    "noc_regions=pd.read_csv(\"noc_regions.csv\")"
   ]
  },
  {
   "cell_type": "code",
   "execution_count": 147,
   "id": "65b14e64",
   "metadata": {},
   "outputs": [
    {
     "data": {
      "text/plain": [
       "Index(['NOC', 'region', 'notes'], dtype='object')"
      ]
     },
     "execution_count": 147,
     "metadata": {},
     "output_type": "execute_result"
    }
   ],
   "source": [
    "noc_regions.columns"
   ]
  },
  {
   "cell_type": "code",
   "execution_count": 149,
   "id": "cb8ccc1c",
   "metadata": {},
   "outputs": [
    {
     "name": "stdout",
     "output_type": "stream",
     "text": [
      "Checking for null values \n",
      " False    230\n",
      "Name: NOC, dtype: int64 \n",
      "\n",
      "Insights on the column \n",
      " count     230\n",
      "unique    230\n",
      "top       AFG\n",
      "freq        1\n",
      "Name: NOC, dtype: object \n",
      "\n",
      "Unique Values and their counts \n",
      " AFG    1\n",
      "NCA    1\n",
      "NEP    1\n",
      "NFL    1\n",
      "NGR    1\n",
      "      ..\n",
      "GHA    1\n",
      "GRE    1\n",
      "GRN    1\n",
      "GUA    1\n",
      "ZIM    1\n",
      "Name: NOC, Length: 230, dtype: int64\n"
     ]
    }
   ],
   "source": [
    "#Column: \"NOC\"\n",
    "print(\"Checking for null values \\n\",noc_regions['NOC'].isnull().value_counts(),\"\\n\") #There are no null values\n",
    "print(\"Insights on the column \\n\",noc_regions['NOC'].describe(),\"\\n\")\n",
    "print(\"Unique Values and their counts \\n\",noc_regions['NOC'].value_counts())"
   ]
  },
  {
   "cell_type": "code",
   "execution_count": 150,
   "id": "9be27313",
   "metadata": {},
   "outputs": [
    {
     "name": "stdout",
     "output_type": "stream",
     "text": [
      "Checking for null values \n",
      " False    227\n",
      "True       3\n",
      "Name: region, dtype: int64 \n",
      "\n",
      "Insights on the column \n",
      " count         227\n",
      "unique        206\n",
      "top       Germany\n",
      "freq            4\n",
      "Name: region, dtype: object \n",
      "\n",
      "Unique Values and their counts \n",
      " Germany           4\n",
      "Yemen             3\n",
      "Czech Republic    3\n",
      "Serbia            3\n",
      "Russia            3\n",
      "                 ..\n",
      "Ghana             1\n",
      "Grenada           1\n",
      "Guatemala         1\n",
      "Guinea            1\n",
      "Zambia            1\n",
      "Name: region, Length: 206, dtype: int64\n"
     ]
    }
   ],
   "source": [
    "#Column: \"Region\"\n",
    "print(\"Checking for null values \\n\",noc_regions['region'].isnull().value_counts(),\"\\n\") #There are 3 null values\n",
    "print(\"Insights on the column \\n\",noc_regions['region'].describe(),\"\\n\")\n",
    "print(\"Unique Values and their counts \\n\",noc_regions['region'].value_counts())"
   ]
  },
  {
   "cell_type": "code",
   "execution_count": 151,
   "id": "f11350ba",
   "metadata": {},
   "outputs": [
    {
     "name": "stdout",
     "output_type": "stream",
     "text": [
      "Checking for null values \n",
      " True     209\n",
      "False     21\n",
      "Name: notes, dtype: int64 \n",
      "\n",
      "Insights on the column \n",
      " count                       21\n",
      "unique                      21\n",
      "top       Netherlands Antilles\n",
      "freq                         1\n",
      "Name: notes, dtype: object \n",
      "\n",
      "Unique Values and their counts \n",
      " Netherlands Antilles           1\n",
      "Serbia and Montenegro          1\n",
      "South Yemen                    1\n",
      "North Yemen                    1\n",
      "West Indies Federation         1\n",
      "Unknown                        1\n",
      "United Arab Republic           1\n",
      "Tuvalu                         1\n",
      "Trinidad and Tobago            1\n",
      "Turks and Caicos Islands       1\n",
      "Refugee Olympic Team           1\n",
      "Antigua and Barbuda            1\n",
      "Newfoundland                   1\n",
      "North Borneo                   1\n",
      "Virgin Islands                 1\n",
      "Individual Olympic Athletes    1\n",
      "Hong Kong                      1\n",
      "Crete                          1\n",
      "Bohemia                        1\n",
      "Australasia                    1\n",
      "Yugoslavia                     1\n",
      "Name: notes, dtype: int64\n"
     ]
    }
   ],
   "source": [
    "#Column: \"Notes\"\n",
    "print(\"Checking for null values \\n\",noc_regions['notes'].isnull().value_counts(),\"\\n\") #There are 209 null values\n",
    "print(\"Insights on the column \\n\",noc_regions['notes'].describe(),\"\\n\")\n",
    "print(\"Unique Values and their counts \\n\",noc_regions['notes'].value_counts())"
   ]
  },
  {
   "cell_type": "code",
   "execution_count": null,
   "id": "b2f37a86",
   "metadata": {},
   "outputs": [],
   "source": []
  }
 ],
 "metadata": {
  "kernelspec": {
   "display_name": "Python 3 (ipykernel)",
   "language": "python",
   "name": "python3"
  },
  "language_info": {
   "codemirror_mode": {
    "name": "ipython",
    "version": 3
   },
   "file_extension": ".py",
   "mimetype": "text/x-python",
   "name": "python",
   "nbconvert_exporter": "python",
   "pygments_lexer": "ipython3",
   "version": "3.9.7"
  }
 },
 "nbformat": 4,
 "nbformat_minor": 5
}
