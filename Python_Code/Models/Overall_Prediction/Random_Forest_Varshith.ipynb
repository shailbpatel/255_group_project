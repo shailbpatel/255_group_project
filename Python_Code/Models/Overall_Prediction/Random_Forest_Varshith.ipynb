{
 "cells": [
  {
   "cell_type": "code",
   "execution_count": 12,
   "id": "4fe0fa99",
   "metadata": {},
   "outputs": [],
   "source": [
    "import pandas as pd\n",
    "import warnings\n",
    "athlete_data = pd.read_csv('Encoded_Data.csv') "
   ]
  },
  {
   "cell_type": "code",
   "execution_count": 13,
   "id": "285ad557",
   "metadata": {},
   "outputs": [
    {
     "data": {
      "text/html": [
       "<div>\n",
       "<style scoped>\n",
       "    .dataframe tbody tr th:only-of-type {\n",
       "        vertical-align: middle;\n",
       "    }\n",
       "\n",
       "    .dataframe tbody tr th {\n",
       "        vertical-align: top;\n",
       "    }\n",
       "\n",
       "    .dataframe thead th {\n",
       "        text-align: right;\n",
       "    }\n",
       "</style>\n",
       "<table border=\"1\" class=\"dataframe\">\n",
       "  <thead>\n",
       "    <tr style=\"text-align: right;\">\n",
       "      <th></th>\n",
       "      <th>Sex</th>\n",
       "      <th>Age</th>\n",
       "      <th>Height</th>\n",
       "      <th>Weight</th>\n",
       "      <th>Team</th>\n",
       "      <th>NOC</th>\n",
       "      <th>Year</th>\n",
       "      <th>Season</th>\n",
       "      <th>City</th>\n",
       "      <th>Event</th>\n",
       "      <th>Medal</th>\n",
       "    </tr>\n",
       "  </thead>\n",
       "  <tbody>\n",
       "    <tr>\n",
       "      <th>0</th>\n",
       "      <td>1</td>\n",
       "      <td>24.0</td>\n",
       "      <td>180.0</td>\n",
       "      <td>80.0</td>\n",
       "      <td>4975</td>\n",
       "      <td>5141</td>\n",
       "      <td>1992</td>\n",
       "      <td>0</td>\n",
       "      <td>12977</td>\n",
       "      <td>3280</td>\n",
       "      <td>0</td>\n",
       "    </tr>\n",
       "    <tr>\n",
       "      <th>1</th>\n",
       "      <td>1</td>\n",
       "      <td>23.0</td>\n",
       "      <td>170.0</td>\n",
       "      <td>60.0</td>\n",
       "      <td>4975</td>\n",
       "      <td>5141</td>\n",
       "      <td>2012</td>\n",
       "      <td>0</td>\n",
       "      <td>22426</td>\n",
       "      <td>341</td>\n",
       "      <td>0</td>\n",
       "    </tr>\n",
       "    <tr>\n",
       "      <th>2</th>\n",
       "      <td>1</td>\n",
       "      <td>24.0</td>\n",
       "      <td>175.0</td>\n",
       "      <td>70.0</td>\n",
       "      <td>3424</td>\n",
       "      <td>3570</td>\n",
       "      <td>1920</td>\n",
       "      <td>0</td>\n",
       "      <td>4292</td>\n",
       "      <td>5733</td>\n",
       "      <td>0</td>\n",
       "    </tr>\n",
       "    <tr>\n",
       "      <th>3</th>\n",
       "      <td>1</td>\n",
       "      <td>34.0</td>\n",
       "      <td>175.0</td>\n",
       "      <td>70.0</td>\n",
       "      <td>6</td>\n",
       "      <td>3570</td>\n",
       "      <td>1900</td>\n",
       "      <td>0</td>\n",
       "      <td>7169</td>\n",
       "      <td>170</td>\n",
       "      <td>1</td>\n",
       "    </tr>\n",
       "    <tr>\n",
       "      <th>4</th>\n",
       "      <td>0</td>\n",
       "      <td>21.0</td>\n",
       "      <td>185.0</td>\n",
       "      <td>82.0</td>\n",
       "      <td>5718</td>\n",
       "      <td>5839</td>\n",
       "      <td>1988</td>\n",
       "      <td>1</td>\n",
       "      <td>2639</td>\n",
       "      <td>467</td>\n",
       "      <td>0</td>\n",
       "    </tr>\n",
       "  </tbody>\n",
       "</table>\n",
       "</div>"
      ],
      "text/plain": [
       "   Sex   Age  Height  Weight  Team   NOC  Year  Season   City  Event  Medal\n",
       "0    1  24.0   180.0    80.0  4975  5141  1992       0  12977   3280      0\n",
       "1    1  23.0   170.0    60.0  4975  5141  2012       0  22426    341      0\n",
       "2    1  24.0   175.0    70.0  3424  3570  1920       0   4292   5733      0\n",
       "3    1  34.0   175.0    70.0     6  3570  1900       0   7169    170      1\n",
       "4    0  21.0   185.0    82.0  5718  5839  1988       1   2639    467      0"
      ]
     },
     "execution_count": 13,
     "metadata": {},
     "output_type": "execute_result"
    }
   ],
   "source": [
    "athlete_data.head()"
   ]
  },
  {
   "cell_type": "markdown",
   "id": "c3acd7dd",
   "metadata": {},
   "source": [
    "# Feature Selection"
   ]
  },
  {
   "cell_type": "code",
   "execution_count": 14,
   "id": "ef6176e2",
   "metadata": {},
   "outputs": [],
   "source": [
    "# Feature Selection\n",
    "\n",
    "from sklearn.ensemble import RandomForestClassifier\n",
    "from sklearn.model_selection import train_test_split\n",
    "from sklearn.ensemble import RandomForestRegressor\n",
    "from sklearn.inspection import permutation_importance\n",
    "from matplotlib import pyplot as plt"
   ]
  },
  {
   "cell_type": "code",
   "execution_count": 15,
   "id": "4500daa5",
   "metadata": {},
   "outputs": [],
   "source": [
    "plt.rcParams.update({'figure.figsize': (12.0, 8.0)})\n",
    "plt.rcParams.update({'font.size': 14})\n",
    "\n",
    "X = athlete_data.drop('Medal',axis=1)\n",
    "Y = athlete_data[['Medal']]"
   ]
  },
  {
   "cell_type": "code",
   "execution_count": 16,
   "id": "032aec92",
   "metadata": {},
   "outputs": [],
   "source": [
    "X_train, X_test, Y_train, Y_test = train_test_split(X, Y, test_size=0.33, random_state=40)"
   ]
  },
  {
   "cell_type": "code",
   "execution_count": 17,
   "id": "21a00479",
   "metadata": {
    "scrolled": true
   },
   "outputs": [
    {
     "name": "stderr",
     "output_type": "stream",
     "text": [
      "C:\\Users\\rmste\\AppData\\Local\\Temp/ipykernel_12556/4064067306.py:2: DataConversionWarning: A column-vector y was passed when a 1d array was expected. Please change the shape of y to (n_samples,), for example using ravel().\n",
      "  rf.fit(X_train, Y_train)\n"
     ]
    },
    {
     "data": {
      "text/plain": [
       "Text(0.5, 0, 'Random Forest Feature Importance')"
      ]
     },
     "execution_count": 17,
     "metadata": {},
     "output_type": "execute_result"
    },
    {
     "data": {
      "image/png": "[encoded data removed]",
      "text/plain": [
       "<Figure size 864x576 with 1 Axes>"
      ]
     },
     "metadata": {
      "needs_background": "light"
     },
     "output_type": "display_data"
    }
   ],
   "source": [
    "rf = RandomForestRegressor(n_estimators=100)\n",
    "rf.fit(X_train, Y_train)\n",
    "sorted_idx = rf.feature_importances_.argsort()\n",
    "plt.barh(X.columns[sorted_idx], rf.feature_importances_[sorted_idx])\n",
    "plt.xlabel(\"Random Forest Feature Importance\")"
   ]
  },
  {
   "cell_type": "markdown",
   "id": "3266e8f2",
   "metadata": {},
   "source": [
    "From the Feature importance graph we can see that columns \"Sex\" and \"Season\" has least importance so we can ovoid them."
   ]
  },
  {
   "cell_type": "code",
   "execution_count": 18,
   "id": "c3e61b29",
   "metadata": {},
   "outputs": [
    {
     "name": "stderr",
     "output_type": "stream",
     "text": [
      "C:\\Users\\rmste\\anaconda3\\lib\\site-packages\\pandas\\core\\frame.py:4906: SettingWithCopyWarning: \n",
      "A value is trying to be set on a copy of a slice from a DataFrame\n",
      "\n",
      "See the caveats in the documentation: https://pandas.pydata.org/pandas-docs/stable/user_guide/indexing.html#returning-a-view-versus-a-copy\n",
      "  return super().drop(\n"
     ]
    }
   ],
   "source": [
    "X_train.drop(['Sex','Season'],axis=1,inplace=True)"
   ]
  },
  {
   "cell_type": "markdown",
   "id": "92a8c707",
   "metadata": {},
   "source": [
    "# Scaling"
   ]
  },
  {
   "cell_type": "code",
   "execution_count": 19,
   "id": "4b4be905",
   "metadata": {},
   "outputs": [],
   "source": [
    "\n",
    "from sklearn.preprocessing import StandardScaler\n",
    "sc=StandardScaler()\n",
    "\n",
    "X_train=pd.DataFrame(sc.fit_transform(X_train[['Age','Height','Weight','Team','NOC','Year','City','Event']]))\n",
    "X_train.columns=['Age','Height','Weight','Team','NOC','Year','City','Event']\n",
    "X_test=pd.DataFrame(sc.fit_transform(X_test[['Age','Height','Weight','Team','NOC','Year','City','Event']]))\n",
    "X_test.columns=['Age','Height','Weight','Team','NOC','Year','City','Event']"
   ]
  },
  {
   "cell_type": "code",
   "execution_count": 20,
   "id": "e9b80ef4",
   "metadata": {},
   "outputs": [
    {
     "data": {
      "text/html": [
       "<div>\n",
       "<style scoped>\n",
       "    .dataframe tbody tr th:only-of-type {\n",
       "        vertical-align: middle;\n",
       "    }\n",
       "\n",
       "    .dataframe tbody tr th {\n",
       "        vertical-align: top;\n",
       "    }\n",
       "\n",
       "    .dataframe thead th {\n",
       "        text-align: right;\n",
       "    }\n",
       "</style>\n",
       "<table border=\"1\" class=\"dataframe\">\n",
       "  <thead>\n",
       "    <tr style=\"text-align: right;\">\n",
       "      <th></th>\n",
       "      <th>Age</th>\n",
       "      <th>Height</th>\n",
       "      <th>Weight</th>\n",
       "      <th>Team</th>\n",
       "      <th>NOC</th>\n",
       "      <th>Year</th>\n",
       "      <th>City</th>\n",
       "      <th>Event</th>\n",
       "    </tr>\n",
       "  </thead>\n",
       "  <tbody>\n",
       "    <tr>\n",
       "      <th>0</th>\n",
       "      <td>-1.032211</td>\n",
       "      <td>-0.027728</td>\n",
       "      <td>-0.041925</td>\n",
       "      <td>0.126779</td>\n",
       "      <td>0.025742</td>\n",
       "      <td>-2.421256</td>\n",
       "      <td>0.948796</td>\n",
       "      <td>-0.306844</td>\n",
       "    </tr>\n",
       "    <tr>\n",
       "      <th>1</th>\n",
       "      <td>-0.237809</td>\n",
       "      <td>-0.027728</td>\n",
       "      <td>-0.041925</td>\n",
       "      <td>1.282511</td>\n",
       "      <td>1.262441</td>\n",
       "      <td>-0.080003</td>\n",
       "      <td>-1.223527</td>\n",
       "      <td>0.347905</td>\n",
       "    </tr>\n",
       "    <tr>\n",
       "      <th>2</th>\n",
       "      <td>-0.873331</td>\n",
       "      <td>-2.181158</td>\n",
       "      <td>-1.713138</td>\n",
       "      <td>0.717071</td>\n",
       "      <td>0.673748</td>\n",
       "      <td>0.655820</td>\n",
       "      <td>-1.229725</td>\n",
       "      <td>-0.869291</td>\n",
       "    </tr>\n",
       "    <tr>\n",
       "      <th>3</th>\n",
       "      <td>0.079951</td>\n",
       "      <td>-1.104443</td>\n",
       "      <td>-1.076485</td>\n",
       "      <td>-1.173605</td>\n",
       "      <td>-1.217189</td>\n",
       "      <td>-0.347574</td>\n",
       "      <td>-0.321385</td>\n",
       "      <td>1.515931</td>\n",
       "    </tr>\n",
       "    <tr>\n",
       "      <th>4</th>\n",
       "      <td>0.238832</td>\n",
       "      <td>-0.027728</td>\n",
       "      <td>-0.041925</td>\n",
       "      <td>-0.230285</td>\n",
       "      <td>-0.269007</td>\n",
       "      <td>-0.481360</td>\n",
       "      <td>-1.223527</td>\n",
       "      <td>-0.033385</td>\n",
       "    </tr>\n",
       "  </tbody>\n",
       "</table>\n",
       "</div>"
      ],
      "text/plain": [
       "        Age    Height    Weight      Team       NOC      Year      City  \\\n",
       "0 -1.032211 -0.027728 -0.041925  0.126779  0.025742 -2.421256  0.948796   \n",
       "1 -0.237809 -0.027728 -0.041925  1.282511  1.262441 -0.080003 -1.223527   \n",
       "2 -0.873331 -2.181158 -1.713138  0.717071  0.673748  0.655820 -1.229725   \n",
       "3  0.079951 -1.104443 -1.076485 -1.173605 -1.217189 -0.347574 -0.321385   \n",
       "4  0.238832 -0.027728 -0.041925 -0.230285 -0.269007 -0.481360 -1.223527   \n",
       "\n",
       "      Event  \n",
       "0 -0.306844  \n",
       "1  0.347905  \n",
       "2 -0.869291  \n",
       "3  1.515931  \n",
       "4 -0.033385  "
      ]
     },
     "execution_count": 20,
     "metadata": {},
     "output_type": "execute_result"
    }
   ],
   "source": [
    "X_train.head()"
   ]
  },
  {
   "cell_type": "markdown",
   "id": "a826ed32",
   "metadata": {},
   "source": [
    "# Random Forest Model"
   ]
  },
  {
   "cell_type": "code",
   "execution_count": 21,
   "id": "0d246d83",
   "metadata": {},
   "outputs": [],
   "source": [
    "from sklearn.ensemble import RandomForestClassifier\n",
    "from sklearn.metrics import confusion_matrix"
   ]
  },
  {
   "cell_type": "code",
   "execution_count": 22,
   "id": "9d04fe56",
   "metadata": {},
   "outputs": [
    {
     "name": "stderr",
     "output_type": "stream",
     "text": [
      "C:\\Users\\rmste\\AppData\\Local\\Temp/ipykernel_12556/218825149.py:2: DataConversionWarning: A column-vector y was passed when a 1d array was expected. Please change the shape of y to (n_samples,), for example using ravel().\n",
      "  rf.fit(X_train, Y_train)\n"
     ]
    },
    {
     "data": {
      "text/plain": [
       "RandomForestClassifier()"
      ]
     },
     "execution_count": 22,
     "metadata": {},
     "output_type": "execute_result"
    }
   ],
   "source": [
    "rf = RandomForestClassifier()\n",
    "rf.fit(X_train, Y_train)"
   ]
  },
  {
   "cell_type": "code",
   "execution_count": 23,
   "id": "08441d2f",
   "metadata": {},
   "outputs": [],
   "source": [
    "y_pred = rf.predict(X_test)"
   ]
  },
  {
   "cell_type": "code",
   "execution_count": 24,
   "id": "2c060a12",
   "metadata": {},
   "outputs": [],
   "source": [
    "cm=confusion_matrix(Y_test, y_pred)"
   ]
  },
  {
   "cell_type": "code",
   "execution_count": 25,
   "id": "50822e74",
   "metadata": {},
   "outputs": [
    {
     "data": {
      "text/plain": [
       "Text(42.0, 0.5, 'Truth')"
      ]
     },
     "execution_count": 25,
     "metadata": {},
     "output_type": "execute_result"
    },
    {
     "data": {
      "image/png": "[encoded data removed]",
      "text/plain": [
       "<Figure size 504x360 with 2 Axes>"
      ]
     },
     "metadata": {
      "needs_background": "light"
     },
     "output_type": "display_data"
    }
   ],
   "source": [
    "%matplotlib inline\n",
    "import seaborn as sn\n",
    "import matplotlib.pyplot as plt\n",
    "plt.figure(figsize=(7,5))\n",
    "sn.heatmap(cm,annot=True)\n",
    "plt.xlabel(\"Predict\")\n",
    "plt.ylabel(\"Truth\")"
   ]
  },
  {
   "cell_type": "code",
   "execution_count": 26,
   "id": "73e73ab6",
   "metadata": {},
   "outputs": [
    {
     "name": "stdout",
     "output_type": "stream",
     "text": [
      "              precision    recall  f1-score   support\n",
      "\n",
      "           0       0.89      0.99      0.94     76272\n",
      "           1       0.67      0.30      0.42      4403\n",
      "           2       0.68      0.18      0.29      4486\n",
      "           3       0.59      0.21      0.31      4308\n",
      "\n",
      "    accuracy                           0.88     89469\n",
      "   macro avg       0.71      0.42      0.49     89469\n",
      "weighted avg       0.85      0.88      0.85     89469\n",
      "\n"
     ]
    }
   ],
   "source": [
    "from sklearn.metrics import classification_report\n",
    "print(classification_report(Y_test,y_pred))"
   ]
  },
  {
   "cell_type": "code",
   "execution_count": 27,
   "id": "9254c695",
   "metadata": {},
   "outputs": [
    {
     "data": {
      "text/plain": [
       "0.8762923470699349"
      ]
     },
     "execution_count": 27,
     "metadata": {},
     "output_type": "execute_result"
    }
   ],
   "source": [
    "from sklearn.metrics import accuracy_score\n",
    "accuracy_score(Y_test, y_pred)"
   ]
  },
  {
   "cell_type": "raw",
   "id": "10498bd5",
   "metadata": {},
   "source": [
    "* From the classification table we can see that the precision values ar highest at 0.89 for 0 (No medal) while the precision\n",
    "values for people who won medals are significantly better compared to linear models such as logistic regression which gave 0 \n",
    "as precision and recall values. \n",
    "\n",
    "* f1-score which is the harmonic mean of precision and recall is 0.94 for Random forestmodel for no medal category. Coming to averages we get 0.88 as weignted accuracy average. \n",
    "\n",
    "* Accuracy is highest among the different models tested which is 0.875. This is the accuracy value for Random forest model of \n",
    "entire dataset.\n"
   ]
  }
 ],
 "metadata": {
  "kernelspec": {
   "display_name": "Python 3 (ipykernel)",
   "language": "python",
   "name": "python3"
  },
  "language_info": {
   "codemirror_mode": {
    "name": "ipython",
    "version": 3
   },
   "file_extension": ".py",
   "mimetype": "text/x-python",
   "name": "python",
   "nbconvert_exporter": "python",
   "pygments_lexer": "ipython3",
   "version": "3.9.7"
  }
 },
 "nbformat": 4,
 "nbformat_minor": 5
}
