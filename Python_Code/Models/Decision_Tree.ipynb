{
 "cells": [
  {
   "cell_type": "code",
   "execution_count": 8,
   "id": "27032e6d",
   "metadata": {},
   "outputs": [],
   "source": [
    "import pandas as pd\n",
    "\n",
    "athlete_data = pd.read_csv('Encoded_Data.csv') "
   ]
  },
  {
   "cell_type": "code",
   "execution_count": 9,
   "id": "6feb4d45",
   "metadata": {},
   "outputs": [],
   "source": [
    "from sklearn.ensemble import RandomForestClassifier\n",
    "from sklearn.model_selection import train_test_split\n",
    "from sklearn.ensemble import RandomForestRegressor\n",
    "from sklearn.inspection import permutation_importance\n",
    "from matplotlib import pyplot as plt"
   ]
  },
  {
   "cell_type": "code",
   "execution_count": 10,
   "id": "a032ab35",
   "metadata": {},
   "outputs": [],
   "source": [
    "plt.rcParams.update({'figure.figsize': (12.0, 8.0)})\n",
    "plt.rcParams.update({'font.size': 14})\n",
    "\n",
    "X = athlete_data.drop('Medal',axis=1)\n",
    "Y = athlete_data[['Medal']]"
   ]
  },
  {
   "cell_type": "code",
   "execution_count": 11,
   "id": "e7b8369e",
   "metadata": {},
   "outputs": [],
   "source": [
    "X_train, X_test, Y_train, Y_test = train_test_split(X, Y, test_size=0.33, random_state=40)"
   ]
  },
  {
   "cell_type": "code",
   "execution_count": 12,
   "id": "5c5eb307",
   "metadata": {},
   "outputs": [
    {
     "name": "stderr",
     "output_type": "stream",
     "text": [
      "C:\\Users\\Checkout\\AppData\\Local\\Temp/ipykernel_25100/4064067306.py:2: DataConversionWarning: A column-vector y was passed when a 1d array was expected. Please change the shape of y to (n_samples,), for example using ravel().\n",
      "  rf.fit(X_train, Y_train)\n"
     ]
    },
    {
     "data": {
      "text/plain": [
       "Text(0.5, 0, 'Random Forest Feature Importance')"
      ]
     },
     "execution_count": 12,
     "metadata": {},
     "output_type": "execute_result"
    },
    {
     "data": {
      "image/png": "[encoded data removed]",
      "text/plain": [
       "<Figure size 864x576 with 1 Axes>"
      ]
     },
     "metadata": {
      "needs_background": "light"
     },
     "output_type": "display_data"
    }
   ],
   "source": [
    "rf = RandomForestRegressor(n_estimators=100)\n",
    "rf.fit(X_train, Y_train)\n",
    "sorted_idx = rf.feature_importances_.argsort()\n",
    "plt.barh(X.columns[sorted_idx], rf.feature_importances_[sorted_idx])\n",
    "plt.xlabel(\"Random Forest Feature Importance\")"
   ]
  },
  {
   "cell_type": "code",
   "execution_count": 13,
   "id": "52f7f106",
   "metadata": {},
   "outputs": [
    {
     "name": "stderr",
     "output_type": "stream",
     "text": [
      "C:\\Users\\Checkout\\anaconda3\\lib\\site-packages\\pandas\\core\\frame.py:4906: SettingWithCopyWarning: \n",
      "A value is trying to be set on a copy of a slice from a DataFrame\n",
      "\n",
      "See the caveats in the documentation: https://pandas.pydata.org/pandas-docs/stable/user_guide/indexing.html#returning-a-view-versus-a-copy\n",
      "  return super().drop(\n"
     ]
    }
   ],
   "source": [
    "X_train.drop(['Sex','Season'],axis=1,inplace=True)"
   ]
  },
  {
   "cell_type": "code",
   "execution_count": 14,
   "id": "4f225721",
   "metadata": {},
   "outputs": [],
   "source": [
    "from sklearn.preprocessing import StandardScaler\n",
    "sc=StandardScaler()\n",
    "\n",
    "X_train=pd.DataFrame(sc.fit_transform(X_train[['Age','Height','Weight','Team','NOC','Year','City','Event']]))\n",
    "X_train.columns=['Age','Height','Weight','Team','NOC','Year','City','Event']\n",
    "X_test=pd.DataFrame(sc.fit_transform(X_test[['Age','Height','Weight','Team','NOC','Year','City','Event']]))\n",
    "X_test.columns=['Age','Height','Weight','Team','NOC','Year','City','Event']"
   ]
  },
  {
   "cell_type": "code",
   "execution_count": 15,
   "id": "3a34d1d1",
   "metadata": {},
   "outputs": [
    {
     "data": {
      "text/html": [
       "<div>\n",
       "<style scoped>\n",
       "    .dataframe tbody tr th:only-of-type {\n",
       "        vertical-align: middle;\n",
       "    }\n",
       "\n",
       "    .dataframe tbody tr th {\n",
       "        vertical-align: top;\n",
       "    }\n",
       "\n",
       "    .dataframe thead th {\n",
       "        text-align: right;\n",
       "    }\n",
       "</style>\n",
       "<table border=\"1\" class=\"dataframe\">\n",
       "  <thead>\n",
       "    <tr style=\"text-align: right;\">\n",
       "      <th></th>\n",
       "      <th>Age</th>\n",
       "      <th>Height</th>\n",
       "      <th>Weight</th>\n",
       "      <th>Team</th>\n",
       "      <th>NOC</th>\n",
       "      <th>Year</th>\n",
       "      <th>City</th>\n",
       "      <th>Event</th>\n",
       "    </tr>\n",
       "  </thead>\n",
       "  <tbody>\n",
       "    <tr>\n",
       "      <th>0</th>\n",
       "      <td>-1.032211</td>\n",
       "      <td>-0.027728</td>\n",
       "      <td>-0.041925</td>\n",
       "      <td>0.126779</td>\n",
       "      <td>0.025742</td>\n",
       "      <td>-2.421256</td>\n",
       "      <td>0.948796</td>\n",
       "      <td>-0.306844</td>\n",
       "    </tr>\n",
       "    <tr>\n",
       "      <th>1</th>\n",
       "      <td>-0.237809</td>\n",
       "      <td>-0.027728</td>\n",
       "      <td>-0.041925</td>\n",
       "      <td>1.282511</td>\n",
       "      <td>1.262441</td>\n",
       "      <td>-0.080003</td>\n",
       "      <td>-1.223527</td>\n",
       "      <td>0.347905</td>\n",
       "    </tr>\n",
       "    <tr>\n",
       "      <th>2</th>\n",
       "      <td>-0.873331</td>\n",
       "      <td>-2.181158</td>\n",
       "      <td>-1.713138</td>\n",
       "      <td>0.717071</td>\n",
       "      <td>0.673748</td>\n",
       "      <td>0.655820</td>\n",
       "      <td>-1.229725</td>\n",
       "      <td>-0.869291</td>\n",
       "    </tr>\n",
       "    <tr>\n",
       "      <th>3</th>\n",
       "      <td>0.079951</td>\n",
       "      <td>-1.104443</td>\n",
       "      <td>-1.076485</td>\n",
       "      <td>-1.173605</td>\n",
       "      <td>-1.217189</td>\n",
       "      <td>-0.347574</td>\n",
       "      <td>-0.321385</td>\n",
       "      <td>1.515931</td>\n",
       "    </tr>\n",
       "    <tr>\n",
       "      <th>4</th>\n",
       "      <td>0.238832</td>\n",
       "      <td>-0.027728</td>\n",
       "      <td>-0.041925</td>\n",
       "      <td>-0.230285</td>\n",
       "      <td>-0.269007</td>\n",
       "      <td>-0.481360</td>\n",
       "      <td>-1.223527</td>\n",
       "      <td>-0.033385</td>\n",
       "    </tr>\n",
       "  </tbody>\n",
       "</table>\n",
       "</div>"
      ],
      "text/plain": [
       "        Age    Height    Weight      Team       NOC      Year      City  \\\n",
       "0 -1.032211 -0.027728 -0.041925  0.126779  0.025742 -2.421256  0.948796   \n",
       "1 -0.237809 -0.027728 -0.041925  1.282511  1.262441 -0.080003 -1.223527   \n",
       "2 -0.873331 -2.181158 -1.713138  0.717071  0.673748  0.655820 -1.229725   \n",
       "3  0.079951 -1.104443 -1.076485 -1.173605 -1.217189 -0.347574 -0.321385   \n",
       "4  0.238832 -0.027728 -0.041925 -0.230285 -0.269007 -0.481360 -1.223527   \n",
       "\n",
       "      Event  \n",
       "0 -0.306844  \n",
       "1  0.347905  \n",
       "2 -0.869291  \n",
       "3  1.515931  \n",
       "4 -0.033385  "
      ]
     },
     "execution_count": 15,
     "metadata": {},
     "output_type": "execute_result"
    }
   ],
   "source": [
    "X_train.head()"
   ]
  },
  {
   "cell_type": "code",
   "execution_count": 16,
   "id": "8b95369a",
   "metadata": {},
   "outputs": [],
   "source": [
    "# Partition based model (Decision Tree) \n",
    "from sklearn.tree import DecisionTreeClassifier"
   ]
  },
  {
   "cell_type": "code",
   "execution_count": 17,
   "id": "c013d9a8",
   "metadata": {},
   "outputs": [],
   "source": [
    "from sklearn.metrics import confusion_matrix"
   ]
  },
  {
   "cell_type": "code",
   "execution_count": 18,
   "id": "417e9b87",
   "metadata": {},
   "outputs": [
    {
     "data": {
      "text/plain": [
       "DecisionTreeClassifier()"
      ]
     },
     "execution_count": 18,
     "metadata": {},
     "output_type": "execute_result"
    }
   ],
   "source": [
    "dt = DecisionTreeClassifier()\n",
    "dt.fit(X_train, Y_train)"
   ]
  },
  {
   "cell_type": "code",
   "execution_count": 19,
   "id": "da1ad3c1",
   "metadata": {},
   "outputs": [],
   "source": [
    "y_pred = dt.predict(X_test)"
   ]
  },
  {
   "cell_type": "code",
   "execution_count": 20,
   "id": "5ba68422",
   "metadata": {},
   "outputs": [],
   "source": [
    "cm=confusion_matrix(Y_test, y_pred)"
   ]
  },
  {
   "cell_type": "code",
   "execution_count": 21,
   "id": "15448271",
   "metadata": {},
   "outputs": [
    {
     "data": {
      "text/plain": [
       "Text(42.0, 0.5, 'Truth')"
      ]
     },
     "execution_count": 21,
     "metadata": {},
     "output_type": "execute_result"
    },
    {
     "data": {
      "image/png": "[encoded data removed]",
      "text/plain": [
       "<Figure size 504x360 with 2 Axes>"
      ]
     },
     "metadata": {
      "needs_background": "light"
     },
     "output_type": "display_data"
    }
   ],
   "source": [
    "%matplotlib inline\n",
    "import seaborn as sn\n",
    "import matplotlib.pyplot as plt\n",
    "plt.figure(figsize=(7,5))\n",
    "sn.heatmap(cm,annot=True)\n",
    "plt.xlabel(\"Predict\")\n",
    "plt.ylabel(\"Truth\")"
   ]
  },
  {
   "cell_type": "code",
   "execution_count": 22,
   "id": "1fbde10b",
   "metadata": {},
   "outputs": [
    {
     "name": "stdout",
     "output_type": "stream",
     "text": [
      "              precision    recall  f1-score   support\n",
      "\n",
      "           0       0.91      0.90      0.91     76272\n",
      "           1       0.38      0.42      0.40      4403\n",
      "           2       0.31      0.32      0.32      4486\n",
      "           3       0.31      0.35      0.33      4308\n",
      "\n",
      "    accuracy                           0.82     89469\n",
      "   macro avg       0.48      0.50      0.49     89469\n",
      "weighted avg       0.83      0.82      0.83     89469\n",
      "\n"
     ]
    }
   ],
   "source": [
    "from sklearn.metrics import classification_report\n",
    "print(classification_report(Y_test,y_pred))"
   ]
  },
  {
   "cell_type": "code",
   "execution_count": 23,
   "id": "48078162",
   "metadata": {},
   "outputs": [
    {
     "data": {
      "text/plain": [
       "0.821837731504767"
      ]
     },
     "execution_count": 23,
     "metadata": {},
     "output_type": "execute_result"
    }
   ],
   "source": [
    "from sklearn.metrics import accuracy_score\n",
    "accuracy_score(Y_test, y_pred)"
   ]
  },
  {
   "cell_type": "code",
   "execution_count": 24,
   "id": "998f249a",
   "metadata": {},
   "outputs": [],
   "source": [
    "#From the classification table we can see that the precision values ar highest at 0.91 for 0 (No medal) while the precision\n",
    "#values for people who won medals are better compared to linear models such as logistic regression (0) which gave 0 \n",
    "#as precision and recall values. \n",
    "\n",
    "#f1-score which is the harmonic mean of precision and recall is 0.91 for Decision Tree model for athletes with 0 medals. Coming to\n",
    "#averages we get 0.83 as weighted average. \n",
    "\n",
    "# Accuracy is second highest among the different models tested which is 0.82. This is the accuracy value for Decision Tree model of \n",
    "# entire dataset. "
   ]
  },
  {
   "cell_type": "code",
   "execution_count": null,
   "id": "9da03d4b",
   "metadata": {},
   "outputs": [],
   "source": []
  }
 ],
 "metadata": {
  "kernelspec": {
   "display_name": "Python 3 (ipykernel)",
   "language": "python",
   "name": "python3"
  },
  "language_info": {
   "codemirror_mode": {
    "name": "ipython",
    "version": 3
   },
   "file_extension": ".py",
   "mimetype": "text/x-python",
   "name": "python",
   "nbconvert_exporter": "python",
   "pygments_lexer": "ipython3",
   "version": "3.9.7"
  }
 },
 "nbformat": 4,
 "nbformat_minor": 5
}
